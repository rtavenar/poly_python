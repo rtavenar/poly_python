{
 "cells": [
  {
   "cell_type": "markdown",
   "id": "30f21862",
   "metadata": {},
   "source": [
    "# Récupération de données à partir d'API web\n",
    "\n",
    "De nombreux services web fournissent des API (_Application Programming Interface_) pour mettre des données à disposition du grand public. Le principe de fonctionnement de ces API est le suivant : l'utilisateur effectue une requête sous la forme d'une requête HTTP, le service web met en forme les données correspondant à la requête et les renvoie à l'utilisateur, dans un format défini à l'avance.\n",
    "\n",
    "Voici une liste (très loin d'être exhaustive) d'API web d'accès aux données :\n",
    "\n",
    "* Google Maps\n",
    "    * Directions API : permet de calculer des itinéraires ;\n",
    "    * Elevation API : permet de calculer l'altitude d'un point sur le globe terrestre ;\n",
    "    * Distance Matrix API : permet de calculer des distances entre points du globe ;\n",
    "    * Geocoding API : permet d'associer une coordonnée GPS à une adresse.\n",
    "* Twitter\n",
    "    * Twitter API : permet de récupérer des informations sur les utilisateurs du réseau et leurs _tweets_.\n",
    "* Facebook\n",
    "    * Facebook Graph API : permet de récupérer des informations sur des utilisateurs Facebook .\n",
    "* STAR (Transports en commun rennais)\n",
    "    * Horaires des bus ;\n",
    "    * Disponibilité des vélos dans les relais VéloStar."
   ]
  },
  {
   "cell_type": "markdown",
   "id": "b797dfcf",
   "metadata": {},
   "source": [
    "Pour manipuler en Python de telles données, il faudra donc être capable :\n",
    "\n",
    "1. d'envoyer une requête HTTP et de récupérer le résultat ;\n",
    "2. de transformer le résultat en une variable Python facilement manipulable.\n",
    "\n",
    "Pour ce qui est du second point, la plupart des API web offrent la possibilité de récupérer les données au format JSON.\n",
    "Nous avons vu précédemment dans ce cours que ce format était facilement manipulable en Python, notamment parce qu'il est très proche de la notion de dictionnaire.\n",
    "Ce chapitre se focalise donc sur la réalisation de requêtes HTTP en Python.\n",
    "\n",
    "## Requêtes HTTP en Python\n",
    "\n",
    "### Format d'une requête HTTP\n",
    "\n",
    "Dans un premier temps, étudions le format d'une requête HTTP, telle que vous en effectuez des dizaines chaque jour, par l'intermédiaire de votre navigateur web.\n",
    "Lorsque vous entrez dans la barre d'adresse de votre navigateur l'URL suivante :\n",
    "\n",
    "```\n",
    "http://people.irisa.fr/Romain.Tavenard/index.php?page=3\n",
    "```\n",
    "\n",
    "votre navigateur va envoyer une requête au serveur concerné (cette requête ne contiendra pas uniquement l'URL visée mais aussi d'autres informations sur lesquelles nous ne nous attarderons pas ici).\n",
    "Dans l'URL précédente, on distingue 4 sous parties :\n",
    "\n",
    "* `http://` indique le protocole à utiliser pour effectuer la requête (ici HTTP). Dans ce chapitre, nous ne nous intéresserons qu'aux protocoles HTTP et HTTPS (version sécurisée du protocole HTTP) ;\n",
    "* `people.irisa.fr` est le nom de domaine du serveur (_ie._ de la machine) à contacter pour obtenir une réponse ;\n",
    "* `/Romain.Tavenard/index.php` indique le chemin du fichier à récupérer sur cette machine ;\n",
    "* `?page=3` indique que l'on doit passer la valeur `3` au paramètre `page` lors de la requête.\n",
    "\n",
    "De la même façon, lors d'un appel à une API web, on spécifiera le protocole à utiliser, la machine à contacter, le chemin vers la ressource voulue et un certain nombre de paramètres qui décriront notre requête.\n",
    "Voici un exemple de requête à une API web (l'API Google Maps Directions en l'occurrence) :\n",
    "```\n",
    "https://maps.googleapis.com/maps/api/directions/json?origin=Toronto&destination=Montreal\n",
    "```\n",
    "\n",
    "Vous pouvez copier/coller cette URL dans la barre d'adresse de votre navigateur et observer ce que vous obtenez en retour.\n",
    "Observez que le résultat de cette requête est au format JSON.\n",
    "En fait, si vous étudiez plus précisément l'URL fournie, vous verrez que c'est nous qui avons demandé à obtenir le résultat dans ce format.\n",
    "De plus, on a spécifié dans l'URL que l'on souhaitait obtenir les informations d'itinéraire pour aller de Toronto (paramètre `origin`) à Montreal (paramètre `destination`).\n",
    "\n",
    "Vous devez aussi remarquer que, en réponse à cette requête, l'API Google Maps renvoie en fait un message d'erreur.\n",
    "En effet, pour être autorisé à utiliser cette API, il faut disposer d'une clé d'API et renseigner cette clé sous la forme d'un paramètre supplémentaire (nommé `key` dans les API Google Maps par exemple).\n",
    "Ainsi, la requête précédente deviendrait :\n",
    "```\n",
    "https://maps.googleapis.com/maps/api/directions/json?origin=Toronto&destination=Montreal&key=VOTRE_CLE\n",
    "```\n",
    "\n",
    "dans laquelle vous devrez remplacer `VOTRE_CLE` par une clé que vous aurez préalablement générée et qui vous permettra d'utiliser le service web de manière authentifiée.\n",
    "Pour créer une clef d'API, il faut se rendre sur l'interface développeur de l'API concernée ([ici](https://developers.google.com/maps/documentation/directions/start?hl=fr) pour l'API _Google Maps Directions_ par exemple).\n",
    "\n",
    "### Utilisation du module `requests`\n",
    "\n",
    "```{admonition} Les requêtes HTTP en (très) bref\n",
    "  :class: tip\n",
    "\n",
    "Dans le protocole HTTP, il existe plusieurs types de requêtes pour réaliser l'échange entre le client et le serveur.\n",
    "En particulier les requêtes de type GET sont très utilisées lorsque le client demande une ressource au serveur.\n",
    "Il s'agit d'une requête de téléchargement d'un document.\n",
    "Il est possible de transmettre des paramètres pour filtrer la réponse ; dans ce cas, les paramètres seront transférés \"en clair\" (dans l'URL utilisée pour la requête).\n",
    "\n",
    "Les requêtes de type POST permettent comme GET de télécharger un document du serveur vers le client mais avec un plus de sophistication : les paramètres sont masqués et il est possible de demander de mettre à jour des données sur le serveur à l'occasion de la requête.\n",
    "\n",
    "Il existe d'autres requêtes HTTP que nous ne détaillons pas ici.\n",
    "```\n",
    "\n",
    "````{margin}\n",
    "```{admonition} Installer un paquet Python\n",
    "  :class: tip\n",
    "\n",
    "Le module `requests` ne fait pas partie de la librairie standard en Python.\n",
    "Il faut donc l'installer avant de pouvoir l'utiliser.\n",
    "Pour ce faire, on peut utiliser le gestionnaire de paquets `pip`.\n",
    "\n",
    "Si vous utilisez l'IDE PyCharm, vous pourrez trouver une documentation [à cette adresse](https://www.jetbrains.com/help/pycharm/installing-uninstalling-and-upgrading-packages.html) concernant la marche à suivre pour installer un module via votre éditeur directement.\n",
    "```\n",
    "````\n",
    "\n",
    "La section précédente proposait un rappel sur le format des requêtes HTTP et vous avez été invités à effectuer des requêtes HTTP à l'aide de votre navigateur.\n",
    "Si maintenant on souhaite récupérer de manière automatique le résultat d'une requête HTTP pour le manipuler en Python, le plus commode est d'effectuer la requête HTTP depuis Python.\n",
    "Pour cela, on utilise le module `requests`.\n",
    "Ce module contient notamment une fonction `get` qui permet d'effectuer des requêtes HTTP de type GET (je vous laisse deviner le nom de la fonction qui permet d'effectuer des requêtes HTTP POST :) :"
   ]
  },
  {
   "cell_type": "code",
   "execution_count": 1,
   "id": "d108249f",
   "metadata": {},
   "outputs": [
    {
     "name": "stdout",
     "output_type": "stream",
     "text": [
      "<Response [200]>\n"
     ]
    }
   ],
   "source": [
    "import requests\n",
    "\n",
    "url = \"http://my-json-server.typicode.com/rtavenar/fake_api/tasks\"\n",
    "\n",
    "reponse = requests.get(url)\n",
    "print(reponse)"
   ]
  },
  {
   "cell_type": "markdown",
   "id": "bd37ff28",
   "metadata": {},
   "source": [
    "On voit ici que l'on a reçu une réponse de code 200, ce qui signifie que la requête s'est déroulée correctement.\n",
    "\n",
    "```{admonition} Codes de retour HTTP\n",
    "  :class: tip, dropdown\n",
    "\n",
    "Voici quelques codes de retour de requêtes HTTP qui peuvent vous être utiles :\n",
    "* 20x : la transaction s'est bien déroulée\n",
    "  * _ex._ 200 : la requête s'est effectuée correctement\n",
    "* 40x : erreur \"due au client\"\n",
    "  * _ex._ 404 : page non trouvée\n",
    "* 50x : erreur \"due au serveur\"\n",
    "  * _ex._ 504 : Temps imparti écoulé\n",
    "```"
   ]
  },
  {
   "cell_type": "code",
   "execution_count": 2,
   "id": "adc89972",
   "metadata": {},
   "outputs": [
    {
     "name": "stdout",
     "output_type": "stream",
     "text": [
      "<class 'str'>\n"
     ]
    }
   ],
   "source": [
    "contenu_txt = reponse.text\n",
    "print(type(contenu_txt))"
   ]
  },
  {
   "cell_type": "code",
   "execution_count": 3,
   "id": "75424d62",
   "metadata": {},
   "outputs": [
    {
     "name": "stdout",
     "output_type": "stream",
     "text": [
      "<class 'list'>\n"
     ]
    }
   ],
   "source": [
    "contenu = reponse.json()\n",
    "print(type(contenu))"
   ]
  },
  {
   "cell_type": "code",
   "execution_count": 4,
   "id": "3c5c21a3",
   "metadata": {},
   "outputs": [
    {
     "name": "stdout",
     "output_type": "stream",
     "text": [
      "[{'userId': 1, 'id': 1, 'title': 'delectus aut autem', 'completed': False}, {'userId': 1, 'id': 2, 'title': 'quis ut nam facilis et officia qui', 'completed': False}, {'userId': 1, 'id': 3, 'title': 'fugiat veniam minus', 'completed': False}, {'userId': 1, 'id': 4, 'title': 'et porro tempora', 'completed': True}, {'userId': 1, 'id': 8, 'title': 'quo adipisci enim quam ut ab', 'completed': True}, {'userId': 3, 'id': 44, 'title': 'cum debitis quis accusamus doloremque ipsa natus sapiente omnis', 'completed': True}, {'userId': 3, 'id': 45, 'title': 'velit soluta adipisci molestias reiciendis harum', 'completed': False}, {'userId': 3, 'id': 46, 'title': 'vel voluptatem repellat nihil placeat corporis', 'completed': False}]\n"
     ]
    }
   ],
   "source": [
    "print(contenu)"
   ]
  },
  {
   "cell_type": "markdown",
   "id": "934787b1",
   "metadata": {},
   "source": [
    "On voit ici qu'il est possible d'obtenir le résultat de notre requête sous deux formes : le texte brut du résultat qui est stocké dans `reponse.text` et la version mise en forme (sous la forme de dictionnaire ou de liste) de ce résultat que l'on obtient via `reponse.json()`.\n",
    "\n",
    "De plus, si l'on souhaite passer des paramètres à la requête HTTP (ce qui se trouvait après le symbole `?` dans les URL ci-dessus), il est possible de le faire lors de l'appel à `requests.get` :"
   ]
  },
  {
   "cell_type": "code",
   "execution_count": 5,
   "id": "db4e21e6",
   "metadata": {},
   "outputs": [
    {
     "name": "stdout",
     "output_type": "stream",
     "text": [
      "[{'userId': 3, 'id': 44, 'title': 'cum debitis quis accusamus doloremque ipsa natus sapiente omnis', 'completed': True}, {'userId': 3, 'id': 45, 'title': 'velit soluta adipisci molestias reiciendis harum', 'completed': False}, {'userId': 3, 'id': 46, 'title': 'vel voluptatem repellat nihil placeat corporis', 'completed': False}]\n"
     ]
    }
   ],
   "source": [
    "import requests\n",
    "\n",
    "url = \"http://my-json-server.typicode.com/rtavenar/fake_api/tasks\"\n",
    "\n",
    "reponse = requests.get(url, params=\"userId=3\")\n",
    "contenu = reponse.json()\n",
    "print(contenu)"
   ]
  },
  {
   "cell_type": "markdown",
   "id": "b2650153",
   "metadata": {},
   "source": [
    "Le code ci-dessus correspond ainsi à ce que vous obtiendriez dans votre navigateur en entrant l'URL <http://my-json-server.typicode.com/rtavenar/fake_api/tasks?userId=3>.\n",
    "\n",
    "En pratique, dans de nombreux cas, des modules Python existent pour permettre d'utiliser les API grand public sans avoir à gérer les requêtes HTTP directement.\n",
    "C'est par exemple le cas des modules [`tweepy`](http://docs.tweepy.org/en/latest/) (pour l'API Twitter) ou [`graphh`](https://graphh.readthedocs.io/en/latest/) (qui permet d'accéder à l'API GraphHopper qui est un équivalent libre de Google Maps)[^graphh].\n",
    "\n",
    "[^graphh]: Notez que le module `graphh` a été développé par d'anciens étudiants de Licence 2 et Licence 3 MIASHS de l'Université de Rennes 2.\n",
    "\n",
    "## Exercice\n",
    "\n",
    "```{admonition} **Exercice 9.1**\n",
    "Écrivez une fonction qui prenne en entrée une liste de `userId` et affiche l'ensemble des entrées de l'API <http://my-json-server.typicode.com/rtavenar/fake_api/tasks> pour lesquelles l'attribut `completed` vaut `True`.\n",
    "```\n",
    "\n",
    "````{admonition} Solution\n",
    ":class: tip, dropdown\n",
    "\n",
    "* Solution 1\n",
    "\n",
    "```python\n",
    "import requests\n",
    "\n",
    "def affiche_api(liste_userId):\n",
    "    url = \"http://my-json-server.typicode.com/rtavenar/fake_api/tasks\"\n",
    "    contenu = requests.get(url)\n",
    "    list_taches = contenu.json()\n",
    "    for tache in list_taches:\n",
    "        if tache[\"completed\"] and tache[\"userId\"] in liste_userId:\n",
    "            print(tache)\n",
    "\n",
    "affiche_api([1, 3])\n",
    "```\n",
    "\n",
    "* Solution 2 : en utilisant les paramètres d'URL\n",
    "\n",
    "```python\n",
    "import requests\n",
    "\n",
    "def affiche_api(liste_userId):\n",
    "    url = \"http://my-json-server.typicode.com/rtavenar/fake_api/tasks\"\n",
    "    contenu = requests.get(url, params=\"completed=true\")\n",
    "    list_taches = contenu.json()\n",
    "    for tache in list_taches:\n",
    "        if tache[\"userId\"] in liste_userId:\n",
    "            print(tache)\n",
    "\n",
    "affiche_api([1, 3])\n",
    "```\n",
    "````"
   ]
  }
 ],
 "metadata": {
  "jupytext": {
   "cell_metadata_filter": "-all",
   "formats": "md:myst",
   "text_representation": {
    "extension": ".md",
    "format_name": "myst",
    "format_version": "0.8",
    "jupytext_version": "1.5.0"
   }
  },
  "kernelspec": {
   "display_name": "Python 3",
   "language": "python",
   "name": "python3"
  },
  "language_info": {
   "codemirror_mode": {
    "name": "ipython",
    "version": 3
   },
   "file_extension": ".py",
   "mimetype": "text/x-python",
   "name": "python",
   "nbconvert_exporter": "python",
   "pygments_lexer": "ipython3",
   "version": "3.7.13"
  },
  "source_map": [
   14,
   35,
   118,
   125,
   141,
   146,
   151,
   153,
   159,
   167
  ]
 },
 "nbformat": 4,
 "nbformat_minor": 5
}