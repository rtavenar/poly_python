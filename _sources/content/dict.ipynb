{
 "cells": [
  {
   "cell_type": "markdown",
   "id": "284bdee6",
   "metadata": {},
   "source": [
    "# Les dictionnaires\n",
    "\n",
    "Comme une liste, un dictionnaire est une collection de données.\n",
    "Mais, à la différence des listes, les dictionnaires ne sont pas ordonnés (ou, tout du moins, ils le sont dans un ordre qui ne nous est pas naturel).\n",
    "Chaque entrée dans un dictionnaire est une association entre une **clé** (équivalente à un indice pour une liste) et une **valeur**.\n",
    "Alors que les indices d'une liste sont forcément les entiers compris entre 0 et la taille de la liste exclue, les clés d'un dictionnaire sont des valeurs quelconques, la seule contrainte étant qu'on ne peut pas avoir deux fois la même clé dans un dictionnaire.\n",
    "Notamment, ces clés ne sont pas nécessairement des entiers, on utilisera en effet souvent des dictionnaires lorsque l'on souhaite stocker des valeurs associées à des chaînes de caractères (qui seront les clés du dictionnaire).\n",
    "\n",
    "Pour définir un dictionnaire par ses paires clé-valeur en Python, on peut utiliser la syntaxe suivante :"
   ]
  },
  {
   "cell_type": "code",
   "execution_count": 1,
   "id": "3234bc63",
   "metadata": {},
   "outputs": [
    {
     "name": "stdout",
     "output_type": "stream",
     "text": [
      "{'a': 123, 'z': 7, 'bbb': None}\n"
     ]
    }
   ],
   "source": [
    "mon_dico = {\"a\" : 123, \"z\" : 7, \"bbb\" : None}\n",
    "print(mon_dico)"
   ]
  },
  {
   "cell_type": "markdown",
   "id": "ca4e995a",
   "metadata": {},
   "source": [
    "Ainsi, un dictionnaire vide sera créé comme suit :"
   ]
  },
  {
   "cell_type": "code",
   "execution_count": 2,
   "id": "2c88f6e0",
   "metadata": {},
   "outputs": [
    {
     "name": "stdout",
     "output_type": "stream",
     "text": [
      "{}\n"
     ]
    }
   ],
   "source": [
    "mon_dico = {}\n",
    "print(mon_dico)"
   ]
  },
  {
   "cell_type": "markdown",
   "id": "4f4f7dfb",
   "metadata": {},
   "source": [
    "Attention, pour toutes les versions de Python antérieures à 3.7, l'ordre dans lequel on a entré des paires clé-valeur n'est pas conservé lors de l'affichage ni lors du parcours.\n",
    "\n",
    "## Modification du contenu d'un dictionnaire\n",
    "\n",
    "Pour modifier la valeur associée à une clé d'un dictionnaire, la syntaxe est similaire à celle utilisée pour les listes, en remplaçant les indices par les clés :"
   ]
  },
  {
   "cell_type": "code",
   "execution_count": 3,
   "id": "0a576abc",
   "metadata": {},
   "outputs": [
    {
     "name": "stdout",
     "output_type": "stream",
     "text": [
      "{'a': 1000, 'z': 7, 'bbb': None}\n"
     ]
    }
   ],
   "source": [
    "mon_dico = {\"a\" : 123, \"z\" : 7, \"bbb\" : None}\n",
    "mon_dico[\"a\"] = 1000\n",
    "print(mon_dico)"
   ]
  },
  {
   "cell_type": "markdown",
   "id": "dd14db63",
   "metadata": {},
   "source": [
    "De même, on peut créer une nouvelle paire clé-valeur en utilisant la même syntaxe :"
   ]
  },
  {
   "cell_type": "code",
   "execution_count": 4,
   "id": "d67960cc",
   "metadata": {},
   "outputs": [
    {
     "name": "stdout",
     "output_type": "stream",
     "text": [
      "{'a': 123, 'z': 7, 'bbb': None, 'c': -1}\n"
     ]
    }
   ],
   "source": [
    "mon_dico = {\"a\" : 123, \"z\" : 7, \"bbb\" : None}\n",
    "mon_dico[\"c\"] = -1\n",
    "print(mon_dico)"
   ]
  },
  {
   "cell_type": "markdown",
   "id": "061ec830",
   "metadata": {},
   "source": [
    "Enfin, pour supprimer une paire clé-valeur d'un dictionnaire, on utilise le mot-clé `del` :"
   ]
  },
  {
   "cell_type": "code",
   "execution_count": 5,
   "id": "8d7d4883",
   "metadata": {},
   "outputs": [
    {
     "name": "stdout",
     "output_type": "stream",
     "text": [
      "{'z': 7, 'bbb': None}\n"
     ]
    }
   ],
   "source": [
    "mon_dico = {\"a\" : 123, \"z\" : 7, \"bbb\" : None}\n",
    "del mon_dico[\"a\"]\n",
    "print(mon_dico)"
   ]
  },
  {
   "cell_type": "markdown",
   "id": "51bf9b05",
   "metadata": {},
   "source": [
    "## Lecture du contenu d'un dictionnaire\n",
    "\n",
    "Pour lire la valeur associée à une clé du dictionnaire, on peut utiliser la même syntaxe que pour les listes :"
   ]
  },
  {
   "cell_type": "code",
   "execution_count": 6,
   "id": "32b11211",
   "metadata": {},
   "outputs": [
    {
     "name": "stdout",
     "output_type": "stream",
     "text": [
      "123\n"
     ]
    }
   ],
   "source": [
    "mon_dico = {\"a\" : 123, \"z\" : 7, \"bbb\" : None}\n",
    "print(mon_dico[\"a\"])"
   ]
  },
  {
   "cell_type": "markdown",
   "id": "bdafc6fa",
   "metadata": {},
   "source": [
    "Par contre, si la clé demandée n'existe pas, cela génèrera une erreur.\n",
    "Pour éviter cela, on peut utiliser la méthode `get` qui permet de définir une valeur par défaut à retourner si la clé n'existe pas :"
   ]
  },
  {
   "cell_type": "code",
   "execution_count": 7,
   "id": "d6cd1d1e",
   "metadata": {},
   "outputs": [
    {
     "name": "stdout",
     "output_type": "stream",
     "text": [
      "123\n"
     ]
    }
   ],
   "source": [
    "mon_dico = {\"a\" : 123, \"z\" : 7, \"bbb\" : None}\n",
    "print(mon_dico.get(\"a\", 0))"
   ]
  },
  {
   "cell_type": "code",
   "execution_count": 8,
   "id": "df54236b",
   "metadata": {},
   "outputs": [
    {
     "name": "stdout",
     "output_type": "stream",
     "text": [
      "0\n"
     ]
    }
   ],
   "source": [
    "print(mon_dico.get(\"b\", 0))"
   ]
  },
  {
   "cell_type": "markdown",
   "id": "efb56457",
   "metadata": {},
   "source": [
    "## Parcours d'un dictionnaire\n",
    "\n",
    "Pour parcourir le contenu d'un dictionnaire, il existe, comme pour les listes, trois possibilités.\n",
    "\n",
    "### Parcours par valeurs\n",
    "\n",
    "Si l'on souhaite uniquement accéder aux valeurs stockées dans le dictionnaire, on utilisera la méthode `values` :"
   ]
  },
  {
   "cell_type": "code",
   "execution_count": 9,
   "id": "c5e84743",
   "metadata": {},
   "outputs": [
    {
     "name": "stdout",
     "output_type": "stream",
     "text": [
      "123\n",
      "7\n",
      "None\n"
     ]
    }
   ],
   "source": [
    "mon_dico = {\"a\" : 123, \"z\" : 7, \"bbb\" : None}\n",
    "for val in mon_dico.values():\n",
    "    print(val)"
   ]
  },
  {
   "cell_type": "markdown",
   "id": "b7dfb486",
   "metadata": {},
   "source": [
    "### Parcours par clés\n",
    "\n",
    "Si l'on souhaite uniquement accéder aux clés stockées dans le dictionnaire, on utilisera la méthode `keys` :"
   ]
  },
  {
   "cell_type": "code",
   "execution_count": 10,
   "id": "275abca8",
   "metadata": {},
   "outputs": [
    {
     "name": "stdout",
     "output_type": "stream",
     "text": [
      "a\n",
      "z\n",
      "bbb\n"
     ]
    }
   ],
   "source": [
    "mon_dico = {\"a\" : 123, \"z\" : 7, \"bbb\" : None}\n",
    "for cle in mon_dico.keys():\n",
    "    print(cle)"
   ]
  },
  {
   "cell_type": "markdown",
   "id": "4b169b1d",
   "metadata": {},
   "source": [
    "### Parcours par couples clés/valeurs\n",
    "\n",
    "Si l'on souhaite accéder simultanément aux clés stockées dans le dictionnaire et aux valeurs associées, on utilisera la méthode `items` :"
   ]
  },
  {
   "cell_type": "code",
   "execution_count": 11,
   "id": "f8efe970",
   "metadata": {},
   "outputs": [
    {
     "name": "stdout",
     "output_type": "stream",
     "text": [
      "a 123\n",
      "z 7\n",
      "bbb None\n"
     ]
    }
   ],
   "source": [
    "mon_dico = {\"a\" : 123, \"z\" : 7, \"bbb\" : None}\n",
    "for cle, valeur in mon_dico.items():\n",
    "    print(cle, valeur)"
   ]
  },
  {
   "cell_type": "markdown",
   "id": "046d32e4",
   "metadata": {},
   "source": [
    "````{admonition} Liste ou dictionnaire ?\n",
    "  :class: tip\n",
    "\n",
    "Lorsque l'on doit stocker des séries de valeurs, on a donc plusieurs choix, et notamment, on peut utiliser une liste ou un dictionnaire.\n",
    "En pratique, on utilisera un dictionnaire dès lors que l'on souhaitera mettre en évidence une correspondance entre clés et valeurs, comme dans l'exemple suivant dans lequel on **associe** à chaque numéro étudiant un entier (pouvant représenter une note, un nombre de photocopies restantes auorisées, ou autre) :\n",
    "\n",
    "```\n",
    "{\"2170000\": 13, \"2180000\": 23}\n",
    "```\n",
    "\n",
    "Si l'on souhaite stocker une **série ordonnée de valeurs**, on préférera l'utilisation d'une liste, comme dans ce qui suit pour une liste de prénoms :\n",
    "\n",
    "```\n",
    "[\"Chloé\", \"Ali\", \"Margot\", \"Antoine\"]\n",
    "```\n",
    "\n",
    "````\n",
    "\n",
    "## Exercices\n",
    "\n",
    "````{admonition} Exercice 6.1\n",
    "Écrivez une fonction qui compte le nombre d'occurrences de chacun des mots d'une chaîne de caractères et retourne le résultat sous forme de dictionnaire :\n",
    "\n",
    "```\n",
    "# [...]\n",
    "print(compte_occurrences(\"la vie est belle c'est la vie\"))\n",
    "# [Sortie] {\"c'est\": 1, 'la': 2, 'belle': 1, 'est': 1, 'vie': 2}\n",
    "```\n",
    "````\n",
    "\n",
    "<div id=\"pad_6.1\" class=\"pad\"></div>\n",
    "<script>\n",
    "    Pythonpad('pad_6.1', \n",
    "              {'id': '6.1', \n",
    "               'title': 'Testez votre solution ici', \n",
    "               'src': '# Complétez ce code'})\n",
    "</script>\n",
    "\n",
    "````{admonition} Solution\n",
    ":class: tip, dropdown\n",
    "\n",
    "```python\n",
    "def compte_occurrences(s):\n",
    "    d = {}\n",
    "    for mot in s.split():\n",
    "        d[mot] = d.get(mot, 0) + 1\n",
    "    return d\n",
    "\n",
    "print(compte_occurrences(\"la vie est belle c'est la vie\"))\n",
    "```\n",
    "````\n",
    "\n",
    "```{admonition} Exercice 6.2\n",
    "Écrivez une fonction qui retourne la somme des *valeurs* d'un dictionnaire fourni en argument, en supposant que toutes les valeurs stockées dans ce dictionnaire soient numériques.\n",
    "```\n",
    "\n",
    "<div id=\"pad_6.2\" class=\"pad\"></div>\n",
    "<script>\n",
    "    Pythonpad('pad_6.2', \n",
    "              {'id': '6.2', \n",
    "               'title': 'Testez votre solution ici', \n",
    "               'src': '# Complétez ce code'})\n",
    "</script>\n",
    "\n",
    "````{admonition} Solution\n",
    ":class: tip, dropdown\n",
    "\n",
    "```python\n",
    "def somme_valeurs(d):\n",
    "    s = 0\n",
    "    for v in d.values():\n",
    "        s += v\n",
    "    return s\n",
    "\n",
    "print(somme_valeurs({\"a\": 12, \"zz\": 1.5, \"AAA\": 0}))\n",
    "```\n",
    "````"
   ]
  }
 ],
 "metadata": {
  "jupytext": {
   "cell_metadata_filter": "-all",
   "formats": "md:myst",
   "text_representation": {
    "extension": ".md",
    "format_name": "myst",
    "format_version": "0.8",
    "jupytext_version": "1.5.0"
   }
  },
  "kernelspec": {
   "display_name": "Python 3",
   "language": "python",
   "name": "python3"
  },
  "language_info": {
   "codemirror_mode": {
    "name": "ipython",
    "version": 3
   },
   "file_extension": ".py",
   "mimetype": "text/x-python",
   "name": "python",
   "nbconvert_exporter": "python",
   "pygments_lexer": "ipython3",
   "version": "3.7.14"
  },
  "source_map": [
   14,
   26,
   29,
   33,
   36,
   44,
   48,
   52,
   56,
   60,
   64,
   70,
   73,
   78,
   83,
   85,
   95,
   99,
   105,
   109,
   115,
   119
  ]
 },
 "nbformat": 4,
 "nbformat_minor": 5
}