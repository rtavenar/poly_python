{
 "cells": [
  {
   "cell_type": "markdown",
   "id": "fef9aacb",
   "metadata": {},
   "source": [
    "# Structures de données et structures de contrôle\n",
    "\n",
    "Dans ce chapitre, on s'intéresse aux éléments de base de la syntaxe Python : les structures de données d'une part et les structures de contrôle d'autre part.\n",
    "Les structures de données vont permettre de stocker dans la mémoire de l'ordinateur (dans le but de les traiter ensuite) des données tandis que les structures de contrôle vont servir à définir nos interactions avec ces données.\n",
    "\n",
    "## Variables\n",
    "\n",
    "En Python, les données sont stockées dans des variables.\n",
    "On ne peut pas, comme c'est le cas dans d'autres langages, définir de constante (qui sont, dans ces langages, des moyens de stocker des valeurs n'ayant pas vocation à être modifiées au cours de l'exécution du programme).\n",
    "Une variable est une association entre un symbole (le nom de la variable) et une valeur, cette dernière pouvant varier au cours de l'exécution du programme.\n",
    "\n",
    "### Types des variables Python\n",
    "\n",
    "Les types de base existant en Python sont les suivants :\n",
    "\n",
    "* `int` : entier ;\n",
    "* `float` : nombre à virgule ;\n",
    "* `complex` : nombre complexe (peu utilisé en pratique dans ce cours) ;\n",
    "* `str` : chaîne de caractères ;\n",
    "* `bool` : booléen (pouvant prendre les valeurs `True` ou `False`).\n",
    "\n",
    "De plus, il existe un type spécial (`NoneType`) ne permettant qu'une seule valeur : la valeur `None` qui signifie \"pas de valeur\" ou \"valeur manquante\".\n",
    "\n",
    "Le choix du type utilisé pour une variable impliquera :\n",
    "\n",
    " * une certaine façon d'encoder les données en mémoire (mais cette partie vous sera largement masquée, c'est l'interpréteur qui s'en chargera) ;\n",
    " * un certain nombre d'opérations autorisées sur la variable (opérations arithmétiques sur les variables numériques, concaténation sur les chaînes de caractères, _etc._)\n",
    "\n",
    "Les variables Python sont typées dynamiquement, ce qui signifie qu'une variable, à un moment donné de l'exécution d'un programme, a un type précis qui lui est attribué, mais que celui-ci peut évoluer au cours de l'exécution du programme.\n",
    "En Python, le type d'une variable n'est pas déclaré par l'utilisateur : il est défini par l'usage (la valeur effective que l'on décide de stocker dans la variable en question)."
   ]
  },
  {
   "cell_type": "markdown",
   "id": "25497f88",
   "metadata": {},
   "source": [
    "Par exemple, l'instruction suivante (dite opération d'affectation) en Python attribue la valeur `12` à la variable `v`, qui devient donc automatiquement de type entier :"
   ]
  },
  {
   "cell_type": "code",
   "execution_count": 1,
   "id": "f660fd85",
   "metadata": {},
   "outputs": [],
   "source": [
    "v = 12"
   ]
  },
  {
   "cell_type": "markdown",
   "id": "79985d54",
   "metadata": {},
   "source": [
    "Ainsi, les instructions suivantes ont toutes une incidence sur le type des variables considérées :"
   ]
  },
  {
   "cell_type": "code",
   "execution_count": 2,
   "id": "75e6306c",
   "metadata": {},
   "outputs": [],
   "source": [
    "v = 12     # v est alors de type entier\n",
    "c = \"abc\"  # c est de type chaîne de caractères\n",
    "d = 'abc'  # d est également de type chaîne de caractères\n",
    "           # les contenus de c et d sont identiques\n",
    "v = 12.    # v change de type et est désormais de type nombre à virgule"
   ]
  },
  {
   "cell_type": "markdown",
   "id": "21f3112f",
   "metadata": {},
   "source": [
    "Pour vérifier le type d'une variable, il suffit d'utiliser la fonction `type` de la librairie standard :"
   ]
  },
  {
   "cell_type": "code",
   "execution_count": 3,
   "id": "2d64c4aa",
   "metadata": {},
   "outputs": [
    {
     "name": "stdout",
     "output_type": "stream",
     "text": [
      "<class 'float'>\n"
     ]
    }
   ],
   "source": [
    "print(type(v))  # la fonction print(.) permet d'afficher\n",
    "                # une information dans le terminal"
   ]
  },
  {
   "cell_type": "markdown",
   "id": "865b3489",
   "metadata": {},
   "source": [
    "### Opération d'affectation\n",
    "\n",
    "Comme le montrent les exemples précédents, pour pouvoir utiliser des variables, on doit leur donner un nom (placé à gauche du signe égal dans l'opération d'affectation).\n",
    "Ces noms de variables doivent respecter certaines contraintes :\n",
    "\n",
    "* ils doivent débuter par une lettre (minuscule ou majuscule, peu importe) ou par le symbole `_` ;\n",
    "* ils ne doivent contenir que des lettres, des chiffres et des symboles `_` ;\n",
    "* ils ne doivent pas correspondre à un quelconque mot réservé du langage Python, dont voici la liste :\n",
    "\n",
    "```\n",
    "and del for is raise assert elif from lambda return break else global\n",
    "not try nonlocal True False class except if or while continue import\n",
    "pass yield None def finally in as with\n",
    "```\n",
    "\n",
    "* ils ne doivent pas correspondre à des noms de fonction de la librairie standard de Python (cette dernière condition n'est en fait qu'une bonne pratique à observer) : vous apprendrez au fur et à mesure les noms de ces fonctions.\n",
    "\n",
    "Les noms de variable en Python sont sensibles à la casse, ainsi les variables `maVariable` et `mavariable` ne pointent pas sur les mêmes données en mémoire. Pour s'en convaincre, on peut exécuter le code suivant :"
   ]
  },
  {
   "cell_type": "code",
   "execution_count": 4,
   "id": "4b9c035a",
   "metadata": {},
   "outputs": [
    {
     "name": "stdout",
     "output_type": "stream",
     "text": [
      "12\n"
     ]
    }
   ],
   "source": [
    "mavariable = 12\n",
    "maVariable = 15\n",
    "print(mavariable)"
   ]
  },
  {
   "cell_type": "code",
   "execution_count": 5,
   "id": "e53472f2",
   "metadata": {},
   "outputs": [
    {
     "name": "stdout",
     "output_type": "stream",
     "text": [
      "15\n"
     ]
    }
   ],
   "source": [
    "print(maVariable)"
   ]
  },
  {
   "cell_type": "markdown",
   "id": "c96e6259",
   "metadata": {},
   "source": [
    "Comme on l'a vu plus haut, on utilise en Python l'opérateur `=` pour affecter une valeur à une variable.\n",
    "La sémantique de cet opérateur est la suivante : \"affecter la valeur contenue dans le membre de droite à la variable du membre de gauche\".\n",
    "Ainsi, il est tout à fait valide d'écrire, en Python :\n",
    "\n",
    "```\n",
    "x = 3.9 * x * (1 - x)\n",
    "```\n",
    "\n",
    "Pour exécuter cette instruction, l'interpréteur Python commencera par évaluer le membre de droite en utilisant la valeur courante de la variable `x`, puis affectera la valeur correspondant au résultat de l'opération `3.9 * x * (1 - x)` dans la variable `x`.\n",
    "\n",
    "Ainsi, voici le résultat de l'exécution suivante :"
   ]
  },
  {
   "cell_type": "code",
   "execution_count": 6,
   "id": "0c858d62",
   "metadata": {},
   "outputs": [
    {
     "name": "stdout",
     "output_type": "stream",
     "text": [
      "2\n"
     ]
    }
   ],
   "source": [
    "x = 2\n",
    "print(x)"
   ]
  },
  {
   "cell_type": "code",
   "execution_count": 7,
   "id": "4575a76d",
   "metadata": {},
   "outputs": [
    {
     "name": "stdout",
     "output_type": "stream",
     "text": [
      "-7.8\n"
     ]
    }
   ],
   "source": [
    "x = 3.9 * x * (1 - x)\n",
    "print(x)"
   ]
  },
  {
   "cell_type": "markdown",
   "id": "565636cc",
   "metadata": {},
   "source": [
    "Si l'on souhaite obtenir un affichage plus riche, on pourra utiliser la méthode `format` comme suit :"
   ]
  },
  {
   "cell_type": "code",
   "execution_count": 8,
   "id": "b242fc08",
   "metadata": {},
   "outputs": [
    {
     "name": "stdout",
     "output_type": "stream",
     "text": [
      "La valeur courante de x est -7.8\n"
     ]
    }
   ],
   "source": [
    "x = 2\n",
    "x = 3.9 * x * (1 - x)\n",
    "print(\"La valeur courante de x est {}\".format(x))"
   ]
  },
  {
   "cell_type": "markdown",
   "id": "beeacf99",
   "metadata": {},
   "source": [
    "### Opérateurs et priorité\n",
    "\n",
    "On le voit dans l'exemple précédent, pour manipuler des variables, on utilisera des opérateurs (dont les plus connus sont les opérateurs arithmétiques).\n",
    "Le tableau suivant dresse une liste des opérateurs définis pour les variables dont le type est l'un des types numériques (entier, nombre à virgule, nombre complexe) :\n",
    "\n",
    "| Opérateur | Opération |\n",
    "|:---:|:---:|\n",
    "| `+` | Addition |\n",
    "| `-` | Soustraction |\n",
    "| `*` | Multiplication |\n",
    "| `/` | Division |\n",
    "| `**` | Élévation à la puissance |\n",
    "| `%` | Modulo (non défini pour les nombres complexes) |\n",
    "| `//` | Division entière |\n",
    "\n",
    "\n",
    "De plus, pour chacun de ces opérateurs, il existe un opérateur associé qui réalise successivement l'opération demandée puis l'affectation de la nouvelle valeur à la variable en question.\n",
    "Ainsi, l'instruction suivante :"
   ]
  },
  {
   "cell_type": "code",
   "execution_count": 9,
   "id": "387efa9b",
   "metadata": {},
   "outputs": [],
   "source": [
    "x = x + 2"
   ]
  },
  {
   "cell_type": "markdown",
   "id": "d72da4ec",
   "metadata": {},
   "source": [
    "qui ajoute 2 à la valeur courante de `x` puis stocke le résultat du calcul dans `x` peut se réécrire :"
   ]
  },
  {
   "cell_type": "code",
   "execution_count": 10,
   "id": "220bf0fb",
   "metadata": {},
   "outputs": [],
   "source": [
    "x += 2"
   ]
  },
  {
   "cell_type": "markdown",
   "id": "bed40351",
   "metadata": {},
   "source": [
    "Ceci est purement un raccourci de notation, s'il ne vous semble pas évident à maîtriser au premier abord, vous pouvez vous en passer et toujours utiliser la notation `x = x + 2`.\n",
    "\n",
    "Enfin, lorsque l'évaluation d'une expression implique plusieurs opérateurs, les règles de priorité sont les suivantes (de la priorité maximale à la priorité minimale) :\n",
    "\n",
    "1. parenthèses ;\n",
    "2. élévation à la puissance ;\n",
    "3. multiplication / division ;\n",
    "4. addition / soustraction ;\n",
    "5. de gauche à droite.\n",
    "\n",
    "Pour prendre un exemple concret, pour évaluer l'expression :\n",
    "\n",
    "```\n",
    "3.9 * x * (1 - x)\n",
    "```\n",
    "\n",
    "l'interpréteur Python commencera par évaluer le contenu de la parenthèse puis, les 2 opérations restantes étant toutes des multiplications, il les effectuera de gauche à droite.\n",
    "\n",
    "De plus, lorsqu'une opération est effectuée entre deux variables de types différents, le type le plus générique est retenu.\n",
    "Par exemple, si l'on multiplie un entier par un nombre à virgule, le résultat sera de type `float`.\n",
    "De même, le résultat de l'addition entre un nombre complexe et un nombre à virgule est un complexe.\n",
    "\n",
    "**Attention.** Comme indiqué en introduction, ce polycopié suppose que vous utilisez Python dans sa version 3.\n",
    "Il est à noter qu'il existe une différence importante entre Python 2 et Python 3 dans la façon d'effectuer des opérations mêlant nombres entiers et flottants.\n",
    "Par exemple, l'opération suivante :"
   ]
  },
  {
   "cell_type": "code",
   "execution_count": 11,
   "id": "01795522",
   "metadata": {},
   "outputs": [],
   "source": [
    "x = 2 / 3"
   ]
  },
  {
   "cell_type": "markdown",
   "id": "c47ef57c",
   "metadata": {},
   "source": [
    "stockera, en Python 2, la valeur 0 (résultat de la division **entière** de 2 par 3) dans la variable `x` alors qu'en Python 3, la division **flottante** sera effectuée et ainsi `x` contiendra `0.666666...`\n",
    "En Python 3, si l'on souhaite effectuer une division entière, on pourra utiliser l'opérateur `//` :"
   ]
  },
  {
   "cell_type": "code",
   "execution_count": 12,
   "id": "0460dbc2",
   "metadata": {},
   "outputs": [
    {
     "name": "stdout",
     "output_type": "stream",
     "text": [
      "0\n"
     ]
    }
   ],
   "source": [
    "print(2 // 3)"
   ]
  },
  {
   "cell_type": "markdown",
   "id": "5b0c7f1a",
   "metadata": {},
   "source": [
    "## Structures de contrôle\n",
    "\n",
    "Un programme est une séquence d'instructions dont l'ordre doit être respecté.\n",
    "Au-delà de cet aspect séquentiel, on peut souhaiter :\n",
    "\n",
    "* n'effectuer certaines instructions que si une condition est vérifiée ;\n",
    "* répéter certaines instructions ;\n",
    "* factoriser une sous-séquence d'instructions au sein d'une fonction pour pouvoir y faire appel à plusieurs reprises dans le programme.\n",
    "\n",
    "Les structures de contrôle associées à ces différents comportements sont décrits dans la suite de cette section.\n",
    "\n",
    "### Structures conditionnelles\n",
    "\n",
    "On peut indiquer à un programme de n'exécuter une instruction (ou une séquence d'instructions) que si une certaine condition est remplie, à l'aide du mot-clé `if` :"
   ]
  },
  {
   "cell_type": "code",
   "execution_count": 13,
   "id": "12bace40",
   "metadata": {},
   "outputs": [
    {
     "name": "stdout",
     "output_type": "stream",
     "text": [
      "X est positif\n",
      "X n'est pas négatif\n"
     ]
    }
   ],
   "source": [
    "x = 12\n",
    "if x > 0:\n",
    "    print(\"X est positif\")\n",
    "    print(\"X n'est pas négatif\")"
   ]
  },
  {
   "cell_type": "markdown",
   "id": "10b5fe64",
   "metadata": {},
   "source": [
    "On remarque ici que la condition est terminée par le symbole `:`, de plus, la séquence d'instructions à exécuter si la condition est remplie est **indentée**, cela signifie qu'elle est décalée d'un \"cran\" (généralement une tabulation ou 4 espaces) vers la droite.\n",
    "Cette indentation est une bonne pratique recommandée quel que soit le langage que vous utilisez, mais en Python, c'est même une obligation (sinon, l'interpréteur Python ne saura pas où commence et où se termine la séquence à exécuter sous condition).\n",
    "\n",
    "Dans certains cas, on souhaite exécuter une série d'instructions si la condition est vérifiée et une autre série d'instructions si elle ne l'est pas.\n",
    "Pour cela, on utilise le mot-clé `else` comme suit :"
   ]
  },
  {
   "cell_type": "code",
   "execution_count": 14,
   "id": "1c602446",
   "metadata": {},
   "outputs": [
    {
     "name": "stdout",
     "output_type": "stream",
     "text": [
      "X est négatif\n"
     ]
    }
   ],
   "source": [
    "x = -1\n",
    "if x > 0:\n",
    "    print(\"X est positif\")\n",
    "    print(\"X n'est pas négatif\")\n",
    "else:\n",
    "    print(\"X est négatif\")"
   ]
  },
  {
   "cell_type": "markdown",
   "id": "807ab084",
   "metadata": {},
   "source": [
    "Là encore, on remarque que l'indentation est de rigueur pour chacun des deux blocs d'instructions.\n",
    "On note également que le mot-clé `else` se trouve au même niveau que le `if` auquel il se réfère.\n",
    "\n",
    "Enfin, de manière plus générale, il est possible de définir plusieurs comportements en fonction de plusieurs tests successifs, à l'aide du mot-clé `elif`. `elif` est une contraction de `else if`, qui signifie sinon si."
   ]
  },
  {
   "cell_type": "code",
   "execution_count": 15,
   "id": "79dae48a",
   "metadata": {},
   "outputs": [
    {
     "name": "stdout",
     "output_type": "stream",
     "text": [
      "X est compris entre -2 et 0\n"
     ]
    }
   ],
   "source": [
    "x = -1\n",
    "if x > 0:\n",
    "    print(\"X est positif\")\n",
    "    x = 4\n",
    "elif x > -2:\n",
    "    print(\"X est compris entre -2 et 0\")\n",
    "elif x > -4:\n",
    "    print(\"X est compris entre -4 et -2\")\n",
    "else:\n",
    "    print(\"X est inférieur à -4\")"
   ]
  },
  {
   "cell_type": "markdown",
   "id": "208d135b",
   "metadata": {},
   "source": [
    "Pour utiliser ces structures conditionnelles, il est important de maîtriser les différents opérateurs de comparaison à votre disposition en Python, dont voici une liste non exhaustive :\n",
    "\n",
    "| Opérateur | Comparaison effectuée | Exemple |\n",
    "|:---:|:---:|:---:|\n",
    "| `<` | Plus petit que | `x < 0` |\n",
    "| `>` | Plus grand que | `x > 0` |\n",
    "| `<=` | Plus petit ou égal à | `x <= 0` |\n",
    "| `>=` | Plus grand ou égal à | `x >= 0` |\n",
    "| `==` | Égal à | `x == 0` |\n",
    "| `!=` | Différent de | `x != 0` |\n",
    "| `is` | Test d'égalité pour le cas de la valeur `None` | `x is None` |\n",
    "| `is not` | Test d'inégalité pour le cas de la valeur `None` | `x is not None` |\n",
    "| `in` | Test de présence d'une valeur dans une liste | `x in [1, 5, 7]` |\n",
    "\n",
    "Il est notamment important de remarquer que, lorsque l'on souhaite tester l'égalité entre deux valeurs, l'opérateur à utiliser est `==` et non `=` (qui sert à affecter une valeur à une variable).\n",
    "\n",
    "(ex2.1)=\n",
    "#### Exercice\n",
    "\n",
    "```{admonition} Exercice 2.1 : Température de l'eau\n",
    "Écrivez une expression conditionnelle, qui à partir d'une température d'eau stockée dans une variable `t` affiche dans le terminal si l'eau à cette température est à l'état liquide, solide ou gazeux.\n",
    "```\n",
    "\n",
    "<div id=\"pad_2.1\" class=\"pad\"></div>\n",
    "<script>\n",
    "    Pythonpad('pad_2.1', \n",
    "              {'id': '2.1', \n",
    "               'title': 'Testez votre solution ici', \n",
    "               'src': 't = -3\\n# Complétez ce code'})\n",
    "</script>\n",
    "\n",
    "\n",
    "````{admonition} Solution\n",
    ":class: tip, dropdown\n",
    "\n",
    "```python\n",
    "t = -5\n",
    "if t <= 0:\n",
    "\tprint(\"l'eau est sous forme solide\")\n",
    "elif t < 100:\n",
    "\tprint(\"l'eau est sous forme liquide\")\n",
    "else :\n",
    "\tprint(\"l'eau est sous forme gazeuse\")\n",
    "```\n",
    "````\n",
    "\n",
    "### Boucles\n",
    "\n",
    "Il existe, en Python comme dans une grande majorité des langages de programmation, deux types de boucles :\n",
    "\n",
    "* les boucles qui s'exécutent tant qu'une condition est vraie ;\n",
    "* les boucles qui répètent la même série d'instructions pour différentes valeurs d'une variable (appelée **variable de boucle**).\n",
    "\n",
    "#### Boucles `while`\n",
    "\n",
    "Les premières ont une syntaxe très similaire à celle des structures conditionnelles simples :"
   ]
  },
  {
   "cell_type": "code",
   "execution_count": 16,
   "id": "84cfef8e",
   "metadata": {},
   "outputs": [
    {
     "name": "stdout",
     "output_type": "stream",
     "text": [
      "0\n",
      "2\n",
      "6\n"
     ]
    }
   ],
   "source": [
    "x = 0\n",
    "while x <= 10:\n",
    "    print(x)\n",
    "    x = 2 * x + 2"
   ]
  },
  {
   "cell_type": "markdown",
   "id": "aecdf5a9",
   "metadata": {},
   "source": [
    "On voit bien ici, en analysant la sortie produite par ces quelques lignes, que le contenu de la boucle est répété plusieurs fois.\n",
    "En pratique, il est répété jusqu'à ce que la variable `x` prenne une valeur supérieure à 10 (14 dans notre cas).\n",
    "Il faut être très prudent avec ces boucles `while` car il est tout à fait possible de créer une boucle dont le programme ne sortira jamais, comme dans l'exemple suivant :\n",
    "\n",
    "\n",
    "```\n",
    "x = 2\n",
    "y = 0\n",
    "while x > 0:\n",
    "    y = y - 1\n",
    "    print(y)\n",
    "print(\"Si on arrive ici, on a fini\")\n",
    "```\n",
    "\n",
    "En effet, on a ici une boucle qui s'exécutera tant que `x` est positif, or la valeur de cette variable est initialisée à 2 et n'est pas modifiée au sein de la boucle, la condition sera donc toujours vérifiée et le programme ne sortira jamais de la boucle.\n",
    "Pour information, si vous vous retrouvez dans un tel cas, vous pourrez interrompre l'exécution du programme à l'aide de la combinaison de touches `Ctrl + C`.\n",
    "\n",
    "#### Boucles `for`\n",
    "\n",
    "```{admonition} Information\n",
    "  :class: tip\n",
    "\n",
    "Si vous avez appris à programmer dans un autre langage que Python, il est possible que vous ayez été habitué(e) à ce que les boucles `for` soient utilisées pour itérer sur des entiers (par exemple les indices des éléments d'une liste).\n",
    "En Python, le principe de base est légèrement différent : par défaut, on itère sur les éléments d'une liste. Vous verrez dans le chapitre de ce polycopié dédié aux listes {ref}`comment faire lorsque l'on souhaite itérer sur les indices <parcours-liste>`.\n",
    "```\n",
    "\n",
    "Le second type de boucle repose en Python sur l'utilisation de listes (ou, plus généralement, d'itérables) dont nous reparlerons plus en détail dans la suite de cet ouvrage.\n",
    "Sachez pour le moment qu'une liste est un ensemble ordonné d'éléments.\n",
    "On peut alors exécuter une série d'instructions pour toutes les valeurs d'une liste :"
   ]
  },
  {
   "cell_type": "code",
   "execution_count": 17,
   "id": "fe24c7f5",
   "metadata": {},
   "outputs": [
    {
     "name": "stdout",
     "output_type": "stream",
     "text": [
      "1\n",
      "5\n",
      "7\n",
      "Fin de la boucle\n"
     ]
    }
   ],
   "source": [
    "for x in [1, 5, 7]:\n",
    "    print(x)\n",
    "print(\"Fin de la boucle\")"
   ]
  },
  {
   "cell_type": "markdown",
   "id": "66acf6ab",
   "metadata": {},
   "source": [
    "Cette syntaxe revient à définir une variable `x` qui prendra successivement pour valeur chacune des valeurs de la liste `[1, 5, 7]` dans l'ordre et à exécuter le code de la boucle (ici, un appel à la fonction `print`) pour cette valeur de la variable `x`.\n",
    "\n",
    "Il est fréquent d'avoir à itérer sur les `n` premiers entiers.\n",
    "Cela peut se faire à l'aide de la fonction `range` (qui est abordée plus en détail dans {ref}`la section de ce cours sur les listes <creation-liste>`) :"
   ]
  },
  {
   "cell_type": "code",
   "execution_count": 18,
   "id": "80697e86",
   "metadata": {},
   "outputs": [
    {
     "name": "stdout",
     "output_type": "stream",
     "text": [
      "1\n",
      "2\n",
      "3\n",
      "4\n",
      "5\n",
      "6\n",
      "7\n",
      "8\n",
      "9\n"
     ]
    }
   ],
   "source": [
    "for i in range(1, 10):\n",
    "    print(i)"
   ]
  },
  {
   "cell_type": "markdown",
   "id": "c5a737af",
   "metadata": {},
   "source": [
    "```{admonition} Quelle boucle choisir ?\n",
    "  :class: tip\n",
    "\n",
    "Lorsque l'on débute la programmation en Python, il peut être difficile de choisir, pour un problème donné, entre les boucles `for` et `while` présentées ici.\n",
    "De manière générale, dès lors que l'on souhaite parcourir les éléments d'une liste ou d'un dictionnaire, on utilisera la boucle `for`.\n",
    "De même, si l'on connait à l'avance le nombre d'itérations que l'on souhaite effectuer, on utilisera une boucle `for` (couplée avec un appel à la fonction `range`).\n",
    "Comme son nom l'indique, la boucle `while` sera utilisée dès lors que l'on souhaite répéter une action **tant qu'** une condition est vérifiée.\n",
    "```\n",
    "\n",
    "(ex2.2)=\n",
    "#### Exercice\n",
    "\n",
    "```{admonition} Exercice 2.2 : Nombres impairs\n",
    "Écrivez une boucle permettant d'afficher tous les nombres impairs inférieurs à une valeur `n` initialement fixée.\n",
    "```\n",
    "\n",
    "<div id=\"pad_2.2\" class=\"pad\"></div>\n",
    "<script>\n",
    "    Pythonpad('pad_2.2', \n",
    "              {'id': '2.2', \n",
    "               'title': 'Testez votre solution ici', \n",
    "               'src': 'n = 20\\n# Complétez ce code'})\n",
    "</script>\n",
    "\n",
    "````{admonition} Solution\n",
    ":class: tip, dropdown\n",
    "\n",
    "* Version avec utilisation du modulo\n",
    "\n",
    "```python\n",
    "n = 8\n",
    "i = 0\n",
    "while(i < n):\n",
    "    if i % 2 != 0:\n",
    "        print(i)\n",
    "    i+=1\n",
    "```\n",
    "\n",
    "* Version sans utilisation du modulo\n",
    "\n",
    "```python\n",
    "n = 8\n",
    "i = 1\n",
    "while(i < n):\n",
    "    print(i)\n",
    "    i += 2\n",
    "```\n",
    "````\n",
    "\n",
    "### Fonctions\n",
    "\n",
    "Nous avons déjà vu dans ce qui précède, sans le dire, des fonctions.\n",
    "Par exemple, lorsque l'on écrit :"
   ]
  },
  {
   "cell_type": "code",
   "execution_count": 19,
   "id": "0f704bf7",
   "metadata": {},
   "outputs": [
    {
     "name": "stdout",
     "output_type": "stream",
     "text": [
      "7\n"
     ]
    }
   ],
   "source": [
    "print(x)"
   ]
  },
  {
   "cell_type": "markdown",
   "id": "147e1af9",
   "metadata": {},
   "source": [
    "on demande l'appel à une fonction, nommée `print` et prenant un **argument** (ici, la variable `x`).\n",
    "La fonction `print` ne retourne pas de valeur, elle ne fait qu'afficher la valeur contenue dans `x` sur le terminal.\n",
    "D'autres fonctions, comme `type` dont nous avons parlé plus haut, **retournent une valeur** et cette valeur peut être utilisée dans la suite du programme, comme dans l'exemple suivant :"
   ]
  },
  {
   "cell_type": "code",
   "execution_count": 20,
   "id": "f791ac90",
   "metadata": {},
   "outputs": [
    {
     "name": "stdout",
     "output_type": "stream",
     "text": [
      "types différents\n"
     ]
    }
   ],
   "source": [
    "x = type(1)  # On stocke dans x la valeur retournée par type\n",
    "y = type(2.)\n",
    "if x == y:\n",
    "    print(\"types identiques\")\n",
    "else:\n",
    "    print(\"types différents\")"
   ]
  },
  {
   "cell_type": "markdown",
   "id": "ae4dd88a",
   "metadata": {},
   "source": [
    "En pratique, dans un programme, on aura recours à la définition de fonctions pour décomposer un problème global en sous-problèmes, chaque sous-problème étant géré par une fonction qui pourra elle-même, au besoin, faire appel à d'autres fonctions.\n",
    "\n",
    "#### Définition d'une fonction\n",
    "\n",
    "Lorsqu'un ensemble d'instructions est susceptible d'être utilisé à plusieurs occasions dans un ou plusieurs programmes, il est recommandé de l'isoler au sein d'une fonction.\n",
    "Cela présentera les avantages suivants :\n",
    "\n",
    "* en donnant un nom à la fonction et en listant la liste de ses arguments, on explicite la sémantique de l'ensemble d'instructions en question, ses entrées et sorties éventuelles, ce qui rend le code beaucoup plus lisible ;\n",
    "* s'il est nécessaire d'adapter à l'avenir le code pour résoudre un _bug_ ou le rendre plus générique, vous n'aurez à modifier le code qu'à un endroit (dans le corps de la fonction) et non pas à chaque fois que le code est répété.\n",
    "\n",
    "Pour définir une fonction en Python, on utilise le mot-clé `def` :"
   ]
  },
  {
   "cell_type": "code",
   "execution_count": 21,
   "id": "755399b8",
   "metadata": {},
   "outputs": [],
   "source": [
    "def f(x):\n",
    "    y = 5 * x + 2\n",
    "    z = x + y\n",
    "    return z // 2"
   ]
  },
  {
   "cell_type": "markdown",
   "id": "80e612f4",
   "metadata": {},
   "source": [
    "On a ici défini une fonction\n",
    "\n",
    "* dont le nom est `f` ;\n",
    "* qui prend un seul argument, noté `x` ;\n",
    "* qui retourne une valeur, comme indiqué dans la ligne débutant par le mot-clé `return`.\n",
    "\n",
    "Il est possible, en Python, d'écrire des fonctions retournant plusieurs valeurs.\n",
    "Pour ce faire, ces valeurs seront séparées par des virgules dans l'instruction `return` :"
   ]
  },
  {
   "cell_type": "code",
   "execution_count": 22,
   "id": "4c648b4d",
   "metadata": {},
   "outputs": [],
   "source": [
    "def f(x):\n",
    "    y = 5 * x + 2\n",
    "    z = x + y\n",
    "    return z // 2, y"
   ]
  },
  {
   "cell_type": "markdown",
   "id": "2041ca08",
   "metadata": {},
   "source": [
    "Enfin, en l'absence d'instruction `return`, une fonction retournera la valeur `None`.\n",
    "\n",
    "Il est également possible d'utiliser le nom des arguments de la fonction lors de l'appel, pour ne pas risquer de se tromper dans l'ordre des arguments.\n",
    "Par exemple, si l'on a la fonction suivante :"
   ]
  },
  {
   "cell_type": "code",
   "execution_count": 23,
   "id": "5300d282",
   "metadata": {},
   "outputs": [],
   "source": [
    "def affiche_infos_personne(poids, taille):\n",
    "    print(\"Poids: \", poids)\n",
    "    print(\"Taille: \", taille)"
   ]
  },
  {
   "cell_type": "markdown",
   "id": "db12c008",
   "metadata": {},
   "source": [
    "Les trois appels suivants sont équivalents :"
   ]
  },
  {
   "cell_type": "code",
   "execution_count": 24,
   "id": "1c2cbe87",
   "metadata": {},
   "outputs": [
    {
     "name": "stdout",
     "output_type": "stream",
     "text": [
      "Poids:  80\n",
      "Taille:  180\n"
     ]
    }
   ],
   "source": [
    "affiche_infos_personne(80, 180)"
   ]
  },
  {
   "cell_type": "code",
   "execution_count": 25,
   "id": "45eb0a04",
   "metadata": {},
   "outputs": [
    {
     "name": "stdout",
     "output_type": "stream",
     "text": [
      "Poids:  80\n",
      "Taille:  180\n"
     ]
    }
   ],
   "source": [
    "affiche_infos_personne(taille=180, poids=80)"
   ]
  },
  {
   "cell_type": "code",
   "execution_count": 26,
   "id": "4fda23c4",
   "metadata": {},
   "outputs": [
    {
     "name": "stdout",
     "output_type": "stream",
     "text": [
      "Poids:  80\n",
      "Taille:  180\n"
     ]
    }
   ],
   "source": [
    "affiche_infos_personne(poids=80, taille=180)"
   ]
  },
  {
   "cell_type": "markdown",
   "id": "17e6dd30",
   "metadata": {},
   "source": [
    "Notons qu'il est alors possible d'interchanger l'ordre des arguments lors de l'appel d'une fonction si on précise leur nom.\n",
    "Évidemment, pour que cela soit vraiment utile, il est hautement recommandé d'utiliser des **noms d'arguments explicites** lors de la définition de vos fonctions.\n",
    "\n",
    "#### Argument(s) optionnel(s) d'une fonction\n",
    "\n",
    "Certains arguments d'une fonction peuvent avoir une valeur par défaut, décidée par la personne qui a écrit la fonction.\n",
    "Dans ce cas, si l'utilisateur ne spécifie pas explicitement de valeur pour ces arguments lors de l'appel à la fonction, c'est la valeur par défaut qui sera utilisée dans la fonction, dans le cas contraire, la valeur spécifiée sera utilisée.\n",
    "\n",
    "Par exemple, la fonction `print` dispose de plusieurs arguments facultatifs, comme le caractère par lequel terminer l'affichage (par défaut, un retour à la ligne, `\"\\n\"`) :"
   ]
  },
  {
   "cell_type": "code",
   "execution_count": 27,
   "id": "9286e129",
   "metadata": {},
   "outputs": [
    {
     "name": "stdout",
     "output_type": "stream",
     "text": [
      "La vie est belle\n"
     ]
    }
   ],
   "source": [
    "print(\"La vie est belle\")"
   ]
  },
  {
   "cell_type": "code",
   "execution_count": 28,
   "id": "8bd40e85",
   "metadata": {},
   "outputs": [
    {
     "name": "stdout",
     "output_type": "stream",
     "text": [
      "Life is beautiful\n"
     ]
    }
   ],
   "source": [
    "print(\"Life is beautiful\")"
   ]
  },
  {
   "cell_type": "code",
   "execution_count": 29,
   "id": "73c633a2",
   "metadata": {},
   "outputs": [
    {
     "name": "stdout",
     "output_type": "stream",
     "text": [
      "La vie est belle--"
     ]
    }
   ],
   "source": [
    "print(\"La vie est belle\", end=\"--\")"
   ]
  },
  {
   "cell_type": "code",
   "execution_count": 30,
   "id": "e5835efa",
   "metadata": {},
   "outputs": [
    {
     "name": "stdout",
     "output_type": "stream",
     "text": [
      "Life is beautiful*-*"
     ]
    }
   ],
   "source": [
    "print(\"Life is beautiful\", end=\"*-*\")"
   ]
  },
  {
   "cell_type": "markdown",
   "id": "a1e66d05",
   "metadata": {},
   "source": [
    "Lorsque vous définissez une fonction, la syntaxe à utiliser pour donner une valeur par défaut à un argument est la suivante :"
   ]
  },
  {
   "cell_type": "code",
   "execution_count": 31,
   "id": "8f55c7e4",
   "metadata": {},
   "outputs": [],
   "source": [
    "def f(x, y=0):  # La valeur par défaut pour y est 0\n",
    "    return x + 5 * y"
   ]
  },
  {
   "cell_type": "markdown",
   "id": "7d0fb471",
   "metadata": {},
   "source": [
    "Attention toutefois, les arguments facultatifs (_ie._ qui disposent d'une valeur par défaut) doivent impérativement se trouver, dans la liste des arguments, après le dernier argument obligatoire.\n",
    "Ainsi, la définition de fonction suivante **n'est pas correcte** :\n",
    "\n",
    "```\n",
    "def f(x, y=0, z):\n",
    "    return x - 2 * y + z\n",
    "```\n",
    "\n",
    "(ex2.3)=\n",
    "### Exercices \n",
    "\n",
    "```{admonition} Exercice 2.3 : Triangle équilatéral\n",
    "Écrivez une fonction en Python qui prenne en argument une longueur `long` et retourne l'aire du triangle équilatéral de côté `long`.\n",
    "```\n",
    "\n",
    "<div id=\"pad_2.3\" class=\"pad\"></div>\n",
    "<script>\n",
    "    Pythonpad('pad_2.3', \n",
    "              {'id': '2.3', \n",
    "               'title': 'Testez votre solution ici', \n",
    "               'src': '# Complétez ce code'})\n",
    "</script>\n",
    "\n",
    "````{admonition} Solution\n",
    ":class: tip, dropdown\n",
    "\n",
    "```python\n",
    "import math\n",
    "\n",
    "def aire_equi(long):\n",
    "    base = long\n",
    "    hauteur = long * math.sin(math.pi / 3)\n",
    "    return base * hauteur / 2\n",
    "\n",
    "print(aire_equi(1.))\n",
    "```\n",
    "````\n",
    "\n",
    "```{admonition} Exercice 2.4 : Suite récurrente\n",
    ":name: ex2.4\n",
    "Écrivez une fonction en Python qui affiche tous les termes plus petits que 1000 de la suite $(u_n)$ définie comme :\n",
    "\n",
    "$$\n",
    "\\begin{array}{rcc}u_0 & = & 2 \\\\\n",
    "\\forall n \\geq 1, \\, u_n & = & u_{n-1}^2\\end{array}\n",
    "$$\n",
    "```\n",
    "\n",
    "<div id=\"pad_2.4\" class=\"pad\"></div>\n",
    "<script>\n",
    "    Pythonpad('pad_2.4', \n",
    "              {'id': '2.4', \n",
    "               'title': 'Testez votre solution ici', \n",
    "               'src': '# Complétez ce code'})\n",
    "</script>\n",
    "\n",
    "````{admonition} Solution\n",
    ":class: tip, dropdown\n",
    "\n",
    "* Version itérative (avec une boucle)\n",
    "\n",
    "```python\n",
    "def affiche_u_n():\n",
    "    u = 2\n",
    "    while u < 1000:\n",
    "        print(u)\n",
    "        u = u ** 2\n",
    "\n",
    "affiche_u_n()\n",
    "```\n",
    "\n",
    "* Version récursive (avec des appels de fonction)\n",
    "\n",
    "```python\n",
    "def affiche_u_n(u=2):\n",
    "    if u < 1000:\n",
    "        print(u)\n",
    "        affiche_u_n(u ** 2)\n",
    "\n",
    "affiche_u_n()\n",
    "```\n",
    "\n",
    "Ici, on a fixé une valeur par défaut à l'argument `u` correspondant à l'initialisation de la suite, pour que l'appel initial se fasse comme pour la version itérative de la fonction (`affiche_u_n()`).\n",
    "````\n",
    "\n",
    "## Les modules en Python\n",
    "\n",
    "Jusqu'à présent, nous avons utilisé des fonctions (comme `print`) issues de la librairie standard de Python.\n",
    "Celles-ci sont donc chargées par défaut lorsque l'on exécute un script Python.\n",
    "Toutefois, il peut être nécessaire d'avoir accès à d'autres fonctions et/ou variables, définies dans d'autres librairies.\n",
    "Pour cela, il sera utile de charger le **module** correspondant.\n",
    "\n",
    "Prenons l'exemple du module `math` qui propose un certain nombre de fonctions mathématiques usuelles (`sin` pour le calcul du sinus d'un angle, `sqrt` pour la racine carrée d'un nombre, _etc._) ainsi que des constantes mathématiques très utiles comme `pi`.\n",
    "Le code suivant charge le module en mémoire puis fait appel à certaines de ses fonctions et/ou variables :"
   ]
  },
  {
   "cell_type": "code",
   "execution_count": 32,
   "id": "ecb71fa9",
   "metadata": {},
   "outputs": [
    {
     "name": "stdout",
     "output_type": "stream",
     "text": [
      "0.0\n"
     ]
    }
   ],
   "source": [
    "import math\n",
    "\n",
    "print(math.sin(0))"
   ]
  },
  {
   "cell_type": "code",
   "execution_count": 33,
   "id": "ef59f658",
   "metadata": {},
   "outputs": [
    {
     "name": "stdout",
     "output_type": "stream",
     "text": [
      "3.141592653589793\n"
     ]
    }
   ],
   "source": [
    "print(math.pi)"
   ]
  },
  {
   "cell_type": "code",
   "execution_count": 34,
   "id": "96d038e0",
   "metadata": {},
   "outputs": [
    {
     "name": "stdout",
     "output_type": "stream",
     "text": [
      "1.0\n"
     ]
    }
   ],
   "source": [
    "print(math.cos(2 * math.pi))"
   ]
  },
  {
   "cell_type": "code",
   "execution_count": 35,
   "id": "90eb7816",
   "metadata": {},
   "outputs": [
    {
     "name": "stdout",
     "output_type": "stream",
     "text": [
      "1.4142135623730951\n"
     ]
    }
   ],
   "source": [
    "print(math.sqrt(2))"
   ]
  },
  {
   "cell_type": "markdown",
   "id": "292bc7b8",
   "metadata": {},
   "source": [
    "Vous remarquerez ici que l'instruction d'import du module se trouve nécessairement avant les instructions faisant référence aux fonctions et variables de ce module, faute de quoi ces dernières ne seraient pas définies.\n",
    "De manière générale, vous prendrez la bonne habitude d'écrire les instructions d'import en tout début de vos fichiers Python, pour éviter tout souci.\n",
    "\n",
    "## Liste des exercices de ce chapitre\n",
    "\n",
    "1. [Température de l'eau](ex2.1)\n",
    "2. [Nombres impairs](ex2.2)\n",
    "3. [Triangle équilatéral](ex2.3)\n",
    "4. [Suite récurrente](ex2.4)"
   ]
  }
 ],
 "metadata": {
  "jupytext": {
   "cell_metadata_filter": "-all",
   "formats": "md:myst",
   "text_representation": {
    "extension": ".md",
    "format_name": "myst",
    "format_version": "0.8",
    "jupytext_version": "1.5.0"
   }
  },
  "kernelspec": {
   "display_name": "Python 3",
   "language": "python",
   "name": "python3"
  },
  "language_info": {
   "codemirror_mode": {
    "name": "ipython",
    "version": 3
   },
   "file_extension": ".py",
   "mimetype": "text/x-python",
   "name": "python",
   "nbconvert_exporter": "python",
   "pygments_lexer": "ipython3",
   "version": "3.7.13"
  },
  "source_map": [
   14,
   47,
   51,
   53,
   57,
   63,
   67,
   70,
   91,
   97,
   99,
   114,
   119,
   122,
   126,
   130,
   151,
   153,
   157,
   159,
   187,
   189,
   194,
   196,
   213,
   218,
   226,
   233,
   240,
   251,
   310,
   315,
   347,
   351,
   358,
   361,
   418,
   420,
   426,
   433,
   447,
   452,
   463,
   468,
   475,
   479,
   483,
   487,
   491,
   493,
   505,
   509,
   513,
   517,
   519,
   523,
   526,
   623,
   629,
   633,
   637,
   639
  ]
 },
 "nbformat": 4,
 "nbformat_minor": 5
}