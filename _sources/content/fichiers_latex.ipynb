{
 "cells": [
  {
   "cell_type": "markdown",
   "metadata": {},
   "source": [
    "# Interaction avec des fichiers\n",
    "\n",
    "Dans ce chapitre, nous allons présenter des outils de manipulation de fichiers en Python.\n",
    "Un fichier est une unité logique d'informations placée sur une mémoire secondaire (un disque dur, une clef USB, _etc._).\n",
    "\n",
    "Quand vous consultez une dossier à l'aide de votre gestionnaire de fichiers, ce dossier peut comprendre plusieurs fichiers.\n",
    "En accédant depuis un programme Python au contenu de fichiers de données, on va pouvoir alimenter le programme avec des données provenant d'un fichier de données indépendant du programme (et non plus seulement des données écrites en dur dans le programmes ou saisies par l'utilisateur directement).\n",
    "\n",
    "## Manipulation de fichiers en Python avec le module `os`\n",
    "\n",
    "Lorsque l'on lit ou écrit des fichiers, il est fréquent de vouloir répéter la même opération sur plusieurs fichiers, par exemple sur tous les fichiers avec l'extension `\".txt\"` d'un répertoire donné.\n",
    "Pour ce faire, on peut utiliser en Python le module `os` qui propose un certain nombre de fonctions standard de manipulation de fichiers.\n",
    "On utilisera notamment la fonction `listdir` de ce module qui permet de lister l'ensemble des fichiers et sous-répertoires contenus dans un répertoire donné :"
   ]
  },
  {
   "cell_type": "code",
   "execution_count": 1,
   "metadata": {},
   "outputs": [
    {
     "name": "stdout",
     "output_type": "stream",
     "text": [
      "machin.csv\n",
      "truc.txt\n"
     ]
    }
   ],
   "source": [
    "import os\n",
    "\n",
    "for nom_fichier in os.listdir(\"donnees\"):\n",
    "    print(nom_fichier)"
   ]
  },
  {
   "cell_type": "markdown",
   "metadata": {},
   "source": [
    "La fonction `listdir` peut prendre indifféremment un chemin absolu ou relatif (dans notre exemple, il s'agit d'un chemin relatif qui pointe sur le sous-répertoire `\"donnees\"` contenu dans le répertoire de travail courant du programme).\n",
    "\n",
    "Si vous exécutez le code ci-dessus et que votre répertoire `\"donnees\"` n'est pas vide, vous remarquerez que le nom du fichier stocké dans la variable `nom_fichier` ne contient pas le chemin vers ce fichier.\n",
    "Or, si l'on souhaite ensuite ouvrir ce fichier (que ce soit en lecture ou en écriture), il faudra bien spécifier ce chemin.\n",
    "Pour cela, on utilisera la syntaxe suivante :\n",
    "\n",
    "```\n",
    "import os\n",
    "\n",
    "repertoire = \"donnees\"\n",
    "for nom_fichier in os.listdir(repertoire):\n",
    "    nom_complet_fichier = os.path.join(repertoire, nom_fichier)\n",
    "    print(nom_fichier)\n",
    "    print(nom_complet_fichier)\n",
    "    # Ouverture et traitement du fichier dont le nom est contenu dans\n",
    "    # nom_complet_fichier\n",
    "```\n",
    "\n",
    "La fonction `path.join` du module `os` permet d'obtenir le chemin complet vers le fichier à partir du nom du répertoire dans lequel il se trouve et du nom du fichier isolé.\n",
    "Il est préférable d'utiliser cette fonction plutôt que d'effectuer la concaténation des chaînes de caractères correspondantes car la forme des chemins complets dépend du système d'exploitation utilisé, ce que gère intelligemment `path.join`.\n",
    "\n",
    "## Lecture et écriture de fichiers textuels\n",
    "\n",
    "### Qu'est-ce qu'un fichier textuel ?\n",
    "\n",
    "Dans ce qui suit, nous traiterons uniquement de la lecture de fichiers textuels.\n",
    "Pour faire simple, nous appellerons dans ce qui suit \"fichier textuel\" tout fichier dont le contenu est lisible en clair en ouvrant le fichier avec un éditeur de fichiers bruts (comme Notepad++ sous windows, ou gedit sous linux).\n",
    "Pour se faire une idée, nous pouvons (sous unix) utiliser la commande `head` qui permet d'afficher le début d'un fichier :"
   ]
  },
  {
   "cell_type": "code",
   "execution_count": 2,
   "metadata": {},
   "outputs": [
    {
     "name": "stdout",
     "output_type": "stream",
     "text": [
      "NOM;PRENOM;AGE\r\n",
      "Lemarchand;John;23\r\n",
      "Trias;Anne;\r\n"
     ]
    }
   ],
   "source": [
    "!head entete.csv"
   ]
  },
  {
   "cell_type": "markdown",
   "metadata": {},
   "source": [
    "Et si l'on avait cherché à lire le contenu d'un fichier non textuel, on aurait obtenu des caractères spéciaux ne pouvant être interprétés comme du texte.\n",
    "\n",
    "Dans ce chapitre, nous ne nous intéressons donc pas à ce dernier type de fichiers mais nous nous concentrerons sur la lecture/écriture de fichiers textuels par un programme Python.\n",
    "\n",
    "### Encodage des fichiers\n",
    "\n",
    "Un premier élément qu'il est nécessaire de maîtriser pour lire ou écrire des fichiers textuels est la notion d'encodage.\n",
    "Il faut savoir qu'il existe plusieurs façons d'encoder un texte.\n",
    "Nous nous focaliserons ici sur les deux encodages que vous êtes les plus susceptibles de rencontrer (mais sachez qu'il en existe bien d'autres) :\n",
    "\n",
    "* l'encodage Unicode 8 bits (UTF-8), dont le code en python est `\"utf-8\"` ;\n",
    "* l'encodage Latin-1 (ISO-8859-1) dont le code en python est `\"iso-8859-1\"`.\n",
    "\n",
    "La principale différence entre ces deux encodage réside dans leur façon de coder les accents.\n",
    "Ainsi, si le texte que vous lisez/écrivez ne contient aucun accent ou caractère spécial, il est probable que la question de l'encodage ne soit pas problématique dans votre cas.\n",
    "Au contraire, s'il est possible que vous utilisiez de tels caractères, il faudra bien faire attention à l'encodage utilisé, que vous spécifierez à l'ouverture du fichier.\n",
    "Si votre programme doit lire un fichier, il faudra donc vous assurer de l'encodage associé à ce fichier (en l'ouvrant par exemple avec un éditeur de texte qui soit suffisamment avancé pour vous fournir cette information).\n",
    "Si vous écrivez un programme qui écrit un fichier, il faudra vous poser la question de l'utilisation future qui sera faite de ce fichier : s'il est amené à être ouvert par un autre utilisateur, il serait pertinent de vous demander quel encodage sera le moins problématique pour cet utilisateur, par exemple.\n",
    "\n",
    "Si vous n'avez pas de contrainte extérieure pour ce qui est de l'encodage, vous utiliserez l'encodage UTF-8 par défaut.\n",
    "\n",
    "### Lecture de fichiers textuels\n",
    "\n",
    "Ce que nous appelons lecture de fichiers textuels en Python consiste à copier le contenu d'un fichier dans une (ou plusieurs) chaîne(s) de caractères.\n",
    "Cela implique deux étapes en Python :\n",
    "\n",
    "1. ouvrir le fichier en lecture ;\n",
    "2. parcourir le contenu du fichier.\n",
    "\n",
    "La première étape d'ouverture du fichier en lecture est commune à tous les types de fichiers textuels.\n",
    "En supposant que le nom du fichier à ouvrir soit stocké sous forme de chaîne de caractères dans la variable `nom_fichier`, le code suivant ouvre un fichier en lecture avec l'encodage UTF-8 et stocke dans la variable `fp` un pointeur sur l'endroit où nous sommes rendus dans notre lecture du fichier (pour l'instant, le début du fichier) :\n",
    "\n",
    "```\n",
    "fp = open(nom_fichier, \"r\", encoding=\"utf-8\")\n",
    "```\n",
    "\n",
    "Le second argument (`\"r\"`) indique que le fichier doit être ouvert en mode _read_, donc en lecture.\n",
    "\n",
    "#### Fichiers textuels génériques\n",
    "\n",
    "Nous appelons ici \"fichier textuel générique\" un fichier dont le contenu n'a pas de structure particulière (par opposition aux fichiers CSV ou JSON présentés plus bas, par exemple).\n",
    "C'est le cas par exemple de fichiers contenant du texte libre.\n",
    "Ces fichiers, une fois ouverts en lecture, peuvent être lus ligne par ligne à l'aide de la boucle suivante :\n",
    "\n",
    "```\n",
    "fp = open(nom_fichier, \"r\", encoding=\"utf-8\")\n",
    "for ligne in fp.readlines():\n",
    "    print(ligne)\n",
    "```\n",
    "\n",
    "Ici, la variable `ligne`, de type chaîne de caractères, contiendra successivement le texte de chacune des lignes du fichier considéré.\n",
    "\n",
    "#### Fichiers _Comma-Separated Values_ (CSV)\n",
    "\n",
    "Les fichiers _Comma-Separated Values_ (CSV) permettent de stocker des données organisées sous la forme de tableaux dans des fichiers textuels.\n",
    "À l'origine, ces fichiers étaient organisés par ligne et au sein de chaque ligne les cellules du tableau (correspondant aux différentes colonnes) étaient séparées par des virgules (d'où le nom de ce type de fichiers).\n",
    "Aujourd'hui, la définition de ce format ([lien](https://tools.ietf.org/html/rfc4180)) est plus générale que cela et différents délimiteurs sont acceptés.\n",
    "Pour manipuler ces fichiers, il existe en Python un module dédié, appelé `csv`.\n",
    "Ce module contient notamment une fonction `reader` permettant de simplifier la lecture de fichiers CSV.\n",
    "La syntaxe d'utilisation de cette fonction est la suivante (vous remarquerez la présence de l'attribut `delimiter`) :"
   ]
  },
  {
   "cell_type": "code",
   "execution_count": 3,
   "metadata": {},
   "outputs": [
    {
     "name": "stdout",
     "output_type": "stream",
     "text": [
      "1\n",
      "2\n",
      "3\n",
      "4\n",
      "5\n",
      "Fin de ligne\n",
      "a\n",
      "b\n",
      "c\n",
      "d\n",
      "e\n",
      "Fin de ligne\n",
      "xx\n",
      "xx\n",
      "xx\n",
      "xx\n",
      "xx\n",
      "Fin de ligne\n",
      "0.4\n",
      "0.5\n",
      "0.7\n",
      "0.8\n",
      "0.9\n",
      "Fin de ligne\n"
     ]
    }
   ],
   "source": [
    "import csv\n",
    "\n",
    "nom_fichier = \"simple.csv\"\n",
    "\n",
    "# Contenu supposé du fichier :\n",
    "# 1;2;3;4;5\n",
    "# a;b;c;d;e\n",
    "# xx;xx;xx;xx;xx\n",
    "# 0.4;0.5;0.7;0.8;0.9\n",
    "\n",
    "fp = open(nom_fichier, \"r\", encoding=\"utf-8\")\n",
    "for ligne in csv.reader(fp, delimiter=\";\"):\n",
    "    for cellule in ligne:\n",
    "        print(cellule)\n",
    "    print(\"Fin de ligne\")"
   ]
  },
  {
   "cell_type": "markdown",
   "metadata": {},
   "source": [
    "On remarque ici que, contrairement au cas de fichiers textuels génériques, la variable de boucle `ligne` n'est plus une chaîne de caractères mais une liste de chaînes de caractères.\n",
    "Les éléments de cette liste sont les cellules du tableau représenté par le fichier CSV.\n",
    "\n",
    "##### Cas des fichiers à en-tête\n",
    "\n",
    "Souvent, les fichiers CSV comprennent une première ligne d'en-tête, comme dans l'exemple suivant :\n",
    "\n",
    "```csv\n",
    "NOM;PRENOM;AGE\n",
    "Lemarchand;John;23\n",
    "Trias;Anne;\n",
    "```\n",
    "\n",
    "Si l'on souhaite que, lors de la lecture du fichier CSV, chaque ligne soit représentée par un dictionnaire dont les clés sont les noms de colonnes (lus dans l'en-tête) et les valeurs associées sont celles lues dans la ligne courante, on utilisera `csv.DictReader` au lieu de `csv.reader` :"
   ]
  },
  {
   "cell_type": "code",
   "execution_count": 4,
   "metadata": {},
   "outputs": [
    {
     "name": "stdout",
     "output_type": "stream",
     "text": [
      "NOM Lemarchand\n",
      "PRENOM John\n",
      "AGE 23\n",
      "--Fin de ligne--\n",
      "NOM Trias\n",
      "PRENOM Anne\n",
      "AGE \n",
      "--Fin de ligne--\n"
     ]
    }
   ],
   "source": [
    "import csv\n",
    "\n",
    "nom_fichier = \"entete.csv\"\n",
    "\n",
    "# Contenu supposé du fichier :\n",
    "# NOM;PRENOM;AGE\n",
    "# Lemarchand;John;23\n",
    "# Trias;Anne;\n",
    "\n",
    "fp = open(nom_fichier, \"r\", encoding=\"utf-8\")\n",
    "for ligne in csv.DictReader(fp, delimiter=\";\"):\n",
    "    for cle, valeur in ligne.items():\n",
    "        print(cle, valeur)\n",
    "    print(\"--Fin de ligne--\")"
   ]
  },
  {
   "cell_type": "markdown",
   "metadata": {},
   "source": [
    "##### Un peu de magie...\n",
    "\n",
    "Dans certains cas, on ne sait pas à l'avance quel délimiteur est utilisé pour le fichier CSV à lire. On peut demander au module CSV de deviner le _dialecte_[^dialect] d'un fichier en lisant le début de ce fichier.\n",
    "Dans ce cas, la lecture du fichier se fera en 4 étapes :\n",
    "\n",
    "1. Ouverture du fichier en lecture ;\n",
    "2. Lecture des _n_ premiers caractères du fichier pour tenter de deviner son dialecte ;\n",
    "3. \"Rembobinage\" du fichier pour recommencer la lecture au début ;\n",
    "4. Lecture du fichier en utilisant le dialecte détecté à l'étape 2.\n",
    "\n",
    "Le choix du paramètre _n_ doit être un compromis : il faut lire suffisamment de caractères pour que la détection de dialecte soit fiable, tout en sachant que lire beaucoup de caractères prendra du temps.\n",
    "En pratique, lire les 1000 premiers caractères d'un fichier est souvent suffisant pour déterminer son dialecte.\n",
    "\n",
    "On obtient alors une syntaxe du type :"
   ]
  },
  {
   "cell_type": "code",
   "execution_count": 5,
   "metadata": {},
   "outputs": [
    {
     "name": "stdout",
     "output_type": "stream",
     "text": [
      "1\n",
      "2\n",
      "3\n",
      "4\n",
      "5\n",
      "Fin de ligne\n",
      "a\n",
      "b\n",
      "c\n",
      "d\n",
      "e\n",
      "Fin de ligne\n",
      "xx\n",
      "xx\n",
      "xx\n",
      "xx\n",
      "xx\n",
      "Fin de ligne\n",
      "0.4\n",
      "0.5\n",
      "0.7\n",
      "0.8\n",
      "0.9\n",
      "Fin de ligne\n"
     ]
    }
   ],
   "source": [
    "import csv\n",
    "\n",
    "nom_fichier = \"simple.csv\"\n",
    "\n",
    "# Contenu supposé du fichier :\n",
    "# 1,2,3\n",
    "# a,b\n",
    "\n",
    "fp = open(nom_fichier, \"r\", encoding=\"utf-8\")  # Étape 1.\n",
    "dialecte = csv.Sniffer().sniff(fp.read(1000))  # Étape 2.\n",
    "fp.seek(0)                                     # Étape 3. À ne pas oublier !\n",
    "for ligne in csv.reader(fp, dialect=dialecte): # Étape 4.\n",
    "    for cellule in ligne:\n",
    "        print(cellule)\n",
    "    print(\"Fin de ligne\")"
   ]
  },
  {
   "cell_type": "markdown",
   "metadata": {},
   "source": [
    "[^dialect]: Le _dialecte_ d'un fichier CSV définit, en fait, bien plus que le caractère de séparation des cellules, comme décrit dans [ce document](https://tools.ietf.org/html/rfc4180).\n",
    "\n",
    "#### Fichiers _JavaScript Object Notation_ (JSON)\n",
    "\n",
    "Les fichiers _JavaScript Object Notation_ (JSON) permettent de stocker des données structurées (par exemple avec une organisation hiérarchique). Un document JSON s'apparente à un dictionnaire en Python (à la nuance près que les clés d'un document JSON sont forcément des chaînes de caractères).\n",
    "Voici un exemple de document JSON :\n",
    "```json\n",
    "{\n",
    "    \"num_etudiant\": \"21300000\",\n",
    "    \"notes\": [12, 5, 14],\n",
    "    \"date_de_naissance\": {\n",
    "        \"jour\": 1,\n",
    "        \"mois\": 1,\n",
    "        \"annee\": 1995\n",
    "    }\n",
    "}\n",
    "```\n",
    "\n",
    "En Python, pour lire de tels fichiers, on dispose du module `json` qui contient une fonction `load` :"
   ]
  },
  {
   "cell_type": "code",
   "execution_count": 6,
   "metadata": {},
   "outputs": [
    {
     "name": "stdout",
     "output_type": "stream",
     "text": [
      "{'num_etudiant': '21300000', 'notes': [12, 5, 14], 'date_de_naissance': {'jour': 1, 'mois': 1, 'annee': 1995}}\n"
     ]
    }
   ],
   "source": [
    "import json\n",
    "\n",
    "nom_fichier = \"simple.json\"\n",
    "\n",
    "# Contenu supposé du fichier :\n",
    "# {\n",
    "#    \"num_etudiant\": \"21300000\",\n",
    "#    \"notes\": [12, 5, 14],\n",
    "#    \"date_de_naissance\": {\n",
    "#        \"jour\": 1,\n",
    "#        \"mois\": 1,\n",
    "#        \"annee\": 1995\n",
    "#    }\n",
    "# }\n",
    "\n",
    "fp = open(nom_fichier, \"r\", encoding=\"utf-8\")\n",
    "d = json.load(fp)\n",
    "print(d)"
   ]
  },
  {
   "cell_type": "markdown",
   "metadata": {},
   "source": [
    "Il est à noter qu'un fichier JSON peut également contenir une liste de dictionnaires, comme dans l'exemple suivant :\n",
    "\n",
    "```json\n",
    "[{\n",
    "    \"num_etudiant\": \"21300000\",\n",
    "    \"notes\": [12, 5, 14],\n",
    "    \"date_de_naissance\": {\n",
    "        \"jour\": 1,\n",
    "        \"mois\": 1,\n",
    "        \"annee\": 1995\n",
    "    }\n",
    "},\n",
    "{\n",
    "    \"num_etudiant\": \"21300001\",\n",
    "    \"notes\": [14],\n",
    "    \"date_de_naissance\": {\n",
    "        \"jour\": 1,\n",
    "        \"mois\": 6,\n",
    "        \"annee\": 1989\n",
    "    }\n",
    "}]\n",
    "```\n",
    "\n",
    "Dans ce cas, `json.load` retournera une liste de dictionnaires au lieu d'un dictionnaire, bien évidemment.\n",
    "\n",
    "Enfin, si l'on a stocké dans une variable une chaîne de caractères dont le contenu correspond à un document JSON, on peut également la transformer en dictionnaire (ou en liste de dictionnaires) à l'aide de la fonction `json.loads` (attention au \"s\" final) :"
   ]
  },
  {
   "cell_type": "code",
   "execution_count": 7,
   "metadata": {},
   "outputs": [
    {
     "name": "stdout",
     "output_type": "stream",
     "text": [
      "{'num_etudiant': '21300000', 'notes': [12, 5, 14]}\n"
     ]
    }
   ],
   "source": [
    "ch = '{\"num_etudiant\": \"21300000\",  \"notes\": [12, 5, 14]}'\n",
    "d = json.loads(ch)  # loads : load (from) string\n",
    "print(d)"
   ]
  },
  {
   "cell_type": "markdown",
   "metadata": {},
   "source": [
    "### Écriture de fichiers textuels\n",
    "\n",
    "Ce que nous appellons écriture de fichiers textuels en Python consiste à copier le contenu d'une (ou plusieurs) chaîne(s) de caractères dans un fichier.\n",
    "Cela implique trois étapes en Python :\n",
    "\n",
    "1. ouvrir le fichier en écriture ;\n",
    "2. ajouter du contenu dans le fichier ;\n",
    "3. fermer le fichier.\n",
    "\n",
    "La première étape d'ouverture du fichier en écriture est commune à tous les types de fichiers textuels.\n",
    "En supposant que le nom du fichier à ouvrir est stocké sous forme de chaîne de caractères dans la variable `nom_fichier`, le code suivant ouvre un fichier en écriture avec l'encodage UTF-8 et stocke dans la variable `fp` un pointeur sur l'endroit où nous sommes rendus dans notre écriture du fichier (pour l'instant, le début du fichier) :\n",
    "\n",
    "```\n",
    "fp = open(nom_fichier, \"w\", encoding=\"utf-8\", newline=\"\\n\")\n",
    "```\n",
    "\n",
    "Le second argument (`\"w\"`) indique que le fichier doit être ouvert en mode _write_, donc en écriture.\n",
    "\n",
    "Si le fichier en question existait déjà, son contenu est tout d'abord écrasé et on repart d'un fichier vide.\n",
    "Si l'on souhaite au contraire ajouter du texte à la fin d'un fichier existant, on utilisera le mode _append_, symbolisé par la lettre `\"a\"` :\n",
    "\n",
    "```\n",
    "fp = open(nom_fichier, \"a\", encoding=\"utf-8\", newline=\"\\n\")\n",
    "```\n",
    "\n",
    "Une fois les instructions d'écriture exécutées (voir plus bas), on doit fermer le fichier pour s'assurer que l'écriture sera effective :\n",
    "\n",
    "```\n",
    "fp.close()\n",
    "```\n",
    "\n",
    "Il est à noter que l'on peut, dans certains cas, se dispenser de fermer explicitement le fichier.\n",
    "Par exemple, si notre code est inclus dans un script Python, dès la fin de l'exécution du script, tous les fichiers ouverts en écriture par le script sont automatiquement fermés.\n",
    "\n",
    "#### Fichiers textuels génériques\n",
    "\n",
    "Pour ajouter du contenu à un fichier pointé par la variable `fp`, il suffit ensuite d'utiliser la méthode `write` :\n",
    "\n",
    "```\n",
    "fp.write(\"La vie est belle\\n\")\n",
    "```\n",
    "\n",
    "Notez que, contrairement à la fonction `print` à laquelle vous êtes habitué, la méthode `write` ne rajoute pas de caractère de fin de ligne après la chaîne de caractères passée en argument, il faut donc inclure ce caractère `\"\\n\"` à la fin de la chaîne de caractères passée en argument, si vous souhaitez inclure un retour à la ligne.\n",
    "\n",
    "#### Fichiers CSV\n",
    "\n",
    "Le module `csv` déjà cité plus haut contient également une fonction `writer` permettant de simplifier l'écriture de fichiers CSV.\n",
    "La syntaxe d'utilisation de cette fonction est la suivante :"
   ]
  },
  {
   "cell_type": "code",
   "execution_count": 8,
   "metadata": {},
   "outputs": [],
   "source": [
    "import csv\n",
    "\n",
    "nom_fichier = \"ecriture.csv\"\n",
    "\n",
    "fp = open(nom_fichier, \"w\", encoding=\"utf-8\", newline=\"\\n\")\n",
    "csvfp = csv.writer(fp, delimiter=\";\")\n",
    "csvfp.writerow([1, 5, 7])\n",
    "csvfp.writerow([2, 3])\n",
    "fp.close()\n",
    "# Après cela, le fichier contiendra les lignes suivantes :\n",
    "# 1;5;7\n",
    "# 2;3"
   ]
  },
  {
   "cell_type": "markdown",
   "metadata": {},
   "source": [
    "La méthode `writerow` prend donc une liste en argument et écrit dans le fichier les éléments de cette liste, séparés par le délimiteur `\";\"` spécifié lors de l'appel à la fonction `writer`.\n",
    "Le retour à la ligne est écrit directement par la méthode `writerow`, vous n'avez pas à vous en occuper.\n",
    "\n",
    "#### Fichiers JSON\n",
    "\n",
    "Le module `json` déjà cité plus haut contient également une fonction `dump` permettant d'écrire le contenu d'un dictionnaire (ou d'une liste de dictionnaires) dans un fichier JSON.\n",
    "La syntaxe d'utilisation de cette fonction est la suivante :"
   ]
  },
  {
   "cell_type": "code",
   "execution_count": 9,
   "metadata": {},
   "outputs": [],
   "source": [
    "import json\n",
    "\n",
    "nom_fichier = \"ecriture.json\"\n",
    "\n",
    "liste = [\n",
    "    {\"a\": 5},\n",
    "    {\"b\": 3, \"a\": 7}\n",
    "]\n",
    "\n",
    "fp = open(nom_fichier, \"w\", encoding=\"utf-8\", newline=\"\\n\")\n",
    "json.dump(liste, fp)\n",
    "fp.close()\n",
    "# Après cela, le fichier contiendra la ligne suivante :\n",
    "# [{\"a\": 5}, {\"b\": 3, \"a\": 7}]"
   ]
  },
  {
   "cell_type": "markdown",
   "metadata": {},
   "source": [
    "Vous pouvez vous référer à [la documentation de cette fonction](https://docs.python.org/fr/3/library/json.html#basic-usage) pour maîtriser plus finement la mise en forme du contenu du fichier de sortie.\n",
    "\n",
    "## Bonus : utilisation de `with`\n",
    "\n",
    "Il existe en Python un moyen très efficace de maîtriser la durée de vie d'une variable : il s'agit de la directive `with`, dont la syntaxe est la suivante :\n",
    "\n",
    "```\n",
    "with EXPRESSION as VARIABLE:\n",
    "    BLOC_DE_CODE\n",
    "```\n",
    "\n",
    "Le code ci-dessus signifie que l'on va créer une variable `VARIABLE` qui va stocker la valeur de retour de `EXPRESSION` ([ceci n'est pas tout à fait exact](https://docs.python.org/2.5/whatsnew/pep-343.html), mais dans l'exemple qui nous intéresse, cela revient au même), puis le code situé dans `BLOC_DE_CODE` sera exécuté et, à la fin de ce bloc de code, `VARIABLE` sera détruite.\n",
    "\n",
    "Cette syntaxe peut s'avérer fort utile lorsque l'on manipule des fichiers, parce que les pointeurs de fichiers, lorsqu'ils sont détruits, ferment automatiquement le fichier en question, et il n'est donc pas nécessaire de faire appel à la méthode `.close()` explicitement.\n",
    "\n",
    "On pourra donc écrire :"
   ]
  },
  {
   "cell_type": "code",
   "execution_count": 10,
   "metadata": {},
   "outputs": [
    {
     "name": "stdout",
     "output_type": "stream",
     "text": [
      "1;2;3;4;5\n",
      "\n",
      "a;b;c;d;e\n",
      "\n",
      "xx;xx;xx;xx;xx\n",
      "\n",
      "0.4;0.5;0.7;0.8;0.9\n",
      "\n"
     ]
    }
   ],
   "source": [
    "with open(\"simple.csv\", \"r\") as fp:\n",
    "    for texte in fp.readlines():\n",
    "        print(texte)"
   ]
  },
  {
   "cell_type": "markdown",
   "metadata": {},
   "source": [
    "et le fichier sera tout de même fermé correctement dès que l'on sortira du bloc `with`.\n",
    "\n",
    "## Exercices\n",
    "\n",
    "```{admonition} **Exercice 7.1**\n",
    "Écrivez une fonction qui affiche, pour chaque fichier d'extension `\".txt\"` d'un répertoire passé en argument, le nom du fichier ainsi que son nombre de lignes.\n",
    "\n",
    "[{ref}`Corrigé <ex7.1_sol>`]\n",
    "```\n",
    "\n",
    "```{admonition} **Exercice 7.2**\n",
    "Écrivez une fonction qui retourne le nombre de fichiers présents dans un répertoire dont le nom est passé en argument.\n",
    "Vous pourrez vous aider pour cela de la documentation du sous-module `path` du module `os` ([lien](https://docs.python.org/3.5/library/os.path.html)).\n",
    "\n",
    "[{ref}`Corrigé <ex7.2_sol>`]\n",
    "```"
   ]
  }
 ],
 "metadata": {
  "jupytext": {
   "cell_metadata_filter": "-all",
   "formats": "md:myst",
   "text_representation": {
    "extension": ".md",
    "format_name": "myst",
    "format_version": "0.8",
    "jupytext_version": "1.5.0"
   }
  },
  "kernelspec": {
   "display_name": "Python 3",
   "language": "python",
   "name": "python3"
  },
  "language_info": {
   "codemirror_mode": {
    "name": "ipython",
    "version": 3
   },
   "file_extension": ".py",
   "mimetype": "text/x-python",
   "name": "python",
   "nbconvert_exporter": "python",
   "pygments_lexer": "ipython3",
   "version": "3.7.9"
  },
  "source_map": [
   14,
   30,
   35,
   66,
   68,
   131,
   147,
   164,
   179,
   196,
   212,
   234,
   253,
   282,
   286,
   337,
   350,
   360,
   375,
   394,
   398
  ]
 },
 "nbformat": 4,
 "nbformat_minor": 4
}