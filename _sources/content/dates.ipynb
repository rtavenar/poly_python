{
 "cells": [
  {
   "cell_type": "markdown",
   "metadata": {},
   "source": [
    "# Les dates\n",
    "\n",
    "Dans la partie précédente, nous avons présenté les types de base du langage Python et les opérateurs associés aux types numériques.\n",
    "Lorsque l'on souhaite manipuler des dates et des heures, on devra avoir recours à un autre type de données, défini dans le module `datetime`.\n",
    "Pour cela, il faudra commencer par charger ce module en ajoutant l'instruction :"
   ]
  },
  {
   "cell_type": "code",
   "execution_count": 1,
   "metadata": {
    "execution": {
     "iopub.execute_input": "2020-06-17T12:40:25.232047Z",
     "iopub.status.busy": "2020-06-17T12:40:25.229200Z",
     "iopub.status.idle": "2020-06-17T12:40:25.234777Z",
     "shell.execute_reply": "2020-06-17T12:40:25.237432Z"
    }
   },
   "outputs": [],
   "source": [
    "import datetime"
   ]
  },
  {
   "cell_type": "markdown",
   "metadata": {},
   "source": [
    "en en-tête de votre script Python.\n",
    "\n",
    "Pour créer une nouvelle variable de ce type, on utilisera la syntaxe :\n",
    "\n",
    "```\n",
    "d = datetime.datetime(annee, mois, jour, heure, minutes)\n",
    "```\n",
    "\n",
    "La syntaxe `datetime.datetime`, qui peut vous sembler bizarre au premier coup d'oeil signifie à l'interpréteur Python qu'il doit chercher dans le module `datetime` une fonction dont le nom est `datetime` et l'appeler.\n",
    "\n",
    "En fait, on pourrait rajouter lors de l'appel de `datetime.datetime` un argument pour spécifier les secondes, puis éventuellement un autre pour les microsecondes, si l'on avait besoin d'une heure plus précise.\n",
    "Si, au contraire, on ne spécifie pas l'heure lors de l'appel de la fonction, l'heure `00h00` sera choisie par défaut.\n",
    "\n",
    "Par exemple :"
   ]
  },
  {
   "cell_type": "code",
   "execution_count": 2,
   "metadata": {
    "execution": {
     "iopub.execute_input": "2020-06-17T12:40:25.252505Z",
     "iopub.status.busy": "2020-06-17T12:40:25.250017Z",
     "iopub.status.idle": "2020-06-17T12:40:25.259197Z",
     "shell.execute_reply": "2020-06-17T12:40:25.261211Z"
    }
   },
   "outputs": [
    {
     "name": "stdout",
     "output_type": "stream",
     "text": [
      "2019-08-27 17:23:00\n"
     ]
    }
   ],
   "source": [
    "import datetime  # Cette commande doit se trouver en début de fichier\n",
    "\n",
    "# [...] (ici, du code concernant autre chose si besoin)\n",
    "\n",
    "d = datetime.datetime(2019, 8, 27, 17, 23)\n",
    "print(d)"
   ]
  },
  {
   "cell_type": "code",
   "execution_count": 3,
   "metadata": {
    "execution": {
     "iopub.execute_input": "2020-06-17T12:40:25.275917Z",
     "iopub.status.busy": "2020-06-17T12:40:25.272817Z",
     "iopub.status.idle": "2020-06-17T12:40:25.281976Z",
     "shell.execute_reply": "2020-06-17T12:40:25.284088Z"
    }
   },
   "outputs": [
    {
     "name": "stdout",
     "output_type": "stream",
     "text": [
      "2019-08-27 17:23:32\n"
     ]
    }
   ],
   "source": [
    "d = datetime.datetime(2019, 8, 27, 17, 23, 32)\n",
    "print(d)"
   ]
  },
  {
   "cell_type": "code",
   "execution_count": 4,
   "metadata": {
    "execution": {
     "iopub.execute_input": "2020-06-17T12:40:25.298474Z",
     "iopub.status.busy": "2020-06-17T12:40:25.295448Z",
     "iopub.status.idle": "2020-06-17T12:40:25.305865Z",
     "shell.execute_reply": "2020-06-17T12:40:25.307548Z"
    }
   },
   "outputs": [
    {
     "name": "stdout",
     "output_type": "stream",
     "text": [
      "2019-08-27 00:00:00\n"
     ]
    }
   ],
   "source": [
    "d = datetime.datetime(2019, 8, 27)\n",
    "print(d)"
   ]
  },
  {
   "cell_type": "markdown",
   "metadata": {},
   "source": [
    "Les opérateurs de comparaison vus au chapitre précédent (`<`, `>`, `<=`, `>=`, `==`) fonctionnent de manière naturelle avec ce type de données :"
   ]
  },
  {
   "cell_type": "code",
   "execution_count": 5,
   "metadata": {
    "execution": {
     "iopub.execute_input": "2020-06-17T12:40:25.327157Z",
     "iopub.status.busy": "2020-06-17T12:40:25.324204Z",
     "iopub.status.idle": "2020-06-17T12:40:25.333551Z",
     "shell.execute_reply": "2020-06-17T12:40:25.334947Z"
    }
   },
   "outputs": [
    {
     "name": "stdout",
     "output_type": "stream",
     "text": [
      "True\n"
     ]
    }
   ],
   "source": [
    "d1 = datetime.datetime(2019, 8, 27, 17, 23)\n",
    "d2 = datetime.datetime(2019, 8, 27, 17, 28)\n",
    "d3 = datetime.datetime(2019, 8, 27, 17, 23)\n",
    "print(d1 < d2)"
   ]
  },
  {
   "cell_type": "code",
   "execution_count": 6,
   "metadata": {
    "execution": {
     "iopub.execute_input": "2020-06-17T12:40:25.356225Z",
     "iopub.status.busy": "2020-06-17T12:40:25.352157Z",
     "iopub.status.idle": "2020-06-17T12:40:25.364037Z",
     "shell.execute_reply": "2020-06-17T12:40:25.366210Z"
    }
   },
   "outputs": [
    {
     "name": "stdout",
     "output_type": "stream",
     "text": [
      "True\n"
     ]
    }
   ],
   "source": [
    "print(d1 == d3)"
   ]
  },
  {
   "cell_type": "code",
   "execution_count": 7,
   "metadata": {
    "execution": {
     "iopub.execute_input": "2020-06-17T12:40:25.380816Z",
     "iopub.status.busy": "2020-06-17T12:40:25.377838Z",
     "iopub.status.idle": "2020-06-17T12:40:25.387533Z",
     "shell.execute_reply": "2020-06-17T12:40:25.389102Z"
    }
   },
   "outputs": [
    {
     "name": "stdout",
     "output_type": "stream",
     "text": [
      "False\n"
     ]
    }
   ],
   "source": [
    "print(d1 > d3)"
   ]
  },
  {
   "cell_type": "markdown",
   "metadata": {},
   "source": [
    "Il existe d'autres moyens de construire des variables de type date.\n",
    "On peut générer une date correspondant à l'heure actuelle avec la fonction `datetime.now` du module `datetime` :"
   ]
  },
  {
   "cell_type": "code",
   "execution_count": 8,
   "metadata": {
    "execution": {
     "iopub.execute_input": "2020-06-17T12:40:25.403080Z",
     "iopub.status.busy": "2020-06-17T12:40:25.400016Z",
     "iopub.status.idle": "2020-06-17T12:40:25.426086Z",
     "shell.execute_reply": "2020-06-17T12:40:25.418333Z"
    }
   },
   "outputs": [],
   "source": [
    "date_actuelle = datetime.datetime.now()"
   ]
  },
  {
   "cell_type": "markdown",
   "metadata": {},
   "source": [
    "## Transformation d'une date en chaîne de caractères\n",
    "\n",
    "Si l'on souhaite transformer une date en chaîne de caractères (par exemple pour l'afficher), on peut lui appliquer la fonction `str` :"
   ]
  },
  {
   "cell_type": "code",
   "execution_count": 9,
   "metadata": {
    "execution": {
     "iopub.execute_input": "2020-06-17T12:40:25.486303Z",
     "iopub.status.busy": "2020-06-17T12:40:25.483485Z",
     "iopub.status.idle": "2020-06-17T12:40:25.492930Z",
     "shell.execute_reply": "2020-06-17T12:40:25.494992Z"
    }
   },
   "outputs": [
    {
     "name": "stdout",
     "output_type": "stream",
     "text": [
      "2019-08-27 00:00:00\n"
     ]
    }
   ],
   "source": [
    "print(str(datetime.datetime(2019, 8, 27)))"
   ]
  },
  {
   "cell_type": "markdown",
   "metadata": {},
   "source": [
    "Dans ce cas, on ne peut pas gérer la façon dont se fait cette transformation.\n",
    "Pour contourner cette limitation, il convient alors d'utiliser `strftime` :\n",
    "\n",
    "```\n",
    "d1 = datetime.datetime(...)\n",
    "s = d1.strftime(format)\n",
    "```\n",
    "\n",
    "L'attribut `format` que l'on passe à cette fonction va servir à définir comment on souhaite représenter la date en question.\n",
    "Il s'agit d'une chaîne de caractères qui pourra contenir les éléments suivants :\n",
    "\n",
    "| Code | Signification |\n",
    "|------|---------------|\n",
    "| `%Y` | Année         |\n",
    "| `%m` | Mois          |\n",
    "| `%d` | Jour          |\n",
    "| `%H` | Heure         |\n",
    "| `%M` | Minutes       |\n",
    "\n",
    "Remarquez que la casse n'est pas neutre pour les codes à utiliser : `%M` et `%m` ont des significations tout à fait différentes.\n",
    "Notez également qu'il existe d'autres codes permettant de générer des chaînes de caractères plus variées encore.\n",
    "Une liste de ces codes est disponible sur [la page d'aide du module `datetime`](https://docs.python.org/3.5/library/datetime.html#strftime-and-strptime-behavior).\n",
    "\n",
    "Vous pouvez vous référer aux exemples ci-dessous pour mieux comprendre le fonctionnement de la fonction `strftime` :"
   ]
  },
  {
   "cell_type": "code",
   "execution_count": 10,
   "metadata": {
    "execution": {
     "iopub.execute_input": "2020-06-17T12:40:25.512486Z",
     "iopub.status.busy": "2020-06-17T12:40:25.509716Z",
     "iopub.status.idle": "2020-06-17T12:40:25.519152Z",
     "shell.execute_reply": "2020-06-17T12:40:25.521207Z"
    }
   },
   "outputs": [
    {
     "name": "stdout",
     "output_type": "stream",
     "text": [
      "27-08-2019, 17:23\n"
     ]
    }
   ],
   "source": [
    "d = datetime.datetime(2019, 8, 27, 17, 23)\n",
    "\n",
    "print(d.strftime(\"%d-%m-%Y, %H:%M\"))"
   ]
  },
  {
   "cell_type": "code",
   "execution_count": 11,
   "metadata": {
    "execution": {
     "iopub.execute_input": "2020-06-17T12:40:25.557215Z",
     "iopub.status.busy": "2020-06-17T12:40:25.549169Z",
     "iopub.status.idle": "2020-06-17T12:40:25.575839Z",
     "shell.execute_reply": "2020-06-17T12:40:25.579944Z"
    }
   },
   "outputs": [
    {
     "name": "stdout",
     "output_type": "stream",
     "text": [
      "27-08-2019\n"
     ]
    }
   ],
   "source": [
    "print(d.strftime(\"%d-%m-%Y\"))"
   ]
  },
  {
   "cell_type": "code",
   "execution_count": 12,
   "metadata": {
    "execution": {
     "iopub.execute_input": "2020-06-17T12:40:25.617323Z",
     "iopub.status.busy": "2020-06-17T12:40:25.608435Z",
     "iopub.status.idle": "2020-06-17T12:40:25.638484Z",
     "shell.execute_reply": "2020-06-17T12:40:25.625916Z"
    }
   },
   "outputs": [
    {
     "name": "stdout",
     "output_type": "stream",
     "text": [
      "17:23\n"
     ]
    }
   ],
   "source": [
    "print(d.strftime(\"%H:%M\"))"
   ]
  },
  {
   "cell_type": "code",
   "execution_count": 13,
   "metadata": {
    "execution": {
     "iopub.execute_input": "2020-06-17T12:40:25.662318Z",
     "iopub.status.busy": "2020-06-17T12:40:25.657678Z",
     "iopub.status.idle": "2020-06-17T12:40:25.686041Z",
     "shell.execute_reply": "2020-06-17T12:40:25.678066Z"
    }
   },
   "outputs": [
    {
     "name": "stdout",
     "output_type": "stream",
     "text": [
      "27/08/2019 17h23\n"
     ]
    }
   ],
   "source": [
    "print(d.strftime(\"%d/%m/%Y %Hh%M\"))"
   ]
  },
  {
   "cell_type": "markdown",
   "metadata": {},
   "source": [
    "Il est également possible d'effectuer l'opération inverse (lire une date contenue dans une chaîne de caractères, étant donné un format connu).\n",
    "Cela se fait avec la fonction `datetime.strptime` (attention aux confusions possibles entre `strftime` et `datetime.strptime`) :\n",
    "\n",
    "```\n",
    "d1 = datetime.datetime.strptime(chaine_a_lire, format)\n",
    "```\n",
    "\n",
    "Voici deux exemples d'utilisation de cette fonction :"
   ]
  },
  {
   "cell_type": "code",
   "execution_count": 14,
   "metadata": {
    "execution": {
     "iopub.execute_input": "2020-06-17T12:40:25.718088Z",
     "iopub.status.busy": "2020-06-17T12:40:25.710126Z",
     "iopub.status.idle": "2020-06-17T12:40:25.727688Z",
     "shell.execute_reply": "2020-06-17T12:40:25.730267Z"
    }
   },
   "outputs": [],
   "source": [
    "d1 = datetime.datetime.strptime(\"2019/8/27, 17:23\", \"%Y/%m/%d, %H:%M\")\n",
    "d2 = datetime.datetime.strptime(\"27-08-2019\", \"%d-%m-%Y\")"
   ]
  },
  {
   "cell_type": "markdown",
   "metadata": {},
   "source": [
    "## Calcul de temps écoulé\n",
    "\n",
    "On peut ensuite souhaiter calculer la différence entre deux dates.\n",
    "Le résultat de cette opération est une **durée**, représentée en Python par le type `timedelta` (lui aussi défini dans le module `datetime`)."
   ]
  },
  {
   "cell_type": "code",
   "execution_count": 15,
   "metadata": {
    "execution": {
     "iopub.execute_input": "2020-06-17T12:40:25.770543Z",
     "iopub.status.busy": "2020-06-17T12:40:25.760857Z",
     "iopub.status.idle": "2020-06-17T12:40:25.787188Z",
     "shell.execute_reply": "2020-06-17T12:40:25.775682Z"
    }
   },
   "outputs": [
    {
     "name": "stdout",
     "output_type": "stream",
     "text": [
      "<class 'datetime.timedelta'>\n"
     ]
    }
   ],
   "source": [
    "d1 = datetime.datetime(2019, 8, 27, 17, 23)\n",
    "d2 = datetime.datetime(2019, 8, 27, 17, 28)\n",
    "intervalle_de_temps = d1 - d2\n",
    "print(type(intervalle_de_temps))"
   ]
  },
  {
   "cell_type": "markdown",
   "metadata": {},
   "source": [
    "Très souvent, il est utile pour manipuler une durée de la convertir en un nombre de secondes et de manipuler ce nombre ensuite.\n",
    "Cela se fait à l'aide de la commande :"
   ]
  },
  {
   "cell_type": "code",
   "execution_count": 16,
   "metadata": {
    "execution": {
     "iopub.execute_input": "2020-06-17T12:40:25.816060Z",
     "iopub.status.busy": "2020-06-17T12:40:25.810062Z",
     "iopub.status.idle": "2020-06-17T12:40:25.839752Z",
     "shell.execute_reply": "2020-06-17T12:40:25.833878Z"
    }
   },
   "outputs": [
    {
     "name": "stdout",
     "output_type": "stream",
     "text": [
      "-300.0\n"
     ]
    }
   ],
   "source": [
    "d1 = datetime.datetime(2019, 8, 27, 17, 23)\n",
    "d2 = datetime.datetime(2019, 8, 27, 17, 28)\n",
    "intervalle_de_temps = d1 - d2\n",
    "print(intervalle_de_temps.total_seconds())"
   ]
  },
  {
   "cell_type": "markdown",
   "metadata": {},
   "source": [
    "On remarque ici que l'intervalle obtenu est négatif, ce qui était prévisible car il s'agit de l'intervalle `d1 - d2` et on a `d1 < d2`.\n",
    "\n",
    "Notez enfin que l'on peut tout à fait ajouter une durée à une date :"
   ]
  },
  {
   "cell_type": "code",
   "execution_count": 17,
   "metadata": {
    "execution": {
     "iopub.execute_input": "2020-06-17T12:40:25.865683Z",
     "iopub.status.busy": "2020-06-17T12:40:25.862046Z",
     "iopub.status.idle": "2020-06-17T12:40:25.882897Z",
     "shell.execute_reply": "2020-06-17T12:40:25.886311Z"
    }
   },
   "outputs": [
    {
     "name": "stdout",
     "output_type": "stream",
     "text": [
      "2019-08-27 18:05:00\n"
     ]
    }
   ],
   "source": [
    "d1 = datetime.datetime(2019, 8, 27, 17, 23)\n",
    "d2 = datetime.datetime(2019, 8, 27, 17, 28)\n",
    "d3 = datetime.datetime(2019, 8, 27, 18, 00)\n",
    "intervalle_de_temps = d2 - d1\n",
    "print(d3 + intervalle_de_temps)"
   ]
  },
  {
   "cell_type": "markdown",
   "metadata": {},
   "source": [
    "## Exercices\n",
    "\n",
    "**Exercice 3.1** S'est-il écoulé plus de temps (i) entre le 2 Janvier 1920 à 7h32 et le 4 Mars 1920 à 5h53 ou bien (ii) entre le 30 Décembre 1999 à 17h12 et le 1er Mars 2000 à 15h53 ?\n",
    "\n",
    "**Exercice 3.2** À l'aide des fonctions du module `datetime` vues plus haut, affichez, pour chaque année civile comprise entre 2010 et 2030, si elle est bissextile ou non."
   ]
  }
 ],
 "metadata": {
  "jupytext": {
   "cell_metadata_filter": "-all",
   "formats": "md:myst",
   "text_representation": {
    "extension": ".md",
    "format_name": "myst",
    "format_version": "0.8",
    "jupytext_version": "1.5.0"
   }
  },
  "kernelspec": {
   "display_name": "Python 3",
   "language": "python",
   "name": "python3"
  },
  "language_info": {
   "codemirror_mode": {
    "name": "ipython",
    "version": 3
   },
   "file_extension": ".py",
   "mimetype": "text/x-python",
   "name": "python",
   "nbconvert_exporter": "python",
   "pygments_lexer": "ipython3",
   "version": "3.7.3"
  },
  "source_map": [
   14,
   22,
   24,
   41,
   50,
   55,
   58,
   62,
   69,
   73,
   75,
   80,
   82,
   88,
   90,
   117,
   123,
   127,
   131,
   133,
   144,
   147,
   154,
   159,
   164,
   169,
   175,
   181
  ]
 },
 "nbformat": 4,
 "nbformat_minor": 4
}