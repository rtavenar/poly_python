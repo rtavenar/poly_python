{
 "cells": [
  {
   "cell_type": "markdown",
   "id": "53d39ae9",
   "metadata": {},
   "source": [
    "# Les dates\n",
    "\n",
    "Dans la partie précédente, nous avons présenté les types de base du langage Python et les opérateurs associés aux types numériques.\n",
    "Lorsque l'on souhaite manipuler des dates et des heures, on devra avoir recours à un autre type de données, défini dans le module `datetime`.\n",
    "Pour cela, il faudra commencer par charger ce module en ajoutant l'instruction :"
   ]
  },
  {
   "cell_type": "code",
   "execution_count": 1,
   "id": "2a61e311",
   "metadata": {},
   "outputs": [],
   "source": [
    "import datetime"
   ]
  },
  {
   "cell_type": "markdown",
   "id": "c52161cd",
   "metadata": {},
   "source": [
    "en en-tête de votre script Python.\n",
    "\n",
    "Pour créer une nouvelle variable de ce type, on utilisera la syntaxe :\n",
    "\n",
    "```\n",
    "d = datetime.datetime(annee, mois, jour, heure, minutes)\n",
    "```\n",
    "\n",
    "La syntaxe `datetime.datetime`, qui peut vous sembler bizarre au premier coup d'oeil signifie à l'interpréteur Python qu'il doit chercher dans le module `datetime` une fonction dont le nom est `datetime` et l'appeler.\n",
    "\n",
    "En fait, on pourrait rajouter lors de l'appel de `datetime.datetime` un argument pour spécifier les secondes, puis éventuellement un autre pour les microsecondes, si l'on avait besoin d'une heure plus précise.\n",
    "Si, au contraire, on ne spécifie pas l'heure lors de l'appel de la fonction, l'heure `00h00` sera choisie par défaut.\n",
    "\n",
    "Par exemple :"
   ]
  },
  {
   "cell_type": "code",
   "execution_count": 2,
   "id": "4f9a33ac",
   "metadata": {},
   "outputs": [
    {
     "name": "stdout",
     "output_type": "stream",
     "text": [
      "2020-08-27 17:23:00\n"
     ]
    }
   ],
   "source": [
    "import datetime  # Cette commande doit se trouver en début de fichier\n",
    "\n",
    "# [...] (ici, du code concernant autre chose si besoin)\n",
    "\n",
    "d = datetime.datetime(2020, 8, 27, 17, 23)\n",
    "print(d)"
   ]
  },
  {
   "cell_type": "code",
   "execution_count": 3,
   "id": "12da9e5a",
   "metadata": {},
   "outputs": [
    {
     "name": "stdout",
     "output_type": "stream",
     "text": [
      "2020-08-27 17:23:32\n"
     ]
    }
   ],
   "source": [
    "d = datetime.datetime(2020, 8, 27, 17, 23, 32)\n",
    "print(d)"
   ]
  },
  {
   "cell_type": "code",
   "execution_count": 4,
   "id": "9aa08ce8",
   "metadata": {},
   "outputs": [
    {
     "name": "stdout",
     "output_type": "stream",
     "text": [
      "2020-08-27 00:00:00\n"
     ]
    }
   ],
   "source": [
    "d = datetime.datetime(2020, 8, 27)\n",
    "print(d)"
   ]
  },
  {
   "cell_type": "markdown",
   "id": "95c49db5",
   "metadata": {},
   "source": [
    "Les opérateurs de comparaison vus au chapitre précédent (`<`, `>`, `<=`, `>=`, `==`, `!=`) fonctionnent de manière naturelle avec ce type de données :"
   ]
  },
  {
   "cell_type": "code",
   "execution_count": 5,
   "id": "cff471d2",
   "metadata": {},
   "outputs": [
    {
     "name": "stdout",
     "output_type": "stream",
     "text": [
      "True\n"
     ]
    }
   ],
   "source": [
    "d1 = datetime.datetime(2020, 8, 27, 17, 23)\n",
    "d2 = datetime.datetime(2020, 8, 27, 17, 28)\n",
    "d3 = datetime.datetime(2020, 8, 27, 17, 23)\n",
    "print(d1 < d2)"
   ]
  },
  {
   "cell_type": "code",
   "execution_count": 6,
   "id": "9e8d267f",
   "metadata": {},
   "outputs": [
    {
     "name": "stdout",
     "output_type": "stream",
     "text": [
      "True\n"
     ]
    }
   ],
   "source": [
    "print(d1 == d3)"
   ]
  },
  {
   "cell_type": "code",
   "execution_count": 7,
   "id": "f52e32be",
   "metadata": {},
   "outputs": [
    {
     "name": "stdout",
     "output_type": "stream",
     "text": [
      "False\n"
     ]
    }
   ],
   "source": [
    "print(d1 > d3)"
   ]
  },
  {
   "cell_type": "markdown",
   "id": "ef46bd6a",
   "metadata": {},
   "source": [
    "Il existe d'autres moyens de construire des variables de type date.\n",
    "On peut générer une date correspondant à l'heure actuelle avec la fonction `datetime.now` du module `datetime` :"
   ]
  },
  {
   "cell_type": "code",
   "execution_count": 8,
   "id": "5f3b4f81",
   "metadata": {},
   "outputs": [],
   "source": [
    "date_actuelle = datetime.datetime.now()"
   ]
  },
  {
   "cell_type": "markdown",
   "id": "a79e2b5b",
   "metadata": {},
   "source": [
    "## Transformation d'une date en chaîne de caractères\n",
    "\n",
    "Si l'on souhaite transformer une date en chaîne de caractères (par exemple pour l'afficher), on peut lui appliquer la fonction `str` :"
   ]
  },
  {
   "cell_type": "code",
   "execution_count": 9,
   "id": "2bcc7293",
   "metadata": {},
   "outputs": [
    {
     "name": "stdout",
     "output_type": "stream",
     "text": [
      "2020-08-27 00:00:00\n"
     ]
    }
   ],
   "source": [
    "print(str(datetime.datetime(2020, 8, 27)))"
   ]
  },
  {
   "cell_type": "markdown",
   "id": "d3088404",
   "metadata": {},
   "source": [
    "Dans ce cas, on ne peut pas gérer la façon dont se fait cette transformation.\n",
    "Pour contourner cette limitation, il convient alors d'utiliser `strftime` :\n",
    "\n",
    "```\n",
    "d1 = datetime.datetime(...)\n",
    "s = d1.strftime(format)\n",
    "```\n",
    "\n",
    "L'attribut `format` que l'on passe à cette fonction va servir à définir comment on souhaite représenter la date en question.\n",
    "Il s'agit d'une chaîne de caractères qui pourra contenir les éléments suivants :\n",
    "\n",
    "| Code | Signification |\n",
    "|------|---------------|\n",
    "| `%Y` | Année         |\n",
    "| `%m` | Mois          |\n",
    "| `%d` | Jour          |\n",
    "| `%H` | Heure         |\n",
    "| `%M` | Minutes       |\n",
    "\n",
    "Remarquez que la casse n'est pas neutre pour les codes à utiliser : `%M` et `%m` ont des significations tout à fait différentes.\n",
    "Notez également qu'il existe d'autres codes permettant de générer des chaînes de caractères plus variées encore.\n",
    "Une liste de ces codes est disponible sur [la page d'aide du module `datetime`](https://docs.python.org/3.5/library/datetime.html#strftime-and-strptime-behavior).\n",
    "\n",
    "Vous pouvez vous référer aux exemples ci-dessous pour mieux comprendre le fonctionnement de la fonction `strftime` :"
   ]
  },
  {
   "cell_type": "code",
   "execution_count": 10,
   "id": "bf53bd70",
   "metadata": {},
   "outputs": [
    {
     "name": "stdout",
     "output_type": "stream",
     "text": [
      "27-08-2020, 17:23\n"
     ]
    }
   ],
   "source": [
    "d = datetime.datetime(2020, 8, 27, 17, 23)\n",
    "\n",
    "print(d.strftime(\"%d-%m-%Y, %H:%M\"))"
   ]
  },
  {
   "cell_type": "code",
   "execution_count": 11,
   "id": "59d043b5",
   "metadata": {},
   "outputs": [
    {
     "name": "stdout",
     "output_type": "stream",
     "text": [
      "27-08-2020\n"
     ]
    }
   ],
   "source": [
    "print(d.strftime(\"%d-%m-%Y\"))"
   ]
  },
  {
   "cell_type": "code",
   "execution_count": 12,
   "id": "5af30710",
   "metadata": {},
   "outputs": [
    {
     "name": "stdout",
     "output_type": "stream",
     "text": [
      "17:23\n"
     ]
    }
   ],
   "source": [
    "print(d.strftime(\"%H:%M\"))"
   ]
  },
  {
   "cell_type": "code",
   "execution_count": 13,
   "id": "767305eb",
   "metadata": {},
   "outputs": [
    {
     "name": "stdout",
     "output_type": "stream",
     "text": [
      "27/08/2020 17h23\n"
     ]
    }
   ],
   "source": [
    "print(d.strftime(\"%d/%m/%Y %Hh%M\"))"
   ]
  },
  {
   "cell_type": "markdown",
   "id": "7bf37eef",
   "metadata": {},
   "source": [
    "````{margin}\n",
    "```{admonition} Attention !\n",
    "  :class: warning\n",
    "\n",
    "Attention aux confusions possibles entre `datetime.strftime` et `datetime.strptime` :\n",
    "\n",
    "* `datetime.strftime` : le `f` signifie _format_, il s'agit donc de mettre en forme une date, selon un format donné, dans une chaîne de caractères\n",
    "* `datetime.strptime` : le `p` signifie _parse_ (en anglais), il s'agit donc de reconnaître une date dans une chaîne de caractères et de retourner la date en question\n",
    "```\n",
    "````\n",
    "\n",
    "Il est également possible d'effectuer l'opération inverse (lire une date contenue dans une chaîne de caractères, étant donné un format connu).\n",
    "Cela se fait avec la fonction `datetime.strptime` :\n",
    "\n",
    "```\n",
    "d1 = datetime.datetime.strptime(chaine_a_lire, format)\n",
    "```\n",
    "\n",
    "Voici deux exemples d'utilisation de cette fonction :"
   ]
  },
  {
   "cell_type": "code",
   "execution_count": 14,
   "id": "bd7f7355",
   "metadata": {},
   "outputs": [
    {
     "name": "stdout",
     "output_type": "stream",
     "text": [
      "2020-08-27 17:23:00\n"
     ]
    }
   ],
   "source": [
    "d1 = datetime.datetime.strptime(\"2020/8/27, 17:23\", \"%Y/%m/%d, %H:%M\")\n",
    "print(d1)"
   ]
  },
  {
   "cell_type": "code",
   "execution_count": 15,
   "id": "6657157a",
   "metadata": {},
   "outputs": [
    {
     "name": "stdout",
     "output_type": "stream",
     "text": [
      "2020-08-27 00:00:00\n"
     ]
    }
   ],
   "source": [
    "d2 = datetime.datetime.strptime(\"27-08-2020\", \"%d-%m-%Y\")\n",
    "print(d2)"
   ]
  },
  {
   "cell_type": "markdown",
   "id": "ff5d5fb9",
   "metadata": {},
   "source": [
    "## Attributs des objets `datetime`\n",
    "\n",
    "Lorsque l'on définit une date de type `datetime.datetime`, on peut accéder à certains de ses attributs directement :"
   ]
  },
  {
   "cell_type": "code",
   "execution_count": 16,
   "id": "76ae6c73",
   "metadata": {},
   "outputs": [
    {
     "name": "stdout",
     "output_type": "stream",
     "text": [
      "2020-08-27 17:23:00\n"
     ]
    }
   ],
   "source": [
    "d1 = datetime.datetime.strptime(\"2020/8/27, 17:23\", \"%Y/%m/%d, %H:%M\")\n",
    "print(d1)"
   ]
  },
  {
   "cell_type": "code",
   "execution_count": 17,
   "id": "24c1a641",
   "metadata": {},
   "outputs": [
    {
     "name": "stdout",
     "output_type": "stream",
     "text": [
      "2020\n"
     ]
    }
   ],
   "source": [
    "print(d1.year)"
   ]
  },
  {
   "cell_type": "code",
   "execution_count": 18,
   "id": "f4e0af6c",
   "metadata": {},
   "outputs": [
    {
     "name": "stdout",
     "output_type": "stream",
     "text": [
      "8\n"
     ]
    }
   ],
   "source": [
    "print(d1.month)"
   ]
  },
  {
   "cell_type": "code",
   "execution_count": 19,
   "id": "e3a89496",
   "metadata": {},
   "outputs": [
    {
     "name": "stdout",
     "output_type": "stream",
     "text": [
      "27\n"
     ]
    }
   ],
   "source": [
    "print(d1.day)"
   ]
  },
  {
   "cell_type": "code",
   "execution_count": 20,
   "id": "50a2cf55",
   "metadata": {},
   "outputs": [
    {
     "name": "stdout",
     "output_type": "stream",
     "text": [
      "17\n"
     ]
    }
   ],
   "source": [
    "print(d1.hour)"
   ]
  },
  {
   "cell_type": "code",
   "execution_count": 21,
   "id": "4a188075",
   "metadata": {},
   "outputs": [
    {
     "name": "stdout",
     "output_type": "stream",
     "text": [
      "23\n"
     ]
    }
   ],
   "source": [
    "print(d1.minute)"
   ]
  },
  {
   "cell_type": "code",
   "execution_count": 22,
   "id": "f6fd3957",
   "metadata": {},
   "outputs": [
    {
     "name": "stdout",
     "output_type": "stream",
     "text": [
      "0\n"
     ]
    }
   ],
   "source": [
    "print(d1.second)"
   ]
  },
  {
   "cell_type": "markdown",
   "id": "14965a75",
   "metadata": {},
   "source": [
    "## Calcul de temps écoulé\n",
    "\n",
    "On peut ensuite souhaiter calculer la différence entre deux dates.\n",
    "Le résultat de cette opération est une **durée**, représentée en Python par le type `timedelta` (lui aussi défini dans le module `datetime`)."
   ]
  },
  {
   "cell_type": "code",
   "execution_count": 23,
   "id": "05805c18",
   "metadata": {},
   "outputs": [
    {
     "name": "stdout",
     "output_type": "stream",
     "text": [
      "<class 'datetime.timedelta'>\n"
     ]
    }
   ],
   "source": [
    "d1 = datetime.datetime(2020, 8, 27, 17, 23)\n",
    "d2 = datetime.datetime(2020, 8, 27, 17, 28)\n",
    "intervalle_de_temps = d1 - d2\n",
    "print(type(intervalle_de_temps))"
   ]
  },
  {
   "cell_type": "markdown",
   "id": "842ea8d0",
   "metadata": {},
   "source": [
    "Une autre façon de créer une durée au format `timedelta` est d'utiliser la fonction du même nom :"
   ]
  },
  {
   "cell_type": "code",
   "execution_count": 24,
   "id": "c5222659",
   "metadata": {},
   "outputs": [
    {
     "name": "stdout",
     "output_type": "stream",
     "text": [
      "10 days, 3:10:23\n"
     ]
    }
   ],
   "source": [
    "duree = datetime.timedelta(weeks=0, days=10, hours=3, minutes=10, seconds=23)\n",
    "print(duree)"
   ]
  },
  {
   "cell_type": "markdown",
   "id": "1a115509",
   "metadata": {},
   "source": [
    "Très souvent, il est utile pour manipuler une durée de la convertir en un nombre de secondes et de manipuler ce nombre ensuite.\n",
    "Cela se fait à l'aide de la commande :"
   ]
  },
  {
   "cell_type": "code",
   "execution_count": 25,
   "id": "a389ed81",
   "metadata": {},
   "outputs": [
    {
     "name": "stdout",
     "output_type": "stream",
     "text": [
      "-300.0\n"
     ]
    }
   ],
   "source": [
    "d1 = datetime.datetime(2020, 8, 27, 17, 23)\n",
    "d2 = datetime.datetime(2020, 8, 27, 17, 28)\n",
    "intervalle_de_temps = d1 - d2\n",
    "print(intervalle_de_temps.total_seconds())"
   ]
  },
  {
   "cell_type": "markdown",
   "id": "2a135bf3",
   "metadata": {},
   "source": [
    "On remarque ici que l'intervalle obtenu est négatif, ce qui était prévisible car il s'agit de l'intervalle `d1 - d2` et on a `d1 < d2`.\n",
    "\n",
    "Notez enfin que l'on peut tout à fait ajouter une durée à une date :"
   ]
  },
  {
   "cell_type": "code",
   "execution_count": 26,
   "id": "764d230f",
   "metadata": {},
   "outputs": [
    {
     "name": "stdout",
     "output_type": "stream",
     "text": [
      "2020-08-27 18:05:00\n"
     ]
    }
   ],
   "source": [
    "d1 = datetime.datetime(2020, 8, 27, 17, 23)\n",
    "d2 = datetime.datetime(2020, 8, 27, 17, 28)\n",
    "d3 = datetime.datetime(2020, 8, 27, 18, 00)\n",
    "intervalle_de_temps = d2 - d1\n",
    "print(d3 + intervalle_de_temps)"
   ]
  },
  {
   "cell_type": "markdown",
   "id": "0999cd82",
   "metadata": {},
   "source": [
    "## Exercices\n",
    "\n",
    "```{admonition} Exercice 3.1\n",
    "S'est-il écoulé plus de temps (i) entre le 2 Janvier 1920 à 7h32 et le 4 Mars 1920 à 5h53 ou bien (ii) entre le 30 Décembre 1999 à 17h12 et le 1er Mars 2000 à 15h53 ?\n",
    "```\n",
    "\n",
    "<div id=\"pad_3.1\" class=\"pad\"></div>\n",
    "<script>\n",
    "    Pythonpad('pad_3.1', \n",
    "              {'id': '3.1', \n",
    "               'title': 'Testez votre solution ici', \n",
    "               'src': 'import datetime\\n# Complétez ce code'})\n",
    "</script>\n",
    "\n",
    "````{admonition} Solution\n",
    ":class: tip, dropdown\n",
    "\n",
    "```python\n",
    "import datetime\n",
    "\n",
    "interv1_date1 = datetime.datetime(1920, 1, 2, 7, 32)\n",
    "interv1_date2 = datetime.datetime(1920, 3, 4, 5, 53)\n",
    "duree1 = interv1_date2 - interv1_date1\n",
    "\n",
    "interv2_date1 = datetime.datetime(1999, 12, 30, 17, 12)\n",
    "interv2_date2 = datetime.datetime(2000, 3, 1, 15, 53)\n",
    "duree2 = interv2_date2 - interv2_date1\n",
    "\n",
    "if duree1 > duree2:\n",
    "    print(\"Le premier intervalle est le plus grand.\")\n",
    "else:\n",
    "    print(\"Le second intervalle est le plus grand.\")\n",
    "```\n",
    "````\n",
    "\n",
    "```{admonition} Exercice 3.2\n",
    "À l'aide des fonctions du module `datetime` vues plus haut, affichez, pour chaque année civile comprise entre 2010 et 2030, si elle est bissextile ou non.\n",
    "```\n",
    "\n",
    "<div id=\"pad_3.2\" class=\"pad\"></div>\n",
    "<script>\n",
    "    Pythonpad('pad_3.2', \n",
    "              {'id': '3.2', \n",
    "               'title': 'Testez votre solution ici', \n",
    "               'src': 'import datetime\\n# Complétez ce code'})\n",
    "</script>\n",
    "\n",
    "````{admonition} Solution\n",
    ":class: tip, dropdown\n",
    "\n",
    "```python\n",
    "import datetime\n",
    "\n",
    "duree_annee_normale = 365 * 24 * 60 * 60\n",
    "\n",
    "for annee in range(2010, 2031):\n",
    "    date_debut = datetime.datetime(annee, 1, 1)\n",
    "    date_fin = datetime.datetime(annee + 1, 1, 1)\n",
    "    duree_anne_courante = date_fin - date_debut\n",
    "    if duree_anne_courante.total_seconds() > duree_annee_normale:\n",
    "        print(annee, \"est bissextile\")\n",
    "    else:\n",
    "        print(annee, \"n'est pas bissextile\")\n",
    "```\n",
    "````"
   ]
  }
 ],
 "metadata": {
  "jupytext": {
   "cell_metadata_filter": "-all",
   "formats": "md:myst",
   "text_representation": {
    "extension": ".md",
    "format_name": "myst",
    "format_version": "0.8",
    "jupytext_version": "1.5.0"
   }
  },
  "kernelspec": {
   "display_name": "Python 3",
   "language": "python",
   "name": "python3"
  },
  "language_info": {
   "codemirror_mode": {
    "name": "ipython",
    "version": 3
   },
   "file_extension": ".py",
   "mimetype": "text/x-python",
   "name": "python",
   "nbconvert_exporter": "python",
   "pygments_lexer": "ipython3",
   "version": "3.7.13"
  },
  "source_map": [
   14,
   22,
   24,
   41,
   50,
   55,
   58,
   62,
   69,
   73,
   75,
   80,
   82,
   88,
   90,
   117,
   123,
   127,
   131,
   133,
   155,
   160,
   163,
   169,
   174,
   178,
   182,
   186,
   190,
   194,
   196,
   203,
   208,
   212,
   215,
   220,
   225,
   231,
   237
  ]
 },
 "nbformat": 4,
 "nbformat_minor": 5
}