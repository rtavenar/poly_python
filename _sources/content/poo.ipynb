{
 "cells": [
  {
   "cell_type": "markdown",
   "id": "0a766f23",
   "metadata": {},
   "source": [
    "# La Programmation Orientée Objet\n",
    "\n",
    "Dans ce chapitre, nous allons parler de programmation orientée objet.\n",
    "Pour cela, nous allons tout d'abord donner une description de ce qu'est un objet et revenir sur des objets que vous avez déjà manipulé en Python.\n",
    "Nous verrons ensuite comment définir vos propres objets et les utiliser.\n",
    "\n",
    "## Les objets du quotidien\n",
    "\n",
    "En Python, toutes les variables que vous manipulez sont en fait des objets.\n",
    "Dans la suite de ce chapitre, nous allons prendre l'exemple d'un type que vous utilisez souvent, le type _chaîne de caractères_ (`str`).\n",
    "En termes de vocabulaire, on dit que `\"abc\"` est un **objet** de la **classe** `str`.\n",
    "\n",
    "Nous avons vu dans le chapitre dédié que l'on disposait, pour les chaînes de caractères, de fonctions permettant des manipulations élémentaires, comme par exemple passer la chaîne de caractères en minuscule :"
   ]
  },
  {
   "cell_type": "code",
   "execution_count": 1,
   "id": "199b2deb",
   "metadata": {},
   "outputs": [
    {
     "name": "stdout",
     "output_type": "stream",
     "text": [
      "ABCDEF\n"
     ]
    }
   ],
   "source": [
    "s = \"abcDEf\"\n",
    "print(s.upper())"
   ]
  },
  {
   "cell_type": "markdown",
   "id": "559c0af4",
   "metadata": {},
   "source": [
    "Vous vous êtes peut-être déjà habitué à cette syntaxe, pourtant il s'agit bien d'une syntaxe spécifique aux objets.\n",
    "En fait, ici, vous demandez d'appeler la **méthode** `upper()` de l'objet `s`.\n",
    "Une méthode est une fonction rattachée à un objet.\n",
    "\n",
    "En plus des méthodes, les objets peuvent avoir des **attributs**, qui les décrivent.\n",
    "Jetons un oeil à un type un peu particulier, le type _nombre complexe_ :"
   ]
  },
  {
   "cell_type": "code",
   "execution_count": 2,
   "id": "a3a1400e",
   "metadata": {},
   "outputs": [],
   "source": [
    "nombre_complexe = 10 + 5j"
   ]
  },
  {
   "cell_type": "markdown",
   "id": "10018ba9",
   "metadata": {},
   "source": [
    "Notez qu'ici `j` permet d'identifier la partie imaginaire.\n",
    "Les objets de ce type ont, en Python, un attribut qui stocke leur partie entière et un autre pour leur partie imaginaire :"
   ]
  },
  {
   "cell_type": "code",
   "execution_count": 3,
   "id": "5331b587",
   "metadata": {},
   "outputs": [
    {
     "name": "stdout",
     "output_type": "stream",
     "text": [
      "10.0\n",
      "5.0\n"
     ]
    }
   ],
   "source": [
    "print(nombre_complexe.real)\n",
    "print(nombre_complexe.imag)"
   ]
  },
  {
   "cell_type": "markdown",
   "id": "2f46e6a3",
   "metadata": {},
   "source": [
    "On dit que `real` et `imag` sont des **attributs** (on parle aussi de propriétés) de l'objet nombre complexe.\n",
    "\n",
    "En résumé, nos objets ont des méthodes (qui sont des fonctions) et des attributs, et pour y accéder, on utilise la notation `objet.methode()` ou `objet.attribut`.\n",
    "Il est à noter qu'une méthode peut avoir des arguments, comme toute fonction, comme dans l'exemple suivant :"
   ]
  },
  {
   "cell_type": "code",
   "execution_count": 4,
   "id": "49b3d7df",
   "metadata": {},
   "outputs": [
    {
     "name": "stdout",
     "output_type": "stream",
     "text": [
      "1\n"
     ]
    }
   ],
   "source": [
    "print(s.find(\"b\"))"
   ]
  },
  {
   "cell_type": "markdown",
   "id": "03e448a7",
   "metadata": {},
   "source": [
    "## Définir vos propres objets\n",
    "\n",
    "La librairie Python standard propose déjà un nombre important de classes (c'est-à-dire de types) pré-définies.\n",
    "Pour définir une nouvelle classe, on utilise la syntaxe suivante :"
   ]
  },
  {
   "cell_type": "code",
   "execution_count": 5,
   "id": "46dce55b",
   "metadata": {},
   "outputs": [],
   "source": [
    "class Voiture:\n",
    "    def __init__(self):\n",
    "        self.couleur = \"rouge\"\n",
    "        self.nombre_roues = 4\n",
    "    \n",
    "    def repeindre(self, nouvelle_couleur):\n",
    "        self.couleur = nouvelle_couleur"
   ]
  },
  {
   "cell_type": "markdown",
   "id": "9f031c10",
   "metadata": {},
   "source": [
    "On a défini ici une nouvelle classe : la classe `Voiture`.\n",
    "Les objets de cette classe ont deux attribut : `couleur` et `nombre_roues` et une méthode `repeindre(nouvelle_couleur)`.\n",
    "\n",
    "Voyons comment créer un nouvel objet de cette classe :"
   ]
  },
  {
   "cell_type": "code",
   "execution_count": 6,
   "id": "2643a043",
   "metadata": {},
   "outputs": [],
   "source": [
    "ma_twingo = Voiture()"
   ]
  },
  {
   "cell_type": "markdown",
   "id": "4efce804",
   "metadata": {},
   "source": [
    "Lors de la définition d'un nouvel objet, la méthode `__init__()` est appelée pour \"construire\" ce nouvel objet, et lui attribuer les bonnes propriétés.\n",
    "On peut accéder à la couleur de `ma_twingo` pour s'en convaincre :"
   ]
  },
  {
   "cell_type": "code",
   "execution_count": 7,
   "id": "3e71db32",
   "metadata": {},
   "outputs": [
    {
     "name": "stdout",
     "output_type": "stream",
     "text": [
      "rouge\n"
     ]
    }
   ],
   "source": [
    "print(ma_twingo.couleur)"
   ]
  },
  {
   "cell_type": "markdown",
   "id": "76428fe8",
   "metadata": {},
   "source": [
    "De même, on peut utiliser ses méthodes :"
   ]
  },
  {
   "cell_type": "code",
   "execution_count": 8,
   "id": "1867485d",
   "metadata": {},
   "outputs": [
    {
     "name": "stdout",
     "output_type": "stream",
     "text": [
      "rose\n"
     ]
    }
   ],
   "source": [
    "ma_twingo.repeindre(\"rose\")\n",
    "print(ma_twingo.couleur)"
   ]
  },
  {
   "cell_type": "markdown",
   "id": "fc6251c6",
   "metadata": {},
   "source": [
    "````{admonition} Le mot-clé self\n",
    ":class: warning\n",
    "\n",
    "Dans tous les cas que vous rencontrerez dans ce cours, le premier argument d'une méthode sera `self`.\n",
    "Cet argument dénote l'objet sur lequel on est en train de travailler.\n",
    "Ainsi, lorsqu'on écrit :\n",
    "\n",
    "```python\n",
    "    def repeindre(self, nouvelle_couleur):\n",
    "        self.couleur = nouvelle_couleur\n",
    "```\n",
    "\n",
    "le sens de ce code est le suivant : \n",
    "\n",
    "* on définit une méthode `repeindre` qui aura **un seul** argument (il ne faut pas compter `self` qui est un argument spécial)\n",
    "* lorsque l'on appelle cette méthode avec une syntaxe du type `ma_twingo.repeindre(\"rose\")`, cette méthode a pour effet de modifier la valeur de l'attribut `couleur` de l'objet `ma_twingo` (celui sur lequel la méthode est appelée)\n",
    "````\n",
    "\n",
    "### La notion d'héritage\n",
    "\n",
    "Dès lors que l'on va introduire plusieurs nouvelles classes dans nos programmes, il arrivera que nos classes partagent un certain nombre d'attributs, voire de méthodes.\n",
    "Si l'on reprend l'exemple de notre classe `Voiture` et que l'on imagine qu'il doive exister une classe `Velo`, il peut s'avérer pertinent de définir une classe **mère**, nommée `Vehicule`, comme suit :"
   ]
  },
  {
   "cell_type": "code",
   "execution_count": 9,
   "id": "8fa87a12",
   "metadata": {},
   "outputs": [],
   "source": [
    "class Vehicule:\n",
    "    def __init__(self):\n",
    "        self.couleur = \"rouge\"\n",
    "\n",
    "    def repeindre(self, nouvelle_couleur):\n",
    "        self.couleur = nouvelle_couleur\n",
    "\n",
    "\n",
    "class Voiture(Vehicule):\n",
    "    def __init__(self):\n",
    "        super().__init__()\n",
    "        self.nombre_roues = 4\n",
    "\n",
    "\n",
    "class Velo(Vehicule):\n",
    "    def __init__(self):\n",
    "        super().__init__()\n",
    "        self.nombre_roues = 2\n",
    "    \n",
    "    def repeindre(self, nouvelle_couleur):\n",
    "        print(\"Quelle joie de repeindre mon vélo !\")\n",
    "        self.couleur = nouvelle_couleur"
   ]
  },
  {
   "cell_type": "markdown",
   "id": "6379c116",
   "metadata": {},
   "source": [
    "Dans le code ci-dessous, on décide que lors de la construction d'un nouveau véhicule, sa couleur sera `\"rouge\"` et on disposera d'une méthode pour le repeindre.\n",
    "On fait aussi le choix de dire que les classes `Voiture` et `Velo` **héritent** de la classe `Vehicule` (on le spécifie en écrivant `class Voiture(Vehicule)`).\n",
    "En héritant de cette classe, elles récupèrent tout ce qui existait pour cette classe (la couleur par défaut et la méthode pour repeindre).\n",
    "Chacune des classes définit en outre un attribut `nombre_roues`.\n",
    "\n",
    "Pour créer un nouvel objet `Voiture` ou `Velo`, on peut alors faire :"
   ]
  },
  {
   "cell_type": "code",
   "execution_count": 10,
   "id": "14921b57",
   "metadata": {},
   "outputs": [
    {
     "name": "stdout",
     "output_type": "stream",
     "text": [
      "rouge 4\n",
      "rouge 2\n"
     ]
    }
   ],
   "source": [
    "ma_twingo = Voiture()\n",
    "mon_vtt = Velo()\n",
    "\n",
    "print(ma_twingo.couleur, ma_twingo.nombre_roues)\n",
    "print(mon_vtt.couleur, mon_vtt.nombre_roues)"
   ]
  },
  {
   "cell_type": "markdown",
   "id": "e85054c9",
   "metadata": {},
   "source": [
    "De plus, même si on ne le voit pas directement dans le code, grâce à l'héritage, la méthode `repeindre` existe pour les objets de ces classes :"
   ]
  },
  {
   "cell_type": "code",
   "execution_count": 11,
   "id": "be83b7b4",
   "metadata": {},
   "outputs": [
    {
     "name": "stdout",
     "output_type": "stream",
     "text": [
      "bleu\n"
     ]
    }
   ],
   "source": [
    "ma_twingo.repeindre(\"bleu\")\n",
    "print(ma_twingo.couleur)"
   ]
  },
  {
   "cell_type": "markdown",
   "id": "042f7e57",
   "metadata": {},
   "source": [
    "Regardons de plus près ce qui se passe lorsqu'on crée un nouvel objet `Velo`.\n",
    "\n",
    "```python\n",
    "class Velo(Vehicule):\n",
    "    def __init__(self):\n",
    "        super().__init__()\n",
    "        self.nombre_roues = 2\n",
    "```\n",
    "\n",
    "Lors de la création d'un nouvel objet, comme pour n'importe quelle classe, la méthode `__init__` est appelée.\n",
    "À l'intérieur de cette méthode, deux choses sont faites :\n",
    "\n",
    "1. `super().__init__()` signifie que l'on appelle le constructeur de la classe mère, soit `Vehicule` : cela permet de définir un attribut `couleur` dont la valeur sera `\"rouge\"`\n",
    "2. `self.nombre_roues = 2` permet de définir un nouvel attribut `nombre_roues` dont la valeur est fixée à 2\n",
    "\n",
    "De plus, vous remarquez que la classe `Velo` redéfinit la méthode `repeindre`.\n",
    "On dit que la classe `Velo` **surcharge** la méthode `repeindre`.\n",
    "\n",
    "Dans ce cas, au lieu de réutiliser la méthode `repeindre` de `Vehicule`, si l'on appelle la méthode `repeindre` pour un objet de la classe `Velo`, c'est cette nouvelle version qui sera utilisée :"
   ]
  },
  {
   "cell_type": "code",
   "execution_count": 12,
   "id": "666dda5b",
   "metadata": {},
   "outputs": [
    {
     "name": "stdout",
     "output_type": "stream",
     "text": [
      "Quelle joie de repeindre mon vélo !\n"
     ]
    }
   ],
   "source": [
    "mon_vtt.repeindre(\"bleu\")"
   ]
  },
  {
   "cell_type": "code",
   "execution_count": 13,
   "id": "d0109744",
   "metadata": {},
   "outputs": [
    {
     "name": "stdout",
     "output_type": "stream",
     "text": [
      "bleu\n"
     ]
    }
   ],
   "source": [
    "print(mon_vtt.couleur)"
   ]
  },
  {
   "cell_type": "markdown",
   "id": "37fa933f",
   "metadata": {},
   "source": [
    "### Les méthodes spéciales\n",
    "\n",
    "Il existe des opérations \"spéciales\" que l'on peut vouloir effectuer sur des objets.\n",
    "On peut par exemple vouloir les afficher via `print()`, ou les sommer.\n",
    "Pour cela, on fait appel à des **méthodes spéciales**.\n",
    "\n",
    "Prenons un nouvel exemple : supposons que l'on veuille créer une classe pour stocker des vecteurs du plan (des paires de flottants, autrement dit).\n",
    "Une première définition pour la classe `Vecteur` correspondante pourrait être la suivante :"
   ]
  },
  {
   "cell_type": "code",
   "execution_count": 14,
   "id": "da234b19",
   "metadata": {},
   "outputs": [],
   "source": [
    "class Vecteur:\n",
    "    def __init__(self, x, y):\n",
    "        self.x = x\n",
    "        self.y = y"
   ]
  },
  {
   "cell_type": "markdown",
   "id": "1663c0a3",
   "metadata": {},
   "source": [
    "En d'autres termes, on définit un nouveau vecteur en spécifiant ses coordonnées dans le plan, ce qui donne :"
   ]
  },
  {
   "cell_type": "code",
   "execution_count": 15,
   "id": "c88884a9",
   "metadata": {},
   "outputs": [
    {
     "name": "stdout",
     "output_type": "stream",
     "text": [
      "<__main__.Vecteur object at 0x7fcaec473bd0>\n"
     ]
    }
   ],
   "source": [
    "v0 = Vecteur(1.5, -1.)\n",
    "print(v0)"
   ]
  },
  {
   "cell_type": "markdown",
   "id": "fae29bde",
   "metadata": {},
   "source": [
    "Ici, on a bien défini notre nouveau vecteur, mais par contre l'affichage laisse à désirer (en tout cas, il ne nous permet pas de savoir ce que contient notre vecteur).\n",
    "On va donc ajouter une nouvelle méthode dont le nom nous est imposé : la méthode `__repr__()` qui permet de définir la **représentation** sous forme de chaîne de caractères d'un objet :"
   ]
  },
  {
   "cell_type": "code",
   "execution_count": 16,
   "id": "e95430bb",
   "metadata": {},
   "outputs": [
    {
     "name": "stdout",
     "output_type": "stream",
     "text": [
      "Vecteur(1.5, -1.0)\n"
     ]
    }
   ],
   "source": [
    "class Vecteur:\n",
    "    def __init__(self, x, y):\n",
    "        self.x = x\n",
    "        self.y = y\n",
    "\n",
    "    def __repr__(self):\n",
    "        return f\"Vecteur({self.x}, {self.y})\"\n",
    "\n",
    "\n",
    "v0 = Vecteur(1.5, -1.)\n",
    "print(v0)"
   ]
  },
  {
   "cell_type": "markdown",
   "id": "7a093cca",
   "metadata": {},
   "source": [
    "On voit bien ici que, même si on n'appelle pas explicitement la méthode `__repr__`, elle est appelée dès lors que l'on doit obtenir une représentation d'un objet sous la forme d'une chaîne de caractères.\n",
    "\n",
    "De la même façon, on peut vouloir définir le résultat de l'opération `v0 + v1` où `v0` et `v1` sont des vecteurs.\n",
    "On devra pour cela définir une méthode `__add__` :"
   ]
  },
  {
   "cell_type": "code",
   "execution_count": 17,
   "id": "39e9c898",
   "metadata": {},
   "outputs": [
    {
     "name": "stdout",
     "output_type": "stream",
     "text": [
      "Vecteur(2.5, -1.0)\n"
     ]
    }
   ],
   "source": [
    "class Vecteur:\n",
    "    def __init__(self, x, y):\n",
    "        self.x = x\n",
    "        self.y = y\n",
    "\n",
    "    def __repr__(self):\n",
    "        return f\"Vecteur({self.x}, {self.y})\"\n",
    "    \n",
    "    def __add__(self, autre_vecteur):\n",
    "        nouveau_vecteur = Vecteur(x=self.x + autre_vecteur.x,\n",
    "                                  y=self.y + autre_vecteur.y)\n",
    "        return nouveau_vecteur\n",
    "\n",
    "\n",
    "v0 = Vecteur(1.5, -1.)\n",
    "v1 = Vecteur(1., 0.)\n",
    "v_somme = v0 + v1\n",
    "print(v_somme)"
   ]
  },
  {
   "cell_type": "markdown",
   "id": "93eb2260",
   "metadata": {},
   "source": [
    "Ici, lorsque l'on écrit `v0 + v1`, tout se passe comme si cette expression était remplacée par `v0.__add__(v1)`.\n",
    "\n",
    "De nombreuses méthodes spéciales peuvent ainsi être définies :\n",
    "\n",
    "Méthode spéciale | Opérateur\n",
    "---|---\n",
    "`__add__(self, o)` | `+`\n",
    "`__sub__(self, o)` | `-`\n",
    "`__mul__(self, o)` | `*`\n",
    "`__truediv__(self, o)` | `/`\n",
    "`__pow__(self, o)` | `**`"
   ]
  }
 ],
 "metadata": {
  "jupytext": {
   "cell_metadata_filter": "-all",
   "formats": "md:myst",
   "text_representation": {
    "extension": ".md",
    "format_name": "myst",
    "format_version": "0.8",
    "jupytext_version": "1.5.0"
   }
  },
  "kernelspec": {
   "display_name": "Python 3",
   "language": "python",
   "name": "python3"
  },
  "language_info": {
   "codemirror_mode": {
    "name": "ipython",
    "version": 3
   },
   "file_extension": ".py",
   "mimetype": "text/x-python",
   "name": "python",
   "nbconvert_exporter": "python",
   "pygments_lexer": "ipython3",
   "version": "3.7.13"
  },
  "source_map": [
   14,
   30,
   33,
   42,
   44,
   49,
   52,
   59,
   61,
   68,
   76,
   83,
   85,
   90,
   92,
   96,
   99,
   124,
   147,
   156,
   162,
   166,
   169,
   191,
   195,
   197,
   209,
   214,
   218,
   221,
   226,
   238,
   245,
   264
  ]
 },
 "nbformat": 4,
 "nbformat_minor": 5
}