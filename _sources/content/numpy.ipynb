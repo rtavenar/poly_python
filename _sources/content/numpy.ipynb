{
 "cells": [
  {
   "cell_type": "markdown",
   "id": "6ac4f55b",
   "metadata": {},
   "source": [
    "# `numpy` et le calcul matriciel\n",
    "\n",
    "Ce chapitre traite d'un module en particulier : le module `numpy`.\n",
    "`numpy` est un raccourci pour _Numerical Python_ : cette librairie a donc pour vocation de fournir des outils de calcul numérique en Python.\n",
    "Ce module permet donc de manipuler des vecteurs et des matrices (voire des tenseurs d'ordre supérieur).\n",
    "\n",
    "Avant toute chose, vous devrez importer ce module :"
   ]
  },
  {
   "cell_type": "code",
   "execution_count": 1,
   "id": "9cb4933b",
   "metadata": {},
   "outputs": [
    {
     "ename": "ModuleNotFoundError",
     "evalue": "No module named 'numpy'",
     "output_type": "error",
     "traceback": [
      "\u001b[0;31m---------------------------------------------------------------------------\u001b[0m",
      "\u001b[0;31mModuleNotFoundError\u001b[0m                       Traceback (most recent call last)",
      "\u001b[0;32m/tmp/ipykernel_5258/3593848235.py\u001b[0m in \u001b[0;36m<module>\u001b[0;34m\u001b[0m\n\u001b[0;32m----> 1\u001b[0;31m \u001b[0;32mimport\u001b[0m \u001b[0mnumpy\u001b[0m \u001b[0;32mas\u001b[0m \u001b[0mnp\u001b[0m\u001b[0;34m\u001b[0m\u001b[0;34m\u001b[0m\u001b[0m\n\u001b[0m",
      "\u001b[0;31mModuleNotFoundError\u001b[0m: No module named 'numpy'"
     ]
    }
   ],
   "source": [
    "import numpy as np"
   ]
  },
  {
   "cell_type": "markdown",
   "id": "80323caa",
   "metadata": {},
   "source": [
    "Vous remarquez ici que lors de l'import, le nom du module est renommé en `np` : il s'agit d'une habitude très répandue qui permet de ne pas surcharger inutilement la suite de votre code.\n",
    "\n",
    "De plus, sachez que ce chapitre est très succinct et très loin de couvrir l'ensemble des fonctionnalités `numpy`, vous êtes donc fortement incités à utiliser [la documentation `numpy`](https://numpy.org/doc/stable/) pour trouver ce qui pourrait vous être utile pour votre usage.\n",
    "\n",
    "## Tableaux multi-dimensionnels\n",
    "\n",
    "Les tableaux multi-dimensionnels sont les objets de base en `numpy`.\n",
    "Onn peut créer un vecteur comme suit :"
   ]
  },
  {
   "cell_type": "code",
   "execution_count": null,
   "id": "c7392558",
   "metadata": {},
   "outputs": [],
   "source": [
    "vec = np.array([1, 4, 6, 7])\n",
    "\n",
    "print(vec.ndim)"
   ]
  },
  {
   "cell_type": "markdown",
   "id": "2cadb8d8",
   "metadata": {},
   "source": [
    "Dans ce chapitre, nous allons nous concentrer sur des vecteurs (`ndim = 1`, comme dans l'exemple ci-dessus) et des matrices (`ndim = 2`), mais il faut savoir que les tableaux multi-dimensionnels `numpy` peuvent stocker des tenseurs d'ordre quelconque.\n",
    "\n",
    "Voici quelques exemples de manipulations élémentaires sur les tableaux `numpy` :"
   ]
  },
  {
   "cell_type": "code",
   "execution_count": null,
   "id": "0a81179c",
   "metadata": {},
   "outputs": [],
   "source": [
    "# Multiplication par une constante\n",
    "print(2.5 * vec)\n",
    "\n",
    "# Accès au type des données stockées\n",
    "print(vec.dtype)\n",
    "\n",
    "# Accès à la taille du vecteur\n",
    "print(vec.shape)\n",
    "\n",
    "# Définition d'une matrice\n",
    "A = np.array([[0, 1], [2, 3]])\n",
    "print(A)\n",
    "\n",
    "# Transposition\n",
    "print(A.T)"
   ]
  },
  {
   "cell_type": "markdown",
   "id": "5f4089b0",
   "metadata": {},
   "source": [
    "On remarque d'ores et déjà que les tableaux `numpy` ont un type associé. \n",
    "On ne pourra donc pas stocker dans un tableau `numpy` des données de types hétérogènes, comme on peut le faire dans le cas des listes Python par exemple.\n",
    "\n",
    "## Produit matriciel et opérations \"élément à élément\"\n",
    "\n",
    "Une chose importante à comprendre en `numpy` est que le produit par défaut entre deux tableaux est le produit élément à élément, et non pas le produit matriciel, comme on peut le voir dans cet exemple :"
   ]
  },
  {
   "cell_type": "code",
   "execution_count": null,
   "id": "e149b510",
   "metadata": {},
   "outputs": [],
   "source": [
    "A = np.array([[0, 1], [2, 3]])\n",
    "print(A)"
   ]
  },
  {
   "cell_type": "code",
   "execution_count": null,
   "id": "d2894263",
   "metadata": {},
   "outputs": [],
   "source": [
    "I = np.array([[1, 0], [0, 1]])\n",
    "print(I)"
   ]
  },
  {
   "cell_type": "code",
   "execution_count": null,
   "id": "31401310",
   "metadata": {},
   "outputs": [],
   "source": [
    "A * I"
   ]
  },
  {
   "cell_type": "markdown",
   "id": "d0aee2df",
   "metadata": {},
   "source": [
    "Il est toutefois possible d'effectuer un produit matriciel à l'aide de l'opérateur `@`, et alors on retrouve bien la propriété attendue qui est que le produit de `A` par la matrice identité retourne la matrice `A` :"
   ]
  },
  {
   "cell_type": "code",
   "execution_count": null,
   "id": "309e27d2",
   "metadata": {},
   "outputs": [],
   "source": [
    "A @ I"
   ]
  },
  {
   "cell_type": "markdown",
   "id": "f2adbda2",
   "metadata": {},
   "source": [
    "De même, lorsqu'on écrit `A ** 2`, on obtient l'élévation au carré de chacun des éléments de `A` et non pas le produit de `A` par lui-même :"
   ]
  },
  {
   "cell_type": "code",
   "execution_count": null,
   "id": "2af31897",
   "metadata": {},
   "outputs": [],
   "source": [
    "A ** 2"
   ]
  },
  {
   "cell_type": "code",
   "execution_count": null,
   "id": "9ed011cf",
   "metadata": {},
   "outputs": [],
   "source": [
    "A @ A"
   ]
  },
  {
   "cell_type": "markdown",
   "id": "d639e17a",
   "metadata": {},
   "source": [
    "Les choses sont plus simples pour l'addition puisqu'il n'y a alors pas de confusion possible :"
   ]
  },
  {
   "cell_type": "code",
   "execution_count": null,
   "id": "23c7351f",
   "metadata": {},
   "outputs": [],
   "source": [
    "A + A"
   ]
  },
  {
   "cell_type": "markdown",
   "id": "3dc9e04d",
   "metadata": {},
   "source": [
    "## Constructeurs de tableaux usuels\n",
    "\n",
    "`numpy` permet de définir très simplement des tableaux remplis de 0, de 1, la matrice identité, ou des séquences de valeurs :"
   ]
  },
  {
   "cell_type": "code",
   "execution_count": null,
   "id": "74743469",
   "metadata": {},
   "outputs": [],
   "source": [
    "np.zeros((2, 3))  # (2, 3) est la taille de la matrice à produire"
   ]
  },
  {
   "cell_type": "code",
   "execution_count": null,
   "id": "a73d4aa6",
   "metadata": {},
   "outputs": [],
   "source": [
    "np.ones((2, 3))  # (2, 3) est la taille de la matrice à produire"
   ]
  },
  {
   "cell_type": "code",
   "execution_count": null,
   "id": "c4fb5c6a",
   "metadata": {},
   "outputs": [],
   "source": [
    "np.eye(2)  # eye -> matrice identité"
   ]
  },
  {
   "cell_type": "code",
   "execution_count": null,
   "id": "80a06118",
   "metadata": {},
   "outputs": [],
   "source": [
    "np.arange(10)  # arange -> équivalent de range pour les listes"
   ]
  },
  {
   "cell_type": "code",
   "execution_count": null,
   "id": "352a7d53",
   "metadata": {},
   "outputs": [],
   "source": [
    "# Vecteur de 11 valeurs espacées régulièrement entre 0 et 1\n",
    "np.linspace(0, 1, 11)"
   ]
  },
  {
   "cell_type": "markdown",
   "id": "23eefc49",
   "metadata": {},
   "source": [
    "## Accès à des sous-parties des tableaux\n",
    "\n",
    "Comme pour les listes, les tableaux `numpy` peuvent être accédés par \"tranches\" (_slice_), comme dans les exemples suivants :"
   ]
  },
  {
   "cell_type": "code",
   "execution_count": null,
   "id": "ef9144c2",
   "metadata": {},
   "outputs": [],
   "source": [
    "M = np.array([[0, 1, 2, 3, 4], [5, 6, 7, 8, 9], [10, 11, 12, 13, 14], [15, 16, 17, 18, 19]])\n",
    "M"
   ]
  },
  {
   "cell_type": "code",
   "execution_count": null,
   "id": "70d1a746",
   "metadata": {},
   "outputs": [],
   "source": [
    "# Indices de colonne jusqu'à 2 (exclu)\n",
    "# Indices de colonne à partir de 3 (inclus)\n",
    "M[:2, 3:]"
   ]
  },
  {
   "cell_type": "code",
   "execution_count": null,
   "id": "6844974c",
   "metadata": {},
   "outputs": [],
   "source": [
    "# Indices de colonne de 1 (inclus) à 3 (exclu)\n",
    "# Tous les indices de colonne\n",
    "M[1:3, :]"
   ]
  },
  {
   "cell_type": "markdown",
   "id": "995ab901",
   "metadata": {},
   "source": [
    "## Opérations élémentaires sur les tableaux\n",
    "\n",
    "Une fois un tableau défini, on peut très facilement calculer :\n",
    "\n",
    "* la somme de ses éléments :"
   ]
  },
  {
   "cell_type": "code",
   "execution_count": null,
   "id": "461c6a0e",
   "metadata": {},
   "outputs": [],
   "source": [
    "np.sum(M)  # Peut aussi s'écrire M.sum()"
   ]
  },
  {
   "cell_type": "markdown",
   "id": "fb4d4931",
   "metadata": {},
   "source": [
    "* sa plus petite / plus grande valeur :"
   ]
  },
  {
   "cell_type": "code",
   "execution_count": null,
   "id": "18ebd058",
   "metadata": {},
   "outputs": [],
   "source": [
    "np.min(M)  # Peut aussi s'écrire M.min()"
   ]
  },
  {
   "cell_type": "code",
   "execution_count": null,
   "id": "6d85589e",
   "metadata": {},
   "outputs": [],
   "source": [
    "np.max(M)  # Peut aussi s'écrire M.max()"
   ]
  },
  {
   "cell_type": "markdown",
   "id": "3f8768ce",
   "metadata": {},
   "source": [
    "* la moyenne / l'écart-type de ses éléments :"
   ]
  },
  {
   "cell_type": "code",
   "execution_count": null,
   "id": "d17000d5",
   "metadata": {},
   "outputs": [],
   "source": [
    "np.mean(M)  # Peut aussi s'écrire M.mean()"
   ]
  },
  {
   "cell_type": "code",
   "execution_count": null,
   "id": "274bd388",
   "metadata": {},
   "outputs": [],
   "source": [
    "np.std(M)  # Peut aussi s'écrire M.std()"
   ]
  },
  {
   "cell_type": "markdown",
   "id": "0e347454",
   "metadata": {},
   "source": [
    "Il est à noter que l'on peut également effectuer ces opérations ligne par ligne, ou colonne par colonne, comme ci-dessous :"
   ]
  },
  {
   "cell_type": "code",
   "execution_count": null,
   "id": "ba46dba9",
   "metadata": {},
   "outputs": [],
   "source": [
    "# On somme sur les lignes (dimension numéro 0)\n",
    "# Donc on obtient un résultat par colonne\n",
    "M.sum(axis=0)"
   ]
  },
  {
   "cell_type": "markdown",
   "id": "94354e44",
   "metadata": {},
   "source": [
    "Enfin, on peut très facilement créer des masques binaires, tels que :"
   ]
  },
  {
   "cell_type": "code",
   "execution_count": null,
   "id": "3e30371b",
   "metadata": {},
   "outputs": [],
   "source": [
    "M > 5  # Vaut True à chaque position telle que l'élément correspondant dans M est > 5"
   ]
  },
  {
   "cell_type": "markdown",
   "id": "d0d0ee47",
   "metadata": {},
   "source": [
    "Ce qui permet de compter simplement le nombre de valeurs d'un tableau vérifiant une condition :"
   ]
  },
  {
   "cell_type": "code",
   "execution_count": null,
   "id": "f5ec7efa",
   "metadata": {},
   "outputs": [],
   "source": [
    "np.sum(M > 5)"
   ]
  },
  {
   "cell_type": "markdown",
   "id": "b876519d",
   "metadata": {},
   "source": [
    "## Bonnes pratiques\n",
    "\n",
    "Vous devrez, tant que faire se peut, utiliser les fonctions prédéfinies en `numpy` pour vos manipulations de tableaux multi-dimensionnels, plutôt que de recoder les opérations élémentaires.\n",
    "Il est notamment fortement déconseillé de parcourir les valeurs d'un tableau `numpy` au sein d'une boucle, pour des raisons d'efficacité (autrement dit, de temps de calcul), comme illustré ci-dessous :"
   ]
  },
  {
   "cell_type": "code",
   "execution_count": null,
   "id": "6147827d",
   "metadata": {},
   "outputs": [],
   "source": [
    "vec = np.ones((100, 10))"
   ]
  },
  {
   "cell_type": "code",
   "execution_count": null,
   "id": "fab611c9",
   "metadata": {},
   "outputs": [],
   "source": [
    "%%timeit  \n",
    "# timeit permet de mesurer le temps d'exécution d'un morceau de code\n",
    "vec.sum()"
   ]
  },
  {
   "cell_type": "code",
   "execution_count": null,
   "id": "c0ba9352",
   "metadata": {},
   "outputs": [],
   "source": [
    "%%timeit  \n",
    "# timeit permet de mesurer le temps d'exécution d'un morceau de code \n",
    "s = 0\n",
    "for v in vec:  # À ne JAMAIS faire !\n",
    "    s += v"
   ]
  },
  {
   "cell_type": "markdown",
   "id": "449b72ef",
   "metadata": {},
   "source": [
    "## Exercices\n",
    "\n",
    "```{admonition} Exercice 10.1\n",
    "Calculez, en `numpy`, la somme des `n` premiers entiers, pour `n` fixé.\n",
    "```\n",
    "\n",
    "````{admonition} Solution\n",
    ":class: tip, dropdown\n",
    "\n",
    "```python\n",
    "import numpy as np\n",
    "\n",
    "n = 10\n",
    "print(np.arange(n).sum())\n",
    "```\n",
    "````\n",
    "\n",
    "````{admonition} Exercice 10.2\n",
    "Supposons qu'on ait stocké dans le tableau suivant les notes reçues par 2 étudiants à 3 examens :\n",
    "```python\n",
    "notes = np.array(\n",
    "  [[10, 12],\n",
    "   [15, 16],\n",
    "   [18, 12]]\n",
    ")\n",
    "```\n",
    "\n",
    "1. Calculez la moyenne de chacun des deux étudiants.\n",
    "2. Calculez le nombre de notes supérieures à 12 contenues dans ce tableau\n",
    "````\n",
    "\n",
    "````{admonition} Solution\n",
    ":class: tip, dropdown\n",
    "\n",
    "```python\n",
    "import numpy as np\n",
    "\n",
    "notes = np.array(\n",
    "  [[10, 12],\n",
    "   [15, 16],\n",
    "   [18, 12]]\n",
    ")\n",
    "\n",
    "moyennes = notes.sum(axis=0)\n",
    "n_notes_sup_12 = np.sum(notes > 12)\n",
    "```\n",
    "````"
   ]
  }
 ],
 "metadata": {
  "jupytext": {
   "cell_metadata_filter": "-all",
   "formats": "md:myst",
   "text_representation": {
    "extension": ".md",
    "format_name": "myst",
    "format_version": "0.8",
    "jupytext_version": "1.5.0"
   }
  },
  "kernelspec": {
   "display_name": "Python 3",
   "language": "python",
   "name": "python3"
  },
  "language_info": {
   "codemirror_mode": {
    "name": "ipython",
    "version": 3
   },
   "file_extension": ".py",
   "mimetype": "text/x-python",
   "name": "python",
   "nbconvert_exporter": "python",
   "pygments_lexer": "ipython3",
   "version": "3.7.13"
  },
  "source_map": [
   14,
   24,
   26,
   37,
   41,
   47,
   63,
   72,
   77,
   82,
   84,
   88,
   90,
   94,
   98,
   100,
   104,
   106,
   112,
   116,
   120,
   124,
   128,
   131,
   137,
   142,
   148,
   152,
   160,
   162,
   166,
   170,
   172,
   176,
   180,
   182,
   186,
   190,
   194,
   196,
   200,
   202,
   209,
   213,
   219,
   225
  ]
 },
 "nbformat": 4,
 "nbformat_minor": 5
}