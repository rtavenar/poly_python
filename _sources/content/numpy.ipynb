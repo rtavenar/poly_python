{
 "cells": [
  {
   "cell_type": "markdown",
   "id": "4c6af370",
   "metadata": {},
   "source": [
    "(sec:numpy)=\n",
    "# `numpy` et le calcul matriciel\n",
    "\n",
    "Ce chapitre traite d'un module en particulier : le module `numpy`.\n",
    "`numpy` est un raccourci pour _Numerical Python_ : cette librairie a donc pour vocation de fournir des outils de calcul numérique en Python.\n",
    "Ce module permet donc de manipuler des vecteurs et des matrices (voire des tenseurs d'ordre supérieur).\n",
    "\n",
    "Avant toute chose, vous devrez importer ce module :"
   ]
  },
  {
   "cell_type": "code",
   "execution_count": 1,
   "id": "b924b6df",
   "metadata": {},
   "outputs": [],
   "source": [
    "import numpy as np"
   ]
  },
  {
   "cell_type": "markdown",
   "id": "0662a426",
   "metadata": {},
   "source": [
    "Vous remarquez ici que lors de l'import, le nom du module est renommé en `np` : il s'agit d'une habitude très répandue qui permet de ne pas surcharger inutilement la suite de votre code.\n",
    "\n",
    "De plus, sachez que ce chapitre est très succinct et très loin de couvrir l'ensemble des fonctionnalités `numpy`, vous êtes donc fortement incités à utiliser [la documentation `numpy`](https://numpy.org/doc/stable/) pour trouver ce qui pourrait vous être utile pour votre usage.\n",
    "\n",
    "## Tableaux multi-dimensionnels\n",
    "\n",
    "Les tableaux multi-dimensionnels sont les objets de base en `numpy`.\n",
    "On peut créer un vecteur comme suit :"
   ]
  },
  {
   "cell_type": "code",
   "execution_count": 2,
   "id": "6e8a87ae",
   "metadata": {},
   "outputs": [
    {
     "name": "stdout",
     "output_type": "stream",
     "text": [
      "1\n"
     ]
    }
   ],
   "source": [
    "vec = np.array([1, 4, 6, 7])\n",
    "\n",
    "print(vec.ndim)"
   ]
  },
  {
   "cell_type": "markdown",
   "id": "5395665e",
   "metadata": {},
   "source": [
    "Dans ce chapitre, nous allons nous concentrer sur des vecteurs (`ndim = 1`, comme dans l'exemple ci-dessus) et des matrices (`ndim = 2`), mais il faut savoir que les tableaux multi-dimensionnels `numpy` peuvent stocker des tenseurs d'ordre quelconque.\n",
    "\n",
    "Voici quelques exemples de manipulations élémentaires sur les tableaux `numpy` :"
   ]
  },
  {
   "cell_type": "code",
   "execution_count": 3,
   "id": "d42ca94d",
   "metadata": {},
   "outputs": [
    {
     "name": "stdout",
     "output_type": "stream",
     "text": [
      "[ 2.5 10.  15.  17.5]\n",
      "int64\n",
      "(4,)\n",
      "[[0 1]\n",
      " [2 3]]\n",
      "[[0 2]\n",
      " [1 3]]\n"
     ]
    }
   ],
   "source": [
    "# Multiplication par une constante\n",
    "print(2.5 * vec)\n",
    "\n",
    "# Accès au type des données stockées\n",
    "print(vec.dtype)\n",
    "\n",
    "# Accès à la taille du vecteur\n",
    "print(vec.shape)\n",
    "\n",
    "# Définition d'une matrice\n",
    "A = np.array([[0, 1], [2, 3]])\n",
    "print(A)\n",
    "\n",
    "# Transposition\n",
    "print(A.T)"
   ]
  },
  {
   "cell_type": "markdown",
   "id": "0ae859fa",
   "metadata": {},
   "source": [
    "On remarque d'ores et déjà que les tableaux `numpy` ont un type associé. \n",
    "On ne pourra donc pas stocker dans un tableau `numpy` des données de types hétérogènes, comme on peut le faire dans le cas des listes Python par exemple.\n",
    "\n",
    "## Produit matriciel et opérations \"élément à élément\"\n",
    "\n",
    "Une chose importante à comprendre en `numpy` est que le produit par défaut entre deux tableaux est le produit élément à élément, et non pas le produit matriciel, comme on peut le voir dans cet exemple :"
   ]
  },
  {
   "cell_type": "code",
   "execution_count": 4,
   "id": "e389f501",
   "metadata": {},
   "outputs": [
    {
     "name": "stdout",
     "output_type": "stream",
     "text": [
      "[[0 1]\n",
      " [2 3]]\n"
     ]
    }
   ],
   "source": [
    "A = np.array([[0, 1], [2, 3]])\n",
    "print(A)"
   ]
  },
  {
   "cell_type": "code",
   "execution_count": 5,
   "id": "0be067ea",
   "metadata": {},
   "outputs": [
    {
     "name": "stdout",
     "output_type": "stream",
     "text": [
      "[[1 0]\n",
      " [0 1]]\n"
     ]
    }
   ],
   "source": [
    "I = np.array([[1, 0], [0, 1]])\n",
    "print(I)"
   ]
  },
  {
   "cell_type": "code",
   "execution_count": 6,
   "id": "f98b16a7",
   "metadata": {},
   "outputs": [
    {
     "data": {
      "text/plain": [
       "array([[0, 0],\n",
       "       [0, 3]])"
      ]
     },
     "execution_count": 6,
     "metadata": {},
     "output_type": "execute_result"
    }
   ],
   "source": [
    "A * I"
   ]
  },
  {
   "cell_type": "markdown",
   "id": "03d3b1f5",
   "metadata": {},
   "source": [
    "Il est toutefois possible d'effectuer un produit matriciel à l'aide de l'opérateur `@`, et alors on retrouve bien la propriété attendue qui est que le produit de `A` par la matrice identité retourne la matrice `A` :"
   ]
  },
  {
   "cell_type": "code",
   "execution_count": 7,
   "id": "a7771a5f",
   "metadata": {},
   "outputs": [
    {
     "data": {
      "text/plain": [
       "array([[0, 1],\n",
       "       [2, 3]])"
      ]
     },
     "execution_count": 7,
     "metadata": {},
     "output_type": "execute_result"
    }
   ],
   "source": [
    "A @ I"
   ]
  },
  {
   "cell_type": "markdown",
   "id": "0fec9c36",
   "metadata": {},
   "source": [
    "De même, lorsqu'on écrit `A ** 2`, on obtient l'élévation au carré de chacun des éléments de `A` et non pas le produit de `A` par lui-même :"
   ]
  },
  {
   "cell_type": "code",
   "execution_count": 8,
   "id": "accbe579",
   "metadata": {},
   "outputs": [
    {
     "data": {
      "text/plain": [
       "array([[0, 1],\n",
       "       [4, 9]])"
      ]
     },
     "execution_count": 8,
     "metadata": {},
     "output_type": "execute_result"
    }
   ],
   "source": [
    "A ** 2"
   ]
  },
  {
   "cell_type": "code",
   "execution_count": 9,
   "id": "e045f7b1",
   "metadata": {},
   "outputs": [
    {
     "data": {
      "text/plain": [
       "array([[ 2,  3],\n",
       "       [ 6, 11]])"
      ]
     },
     "execution_count": 9,
     "metadata": {},
     "output_type": "execute_result"
    }
   ],
   "source": [
    "A @ A"
   ]
  },
  {
   "cell_type": "markdown",
   "id": "40ea4cdc",
   "metadata": {},
   "source": [
    "Les choses sont plus simples pour l'addition puisqu'il n'y a alors pas de confusion possible :"
   ]
  },
  {
   "cell_type": "code",
   "execution_count": 10,
   "id": "b43be610",
   "metadata": {},
   "outputs": [
    {
     "data": {
      "text/plain": [
       "array([[0, 2],\n",
       "       [4, 6]])"
      ]
     },
     "execution_count": 10,
     "metadata": {},
     "output_type": "execute_result"
    }
   ],
   "source": [
    "A + A"
   ]
  },
  {
   "cell_type": "markdown",
   "id": "d8b7250d",
   "metadata": {},
   "source": [
    "## Constructeurs de tableaux usuels\n",
    "\n",
    "`numpy` permet de définir très simplement des tableaux remplis de 0, de 1, la matrice identité, ou des séquences de valeurs :"
   ]
  },
  {
   "cell_type": "code",
   "execution_count": 11,
   "id": "64e04773",
   "metadata": {},
   "outputs": [
    {
     "data": {
      "text/plain": [
       "array([[0., 0., 0.],\n",
       "       [0., 0., 0.]])"
      ]
     },
     "execution_count": 11,
     "metadata": {},
     "output_type": "execute_result"
    }
   ],
   "source": [
    "np.zeros((2, 3))  # (2, 3) est la taille de la matrice à produire"
   ]
  },
  {
   "cell_type": "code",
   "execution_count": 12,
   "id": "ebc1870f",
   "metadata": {},
   "outputs": [
    {
     "data": {
      "text/plain": [
       "array([[1., 1., 1.],\n",
       "       [1., 1., 1.]])"
      ]
     },
     "execution_count": 12,
     "metadata": {},
     "output_type": "execute_result"
    }
   ],
   "source": [
    "np.ones((2, 3))  # (2, 3) est la taille de la matrice à produire"
   ]
  },
  {
   "cell_type": "code",
   "execution_count": 13,
   "id": "a8af4df5",
   "metadata": {},
   "outputs": [
    {
     "data": {
      "text/plain": [
       "array([[1., 0.],\n",
       "       [0., 1.]])"
      ]
     },
     "execution_count": 13,
     "metadata": {},
     "output_type": "execute_result"
    }
   ],
   "source": [
    "np.eye(2)  # eye -> matrice identité"
   ]
  },
  {
   "cell_type": "code",
   "execution_count": 14,
   "id": "40907819",
   "metadata": {},
   "outputs": [
    {
     "data": {
      "text/plain": [
       "array([0, 1, 2, 3, 4, 5, 6, 7, 8, 9])"
      ]
     },
     "execution_count": 14,
     "metadata": {},
     "output_type": "execute_result"
    }
   ],
   "source": [
    "np.arange(10)  # arange -> équivalent de range pour les listes"
   ]
  },
  {
   "cell_type": "code",
   "execution_count": 15,
   "id": "0cdb4358",
   "metadata": {},
   "outputs": [
    {
     "data": {
      "text/plain": [
       "array([0. , 0.1, 0.2, 0.3, 0.4, 0.5, 0.6, 0.7, 0.8, 0.9, 1. ])"
      ]
     },
     "execution_count": 15,
     "metadata": {},
     "output_type": "execute_result"
    }
   ],
   "source": [
    "# Vecteur de 11 valeurs espacées régulièrement entre 0 et 1\n",
    "np.linspace(0, 1, 11)"
   ]
  },
  {
   "cell_type": "code",
   "execution_count": 16,
   "id": "5f810211",
   "metadata": {},
   "outputs": [
    {
     "data": {
      "text/plain": [
       "array([[0, 1],\n",
       "       [2, 3],\n",
       "       [4, 5],\n",
       "       [6, 7],\n",
       "       [8, 9]])"
      ]
     },
     "execution_count": 16,
     "metadata": {},
     "output_type": "execute_result"
    }
   ],
   "source": [
    "m = np.arange(10)\n",
    "# Redimensionner m pour qu'il ait 5 lignes et 2 colonnes\n",
    "m.reshape((5, 2))"
   ]
  },
  {
   "cell_type": "markdown",
   "id": "e2a504a8",
   "metadata": {},
   "source": [
    "## Accès à des sous-parties des tableaux\n",
    "\n",
    "Comme pour les listes, les tableaux `numpy` peuvent être accédés par \"tranches\" (_slice_), comme dans les exemples suivants :"
   ]
  },
  {
   "cell_type": "code",
   "execution_count": 17,
   "id": "be9cb50a",
   "metadata": {},
   "outputs": [
    {
     "data": {
      "text/plain": [
       "array([[ 0,  1,  2,  3,  4],\n",
       "       [ 5,  6,  7,  8,  9],\n",
       "       [10, 11, 12, 13, 14],\n",
       "       [15, 16, 17, 18, 19]])"
      ]
     },
     "execution_count": 17,
     "metadata": {},
     "output_type": "execute_result"
    }
   ],
   "source": [
    "M = np.array([[0, 1, 2, 3, 4], [5, 6, 7, 8, 9], [10, 11, 12, 13, 14], [15, 16, 17, 18, 19]])\n",
    "M"
   ]
  },
  {
   "cell_type": "code",
   "execution_count": 18,
   "id": "183123ef",
   "metadata": {},
   "outputs": [
    {
     "data": {
      "text/plain": [
       "array([[3, 4],\n",
       "       [8, 9]])"
      ]
     },
     "execution_count": 18,
     "metadata": {},
     "output_type": "execute_result"
    }
   ],
   "source": [
    "# Indices de ligne jusqu'à 2 (exclu)\n",
    "# Indices de colonne à partir de 3 (inclus)\n",
    "M[:2, 3:]"
   ]
  },
  {
   "cell_type": "code",
   "execution_count": 19,
   "id": "6004d7e0",
   "metadata": {},
   "outputs": [
    {
     "data": {
      "text/plain": [
       "array([[ 5,  6,  7,  8,  9],\n",
       "       [10, 11, 12, 13, 14]])"
      ]
     },
     "execution_count": 19,
     "metadata": {},
     "output_type": "execute_result"
    }
   ],
   "source": [
    "# Indices de colonne de 1 (inclus) à 3 (exclu)\n",
    "# Tous les indices de colonne\n",
    "M[1:3, :]"
   ]
  },
  {
   "cell_type": "markdown",
   "id": "956d7a11",
   "metadata": {},
   "source": [
    "On peut également utiliser des listes (ou des `ndarray`) d'indices pour accéder aux éléments d'un tableau situés aux indices correspondants :"
   ]
  },
  {
   "cell_type": "code",
   "execution_count": 20,
   "id": "49b22261",
   "metadata": {},
   "outputs": [
    {
     "data": {
      "text/plain": [
       "array([ 1, 12])"
      ]
     },
     "execution_count": 20,
     "metadata": {},
     "output_type": "execute_result"
    }
   ],
   "source": [
    "liste_indices = [0, 4]\n",
    "v = np.array([1, 5, 7, 9, 12])\n",
    "v[liste_indices]"
   ]
  },
  {
   "cell_type": "markdown",
   "id": "cafd01e6",
   "metadata": {},
   "source": [
    "Ici, `v[liste_indices]` est un `ndarray` constitué des éléments `[v[0], v[4]]`.\n",
    "De la même façon, si les indices sont stockés dans une structure à deux dimensions :"
   ]
  },
  {
   "cell_type": "code",
   "execution_count": 21,
   "id": "dbe14709",
   "metadata": {},
   "outputs": [
    {
     "data": {
      "text/plain": [
       "array([[ 1, 12],\n",
       "       [ 5,  9]])"
      ]
     },
     "execution_count": 21,
     "metadata": {},
     "output_type": "execute_result"
    }
   ],
   "source": [
    "indices = np.array([[0, 4],\n",
    "                    [1, 3]])\n",
    "v[indices]"
   ]
  },
  {
   "cell_type": "markdown",
   "id": "422b1ce5",
   "metadata": {},
   "source": [
    "On voit que, ici, `v[indices]` est un `ndarray` à 2 dimensions constitué des éléments \n",
    "```\n",
    "[v[0], v[4]\n",
    " v[1], v[3]]\n",
    "````\n",
    "\n",
    "## Opérations élémentaires sur les tableaux\n",
    "\n",
    "Une fois un tableau défini, on peut très facilement calculer :\n",
    "\n",
    "* la somme de ses éléments :"
   ]
  },
  {
   "cell_type": "code",
   "execution_count": 22,
   "id": "72e6593b",
   "metadata": {},
   "outputs": [
    {
     "data": {
      "text/plain": [
       "190"
      ]
     },
     "execution_count": 22,
     "metadata": {},
     "output_type": "execute_result"
    }
   ],
   "source": [
    "np.sum(M)  # Peut aussi s'écrire M.sum()"
   ]
  },
  {
   "cell_type": "markdown",
   "id": "e9f1a594",
   "metadata": {},
   "source": [
    "* sa plus petite / plus grande valeur :"
   ]
  },
  {
   "cell_type": "code",
   "execution_count": 23,
   "id": "db58d556",
   "metadata": {},
   "outputs": [
    {
     "data": {
      "text/plain": [
       "0"
      ]
     },
     "execution_count": 23,
     "metadata": {},
     "output_type": "execute_result"
    }
   ],
   "source": [
    "np.min(M)  # Peut aussi s'écrire M.min()"
   ]
  },
  {
   "cell_type": "code",
   "execution_count": 24,
   "id": "bc71ca40",
   "metadata": {},
   "outputs": [
    {
     "data": {
      "text/plain": [
       "19"
      ]
     },
     "execution_count": 24,
     "metadata": {},
     "output_type": "execute_result"
    }
   ],
   "source": [
    "np.max(M)  # Peut aussi s'écrire M.max()"
   ]
  },
  {
   "cell_type": "markdown",
   "id": "13aaf6e4",
   "metadata": {},
   "source": [
    "* la moyenne / l'écart-type de ses éléments :"
   ]
  },
  {
   "cell_type": "code",
   "execution_count": 25,
   "id": "6bc270bf",
   "metadata": {},
   "outputs": [
    {
     "data": {
      "text/plain": [
       "9.5"
      ]
     },
     "execution_count": 25,
     "metadata": {},
     "output_type": "execute_result"
    }
   ],
   "source": [
    "np.mean(M)  # Peut aussi s'écrire M.mean()"
   ]
  },
  {
   "cell_type": "code",
   "execution_count": 26,
   "id": "337220e6",
   "metadata": {},
   "outputs": [
    {
     "data": {
      "text/plain": [
       "5.766281297335398"
      ]
     },
     "execution_count": 26,
     "metadata": {},
     "output_type": "execute_result"
    }
   ],
   "source": [
    "np.std(M)  # Peut aussi s'écrire M.std()"
   ]
  },
  {
   "cell_type": "markdown",
   "id": "a98adeb9",
   "metadata": {},
   "source": [
    "Il est à noter que pour toutes ces opérations, deux syntaxes co-existent :"
   ]
  },
  {
   "cell_type": "code",
   "execution_count": 27,
   "id": "0485c0ba",
   "metadata": {},
   "outputs": [
    {
     "name": "stdout",
     "output_type": "stream",
     "text": [
      "0\n",
      "0\n"
     ]
    }
   ],
   "source": [
    "print(np.min(M))\n",
    "print(M.min())"
   ]
  },
  {
   "cell_type": "markdown",
   "id": "e9c82a9a",
   "metadata": {},
   "source": [
    "De plus, on peut également effectuer ces opérations ligne par ligne, ou colonne par colonne, comme ci-dessous :"
   ]
  },
  {
   "cell_type": "code",
   "execution_count": 28,
   "id": "89852d17",
   "metadata": {},
   "outputs": [
    {
     "data": {
      "text/plain": [
       "array([30, 34, 38, 42, 46])"
      ]
     },
     "execution_count": 28,
     "metadata": {},
     "output_type": "execute_result"
    }
   ],
   "source": [
    "# On somme sur les lignes (dimension numéro 0)\n",
    "# Donc on obtient un résultat par colonne\n",
    "M.sum(axis=0)"
   ]
  },
  {
   "cell_type": "markdown",
   "id": "863bb0e8",
   "metadata": {},
   "source": [
    "Enfin, on peut très facilement créer des masques binaires, tels que :"
   ]
  },
  {
   "cell_type": "code",
   "execution_count": 29,
   "id": "96995630",
   "metadata": {},
   "outputs": [
    {
     "data": {
      "text/plain": [
       "array([[False, False, False, False, False],\n",
       "       [False,  True,  True,  True,  True],\n",
       "       [ True,  True,  True,  True,  True],\n",
       "       [ True,  True,  True,  True,  True]])"
      ]
     },
     "execution_count": 29,
     "metadata": {},
     "output_type": "execute_result"
    }
   ],
   "source": [
    "M > 5  # Vaut True à chaque position telle que l'élément correspondant dans M est > 5"
   ]
  },
  {
   "cell_type": "markdown",
   "id": "b5b10cb1",
   "metadata": {},
   "source": [
    "Ce qui permet de compter simplement le nombre de valeurs d'un tableau vérifiant une condition :"
   ]
  },
  {
   "cell_type": "code",
   "execution_count": 30,
   "id": "13b83ffd",
   "metadata": {},
   "outputs": [
    {
     "data": {
      "text/plain": [
       "14"
      ]
     },
     "execution_count": 30,
     "metadata": {},
     "output_type": "execute_result"
    }
   ],
   "source": [
    "np.sum(M > 5)"
   ]
  },
  {
   "cell_type": "markdown",
   "id": "91bf2db6",
   "metadata": {},
   "source": [
    "## Bonnes pratiques\n",
    "\n",
    "Vous devrez, tant que faire se peut, utiliser les fonctions prédéfinies en `numpy` pour vos manipulations de tableaux multi-dimensionnels, plutôt que de recoder les opérations élémentaires.\n",
    "Il est notamment fortement déconseillé de parcourir les valeurs d'un tableau `numpy` au sein d'une boucle, pour des raisons d'efficacité (autrement dit, de temps de calcul), comme illustré ci-dessous :"
   ]
  },
  {
   "cell_type": "code",
   "execution_count": 31,
   "id": "999ef786",
   "metadata": {},
   "outputs": [],
   "source": [
    "vec = np.ones((100, 10))"
   ]
  },
  {
   "cell_type": "code",
   "execution_count": 32,
   "id": "a1a9e6b1",
   "metadata": {},
   "outputs": [
    {
     "name": "stdout",
     "output_type": "stream",
     "text": [
      "2.71 µs ± 56.7 ns per loop (mean ± std. dev. of 7 runs, 100000 loops each)\n"
     ]
    }
   ],
   "source": [
    "%%timeit  \n",
    "# timeit permet de mesurer le temps d'exécution d'un morceau de code\n",
    "vec.sum()"
   ]
  },
  {
   "cell_type": "code",
   "execution_count": 33,
   "id": "81a7a360",
   "metadata": {},
   "outputs": [
    {
     "name": "stdout",
     "output_type": "stream",
     "text": [
      "145 µs ± 2.33 µs per loop (mean ± std. dev. of 7 runs, 10000 loops each)\n"
     ]
    }
   ],
   "source": [
    "%%timeit  \n",
    "# timeit permet de mesurer le temps d'exécution d'un morceau de code \n",
    "s = 0\n",
    "for v in vec:  # À ne JAMAIS faire !\n",
    "    s += v"
   ]
  },
  {
   "cell_type": "markdown",
   "id": "78f28970",
   "metadata": {},
   "source": [
    "## Exercices\n",
    "\n",
    "```{admonition} Exercice 10.1\n",
    "Calculez, en `numpy`, la somme des `n` premiers entiers, pour `n` fixé.\n",
    "```\n",
    "\n",
    "````{admonition} Solution\n",
    ":class: tip, dropdown\n",
    "\n",
    "```python\n",
    "import numpy as np\n",
    "\n",
    "n = 10\n",
    "print(np.arange(n).sum())\n",
    "```\n",
    "````\n",
    "\n",
    "````{admonition} Exercice 10.2\n",
    "Supposons qu'on ait stocké dans le tableau suivant les notes reçues par 2 étudiants à 3 examens :\n",
    "```python\n",
    "notes = np.array(\n",
    "  [[10, 12],\n",
    "   [15, 16],\n",
    "   [18, 12]]\n",
    ")\n",
    "```\n",
    "\n",
    "1. Calculez la moyenne de chacun des deux étudiants.\n",
    "2. Calculez le nombre de notes supérieures à 12 contenues dans ce tableau\n",
    "````\n",
    "\n",
    "````{admonition} Solution\n",
    ":class: tip, dropdown\n",
    "\n",
    "```python\n",
    "import numpy as np\n",
    "\n",
    "notes = np.array(\n",
    "  [[10, 12],\n",
    "   [15, 16],\n",
    "   [18, 12]]\n",
    ")\n",
    "\n",
    "moyennes = notes.mean(axis=0)\n",
    "n_notes_sup_12 = np.sum(notes > 12)\n",
    "```\n",
    "````"
   ]
  }
 ],
 "metadata": {
  "jupytext": {
   "cell_metadata_filter": "-all",
   "formats": "md:myst",
   "text_representation": {
    "extension": ".md",
    "format_name": "myst",
    "format_version": "0.8",
    "jupytext_version": "1.5.0"
   }
  },
  "kernelspec": {
   "display_name": "Python 3",
   "language": "python",
   "name": "python3"
  },
  "language_info": {
   "codemirror_mode": {
    "name": "ipython",
    "version": 3
   },
   "file_extension": ".py",
   "mimetype": "text/x-python",
   "name": "python",
   "nbconvert_exporter": "python",
   "pygments_lexer": "ipython3",
   "version": "3.7.14"
  },
  "source_map": [
   14,
   25,
   27,
   38,
   42,
   48,
   64,
   73,
   78,
   83,
   85,
   89,
   91,
   95,
   99,
   101,
   105,
   107,
   113,
   117,
   121,
   125,
   129,
   134,
   138,
   144,
   149,
   155,
   159,
   163,
   167,
   172,
   176,
   190,
   192,
   196,
   200,
   202,
   206,
   210,
   212,
   216,
   219,
   223,
   227,
   231,
   233,
   237,
   239,
   246,
   250,
   256,
   262
  ]
 },
 "nbformat": 4,
 "nbformat_minor": 5
}