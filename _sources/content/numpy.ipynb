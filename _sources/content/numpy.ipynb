{
 "cells": [
  {
   "cell_type": "markdown",
   "id": "eb7c0047",
   "metadata": {},
   "source": [
    "(sec:numpy)=\n",
    "# `numpy` et le calcul matriciel\n",
    "\n",
    "Ce chapitre traite d'un module en particulier : le module `numpy`.\n",
    "`numpy` est un raccourci pour _Numerical Python_ : cette librairie a donc pour vocation de fournir des outils de calcul numérique en Python.\n",
    "Ce module permet donc de manipuler des vecteurs et des matrices (voire des tenseurs d'ordre supérieur).\n",
    "\n",
    "Avant toute chose, vous devrez importer ce module :"
   ]
  },
  {
   "cell_type": "code",
   "execution_count": 1,
   "id": "9bd6c6e1",
   "metadata": {},
   "outputs": [],
   "source": [
    "import numpy as np"
   ]
  },
  {
   "cell_type": "markdown",
   "id": "3b5d1d71",
   "metadata": {},
   "source": [
    "Vous remarquez ici que lors de l'import, le nom du module est renommé en `np` : il s'agit d'une habitude très répandue qui permet de ne pas surcharger inutilement la suite de votre code.\n",
    "\n",
    "De plus, sachez que ce chapitre est très succinct et très loin de couvrir l'ensemble des fonctionnalités `numpy`, vous êtes donc fortement incités à utiliser [la documentation `numpy`](https://numpy.org/doc/stable/) pour trouver ce qui pourrait vous être utile pour votre usage.\n",
    "\n",
    "## Tableaux multi-dimensionnels\n",
    "\n",
    "Les tableaux multi-dimensionnels sont les objets de base en `numpy`.\n",
    "On peut créer un vecteur comme suit :"
   ]
  },
  {
   "cell_type": "code",
   "execution_count": 2,
   "id": "cd624d1b",
   "metadata": {},
   "outputs": [
    {
     "name": "stdout",
     "output_type": "stream",
     "text": [
      "1\n"
     ]
    }
   ],
   "source": [
    "vec = np.array([1, 4, 6, 7])\n",
    "\n",
    "print(vec.ndim)"
   ]
  },
  {
   "cell_type": "markdown",
   "id": "e9f491ff",
   "metadata": {},
   "source": [
    "Dans ce chapitre, nous allons nous concentrer sur des vecteurs (`ndim = 1`, comme dans l'exemple ci-dessus) et des matrices (`ndim = 2`), mais il faut savoir que les tableaux multi-dimensionnels `numpy` peuvent stocker des tenseurs d'ordre quelconque.\n",
    "\n",
    "Voici quelques exemples de manipulations élémentaires sur les tableaux `numpy` :"
   ]
  },
  {
   "cell_type": "code",
   "execution_count": 3,
   "id": "02e49bfa",
   "metadata": {},
   "outputs": [
    {
     "name": "stdout",
     "output_type": "stream",
     "text": [
      "[ 2.5 10.  15.  17.5]\n",
      "int64\n",
      "(4,)\n",
      "[[0 1]\n",
      " [2 3]]\n",
      "[[0 2]\n",
      " [1 3]]\n"
     ]
    }
   ],
   "source": [
    "# Multiplication par une constante\n",
    "print(2.5 * vec)\n",
    "\n",
    "# Accès au type des données stockées\n",
    "print(vec.dtype)\n",
    "\n",
    "# Accès à la taille du vecteur\n",
    "print(vec.shape)\n",
    "\n",
    "# Définition d'une matrice\n",
    "A = np.array([[0, 1], [2, 3]])\n",
    "print(A)\n",
    "\n",
    "# Transposition\n",
    "print(A.T)"
   ]
  },
  {
   "cell_type": "markdown",
   "id": "e140f0d3",
   "metadata": {},
   "source": [
    "On remarque d'ores et déjà que les tableaux `numpy` ont un type associé. \n",
    "On ne pourra donc pas stocker dans un tableau `numpy` des données de types hétérogènes, comme on peut le faire dans le cas des listes Python par exemple.\n",
    "\n",
    "## Produit matriciel et opérations \"élément à élément\"\n",
    "\n",
    "Une chose importante à comprendre en `numpy` est que le produit par défaut entre deux tableaux est le produit élément à élément, et non pas le produit matriciel, comme on peut le voir dans cet exemple :"
   ]
  },
  {
   "cell_type": "code",
   "execution_count": 4,
   "id": "80e548af",
   "metadata": {},
   "outputs": [
    {
     "name": "stdout",
     "output_type": "stream",
     "text": [
      "[[0 1]\n",
      " [2 3]]\n"
     ]
    }
   ],
   "source": [
    "A = np.array([[0, 1], [2, 3]])\n",
    "print(A)"
   ]
  },
  {
   "cell_type": "code",
   "execution_count": 5,
   "id": "b4f0de82",
   "metadata": {},
   "outputs": [
    {
     "name": "stdout",
     "output_type": "stream",
     "text": [
      "[[1 0]\n",
      " [0 1]]\n"
     ]
    }
   ],
   "source": [
    "I = np.array([[1, 0], [0, 1]])\n",
    "print(I)"
   ]
  },
  {
   "cell_type": "code",
   "execution_count": 6,
   "id": "c108c92f",
   "metadata": {},
   "outputs": [
    {
     "data": {
      "text/plain": [
       "array([[0, 0],\n",
       "       [0, 3]])"
      ]
     },
     "execution_count": 6,
     "metadata": {},
     "output_type": "execute_result"
    }
   ],
   "source": [
    "A * I"
   ]
  },
  {
   "cell_type": "markdown",
   "id": "3a884ef1",
   "metadata": {},
   "source": [
    "Il est toutefois possible d'effectuer un produit matriciel à l'aide de l'opérateur `@`, et alors on retrouve bien la propriété attendue qui est que le produit de `A` par la matrice identité retourne la matrice `A` :"
   ]
  },
  {
   "cell_type": "code",
   "execution_count": 7,
   "id": "2f3c16ee",
   "metadata": {},
   "outputs": [
    {
     "data": {
      "text/plain": [
       "array([[0, 1],\n",
       "       [2, 3]])"
      ]
     },
     "execution_count": 7,
     "metadata": {},
     "output_type": "execute_result"
    }
   ],
   "source": [
    "A @ I"
   ]
  },
  {
   "cell_type": "markdown",
   "id": "d7408f6e",
   "metadata": {},
   "source": [
    "De même, lorsqu'on écrit `A ** 2`, on obtient l'élévation au carré de chacun des éléments de `A` et non pas le produit de `A` par lui-même :"
   ]
  },
  {
   "cell_type": "code",
   "execution_count": 8,
   "id": "abdeacae",
   "metadata": {},
   "outputs": [
    {
     "data": {
      "text/plain": [
       "array([[0, 1],\n",
       "       [4, 9]])"
      ]
     },
     "execution_count": 8,
     "metadata": {},
     "output_type": "execute_result"
    }
   ],
   "source": [
    "A ** 2"
   ]
  },
  {
   "cell_type": "code",
   "execution_count": 9,
   "id": "982d93e8",
   "metadata": {},
   "outputs": [
    {
     "data": {
      "text/plain": [
       "array([[ 2,  3],\n",
       "       [ 6, 11]])"
      ]
     },
     "execution_count": 9,
     "metadata": {},
     "output_type": "execute_result"
    }
   ],
   "source": [
    "A @ A"
   ]
  },
  {
   "cell_type": "markdown",
   "id": "be349a07",
   "metadata": {},
   "source": [
    "Les choses sont plus simples pour l'addition puisqu'il n'y a alors pas de confusion possible :"
   ]
  },
  {
   "cell_type": "code",
   "execution_count": 10,
   "id": "2ae12b88",
   "metadata": {},
   "outputs": [
    {
     "data": {
      "text/plain": [
       "array([[0, 2],\n",
       "       [4, 6]])"
      ]
     },
     "execution_count": 10,
     "metadata": {},
     "output_type": "execute_result"
    }
   ],
   "source": [
    "A + A"
   ]
  },
  {
   "cell_type": "markdown",
   "id": "3052123c",
   "metadata": {},
   "source": [
    "## Constructeurs de tableaux usuels\n",
    "\n",
    "`numpy` permet de définir très simplement des tableaux remplis de 0, de 1, la matrice identité, ou des séquences de valeurs :"
   ]
  },
  {
   "cell_type": "code",
   "execution_count": 11,
   "id": "39707032",
   "metadata": {},
   "outputs": [
    {
     "data": {
      "text/plain": [
       "array([[0., 0., 0.],\n",
       "       [0., 0., 0.]])"
      ]
     },
     "execution_count": 11,
     "metadata": {},
     "output_type": "execute_result"
    }
   ],
   "source": [
    "np.zeros((2, 3))  # (2, 3) est la taille de la matrice à produire"
   ]
  },
  {
   "cell_type": "code",
   "execution_count": 12,
   "id": "52889c2e",
   "metadata": {},
   "outputs": [
    {
     "data": {
      "text/plain": [
       "array([[1., 1., 1.],\n",
       "       [1., 1., 1.]])"
      ]
     },
     "execution_count": 12,
     "metadata": {},
     "output_type": "execute_result"
    }
   ],
   "source": [
    "np.ones((2, 3))  # (2, 3) est la taille de la matrice à produire"
   ]
  },
  {
   "cell_type": "code",
   "execution_count": 13,
   "id": "f815bc8e",
   "metadata": {},
   "outputs": [
    {
     "data": {
      "text/plain": [
       "array([[1., 0.],\n",
       "       [0., 1.]])"
      ]
     },
     "execution_count": 13,
     "metadata": {},
     "output_type": "execute_result"
    }
   ],
   "source": [
    "np.eye(2)  # eye -> matrice identité"
   ]
  },
  {
   "cell_type": "code",
   "execution_count": 14,
   "id": "408cf26d",
   "metadata": {},
   "outputs": [
    {
     "data": {
      "text/plain": [
       "array([0, 1, 2, 3, 4, 5, 6, 7, 8, 9])"
      ]
     },
     "execution_count": 14,
     "metadata": {},
     "output_type": "execute_result"
    }
   ],
   "source": [
    "np.arange(10)  # arange -> équivalent de range pour les listes"
   ]
  },
  {
   "cell_type": "code",
   "execution_count": 15,
   "id": "a533529a",
   "metadata": {},
   "outputs": [
    {
     "data": {
      "text/plain": [
       "array([0. , 0.1, 0.2, 0.3, 0.4, 0.5, 0.6, 0.7, 0.8, 0.9, 1. ])"
      ]
     },
     "execution_count": 15,
     "metadata": {},
     "output_type": "execute_result"
    }
   ],
   "source": [
    "# Vecteur de 11 valeurs espacées régulièrement entre 0 et 1\n",
    "np.linspace(0, 1, 11)"
   ]
  },
  {
   "cell_type": "code",
   "execution_count": 16,
   "id": "221a196e",
   "metadata": {},
   "outputs": [
    {
     "data": {
      "text/plain": [
       "array([[0, 1],\n",
       "       [2, 3],\n",
       "       [4, 5],\n",
       "       [6, 7],\n",
       "       [8, 9]])"
      ]
     },
     "execution_count": 16,
     "metadata": {},
     "output_type": "execute_result"
    }
   ],
   "source": [
    "m = np.arange(10)\n",
    "# Redimensionner m pour qu'il ait 5 lignes et 2 colonnes\n",
    "m.reshape((5, 2))"
   ]
  },
  {
   "cell_type": "markdown",
   "id": "54d6020f",
   "metadata": {},
   "source": [
    "## Accès à des sous-parties des tableaux\n",
    "\n",
    "Comme pour les listes, les tableaux `numpy` peuvent être accédés par \"tranches\" (_slice_), comme dans les exemples suivants :"
   ]
  },
  {
   "cell_type": "code",
   "execution_count": 17,
   "id": "7fc18adf",
   "metadata": {},
   "outputs": [
    {
     "data": {
      "text/plain": [
       "array([[ 0,  1,  2,  3,  4],\n",
       "       [ 5,  6,  7,  8,  9],\n",
       "       [10, 11, 12, 13, 14],\n",
       "       [15, 16, 17, 18, 19]])"
      ]
     },
     "execution_count": 17,
     "metadata": {},
     "output_type": "execute_result"
    }
   ],
   "source": [
    "M = np.array([[0, 1, 2, 3, 4], [5, 6, 7, 8, 9], [10, 11, 12, 13, 14], [15, 16, 17, 18, 19]])\n",
    "M"
   ]
  },
  {
   "cell_type": "code",
   "execution_count": 18,
   "id": "2f9f18c8",
   "metadata": {},
   "outputs": [
    {
     "data": {
      "text/plain": [
       "array([[3, 4],\n",
       "       [8, 9]])"
      ]
     },
     "execution_count": 18,
     "metadata": {},
     "output_type": "execute_result"
    }
   ],
   "source": [
    "# Indices de ligne jusqu'à 2 (exclu)\n",
    "# Indices de colonne à partir de 3 (inclus)\n",
    "M[:2, 3:]"
   ]
  },
  {
   "cell_type": "code",
   "execution_count": 19,
   "id": "76011435",
   "metadata": {},
   "outputs": [
    {
     "data": {
      "text/plain": [
       "array([[ 5,  6,  7,  8,  9],\n",
       "       [10, 11, 12, 13, 14]])"
      ]
     },
     "execution_count": 19,
     "metadata": {},
     "output_type": "execute_result"
    }
   ],
   "source": [
    "# Indices de colonne de 1 (inclus) à 3 (exclu)\n",
    "# Tous les indices de colonne\n",
    "M[1:3, :]"
   ]
  },
  {
   "cell_type": "markdown",
   "id": "099c78a1",
   "metadata": {},
   "source": [
    "On peut également utiliser des listes (ou des `ndarray`) d'indices pour accéder aux éléments d'un tableau situés aux indices correspondants :"
   ]
  },
  {
   "cell_type": "code",
   "execution_count": 20,
   "id": "5f1695ea",
   "metadata": {},
   "outputs": [
    {
     "data": {
      "text/plain": [
       "array([ 1, 12])"
      ]
     },
     "execution_count": 20,
     "metadata": {},
     "output_type": "execute_result"
    }
   ],
   "source": [
    "liste_indices = [0, 4]\n",
    "v = np.array([1, 5, 7, 9, 12])\n",
    "v[liste_indices]"
   ]
  },
  {
   "cell_type": "markdown",
   "id": "9464d7f7",
   "metadata": {},
   "source": [
    "Ici, `v[liste_indices]` est un `ndarray` constitué des éléments `[v[0], v[4]]`.\n",
    "De la même façon, si les indices sont stockés dans une structure à deux dimensions :"
   ]
  },
  {
   "cell_type": "code",
   "execution_count": 21,
   "id": "8419e0dd",
   "metadata": {},
   "outputs": [
    {
     "data": {
      "text/plain": [
       "array([[ 1, 12],\n",
       "       [ 5,  9]])"
      ]
     },
     "execution_count": 21,
     "metadata": {},
     "output_type": "execute_result"
    }
   ],
   "source": [
    "indices = np.array([[0, 4],\n",
    "                    [1, 3]])\n",
    "v[indices]"
   ]
  },
  {
   "cell_type": "markdown",
   "id": "b9cae2ec",
   "metadata": {},
   "source": [
    "On voit que, ici, `v[indices]` est un `ndarray` à 2 dimensions constitué des éléments \n",
    "```\n",
    "v[0] v[4]\n",
    "v[1] v[3]\n",
    "````\n",
    "\n",
    "## Opérations élémentaires sur les tableaux\n",
    "\n",
    "Une fois un tableau défini, on peut très facilement calculer :\n",
    "\n",
    "* la somme de ses éléments :"
   ]
  },
  {
   "cell_type": "code",
   "execution_count": 22,
   "id": "e455f1ed",
   "metadata": {},
   "outputs": [
    {
     "data": {
      "text/plain": [
       "190"
      ]
     },
     "execution_count": 22,
     "metadata": {},
     "output_type": "execute_result"
    }
   ],
   "source": [
    "np.sum(M)  # Peut aussi s'écrire M.sum()"
   ]
  },
  {
   "cell_type": "markdown",
   "id": "2e0c15f2",
   "metadata": {},
   "source": [
    "* sa plus petite / plus grande valeur :"
   ]
  },
  {
   "cell_type": "code",
   "execution_count": 23,
   "id": "fbedc978",
   "metadata": {},
   "outputs": [
    {
     "data": {
      "text/plain": [
       "0"
      ]
     },
     "execution_count": 23,
     "metadata": {},
     "output_type": "execute_result"
    }
   ],
   "source": [
    "np.min(M)  # Peut aussi s'écrire M.min()"
   ]
  },
  {
   "cell_type": "code",
   "execution_count": 24,
   "id": "424e8655",
   "metadata": {},
   "outputs": [
    {
     "data": {
      "text/plain": [
       "19"
      ]
     },
     "execution_count": 24,
     "metadata": {},
     "output_type": "execute_result"
    }
   ],
   "source": [
    "np.max(M)  # Peut aussi s'écrire M.max()"
   ]
  },
  {
   "cell_type": "markdown",
   "id": "d5ba6043",
   "metadata": {},
   "source": [
    "* la moyenne / l'écart-type de ses éléments :"
   ]
  },
  {
   "cell_type": "code",
   "execution_count": 25,
   "id": "0475b1bf",
   "metadata": {},
   "outputs": [
    {
     "data": {
      "text/plain": [
       "9.5"
      ]
     },
     "execution_count": 25,
     "metadata": {},
     "output_type": "execute_result"
    }
   ],
   "source": [
    "np.mean(M)  # Peut aussi s'écrire M.mean()"
   ]
  },
  {
   "cell_type": "code",
   "execution_count": 26,
   "id": "6dc0e619",
   "metadata": {},
   "outputs": [
    {
     "data": {
      "text/plain": [
       "5.766281297335398"
      ]
     },
     "execution_count": 26,
     "metadata": {},
     "output_type": "execute_result"
    }
   ],
   "source": [
    "np.std(M)  # Peut aussi s'écrire M.std()"
   ]
  },
  {
   "cell_type": "markdown",
   "id": "a5e29bc5",
   "metadata": {},
   "source": [
    "Il est à noter que pour toutes ces opérations, deux syntaxes co-existent :"
   ]
  },
  {
   "cell_type": "code",
   "execution_count": 27,
   "id": "2d94f971",
   "metadata": {},
   "outputs": [
    {
     "name": "stdout",
     "output_type": "stream",
     "text": [
      "0\n",
      "0\n"
     ]
    }
   ],
   "source": [
    "print(np.min(M))\n",
    "print(M.min())"
   ]
  },
  {
   "cell_type": "markdown",
   "id": "fe6c1511",
   "metadata": {},
   "source": [
    "De plus, on peut également effectuer ces opérations ligne par ligne, ou colonne par colonne, comme ci-dessous :"
   ]
  },
  {
   "cell_type": "code",
   "execution_count": 28,
   "id": "e9729ac4",
   "metadata": {},
   "outputs": [
    {
     "data": {
      "text/plain": [
       "array([30, 34, 38, 42, 46])"
      ]
     },
     "execution_count": 28,
     "metadata": {},
     "output_type": "execute_result"
    }
   ],
   "source": [
    "# On somme sur les lignes (dimension numéro 0)\n",
    "# Donc on obtient un résultat par colonne\n",
    "M.sum(axis=0)"
   ]
  },
  {
   "cell_type": "markdown",
   "id": "e3f1d15c",
   "metadata": {},
   "source": [
    "Enfin, on peut très facilement créer des masques binaires, tels que :"
   ]
  },
  {
   "cell_type": "code",
   "execution_count": 29,
   "id": "f90ba18e",
   "metadata": {},
   "outputs": [
    {
     "data": {
      "text/plain": [
       "array([[False, False, False, False, False],\n",
       "       [False,  True,  True,  True,  True],\n",
       "       [ True,  True,  True,  True,  True],\n",
       "       [ True,  True,  True,  True,  True]])"
      ]
     },
     "execution_count": 29,
     "metadata": {},
     "output_type": "execute_result"
    }
   ],
   "source": [
    "M > 5  # Vaut True à chaque position telle que l'élément correspondant dans M est > 5"
   ]
  },
  {
   "cell_type": "markdown",
   "id": "60dced9f",
   "metadata": {},
   "source": [
    "Ce qui permet de compter simplement le nombre de valeurs d'un tableau vérifiant une condition :"
   ]
  },
  {
   "cell_type": "code",
   "execution_count": 30,
   "id": "bab2bd62",
   "metadata": {},
   "outputs": [
    {
     "data": {
      "text/plain": [
       "14"
      ]
     },
     "execution_count": 30,
     "metadata": {},
     "output_type": "execute_result"
    }
   ],
   "source": [
    "np.sum(M > 5)"
   ]
  },
  {
   "cell_type": "markdown",
   "id": "53035b31",
   "metadata": {},
   "source": [
    "## Bonnes pratiques\n",
    "\n",
    "Vous devrez, tant que faire se peut, utiliser les fonctions prédéfinies en `numpy` pour vos manipulations de tableaux multi-dimensionnels, plutôt que de recoder les opérations élémentaires.\n",
    "Il est notamment fortement déconseillé de parcourir les valeurs d'un tableau `numpy` au sein d'une boucle, pour des raisons d'efficacité (autrement dit, de temps de calcul), comme illustré ci-dessous :"
   ]
  },
  {
   "cell_type": "code",
   "execution_count": 31,
   "id": "687be253",
   "metadata": {},
   "outputs": [],
   "source": [
    "vec = np.ones((100, 10))"
   ]
  },
  {
   "cell_type": "code",
   "execution_count": 32,
   "id": "d322c87b",
   "metadata": {},
   "outputs": [
    {
     "name": "stdout",
     "output_type": "stream",
     "text": [
      "2.14 µs ± 48.1 ns per loop (mean ± std. dev. of 7 runs, 100000 loops each)\n"
     ]
    }
   ],
   "source": [
    "%%timeit  \n",
    "# timeit permet de mesurer le temps d'exécution d'un morceau de code\n",
    "vec.sum()"
   ]
  },
  {
   "cell_type": "code",
   "execution_count": 33,
   "id": "a4534b54",
   "metadata": {},
   "outputs": [
    {
     "name": "stdout",
     "output_type": "stream",
     "text": [
      "99.4 µs ± 1.44 µs per loop (mean ± std. dev. of 7 runs, 10000 loops each)\n"
     ]
    }
   ],
   "source": [
    "%%timeit  \n",
    "# timeit permet de mesurer le temps d'exécution d'un morceau de code \n",
    "s = 0\n",
    "for v in vec:  # À ne JAMAIS faire !\n",
    "    s += v"
   ]
  },
  {
   "cell_type": "markdown",
   "id": "1beabdfa",
   "metadata": {},
   "source": [
    "## Exercices\n",
    "\n",
    "```{admonition} Exercice 10.1\n",
    "Calculez, en `numpy`, la somme des `n` premiers entiers, pour `n` fixé.\n",
    "```\n",
    "\n",
    "````{admonition} Solution\n",
    ":class: tip, dropdown\n",
    "\n",
    "```python\n",
    "import numpy as np\n",
    "\n",
    "n = 10\n",
    "print(np.arange(n).sum())\n",
    "```\n",
    "````\n",
    "\n",
    "````{admonition} Exercice 10.2\n",
    "Supposons qu'on ait stocké dans le tableau suivant les notes reçues par 2 étudiants à 3 examens :\n",
    "```python\n",
    "notes = np.array(\n",
    "  [[10, 12],\n",
    "   [15, 16],\n",
    "   [18, 12]]\n",
    ")\n",
    "```\n",
    "\n",
    "1. Calculez la moyenne de chacun des deux étudiants.\n",
    "2. Calculez le nombre de notes supérieures à 12 contenues dans ce tableau\n",
    "````\n",
    "\n",
    "````{admonition} Solution\n",
    ":class: tip, dropdown\n",
    "\n",
    "```python\n",
    "import numpy as np\n",
    "\n",
    "notes = np.array(\n",
    "  [[10, 12],\n",
    "   [15, 16],\n",
    "   [18, 12]]\n",
    ")\n",
    "\n",
    "moyennes = notes.mean(axis=0)\n",
    "n_notes_sup_12 = np.sum(notes > 12)\n",
    "```\n",
    "````"
   ]
  }
 ],
 "metadata": {
  "jupytext": {
   "cell_metadata_filter": "-all",
   "formats": "md:myst",
   "text_representation": {
    "extension": ".md",
    "format_name": "myst",
    "format_version": "0.8",
    "jupytext_version": "1.5.0"
   }
  },
  "kernelspec": {
   "display_name": "Python 3",
   "language": "python",
   "name": "python3"
  },
  "language_info": {
   "codemirror_mode": {
    "name": "ipython",
    "version": 3
   },
   "file_extension": ".py",
   "mimetype": "text/x-python",
   "name": "python",
   "nbconvert_exporter": "python",
   "pygments_lexer": "ipython3",
   "version": "3.7.14"
  },
  "source_map": [
   14,
   25,
   27,
   38,
   42,
   48,
   64,
   73,
   78,
   83,
   85,
   89,
   91,
   95,
   99,
   101,
   105,
   107,
   113,
   117,
   121,
   125,
   129,
   134,
   138,
   144,
   149,
   155,
   159,
   163,
   167,
   172,
   176,
   190,
   192,
   196,
   200,
   202,
   206,
   210,
   212,
   216,
   219,
   223,
   227,
   231,
   233,
   237,
   239,
   246,
   250,
   256,
   262
  ]
 },
 "nbformat": 4,
 "nbformat_minor": 5
}