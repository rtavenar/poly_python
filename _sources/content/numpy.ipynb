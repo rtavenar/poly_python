{
 "cells": [
  {
   "cell_type": "markdown",
   "id": "c9858bbd",
   "metadata": {},
   "source": [
    "(sec:numpy)=\n",
    "# `numpy` et le calcul matriciel\n",
    "\n",
    "Ce chapitre traite d'un module en particulier : le module `numpy`.\n",
    "`numpy` est un raccourci pour _Numerical Python_ : cette librairie a donc pour vocation de fournir des outils de calcul numérique en Python.\n",
    "Ce module permet donc de manipuler des vecteurs et des matrices (voire des tenseurs d'ordre supérieur).\n",
    "\n",
    "Avant toute chose, vous devrez importer ce module :"
   ]
  },
  {
   "cell_type": "code",
   "execution_count": 1,
   "id": "f8f0cc47",
   "metadata": {},
   "outputs": [],
   "source": [
    "import numpy as np"
   ]
  },
  {
   "cell_type": "markdown",
   "id": "b394c550",
   "metadata": {},
   "source": [
    "Vous remarquez ici que lors de l'import, le nom du module est renommé en `np` : il s'agit d'une habitude très répandue qui permet de ne pas surcharger inutilement la suite de votre code.\n",
    "\n",
    "De plus, sachez que ce chapitre est très succinct et très loin de couvrir l'ensemble des fonctionnalités `numpy`, vous êtes donc fortement incités à utiliser [la documentation `numpy`](https://numpy.org/doc/stable/) pour trouver ce qui pourrait vous être utile pour votre usage.\n",
    "\n",
    "## Tableaux multi-dimensionnels\n",
    "\n",
    "Les tableaux multi-dimensionnels sont les objets de base en `numpy`.\n",
    "Onn peut créer un vecteur comme suit :"
   ]
  },
  {
   "cell_type": "code",
   "execution_count": 2,
   "id": "1c1b4bd4",
   "metadata": {},
   "outputs": [
    {
     "name": "stdout",
     "output_type": "stream",
     "text": [
      "1\n"
     ]
    }
   ],
   "source": [
    "vec = np.array([1, 4, 6, 7])\n",
    "\n",
    "print(vec.ndim)"
   ]
  },
  {
   "cell_type": "markdown",
   "id": "20bdcd12",
   "metadata": {},
   "source": [
    "Dans ce chapitre, nous allons nous concentrer sur des vecteurs (`ndim = 1`, comme dans l'exemple ci-dessus) et des matrices (`ndim = 2`), mais il faut savoir que les tableaux multi-dimensionnels `numpy` peuvent stocker des tenseurs d'ordre quelconque.\n",
    "\n",
    "Voici quelques exemples de manipulations élémentaires sur les tableaux `numpy` :"
   ]
  },
  {
   "cell_type": "code",
   "execution_count": 3,
   "id": "cc75966f",
   "metadata": {},
   "outputs": [
    {
     "name": "stdout",
     "output_type": "stream",
     "text": [
      "[ 2.5 10.  15.  17.5]\n",
      "int64\n",
      "(4,)\n",
      "[[0 1]\n",
      " [2 3]]\n",
      "[[0 2]\n",
      " [1 3]]\n"
     ]
    }
   ],
   "source": [
    "# Multiplication par une constante\n",
    "print(2.5 * vec)\n",
    "\n",
    "# Accès au type des données stockées\n",
    "print(vec.dtype)\n",
    "\n",
    "# Accès à la taille du vecteur\n",
    "print(vec.shape)\n",
    "\n",
    "# Définition d'une matrice\n",
    "A = np.array([[0, 1], [2, 3]])\n",
    "print(A)\n",
    "\n",
    "# Transposition\n",
    "print(A.T)"
   ]
  },
  {
   "cell_type": "markdown",
   "id": "ec105d79",
   "metadata": {},
   "source": [
    "On remarque d'ores et déjà que les tableaux `numpy` ont un type associé. \n",
    "On ne pourra donc pas stocker dans un tableau `numpy` des données de types hétérogènes, comme on peut le faire dans le cas des listes Python par exemple.\n",
    "\n",
    "## Produit matriciel et opérations \"élément à élément\"\n",
    "\n",
    "Une chose importante à comprendre en `numpy` est que le produit par défaut entre deux tableaux est le produit élément à élément, et non pas le produit matriciel, comme on peut le voir dans cet exemple :"
   ]
  },
  {
   "cell_type": "code",
   "execution_count": 4,
   "id": "89add607",
   "metadata": {},
   "outputs": [
    {
     "name": "stdout",
     "output_type": "stream",
     "text": [
      "[[0 1]\n",
      " [2 3]]\n"
     ]
    }
   ],
   "source": [
    "A = np.array([[0, 1], [2, 3]])\n",
    "print(A)"
   ]
  },
  {
   "cell_type": "code",
   "execution_count": 5,
   "id": "dedb53b9",
   "metadata": {},
   "outputs": [
    {
     "name": "stdout",
     "output_type": "stream",
     "text": [
      "[[1 0]\n",
      " [0 1]]\n"
     ]
    }
   ],
   "source": [
    "I = np.array([[1, 0], [0, 1]])\n",
    "print(I)"
   ]
  },
  {
   "cell_type": "code",
   "execution_count": 6,
   "id": "ed6cf9e3",
   "metadata": {},
   "outputs": [
    {
     "data": {
      "text/plain": [
       "array([[0, 0],\n",
       "       [0, 3]])"
      ]
     },
     "execution_count": 6,
     "metadata": {},
     "output_type": "execute_result"
    }
   ],
   "source": [
    "A * I"
   ]
  },
  {
   "cell_type": "markdown",
   "id": "9e661754",
   "metadata": {},
   "source": [
    "Il est toutefois possible d'effectuer un produit matriciel à l'aide de l'opérateur `@`, et alors on retrouve bien la propriété attendue qui est que le produit de `A` par la matrice identité retourne la matrice `A` :"
   ]
  },
  {
   "cell_type": "code",
   "execution_count": 7,
   "id": "53c11838",
   "metadata": {},
   "outputs": [
    {
     "data": {
      "text/plain": [
       "array([[0, 1],\n",
       "       [2, 3]])"
      ]
     },
     "execution_count": 7,
     "metadata": {},
     "output_type": "execute_result"
    }
   ],
   "source": [
    "A @ I"
   ]
  },
  {
   "cell_type": "markdown",
   "id": "d2beae1f",
   "metadata": {},
   "source": [
    "De même, lorsqu'on écrit `A ** 2`, on obtient l'élévation au carré de chacun des éléments de `A` et non pas le produit de `A` par lui-même :"
   ]
  },
  {
   "cell_type": "code",
   "execution_count": 8,
   "id": "49268043",
   "metadata": {},
   "outputs": [
    {
     "data": {
      "text/plain": [
       "array([[0, 1],\n",
       "       [4, 9]])"
      ]
     },
     "execution_count": 8,
     "metadata": {},
     "output_type": "execute_result"
    }
   ],
   "source": [
    "A ** 2"
   ]
  },
  {
   "cell_type": "code",
   "execution_count": 9,
   "id": "6ef361f9",
   "metadata": {},
   "outputs": [
    {
     "data": {
      "text/plain": [
       "array([[ 2,  3],\n",
       "       [ 6, 11]])"
      ]
     },
     "execution_count": 9,
     "metadata": {},
     "output_type": "execute_result"
    }
   ],
   "source": [
    "A @ A"
   ]
  },
  {
   "cell_type": "markdown",
   "id": "37bbd63f",
   "metadata": {},
   "source": [
    "Les choses sont plus simples pour l'addition puisqu'il n'y a alors pas de confusion possible :"
   ]
  },
  {
   "cell_type": "code",
   "execution_count": 10,
   "id": "de5263a7",
   "metadata": {},
   "outputs": [
    {
     "data": {
      "text/plain": [
       "array([[0, 2],\n",
       "       [4, 6]])"
      ]
     },
     "execution_count": 10,
     "metadata": {},
     "output_type": "execute_result"
    }
   ],
   "source": [
    "A + A"
   ]
  },
  {
   "cell_type": "markdown",
   "id": "79114dd7",
   "metadata": {},
   "source": [
    "## Constructeurs de tableaux usuels\n",
    "\n",
    "`numpy` permet de définir très simplement des tableaux remplis de 0, de 1, la matrice identité, ou des séquences de valeurs :"
   ]
  },
  {
   "cell_type": "code",
   "execution_count": 11,
   "id": "4304de47",
   "metadata": {},
   "outputs": [
    {
     "data": {
      "text/plain": [
       "array([[0., 0., 0.],\n",
       "       [0., 0., 0.]])"
      ]
     },
     "execution_count": 11,
     "metadata": {},
     "output_type": "execute_result"
    }
   ],
   "source": [
    "np.zeros((2, 3))  # (2, 3) est la taille de la matrice à produire"
   ]
  },
  {
   "cell_type": "code",
   "execution_count": 12,
   "id": "8c3fb528",
   "metadata": {},
   "outputs": [
    {
     "data": {
      "text/plain": [
       "array([[1., 1., 1.],\n",
       "       [1., 1., 1.]])"
      ]
     },
     "execution_count": 12,
     "metadata": {},
     "output_type": "execute_result"
    }
   ],
   "source": [
    "np.ones((2, 3))  # (2, 3) est la taille de la matrice à produire"
   ]
  },
  {
   "cell_type": "code",
   "execution_count": 13,
   "id": "0c34de4e",
   "metadata": {},
   "outputs": [
    {
     "data": {
      "text/plain": [
       "array([[1., 0.],\n",
       "       [0., 1.]])"
      ]
     },
     "execution_count": 13,
     "metadata": {},
     "output_type": "execute_result"
    }
   ],
   "source": [
    "np.eye(2)  # eye -> matrice identité"
   ]
  },
  {
   "cell_type": "code",
   "execution_count": 14,
   "id": "ac953098",
   "metadata": {},
   "outputs": [
    {
     "data": {
      "text/plain": [
       "array([0, 1, 2, 3, 4, 5, 6, 7, 8, 9])"
      ]
     },
     "execution_count": 14,
     "metadata": {},
     "output_type": "execute_result"
    }
   ],
   "source": [
    "np.arange(10)  # arange -> équivalent de range pour les listes"
   ]
  },
  {
   "cell_type": "code",
   "execution_count": 15,
   "id": "f27b32b5",
   "metadata": {},
   "outputs": [
    {
     "data": {
      "text/plain": [
       "array([0. , 0.1, 0.2, 0.3, 0.4, 0.5, 0.6, 0.7, 0.8, 0.9, 1. ])"
      ]
     },
     "execution_count": 15,
     "metadata": {},
     "output_type": "execute_result"
    }
   ],
   "source": [
    "# Vecteur de 11 valeurs espacées régulièrement entre 0 et 1\n",
    "np.linspace(0, 1, 11)"
   ]
  },
  {
   "cell_type": "markdown",
   "id": "f53b41e1",
   "metadata": {},
   "source": [
    "## Accès à des sous-parties des tableaux\n",
    "\n",
    "Comme pour les listes, les tableaux `numpy` peuvent être accédés par \"tranches\" (_slice_), comme dans les exemples suivants :"
   ]
  },
  {
   "cell_type": "code",
   "execution_count": 16,
   "id": "5d3a4f20",
   "metadata": {},
   "outputs": [
    {
     "data": {
      "text/plain": [
       "array([[ 0,  1,  2,  3,  4],\n",
       "       [ 5,  6,  7,  8,  9],\n",
       "       [10, 11, 12, 13, 14],\n",
       "       [15, 16, 17, 18, 19]])"
      ]
     },
     "execution_count": 16,
     "metadata": {},
     "output_type": "execute_result"
    }
   ],
   "source": [
    "M = np.array([[0, 1, 2, 3, 4], [5, 6, 7, 8, 9], [10, 11, 12, 13, 14], [15, 16, 17, 18, 19]])\n",
    "M"
   ]
  },
  {
   "cell_type": "code",
   "execution_count": 17,
   "id": "53db5068",
   "metadata": {},
   "outputs": [
    {
     "data": {
      "text/plain": [
       "array([[3, 4],\n",
       "       [8, 9]])"
      ]
     },
     "execution_count": 17,
     "metadata": {},
     "output_type": "execute_result"
    }
   ],
   "source": [
    "# Indices de colonne jusqu'à 2 (exclu)\n",
    "# Indices de colonne à partir de 3 (inclus)\n",
    "M[:2, 3:]"
   ]
  },
  {
   "cell_type": "code",
   "execution_count": 18,
   "id": "206dffed",
   "metadata": {},
   "outputs": [
    {
     "data": {
      "text/plain": [
       "array([[ 5,  6,  7,  8,  9],\n",
       "       [10, 11, 12, 13, 14]])"
      ]
     },
     "execution_count": 18,
     "metadata": {},
     "output_type": "execute_result"
    }
   ],
   "source": [
    "# Indices de colonne de 1 (inclus) à 3 (exclu)\n",
    "# Tous les indices de colonne\n",
    "M[1:3, :]"
   ]
  },
  {
   "cell_type": "markdown",
   "id": "831e6549",
   "metadata": {},
   "source": [
    "## Opérations élémentaires sur les tableaux\n",
    "\n",
    "Une fois un tableau défini, on peut très facilement calculer :\n",
    "\n",
    "* la somme de ses éléments :"
   ]
  },
  {
   "cell_type": "code",
   "execution_count": 19,
   "id": "4f878e4b",
   "metadata": {},
   "outputs": [
    {
     "data": {
      "text/plain": [
       "190"
      ]
     },
     "execution_count": 19,
     "metadata": {},
     "output_type": "execute_result"
    }
   ],
   "source": [
    "np.sum(M)  # Peut aussi s'écrire M.sum()"
   ]
  },
  {
   "cell_type": "markdown",
   "id": "d2017add",
   "metadata": {},
   "source": [
    "* sa plus petite / plus grande valeur :"
   ]
  },
  {
   "cell_type": "code",
   "execution_count": 20,
   "id": "3a1600ad",
   "metadata": {},
   "outputs": [
    {
     "data": {
      "text/plain": [
       "0"
      ]
     },
     "execution_count": 20,
     "metadata": {},
     "output_type": "execute_result"
    }
   ],
   "source": [
    "np.min(M)  # Peut aussi s'écrire M.min()"
   ]
  },
  {
   "cell_type": "code",
   "execution_count": 21,
   "id": "1b538071",
   "metadata": {},
   "outputs": [
    {
     "data": {
      "text/plain": [
       "19"
      ]
     },
     "execution_count": 21,
     "metadata": {},
     "output_type": "execute_result"
    }
   ],
   "source": [
    "np.max(M)  # Peut aussi s'écrire M.max()"
   ]
  },
  {
   "cell_type": "markdown",
   "id": "dcbb9f56",
   "metadata": {},
   "source": [
    "* la moyenne / l'écart-type de ses éléments :"
   ]
  },
  {
   "cell_type": "code",
   "execution_count": 22,
   "id": "fa182593",
   "metadata": {},
   "outputs": [
    {
     "data": {
      "text/plain": [
       "9.5"
      ]
     },
     "execution_count": 22,
     "metadata": {},
     "output_type": "execute_result"
    }
   ],
   "source": [
    "np.mean(M)  # Peut aussi s'écrire M.mean()"
   ]
  },
  {
   "cell_type": "code",
   "execution_count": 23,
   "id": "6531ef32",
   "metadata": {},
   "outputs": [
    {
     "data": {
      "text/plain": [
       "5.766281297335398"
      ]
     },
     "execution_count": 23,
     "metadata": {},
     "output_type": "execute_result"
    }
   ],
   "source": [
    "np.std(M)  # Peut aussi s'écrire M.std()"
   ]
  },
  {
   "cell_type": "markdown",
   "id": "de536c8e",
   "metadata": {},
   "source": [
    "Il est à noter que l'on peut également effectuer ces opérations ligne par ligne, ou colonne par colonne, comme ci-dessous :"
   ]
  },
  {
   "cell_type": "code",
   "execution_count": 24,
   "id": "0f8e8257",
   "metadata": {},
   "outputs": [
    {
     "data": {
      "text/plain": [
       "array([30, 34, 38, 42, 46])"
      ]
     },
     "execution_count": 24,
     "metadata": {},
     "output_type": "execute_result"
    }
   ],
   "source": [
    "# On somme sur les lignes (dimension numéro 0)\n",
    "# Donc on obtient un résultat par colonne\n",
    "M.sum(axis=0)"
   ]
  },
  {
   "cell_type": "markdown",
   "id": "1ee80ce8",
   "metadata": {},
   "source": [
    "Enfin, on peut très facilement créer des masques binaires, tels que :"
   ]
  },
  {
   "cell_type": "code",
   "execution_count": 25,
   "id": "318d9751",
   "metadata": {},
   "outputs": [
    {
     "data": {
      "text/plain": [
       "array([[False, False, False, False, False],\n",
       "       [False,  True,  True,  True,  True],\n",
       "       [ True,  True,  True,  True,  True],\n",
       "       [ True,  True,  True,  True,  True]])"
      ]
     },
     "execution_count": 25,
     "metadata": {},
     "output_type": "execute_result"
    }
   ],
   "source": [
    "M > 5  # Vaut True à chaque position telle que l'élément correspondant dans M est > 5"
   ]
  },
  {
   "cell_type": "markdown",
   "id": "5f3caf5f",
   "metadata": {},
   "source": [
    "Ce qui permet de compter simplement le nombre de valeurs d'un tableau vérifiant une condition :"
   ]
  },
  {
   "cell_type": "code",
   "execution_count": 26,
   "id": "14c020dd",
   "metadata": {},
   "outputs": [
    {
     "data": {
      "text/plain": [
       "14"
      ]
     },
     "execution_count": 26,
     "metadata": {},
     "output_type": "execute_result"
    }
   ],
   "source": [
    "np.sum(M > 5)"
   ]
  },
  {
   "cell_type": "markdown",
   "id": "b5b8caf5",
   "metadata": {},
   "source": [
    "## Bonnes pratiques\n",
    "\n",
    "Vous devrez, tant que faire se peut, utiliser les fonctions prédéfinies en `numpy` pour vos manipulations de tableaux multi-dimensionnels, plutôt que de recoder les opérations élémentaires.\n",
    "Il est notamment fortement déconseillé de parcourir les valeurs d'un tableau `numpy` au sein d'une boucle, pour des raisons d'efficacité (autrement dit, de temps de calcul), comme illustré ci-dessous :"
   ]
  },
  {
   "cell_type": "code",
   "execution_count": 27,
   "id": "c2b875e2",
   "metadata": {},
   "outputs": [],
   "source": [
    "vec = np.ones((100, 10))"
   ]
  },
  {
   "cell_type": "code",
   "execution_count": 28,
   "id": "7429f9ab",
   "metadata": {},
   "outputs": [
    {
     "name": "stdout",
     "output_type": "stream",
     "text": [
      "2.44 µs ± 12.3 ns per loop (mean ± std. dev. of 7 runs, 100000 loops each)\n"
     ]
    }
   ],
   "source": [
    "%%timeit  \n",
    "# timeit permet de mesurer le temps d'exécution d'un morceau de code\n",
    "vec.sum()"
   ]
  },
  {
   "cell_type": "code",
   "execution_count": 29,
   "id": "4bc577f1",
   "metadata": {},
   "outputs": [
    {
     "name": "stdout",
     "output_type": "stream",
     "text": [
      "85.7 µs ± 41.3 ns per loop (mean ± std. dev. of 7 runs, 10000 loops each)\n"
     ]
    }
   ],
   "source": [
    "%%timeit  \n",
    "# timeit permet de mesurer le temps d'exécution d'un morceau de code \n",
    "s = 0\n",
    "for v in vec:  # À ne JAMAIS faire !\n",
    "    s += v"
   ]
  },
  {
   "cell_type": "markdown",
   "id": "a18c6f3b",
   "metadata": {},
   "source": [
    "## Exercices\n",
    "\n",
    "```{admonition} Exercice 10.1\n",
    "Calculez, en `numpy`, la somme des `n` premiers entiers, pour `n` fixé.\n",
    "```\n",
    "\n",
    "````{admonition} Solution\n",
    ":class: tip, dropdown\n",
    "\n",
    "```python\n",
    "import numpy as np\n",
    "\n",
    "n = 10\n",
    "print(np.arange(n).sum())\n",
    "```\n",
    "````\n",
    "\n",
    "````{admonition} Exercice 10.2\n",
    "Supposons qu'on ait stocké dans le tableau suivant les notes reçues par 2 étudiants à 3 examens :\n",
    "```python\n",
    "notes = np.array(\n",
    "  [[10, 12],\n",
    "   [15, 16],\n",
    "   [18, 12]]\n",
    ")\n",
    "```\n",
    "\n",
    "1. Calculez la moyenne de chacun des deux étudiants.\n",
    "2. Calculez le nombre de notes supérieures à 12 contenues dans ce tableau\n",
    "````\n",
    "\n",
    "````{admonition} Solution\n",
    ":class: tip, dropdown\n",
    "\n",
    "```python\n",
    "import numpy as np\n",
    "\n",
    "notes = np.array(\n",
    "  [[10, 12],\n",
    "   [15, 16],\n",
    "   [18, 12]]\n",
    ")\n",
    "\n",
    "moyennes = notes.sum(axis=0)\n",
    "n_notes_sup_12 = np.sum(notes > 12)\n",
    "```\n",
    "````"
   ]
  }
 ],
 "metadata": {
  "jupytext": {
   "cell_metadata_filter": "-all",
   "formats": "md:myst",
   "text_representation": {
    "extension": ".md",
    "format_name": "myst",
    "format_version": "0.8",
    "jupytext_version": "1.5.0"
   }
  },
  "kernelspec": {
   "display_name": "Python 3",
   "language": "python",
   "name": "python3"
  },
  "language_info": {
   "codemirror_mode": {
    "name": "ipython",
    "version": 3
   },
   "file_extension": ".py",
   "mimetype": "text/x-python",
   "name": "python",
   "nbconvert_exporter": "python",
   "pygments_lexer": "ipython3",
   "version": "3.7.13"
  },
  "source_map": [
   14,
   25,
   27,
   38,
   42,
   48,
   64,
   73,
   78,
   83,
   85,
   89,
   91,
   95,
   99,
   101,
   105,
   107,
   113,
   117,
   121,
   125,
   129,
   132,
   138,
   143,
   149,
   153,
   161,
   163,
   167,
   171,
   173,
   177,
   181,
   183,
   187,
   191,
   195,
   197,
   201,
   203,
   210,
   214,
   220,
   226
  ]
 },
 "nbformat": 4,
 "nbformat_minor": 5
}