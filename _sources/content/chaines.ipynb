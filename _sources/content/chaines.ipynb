{
 "cells": [
  {
   "cell_type": "markdown",
   "metadata": {},
   "source": [
    "# Les chaînes de caractères\n",
    "\n",
    "Nous nous intéressons maintenant à un autre type de données particulier du langage Python : les chaînes de caractères (type `str`).\n",
    "Pour créer une chaîne de caractères, il suffit d'utiliser des guillemets, simples ou doubles (les deux sont équivalents) :"
   ]
  },
  {
   "cell_type": "code",
   "execution_count": 1,
   "metadata": {},
   "outputs": [],
   "source": [
    "s1 = \"abc\"\n",
    "s2 = 'bde'"
   ]
  },
  {
   "cell_type": "markdown",
   "metadata": {},
   "source": [
    "Comme pour les listes (et peut-être même plus encore), il est fortement conseillé de se reporter à l'aide en ligne dédiée lorsque vous avez des doutes sur la manipulation de chaînes de caractères :\n",
    "<https://docs.python.org/3/library/stdtypes.html#string-methods>\n",
    "\n",
    "## Conversion d'une chaîne en nombre\n",
    "\n",
    "Si une chaîne de caractères représente une valeur numérique (comme la chaîne `\"10.2\"` par exemple), on peut la transformer en un entier ou un nombre à virgule, afin de l'utiliser ensuite pour des opérations arithmétiques. On utilise pour cela les fonctions de conversion, respectivement `int` et `float`."
   ]
  },
  {
   "cell_type": "code",
   "execution_count": 2,
   "metadata": {},
   "outputs": [
    {
     "name": "stdout",
     "output_type": "stream",
     "text": [
      "10.2\n"
     ]
    }
   ],
   "source": [
    "s = '10.2'\n",
    "f = float(s)\n",
    "print(f)"
   ]
  },
  {
   "cell_type": "code",
   "execution_count": 3,
   "metadata": {},
   "outputs": [
    {
     "name": "stdout",
     "output_type": "stream",
     "text": [
      "False\n"
     ]
    }
   ],
   "source": [
    "print(f == s)"
   ]
  },
  {
   "cell_type": "code",
   "execution_count": 4,
   "metadata": {},
   "outputs": [
    {
     "name": "stdout",
     "output_type": "stream",
     "text": [
      "12.2\n"
     ]
    }
   ],
   "source": [
    "print(f + 2)"
   ]
  },
  {
   "cell_type": "code",
   "execution_count": 5,
   "metadata": {},
   "outputs": [
    {
     "name": "stdout",
     "output_type": "stream",
     "text": [
      "10\n"
     ]
    }
   ],
   "source": [
    "s = '10'\n",
    "i = int(s)\n",
    "print(i)"
   ]
  },
  {
   "cell_type": "code",
   "execution_count": 6,
   "metadata": {},
   "outputs": [
    {
     "name": "stdout",
     "output_type": "stream",
     "text": [
      "False\n"
     ]
    }
   ],
   "source": [
    "print(i == s)"
   ]
  },
  {
   "cell_type": "code",
   "execution_count": 7,
   "metadata": {},
   "outputs": [
    {
     "name": "stdout",
     "output_type": "stream",
     "text": [
      "9\n"
     ]
    }
   ],
   "source": [
    "print(i - 1)"
   ]
  },
  {
   "cell_type": "markdown",
   "metadata": {},
   "source": [
    "## Analogie avec les listes\n",
    "\n",
    "Les chaînes de caractères se manipulent en partie comme des listes.\n",
    "On peut ainsi obtenir la taille d'une chaîne de caractères à l'aide de la fonction `len`, ou accéder à la $i$-ème lettre d'une chaîne de caractères avec la notation `s[i]`.\n",
    "Comme pour les listes, il est possible d'indicer une chaîne de caractères en partant de la fin, en utilisant des indices négatifs :"
   ]
  },
  {
   "cell_type": "code",
   "execution_count": 8,
   "metadata": {},
   "outputs": [
    {
     "name": "stdout",
     "output_type": "stream",
     "text": [
      "6\n"
     ]
    }
   ],
   "source": [
    "s = \"abcdef\"\n",
    "print(len(s))"
   ]
  },
  {
   "cell_type": "code",
   "execution_count": 9,
   "metadata": {},
   "outputs": [
    {
     "name": "stdout",
     "output_type": "stream",
     "text": [
      "a\n"
     ]
    }
   ],
   "source": [
    "print(s[0])"
   ]
  },
  {
   "cell_type": "code",
   "execution_count": 10,
   "metadata": {},
   "outputs": [
    {
     "name": "stdout",
     "output_type": "stream",
     "text": [
      "f\n"
     ]
    }
   ],
   "source": [
    "print(s[-1])"
   ]
  },
  {
   "cell_type": "markdown",
   "metadata": {},
   "source": [
    "De même, on peut sélectionner des sous-parties de chaînes de caractères à partir des indices de début et de fin de la sélection. Comme pour les listes, l'indice de fin correspond au premier élément exclu de la sélection :"
   ]
  },
  {
   "cell_type": "code",
   "execution_count": 11,
   "metadata": {},
   "outputs": [
    {
     "name": "stdout",
     "output_type": "stream",
     "text": [
      "cd\n"
     ]
    }
   ],
   "source": [
    "s = \"abcdef\"\n",
    "print(s[2:4])"
   ]
  },
  {
   "cell_type": "markdown",
   "metadata": {},
   "source": [
    "Comme pour les listes, on peut concaténer deux chaînes de caractères à l'aide de l'opérateur `+` ou répéter une chaîne de caractères avec l'opérateur `*` :"
   ]
  },
  {
   "cell_type": "code",
   "execution_count": 12,
   "metadata": {},
   "outputs": [
    {
     "name": "stdout",
     "output_type": "stream",
     "text": [
      "abcdecdecde\n"
     ]
    }
   ],
   "source": [
    "s = \"ab\" + ('cde' * 3)\n",
    "print(s)"
   ]
  },
  {
   "cell_type": "markdown",
   "metadata": {},
   "source": [
    "On peut également tester la présence d'une sous-chaîne de caractères dans une chaîne avec le mot-clé `in` :"
   ]
  },
  {
   "cell_type": "code",
   "execution_count": 13,
   "metadata": {},
   "outputs": [
    {
     "name": "stdout",
     "output_type": "stream",
     "text": [
      "True\n"
     ]
    }
   ],
   "source": [
    "s = \"abcde\"\n",
    "print(\"a\" in s)"
   ]
  },
  {
   "cell_type": "code",
   "execution_count": 14,
   "metadata": {},
   "outputs": [
    {
     "name": "stdout",
     "output_type": "stream",
     "text": [
      "True\n"
     ]
    }
   ],
   "source": [
    "print(\"bcd\" in s)"
   ]
  },
  {
   "cell_type": "code",
   "execution_count": 15,
   "metadata": {},
   "outputs": [
    {
     "name": "stdout",
     "output_type": "stream",
     "text": [
      "False\n"
     ]
    }
   ],
   "source": [
    "print(\"bCd\" in s)"
   ]
  },
  {
   "cell_type": "markdown",
   "metadata": {},
   "source": [
    "**Attention.**\n",
    "Toutefois, l'analogie entre listes et chaînes de caractères est loin d'être parfaite.\n",
    "Par exemple, on peut accéder au $i$-ème élément d'une chaîne de caractères en lecture, mais pas en écriture.\n",
    "Si `s` est une chaîne de caractères, on ne peut pas exécuter `s[2] = \"c\"` par exemple.\n",
    "\n",
    "## Principales méthodes de la classe `str`\n",
    "\n",
    "La liste de méthodes de la classe `str` qui suit n'est pas exhaustive, il est conseillé de consulter l'aide en ligne de Python pour plus d'informations.\n",
    "\n",
    "* `ch.count(sub)`: Retourne le nombre d'occurrences de `sub` dans `ch`\n",
    "* `ch.endswith(suffix)`: Retourne `True` si `ch` se termine par `suffix`\n",
    "* `ch.startswith(prefix)`: Retourne `True` si `ch` commence par `prefix`\n",
    "* `ch.find(sub)`: Retourne l'indice du début de la première occurrence de `sub` dans `ch`\n",
    "* `ch.rfind(sub)`: Retourne l'indice du début de la dernière occurrence de `sub` dans `ch`\n",
    "* `ch.islower()`: Retourne `True` si `ch` est constituée uniquement de caractères minuscules\n",
    "* `ch.isupper()`: Retourne `True` si `ch` est constituée uniquement de caractères majuscules\n",
    "* `ch.isnumeric()`: Retourne `True` si `ch` est constituée uniquement de chiffres\n",
    "* `ch.lower()`: Retourne la version minuscule de `ch`\n",
    "* `ch.upper()`: Retourne la version majuscule de `ch`\n",
    "* `ch.replace(old, new)`: Retourne une copie de `ch` dans laquelle toutes les occurrences de `old` ont été remplacées par `new`\n",
    "* `ch.split(sep=None)`: Retourne une liste contenant des morceaux de `ch` découpée à chaque occurrence de `sep` (par défaut, la chaîne est decoupée à chaque espace ou retour à la ligne)\n",
    "* `ch.strip()`: Retourne une version \"nettoyée\" de `ch` dans laquelle on a enlevé tous les espaces en début et en fin de chaîne\n",
    "* `ch.format(...)`: Remplace les caractères `{}` dans la chaîne `ch` par le contenu des variables passées en argument\n",
    "\n",
    "## Formatage des chaînes de caractères\n",
    "\n",
    "Lorsque l'on souhaite ajouter, dans une chaîne de caractères, du contenu stocké dans une variable, on pourra utiliser la méthode format listée ci-dessus.\n",
    "\n",
    "Commençons par un exemple :"
   ]
  },
  {
   "cell_type": "code",
   "execution_count": 16,
   "metadata": {},
   "outputs": [
    {
     "name": "stdout",
     "output_type": "stream",
     "text": [
      "Micheline a 12 ans\n"
     ]
    }
   ],
   "source": [
    "age = 12\n",
    "prenom = \"Micheline\"\n",
    "s = \"{} a {} ans\".format(prenom, age)\n",
    "print(s)"
   ]
  },
  {
   "cell_type": "markdown",
   "metadata": {},
   "source": [
    "Ainsi, la méthode `.format()` recherche dans la chaîne de caractères les `{}` et les remplace par les valeurs des variables fournies.\n",
    "Il est possible de maîtriser plus finement la mise en forme de ces variables, et même de les nommer (ce qui peut s'avérer très utile si la chaîne de caractères est longue et inclut de nombreuses variables).\n",
    "\n",
    "Voici quelques exemples :"
   ]
  },
  {
   "cell_type": "code",
   "execution_count": 17,
   "metadata": {},
   "outputs": [
    {
     "name": "stdout",
     "output_type": "stream",
     "text": [
      "Micheline a 12 ans\n"
     ]
    }
   ],
   "source": [
    "age_enfant = 12\n",
    "prenom_enfant = \"Micheline\"\n",
    "s = \"{prenom} a {age} ans\".format(prenom=prenom_enfant, age=age_enfant)\n",
    "print(s)"
   ]
  },
  {
   "cell_type": "code",
   "execution_count": 18,
   "metadata": {},
   "outputs": [
    {
     "name": "stdout",
     "output_type": "stream",
     "text": [
      "Micheline a 12.000 ans\n"
     ]
    }
   ],
   "source": [
    "age_enfant = 12\n",
    "prenom_enfant = \"Micheline\"\n",
    "s = \"{prenom} a {age:.3f} ans\".format(prenom=prenom_enfant, age=age_enfant)\n",
    "print(s)"
   ]
  },
  {
   "cell_type": "markdown",
   "metadata": {},
   "source": [
    "Vous trouverez une présentation plus exhaustive de ces questions dans la [documentation Python sur ce point](https://docs.python.org/fr/3.5/library/string.html#format-string-syntax).\n",
    "\n",
    "### Pour aller plus loin : les f-strings\n",
    "\n",
    "````{margin}\n",
    "```{admonition} Pour info\n",
    "  :class: tip\n",
    "Les f-strings existent en Python depuis la version 3.6.\n",
    "```\n",
    "````\n",
    "\n",
    "Il existe une autre façon de mettre en forme les chaînes de caractères, qui consiste en l'utilisation de f-strings.\n",
    "Pour définir une f-string, il suffit d'ajouter un f avant la chaîne de caractères :"
   ]
  },
  {
   "cell_type": "code",
   "execution_count": 19,
   "metadata": {},
   "outputs": [
    {
     "name": "stdout",
     "output_type": "stream",
     "text": [
      "Ceci est une f-string\n"
     ]
    }
   ],
   "source": [
    "s = f\"Ceci est une f-string\"\n",
    "print(s)"
   ]
  },
  {
   "cell_type": "markdown",
   "metadata": {},
   "source": [
    "Jusqu'ici, rien de bien révolutionnaire.\n",
    "Mais ces f-strings deviennent fort pratiques dès lors que l'on souhaite ajouter des données issues de variables précédemment définies :"
   ]
  },
  {
   "cell_type": "code",
   "execution_count": 20,
   "metadata": {},
   "outputs": [
    {
     "name": "stdout",
     "output_type": "stream",
     "text": [
      "Micheline a 12 ans\n"
     ]
    }
   ],
   "source": [
    "age = 12\n",
    "prenom = \"Micheline\"\n",
    "s = f\"{prenom} a {age} ans\"\n",
    "print(s)"
   ]
  },
  {
   "cell_type": "markdown",
   "metadata": {},
   "source": [
    "Cette syntaxe est beaucoup plus concise que ce que l'on pouvait avoir en utilisant la méthode `.format()`.\n",
    "On peut même effectuer des calculs à la volée dans les f-strings :"
   ]
  },
  {
   "cell_type": "code",
   "execution_count": 21,
   "metadata": {},
   "outputs": [
    {
     "name": "stdout",
     "output_type": "stream",
     "text": [
      "Ce chat a 12 ans, ce qui lui fait 72 ans en âge équivalent humain\n"
     ]
    }
   ],
   "source": [
    "age_chat = 12\n",
    "s = f\"Ce chat a {age_chat} ans, ce qui lui fait {age_chat * 6} ans en âge équivalent humain\"\n",
    "print(s)"
   ]
  },
  {
   "cell_type": "markdown",
   "metadata": {},
   "source": [
    "En utilisant f-strings et options de formatage, on peut obtenir des sorties alignées avec un code relativement succinct comme dans les exemples suivants :"
   ]
  },
  {
   "cell_type": "code",
   "execution_count": 22,
   "metadata": {},
   "outputs": [
    {
     "name": "stdout",
     "output_type": "stream",
     "text": [
      "La ville de Rennes     est en Bretagne.\n",
      "La ville de     Rennes est en Bretagne.\n",
      "La ville de   Rennes   est en Bretagne.\n"
     ]
    }
   ],
   "source": [
    "# Exemple 1 : alignement\n",
    "# Syntaxe : {variable : alignement largeur}\n",
    "# Alignement < gauche | > droite | ^ centré|\n",
    "ville = \"Rennes\"\n",
    "print(f\"La ville de {ville:<10} est en Bretagne.\")\n",
    "print(f\"La ville de {ville:>10} est en Bretagne.\")\n",
    "print(f\"La ville de {ville:^10} est en Bretagne.\")"
   ]
  },
  {
   "cell_type": "code",
   "execution_count": 23,
   "metadata": {},
   "outputs": [
    {
     "name": "stdout",
     "output_type": "stream",
     "text": [
      "A Rennes            : il y a  215346 habitants.\n",
      "A Chantepie         : il y a   10445 habitants.\n",
      "A Noyal-sur-Vilaine : il y a    5820 habitants.\n"
     ]
    }
   ],
   "source": [
    "# Exemple 2 : Affichage des entiers\n",
    "# Syntaxe : {variable : largeur symbole}\n",
    "# le symbole d (digit) ou n (numeric) représente un entier\n",
    "vils = [\"Rennes\", \"Chantepie\", \"Noyal-sur-Vilaine\"]\n",
    "pops = [215346, 10445, 5820 ]\n",
    "for v, p in zip(vils, pops):\n",
    "    print(f\"A {v:<17} : il y a {p:7n} habitants.\" )"
   ]
  },
  {
   "cell_type": "code",
   "execution_count": 24,
   "metadata": {},
   "outputs": [
    {
     "name": "stdout",
     "output_type": "stream",
     "text": [
      "Avec 0 décimales, le 1er nombre est |      3| le second est|      4|\n",
      "Avec 1 décimales, le 1er nombre est |    3.3| le second est|    3.6|\n",
      "Avec 2 décimales, le 1er nombre est |   3.33| le second est|   3.57|\n",
      "Avec 3 décimales, le 1er nombre est |  3.333| le second est|  3.571|\n",
      "Avec 4 décimales, le 1er nombre est | 3.3333| le second est| 3.5714|\n"
     ]
    }
   ],
   "source": [
    "# Exemple 3 : Affichage des nombres ayant une partie décimale\n",
    "# Syntaxe : {variable : longtotale.longdeci f}\n",
    "# Remarque le nombre affiché est arrondi (et non tronqué)\n",
    "x, y =10/3, 25/7\n",
    "for longdeci in range(5):\n",
    "    print(f\"Avec {longdeci} décimales, le 1er nombre est |{x:7.{longdeci}f}| le second est|{y:7.{longdeci}f}|\")"
   ]
  },
  {
   "cell_type": "markdown",
   "metadata": {},
   "source": [
    "## Exercices\n",
    "\n",
    "```{admonition} **Exercice 5.1**\n",
    "Écrivez une fonction qui prenne en argument deux chaînes de caractères `s` et `prefix` et retourne le nombre de mots de la chaîne `s` qui débutent par la chaîne `prefix`.\n",
    "\n",
    "[{ref}`Corrigé <ex5.1_sol>`]\n",
    "```\n",
    "\n",
    "```{admonition} **Exercice 5.2**\n",
    "Écrivez une fonction qui prenne en argument deux chaînes de caractères `s` et `mot_cible` et retourne le nombre d'occurrences du mot `mot_cible` dans la chaîne `s` en ne tenant pas compte de la casse.\n",
    "\n",
    "[{ref}`Corrigé <ex5.2_sol>`]\n",
    "```\n",
    "\n",
    "````{admonition} **Exercice 5.3**\n",
    "Écrivez une fonction qui prenne en argument une liste d'entiers et l'affiche sous le format suivant :\n",
    "\n",
    "```text\n",
    "L'entier d'indice  0 est |           1|\n",
    "L'entier d'indice  1 est |          12|\n",
    "L'entier d'indice  2 est |         123|\n",
    "L'entier d'indice  3 est |        1234|\n",
    "L'entier d'indice  4 est |       12345|\n",
    "L'entier d'indice  5 est |      123456|\n",
    "L'entier d'indice  6 est |     1234567|\n",
    "L'entier d'indice  7 est |    12345678|\n",
    "L'entier d'indice  8 est |   123456789|\n",
    "L'entier d'indice  9 est |  1234567890|\n",
    "L'entier d'indice 10 est | 12345678901|\n",
    "```\n",
    "\n",
    "Cet affichage correspond à la liste\n",
    "`[1, 12, 123, 1234, 12345, 123456, 1234567, 12345678, 123456789, 1234567890, 12345678901]`\n",
    "\n",
    "[{ref}`Corrigé <ex5.3_sol>`]\n",
    "````"
   ]
  }
 ],
 "metadata": {
  "jupytext": {
   "cell_metadata_filter": "-all",
   "formats": "md:myst",
   "text_representation": {
    "extension": ".md",
    "format_name": "myst",
    "format_version": "0.8",
    "jupytext_version": "1.5.0"
   }
  },
  "kernelspec": {
   "display_name": "Python 3",
   "language": "python",
   "name": "python3"
  },
  "language_info": {
   "codemirror_mode": {
    "name": "ipython",
    "version": 3
   },
   "file_extension": ".py",
   "mimetype": "text/x-python",
   "name": "python",
   "nbconvert_exporter": "python",
   "pygments_lexer": "ipython3",
   "version": "3.7.9"
  },
  "source_map": [
   14,
   21,
   24,
   33,
   39,
   43,
   47,
   53,
   57,
   59,
   67,
   72,
   76,
   78,
   82,
   85,
   89,
   92,
   96,
   101,
   105,
   107,
   139,
   144,
   151,
   158,
   163,
   179,
   182,
   187,
   192,
   197,
   201,
   205,
   215,
   225,
   232
  ]
 },
 "nbformat": 4,
 "nbformat_minor": 4
}