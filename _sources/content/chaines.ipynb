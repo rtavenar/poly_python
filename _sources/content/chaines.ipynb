{
 "cells": [
  {
   "cell_type": "markdown",
   "metadata": {},
   "source": [
    "# Les chaînes de caractères\n",
    "\n",
    "Nous nous intéressons maintenant à un autre type de données particulier du langage Python : les chaînes de caractères (type `str`).\n",
    "Pour créer une chaîne de caractères, il suffit d'utiliser des guillemets, simples ou doubles (les deux sont équivalents) :"
   ]
  },
  {
   "cell_type": "code",
   "execution_count": 1,
   "metadata": {
    "execution": {
     "iopub.execute_input": "2020-06-17T12:40:20.342978Z",
     "iopub.status.busy": "2020-06-17T12:40:20.340857Z",
     "iopub.status.idle": "2020-06-17T12:40:20.349045Z",
     "shell.execute_reply": "2020-06-17T12:40:20.347392Z"
    }
   },
   "outputs": [],
   "source": [
    "s1 = \"abc\"\n",
    "s2 = 'bde'"
   ]
  },
  {
   "cell_type": "markdown",
   "metadata": {},
   "source": [
    "Comme pour les listes (et peut-être même plus encore), il est fortement conseillé de se reporter à l'aide en ligne dédiée lorsque vous avez des doutes sur la manipulation de chaînes de caractères :\n",
    "<https://docs.python.org/3/library/stdtypes.html#string-methods>\n",
    "\n",
    "## Conversion d'une chaîne en nombre\n",
    "\n",
    "Si une chaîne de caractères représente une valeur numérique (comme la chaîne `\"10.2\"`{.haskell} par exemple), on peut la transformer en un entier ou un nombre à virgule, afin de l'utiliser ensuite pour des opérations arithmétiques. On utilise pour cela les fonctions de conversion, respectivement `int` et `float`."
   ]
  },
  {
   "cell_type": "code",
   "execution_count": 2,
   "metadata": {
    "execution": {
     "iopub.execute_input": "2020-06-17T12:40:20.363053Z",
     "iopub.status.busy": "2020-06-17T12:40:20.360385Z",
     "iopub.status.idle": "2020-06-17T12:40:20.371822Z",
     "shell.execute_reply": "2020-06-17T12:40:20.373553Z"
    }
   },
   "outputs": [
    {
     "name": "stdout",
     "output_type": "stream",
     "text": [
      "10.2\n"
     ]
    }
   ],
   "source": [
    "s = '10.2'\n",
    "f = float(s)\n",
    "print(f)"
   ]
  },
  {
   "cell_type": "code",
   "execution_count": 3,
   "metadata": {
    "execution": {
     "iopub.execute_input": "2020-06-17T12:40:20.386207Z",
     "iopub.status.busy": "2020-06-17T12:40:20.383904Z",
     "iopub.status.idle": "2020-06-17T12:40:20.392211Z",
     "shell.execute_reply": "2020-06-17T12:40:20.393781Z"
    }
   },
   "outputs": [
    {
     "name": "stdout",
     "output_type": "stream",
     "text": [
      "False\n"
     ]
    }
   ],
   "source": [
    "print(f == s)"
   ]
  },
  {
   "cell_type": "code",
   "execution_count": 4,
   "metadata": {
    "execution": {
     "iopub.execute_input": "2020-06-17T12:40:20.404481Z",
     "iopub.status.busy": "2020-06-17T12:40:20.401681Z",
     "iopub.status.idle": "2020-06-17T12:40:20.413473Z",
     "shell.execute_reply": "2020-06-17T12:40:20.415172Z"
    }
   },
   "outputs": [
    {
     "name": "stdout",
     "output_type": "stream",
     "text": [
      "12.2\n"
     ]
    }
   ],
   "source": [
    "print(f + 2)"
   ]
  },
  {
   "cell_type": "code",
   "execution_count": 5,
   "metadata": {
    "execution": {
     "iopub.execute_input": "2020-06-17T12:40:20.428727Z",
     "iopub.status.busy": "2020-06-17T12:40:20.426227Z",
     "iopub.status.idle": "2020-06-17T12:40:20.434955Z",
     "shell.execute_reply": "2020-06-17T12:40:20.436826Z"
    }
   },
   "outputs": [
    {
     "name": "stdout",
     "output_type": "stream",
     "text": [
      "10\n"
     ]
    }
   ],
   "source": [
    "s = '10'\n",
    "i = int(s)\n",
    "print(i)"
   ]
  },
  {
   "cell_type": "code",
   "execution_count": 6,
   "metadata": {
    "execution": {
     "iopub.execute_input": "2020-06-17T12:40:20.447880Z",
     "iopub.status.busy": "2020-06-17T12:40:20.443438Z",
     "iopub.status.idle": "2020-06-17T12:40:20.456491Z",
     "shell.execute_reply": "2020-06-17T12:40:20.458128Z"
    }
   },
   "outputs": [
    {
     "name": "stdout",
     "output_type": "stream",
     "text": [
      "False\n"
     ]
    }
   ],
   "source": [
    "print(i == s)"
   ]
  },
  {
   "cell_type": "code",
   "execution_count": 7,
   "metadata": {
    "execution": {
     "iopub.execute_input": "2020-06-17T12:40:20.471675Z",
     "iopub.status.busy": "2020-06-17T12:40:20.469034Z",
     "iopub.status.idle": "2020-06-17T12:40:20.478492Z",
     "shell.execute_reply": "2020-06-17T12:40:20.480483Z"
    }
   },
   "outputs": [
    {
     "name": "stdout",
     "output_type": "stream",
     "text": [
      "9\n"
     ]
    }
   ],
   "source": [
    "print(i - 1)"
   ]
  },
  {
   "cell_type": "markdown",
   "metadata": {},
   "source": [
    "## Analogie avec les listes\n",
    "\n",
    "Les chaînes de caractères se manipulent en partie comme des listes.\n",
    "On peut ainsi obtenir la taille d'une chaîne de caractères à l'aide de la fonction `len`, ou accéder à la $i$-ème lettre d'une chaîne de caractères avec la notation `s[i]`.\n",
    "Comme pour les listes, il est possible d'indicer une chaîne de caractères en partant de la fin, en utilisant des indices négatifs :"
   ]
  },
  {
   "cell_type": "code",
   "execution_count": 8,
   "metadata": {
    "execution": {
     "iopub.execute_input": "2020-06-17T12:40:20.493798Z",
     "iopub.status.busy": "2020-06-17T12:40:20.491291Z",
     "iopub.status.idle": "2020-06-17T12:40:20.500952Z",
     "shell.execute_reply": "2020-06-17T12:40:20.502615Z"
    }
   },
   "outputs": [
    {
     "name": "stdout",
     "output_type": "stream",
     "text": [
      "6\n"
     ]
    }
   ],
   "source": [
    "s = \"abcdef\"\n",
    "print(len(s))"
   ]
  },
  {
   "cell_type": "code",
   "execution_count": 9,
   "metadata": {
    "execution": {
     "iopub.execute_input": "2020-06-17T12:40:20.513357Z",
     "iopub.status.busy": "2020-06-17T12:40:20.509412Z",
     "iopub.status.idle": "2020-06-17T12:40:20.521719Z",
     "shell.execute_reply": "2020-06-17T12:40:20.523727Z"
    }
   },
   "outputs": [
    {
     "name": "stdout",
     "output_type": "stream",
     "text": [
      "a\n"
     ]
    }
   ],
   "source": [
    "print(s[0])"
   ]
  },
  {
   "cell_type": "code",
   "execution_count": 10,
   "metadata": {
    "execution": {
     "iopub.execute_input": "2020-06-17T12:40:20.537981Z",
     "iopub.status.busy": "2020-06-17T12:40:20.535078Z",
     "iopub.status.idle": "2020-06-17T12:40:20.555462Z",
     "shell.execute_reply": "2020-06-17T12:40:20.564135Z"
    }
   },
   "outputs": [
    {
     "name": "stdout",
     "output_type": "stream",
     "text": [
      "f\n"
     ]
    }
   ],
   "source": [
    "print(s[-1])"
   ]
  },
  {
   "cell_type": "markdown",
   "metadata": {},
   "source": [
    "De même, on peut sélectionner des sous-parties de chaînes de caractères à partir des indices de début et de fin de la sélection. Comme pour les listes, l'indice de fin correspond au premier élément exclu de la sélection :"
   ]
  },
  {
   "cell_type": "code",
   "execution_count": 11,
   "metadata": {
    "execution": {
     "iopub.execute_input": "2020-06-17T12:40:20.581689Z",
     "iopub.status.busy": "2020-06-17T12:40:20.578820Z",
     "iopub.status.idle": "2020-06-17T12:40:20.588512Z",
     "shell.execute_reply": "2020-06-17T12:40:20.590567Z"
    }
   },
   "outputs": [
    {
     "name": "stdout",
     "output_type": "stream",
     "text": [
      "cd\n"
     ]
    }
   ],
   "source": [
    "s = \"abcdef\"\n",
    "print(s[2:4])"
   ]
  },
  {
   "cell_type": "markdown",
   "metadata": {},
   "source": [
    "Comme pour les listes, on peut concaténer deux chaînes de caractères à l'aide de l'opérateur `+` ou répéter une chaîne de caractères avec l'opérateur `*` :"
   ]
  },
  {
   "cell_type": "code",
   "execution_count": 12,
   "metadata": {
    "execution": {
     "iopub.execute_input": "2020-06-17T12:40:20.606871Z",
     "iopub.status.busy": "2020-06-17T12:40:20.604101Z",
     "iopub.status.idle": "2020-06-17T12:40:20.614218Z",
     "shell.execute_reply": "2020-06-17T12:40:20.616356Z"
    }
   },
   "outputs": [
    {
     "name": "stdout",
     "output_type": "stream",
     "text": [
      "abcdecdecde\n"
     ]
    }
   ],
   "source": [
    "s = \"ab\" + ('cde' * 3)\n",
    "print(s)"
   ]
  },
  {
   "cell_type": "markdown",
   "metadata": {},
   "source": [
    "On peut également tester la présence d'une sous-chaîne de caractères dans une chaîne avec le mot-clé `in` :"
   ]
  },
  {
   "cell_type": "code",
   "execution_count": 13,
   "metadata": {
    "execution": {
     "iopub.execute_input": "2020-06-17T12:40:20.631434Z",
     "iopub.status.busy": "2020-06-17T12:40:20.628429Z",
     "iopub.status.idle": "2020-06-17T12:40:20.641950Z",
     "shell.execute_reply": "2020-06-17T12:40:20.644056Z"
    }
   },
   "outputs": [
    {
     "name": "stdout",
     "output_type": "stream",
     "text": [
      "True"
     ]
    },
    {
     "name": "stdout",
     "output_type": "stream",
     "text": [
      "\n"
     ]
    }
   ],
   "source": [
    "s = \"abcde\"\n",
    "print(\"a\" in s)"
   ]
  },
  {
   "cell_type": "code",
   "execution_count": 14,
   "metadata": {
    "execution": {
     "iopub.execute_input": "2020-06-17T12:40:20.659340Z",
     "iopub.status.busy": "2020-06-17T12:40:20.656643Z",
     "iopub.status.idle": "2020-06-17T12:40:20.666243Z",
     "shell.execute_reply": "2020-06-17T12:40:20.668730Z"
    }
   },
   "outputs": [
    {
     "name": "stdout",
     "output_type": "stream",
     "text": [
      "True\n"
     ]
    }
   ],
   "source": [
    "print(\"bcd\" in s)"
   ]
  },
  {
   "cell_type": "code",
   "execution_count": 15,
   "metadata": {
    "execution": {
     "iopub.execute_input": "2020-06-17T12:40:20.701976Z",
     "iopub.status.busy": "2020-06-17T12:40:20.691516Z",
     "iopub.status.idle": "2020-06-17T12:40:20.735587Z",
     "shell.execute_reply": "2020-06-17T12:40:20.714710Z"
    }
   },
   "outputs": [
    {
     "name": "stdout",
     "output_type": "stream",
     "text": [
      "False\n"
     ]
    }
   ],
   "source": [
    "print(\"bCd\" in s)"
   ]
  },
  {
   "cell_type": "markdown",
   "metadata": {},
   "source": [
    "**Attention.**\n",
    "Toutefois, l'analogie entre listes et chaînes de caractères est loin d'être parfaite.\n",
    "Par exemple, on peut accéder au $i$-ème élément d'une chaîne de caractères en lecture, mais pas en écriture.\n",
    "Si `s` est une chaîne de caractères, on ne peut pas exécuter `s[2] = \"c\"` par exemple.\n",
    "\n",
    "## Principales méthodes de la classe `str`\n",
    "\n",
    "La liste de méthodes de la classe `str` qui suit n'est pas exhaustive, il est conseillé de consulter l'aide en ligne de Python pour plus d'informations.\n",
    "\n",
    "* `ch.count(sub)`: Retourne le nombre d'occurrences de `sub` dans `ch`\n",
    "* `ch.endswith(suffix)`: Retourne `True` si `ch` se termine par `suffix`\n",
    "* `ch.startswith(prefix)`: Retourne `True` si `ch` commence par `prefix`\n",
    "* `ch.find(sub)`: Retourne l'indice du début de la première occurrence de `sub` dans `ch`\n",
    "* `ch.rfind(sub)`: Retourne l'indice du début de la dernière occurrence de `sub` dans `ch`\n",
    "* `ch.islower()`: Retourne `True` si `ch` est constituée uniquement de caractères minuscules\n",
    "* `ch.isupper()`: Retourne `True` si `ch` est constituée uniquement de caractères majuscules\n",
    "* `ch.isnumeric()`: Retourne `True` si `ch` est constituée uniquement de chiffres\n",
    "* `ch.lower()`: Retourne la version minuscule de `ch`\n",
    "* `ch.upper()`: Retourne la version majuscule de `ch`\n",
    "* `ch.replace(old, new)`: Retourne une copie de `ch` dans laquelle toutes les occurrences de `old` ont été remplacées par `new`\n",
    "* `ch.split(sep=None)`: Retourne une liste contenant des morceaux de `ch` découpée à chaque occurrence de `sep` (par défaut, la chaîne est decoupée à chaque espace ou retour à la ligne)\n",
    "* `ch.strip()`: Retourne une version \"nettoyée\" de `ch` dans laquelle on a enlevé tous les espaces en début et en fin de chaîne\n",
    "* `ch.format(...)`: Remplace les caractères `{}` dans la chaîne `ch` par le contenu des variables passées en argument (voir [ici](#anchor-format) pour un exemple d'utilisation)\n",
    "\n",
    "## Exercices\n",
    "\n",
    "**Exercice 5.1**\n",
    "Écrivez une fonction qui prenne en argument deux chaînes de caractères `s` et `prefix` et retourne le nombre de mots de la chaîne `s` qui débutent par la chaîne `prefix`.\n",
    "\n",
    "**Exercice 5.2**\n",
    "Écrivez une fonction qui prenne en argument deux chaînes de caractères `s` et `mot_cible` et retourne le nombre d'occurrences du mot `mot_cible` dans la chaîne `s` en ne tenant pas compte de la casse."
   ]
  }
 ],
 "metadata": {
  "jupytext": {
   "cell_metadata_filter": "-all",
   "formats": "md:myst",
   "text_representation": {
    "extension": ".md",
    "format_name": "myst",
    "format_version": "0.8",
    "jupytext_version": "1.5.0"
   }
  },
  "kernelspec": {
   "display_name": "Python 3",
   "language": "python",
   "name": "python3"
  },
  "language_info": {
   "codemirror_mode": {
    "name": "ipython",
    "version": 3
   },
   "file_extension": ".py",
   "mimetype": "text/x-python",
   "name": "python",
   "nbconvert_exporter": "python",
   "pygments_lexer": "ipython3",
   "version": "3.7.3"
  },
  "source_map": [
   14,
   21,
   24,
   33,
   39,
   43,
   47,
   53,
   57,
   59,
   67,
   72,
   76,
   78,
   82,
   85,
   89,
   92,
   96,
   101,
   105,
   107
  ]
 },
 "nbformat": 4,
 "nbformat_minor": 4
}