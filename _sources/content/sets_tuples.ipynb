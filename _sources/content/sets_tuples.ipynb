{
 "cells": [
  {
   "cell_type": "markdown",
   "id": "c6cd96aa",
   "metadata": {},
   "source": [
    "# Les _sets_ et les _tuples_\n",
    "\n",
    "Nous avons vu jusqu'à présent deux types qui permettent de stocker des collections de données : les listes et les dictionnaires.\n",
    "Dans ce chapitre, nous nous intéressons à deux autres structures qui permettent elles aussi de stocker des collections : les _sets_ et les _tuples_.\n",
    "\n",
    "## Les _tuples_\n",
    "\n",
    "Commençons par les tuples, car vous en avez déjà manipulé sans même vous en rendre compte.\n",
    "Prenons l'exemple de la fonction suivante :"
   ]
  },
  {
   "cell_type": "code",
   "execution_count": 1,
   "id": "eafec3cb",
   "metadata": {},
   "outputs": [],
   "source": [
    "def comment_tu_tappelles():\n",
    "    prenom = \"Pierre\"\n",
    "    nom = \"Lapin\"\n",
    "    return prenom, nom"
   ]
  },
  {
   "cell_type": "markdown",
   "id": "9d80ab11",
   "metadata": {},
   "source": [
    "Vous remarquez que cette fonction retourne deux valeurs, séparées par une virgule.\n",
    "Ces deux valeurs forment un _tuple_.\n",
    "\n",
    "Pour définir un nouveau tuple, on peut écrire :"
   ]
  },
  {
   "cell_type": "code",
   "execution_count": 2,
   "id": "90cdb38e",
   "metadata": {},
   "outputs": [
    {
     "name": "stdout",
     "output_type": "stream",
     "text": [
      "(1, 2, 3)\n",
      "('a', 'b', 'c')\n"
     ]
    }
   ],
   "source": [
    "# Les parenthèses sont facultatives\n",
    "a = 1, 2, 3\n",
    "b = (\"a\", \"b\", \"c\")\n",
    "\n",
    "print(a)\n",
    "print(b)"
   ]
  },
  {
   "cell_type": "markdown",
   "id": "4882ad82",
   "metadata": {},
   "source": [
    "Un _tuple_ ressemble en de nombreux points à une liste, mais il est impossible de modifier les données d'un _tuple_ une fois défini.\n",
    "Il n'est donc pas possible d'ajouter / supprimer des données (comme on le faisait avec `l.append()` ou `l.remove()` pour les listes par exemple).\n",
    "Il n'est pas non plus possible de modifier un élément d'un _tuple_ (si `a` est un _tuple_, on ne peut donc pas écrire `a[0] = 5` comme on l'aurait fait pour une liste).\n",
    "\n",
    "## Les _sets_\n",
    "\n",
    "Les _sets_, pour leur part, permettent de stocker des ensemble de valeurs, sans ordre et sans répétition.\n",
    "On peut ainsi voir les _sets_ comme des dictionnaires qui auraient des clés, mais pas de valeurs associées.\n",
    "Cela fait d'ailleurs écho à la syntaxe utilisée en Python pour définir un set, qui utilise les accolades, comme pour les dictionnaires :"
   ]
  },
  {
   "cell_type": "code",
   "execution_count": 3,
   "id": "8fd697a5",
   "metadata": {},
   "outputs": [
    {
     "name": "stdout",
     "output_type": "stream",
     "text": [
      "{1, 2, 3}\n",
      "{'truc', 'chose', 'machin'}\n"
     ]
    }
   ],
   "source": [
    "c = {1, 2, 3}\n",
    "d = {\"truc\", \"machin\", \"chose\"}\n",
    "\n",
    "print(c)\n",
    "print(d)"
   ]
  },
  {
   "cell_type": "markdown",
   "id": "53ed2eae",
   "metadata": {},
   "source": [
    "Vous pouvez remarquer, dans l'exemple ci-dessus, que, comme pour les dictionnaires, l'ordre dans lequel les éléments sont déclarés dans un _set_ n'est pas préservé lors de l'affichage.\n",
    "\n",
    "Puisque les _sets_ ne peuvent pas stocker de valeurs répétées, lorsqu'on convertit une liste en set, on obtient une liste sans doublon (mais on perd la notion d'ordre) :"
   ]
  },
  {
   "cell_type": "code",
   "execution_count": 4,
   "id": "96ec521e",
   "metadata": {},
   "outputs": [
    {
     "name": "stdout",
     "output_type": "stream",
     "text": [
      "{'truc', 'chose', 'machin'}\n"
     ]
    }
   ],
   "source": [
    "ma_liste = [\"truc\", \"machin\", \"truc\", \"chose\", \"machin\", \"machin\"]\n",
    "mon_set = set(ma_liste)  # Convertit la liste en set\n",
    "\n",
    "print(mon_set)"
   ]
  },
  {
   "cell_type": "markdown",
   "id": "abdec5c7",
   "metadata": {},
   "source": [
    "Une fois un _set_ défini, on ne peut plus modifier les valeurs qu'il contient, mais on peut lui supprimer / ajouter des valeurs :"
   ]
  },
  {
   "cell_type": "code",
   "execution_count": 5,
   "id": "3d4e29c6",
   "metadata": {},
   "outputs": [
    {
     "name": "stdout",
     "output_type": "stream",
     "text": [
      "{'chose', 'bidule', 'machin'}\n"
     ]
    }
   ],
   "source": [
    "mon_set = {\"truc\", \"machin\", \"chose\"}\n",
    "\n",
    "# Ajouter un élément\n",
    "mon_set.add(\"bidule\")\n",
    "\n",
    "# Supprimer un élément\n",
    "mon_set.remove(\"truc\")\n",
    "\n",
    "print(mon_set)"
   ]
  },
  {
   "cell_type": "markdown",
   "id": "dede306d",
   "metadata": {},
   "source": [
    "## Tableau récapitulatif\n",
    "\n",
    "Voici un tableau de ce qu'on peut / ne peut pas faire avec l'un ou l'autre des types de base pour les collections de données :\n",
    "\n",
    "|   | Listes | Dictionnaires | _Tuples_ | _Sets_ |\n",
    "|---|---|---|---|---|\n",
    "| Définition | `[1, 4]` | `{\"a\": 1, \"b\": 4}` | `(1, 4)` | `{1, 4}` |\n",
    "| Possibilité d'insérer / <br> supprimer des éléments | ✅ | ✅ | ❌ | ✅ |\n",
    "| Possibilité de modifier <br> des éléments | ✅ | valeurs : ✅ <br>clés : ❌ | ❌ | ❌ |\n",
    "| Possibilité de stocker <br>des valeurs dupliquées | ✅ | ✅$^*$ | ✅ | ❌ |\n",
    "| Valeurs ordonnées | ✅ | ❌$^{**}$ | ✅ | ❌ |\n",
    "\n",
    "* $^*$ : dans un dictionnaire, les valeurs peuvent être dupliquées, mais pas les clefs\n",
    "* $^{**}$ : en fait, à partir de la version 3.7 de Python, les dictionnaires sont ordonnés, mais pour que votre code tourne de manière identique quelle que soit la version de Python utilisée, il est préférable de ne pas faire d'hypothèse sur l'ordre des paires clés-valeurs dans les dictionnaires"
   ]
  }
 ],
 "metadata": {
  "jupytext": {
   "cell_metadata_filter": "-all",
   "formats": "md:myst",
   "text_representation": {
    "extension": ".md",
    "format_name": "myst",
    "format_version": "0.8",
    "jupytext_version": "1.5.0"
   }
  },
  "kernelspec": {
   "display_name": "Python 3",
   "language": "python",
   "name": "python3"
  },
  "language_info": {
   "codemirror_mode": {
    "name": "ipython",
    "version": 3
   },
   "file_extension": ".py",
   "mimetype": "text/x-python",
   "name": "python",
   "nbconvert_exporter": "python",
   "pygments_lexer": "ipython3",
   "version": "3.7.14"
  },
  "source_map": [
   14,
   26,
   31,
   38,
   45,
   57,
   63,
   69,
   74,
   78,
   88
  ]
 },
 "nbformat": 4,
 "nbformat_minor": 5
}