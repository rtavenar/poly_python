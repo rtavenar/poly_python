{
 "cells": [
  {
   "cell_type": "markdown",
   "id": "1aa4be61",
   "metadata": {},
   "source": [
    "# Introduction\n",
    "\n",
    "Ce document est un polycopié qui sert de support pour certains cours enseignés dans la filière MIASHS de l'Université de Rennes 2.\n",
    "Il est distribué librement (sous licence [CC BY-NC-SA](https://creativecommons.org/licenses/by-nc-sa/4.0/) plus précisément) et se veut évolutif, n'hésitez donc pas à faire vos remarques à son auteur dont vous trouverez le contact sur [sa page web](https://rtavenar.github.io/).\n",
    "Ce polycopié a notamment bénéficié des apports d'Aurélie Lemaitre, d'Agnès Maunoury et de Jean-Christophe Burnel.\n",
    "\n",
    "Durant la lecture de ce polycopié, vous trouverez des blocs de code tels que celui-ci :"
   ]
  },
  {
   "cell_type": "code",
   "execution_count": 1,
   "id": "c36385b7",
   "metadata": {},
   "outputs": [
    {
     "name": "stdout",
     "output_type": "stream",
     "text": [
      "289\n"
     ]
    }
   ],
   "source": [
    "def f(v):\n",
    "    return v ** 2\n",
    "\n",
    "x = 5\n",
    "y = f(3 * x + 2)\n",
    "print(y)"
   ]
  },
  {
   "cell_type": "markdown",
   "id": "6ffa825f",
   "metadata": {},
   "source": [
    "Le bloc situé sous le code correspond à la sortie générée dans le terminal par le code en question.\n",
    "\n",
    "Dans ce document, nous allons donc nous intéresser au langage Python.\n",
    "Pour tester les exemples présentés au fil de ce document ou réaliser les exercices proposés, vous aurez deux possibilités.\n",
    "La première consiste à ouvrir une **console Python**, à l'aide de la commande suivante (si vous êtes sous Unix, en supposant que le symbole `$` corresponde au prompt de votre _shell_) :\n",
    "\n",
    "```\n",
    "$ python\n",
    "Python 3.5.1 (default, Dec  9 2015, 11:28:16)\n",
    "[GCC 4.2.1 Compatible Apple LLVM 7.0.0 (clang-700.1.76)] on darwin\n",
    "Type \"help\", \"copyright\", \"credits\" or \"license\" for more information.\n",
    ">>>\n",
    "```\n",
    "\n",
    "Lors de l'exécution de cette commande, on peut remarquer plusieurs choses.\n",
    "Tout d'abord, au démarrage, la console Python nous indique la version de Python qui est exécutée.\n",
    "Cela est important, car il existe notamment une importante différence entre les versions 2 (2.x.y) et 3 (3.x.y) de Python.\n",
    "Dans ce document, nous supposons l'utilisation de Python dans sa version 3, comme dans la console affichée plus haut.\n",
    "Enfin, une fois la console démarrée, on voit apparaître un prompt Python (`>>>`) qui indique que vous pouvez, à partir de ce point, entrer du code Python et en demander l'exécution en appuyant sur la touche _retour chariot_ (ou \"Entrée\") de votre clavier.\n",
    "\n",
    "L'autre façon de programmer en Python, plus adaptée dès lors que l'on souhaite conserver une trace de ce qu'on a écrit, consiste à enregistrer vos commandes dans un fichier texte (en respectant la convention qui consiste à utiliser l'extension `.py` pour le nom de fichier) puis à faire exécuter votre programme par l'interpréteur Python :\n",
    "\n",
    "```\n",
    "$ python nom_de_mon_fichier.py\n",
    "[...]\n",
    "```"
   ]
  }
 ],
 "metadata": {
  "jupytext": {
   "cell_metadata_filter": "-all",
   "formats": "md:myst",
   "text_representation": {
    "extension": ".md",
    "format_name": "myst",
    "format_version": "0.8",
    "jupytext_version": "1.5.0"
   }
  },
  "kernelspec": {
   "display_name": "Python 3",
   "language": "python",
   "name": "python3"
  },
  "language_info": {
   "codemirror_mode": {
    "name": "ipython",
    "version": 3
   },
   "file_extension": ".py",
   "mimetype": "text/x-python",
   "name": "python",
   "nbconvert_exporter": "python",
   "pygments_lexer": "ipython3",
   "version": "3.7.13"
  },
  "source_map": [
   14,
   24,
   31
  ]
 },
 "nbformat": 4,
 "nbformat_minor": 5
}