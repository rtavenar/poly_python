{
 "cells": [
  {
   "cell_type": "markdown",
   "metadata": {},
   "source": [
    "# Toutes les solutions\n",
    "\n",
    "(ex2.1_sol)=\n",
    "## Exercice 2.1"
   ]
  },
  {
   "cell_type": "code",
   "execution_count": 1,
   "metadata": {},
   "outputs": [
    {
     "name": "stdout",
     "output_type": "stream",
     "text": [
      "l'eau est sous forme solide\n"
     ]
    }
   ],
   "source": [
    "t = -5\n",
    "if t <= 0:\n",
    "\tprint(\"l'eau est sous forme solide\")\n",
    "elif t < 100:\n",
    "\tprint(\"l'eau est sous forme liquide\")\n",
    "else :\n",
    "\tprint(\"l'eau est sous forme gazeuse\")"
   ]
  },
  {
   "cell_type": "markdown",
   "metadata": {},
   "source": [
    "(ex2.2_sol)=\n",
    "## Exercice 2.2\n",
    "\n",
    "* Version avec utilisation du modulo"
   ]
  },
  {
   "cell_type": "code",
   "execution_count": 2,
   "metadata": {},
   "outputs": [
    {
     "name": "stdout",
     "output_type": "stream",
     "text": [
      "1\n",
      "3\n",
      "5\n",
      "7\n"
     ]
    }
   ],
   "source": [
    "n = 8\n",
    "i = 0\n",
    "while(i < n):\n",
    "\tif i % 2 != 0:\n",
    "\t\tprint(i)\n",
    "\ti+=1\n"
   ]
  },
  {
   "cell_type": "markdown",
   "metadata": {},
   "source": [
    "* Version sans utilisation du modulo"
   ]
  },
  {
   "cell_type": "code",
   "execution_count": 3,
   "metadata": {},
   "outputs": [
    {
     "name": "stdout",
     "output_type": "stream",
     "text": [
      "1\n",
      "3\n",
      "5\n",
      "7\n"
     ]
    }
   ],
   "source": [
    "n = 8\n",
    "i = 1\n",
    "while(i < n):\n",
    "\tprint(i)\n",
    "\ti += 2"
   ]
  },
  {
   "cell_type": "markdown",
   "metadata": {},
   "source": [
    "(ex2.3_sol)=\n",
    "## Exercice 2.3"
   ]
  },
  {
   "cell_type": "code",
   "execution_count": 4,
   "metadata": {},
   "outputs": [
    {
     "name": "stdout",
     "output_type": "stream",
     "text": [
      "0.4330127018922193\n"
     ]
    }
   ],
   "source": [
    "import math\n",
    "\n",
    "def aire_equi(long):\n",
    "    base = long\n",
    "    hauteur = long * math.sin(math.pi / 3)\n",
    "    return base * hauteur / 2\n",
    "\n",
    "print(aire_equi(1.))"
   ]
  },
  {
   "cell_type": "markdown",
   "metadata": {},
   "source": [
    "(ex2.4_sol)=\n",
    "## Exercice 2.4\n",
    "\n",
    "* Version itérative (avec une boucle)"
   ]
  },
  {
   "cell_type": "code",
   "execution_count": 5,
   "metadata": {},
   "outputs": [
    {
     "name": "stdout",
     "output_type": "stream",
     "text": [
      "2\n",
      "4\n",
      "16\n",
      "256\n"
     ]
    }
   ],
   "source": [
    "def affiche_u_n():\n",
    "    u = 2\n",
    "    while u < 1000:\n",
    "        print(u)\n",
    "        u = u ** 2\n",
    "\n",
    "affiche_u_n()"
   ]
  },
  {
   "cell_type": "markdown",
   "metadata": {},
   "source": [
    "* Version récursive (avec des appels de fonction)"
   ]
  },
  {
   "cell_type": "code",
   "execution_count": 6,
   "metadata": {},
   "outputs": [
    {
     "name": "stdout",
     "output_type": "stream",
     "text": [
      "2\n",
      "4\n",
      "16\n",
      "256\n"
     ]
    }
   ],
   "source": [
    "def affiche_u_n(u=2):\n",
    "    if u < 1000:\n",
    "        print(u)\n",
    "        affiche_u_n(u ** 2)\n",
    "\n",
    "affiche_u_n()"
   ]
  },
  {
   "cell_type": "markdown",
   "metadata": {},
   "source": [
    "Ici, on a fixé une valeur par défaut à l'argument `u`{.python} correspondant à l'initialisation de la suite, pour que l'appel initial se fasse comme pour la version itérative de la fonction (`affiche_u_n()`{.python})\n",
    "\n",
    "(ex3.1_sol)=\n",
    "## Exercice 3.1"
   ]
  },
  {
   "cell_type": "code",
   "execution_count": 7,
   "metadata": {},
   "outputs": [
    {
     "name": "stdout",
     "output_type": "stream",
     "text": [
      "Le second intervalle est le plus grand.\n"
     ]
    }
   ],
   "source": [
    "import datetime\n",
    "\n",
    "interv1_date1 = datetime.datetime(1920, 1, 2, 7, 32)\n",
    "interv1_date2 = datetime.datetime(1920, 3, 4, 5, 53)\n",
    "duree1 = interv1_date2 - interv1_date1\n",
    "\n",
    "interv2_date1 = datetime.datetime(1999, 12, 30, 17, 12)\n",
    "interv2_date2 = datetime.datetime(2000, 3, 1, 15, 53)\n",
    "duree2 = interv2_date2 - interv2_date1\n",
    "\n",
    "if duree1 > duree2:\n",
    "    print(\"Le premier intervalle est le plus grand.\")\n",
    "else:\n",
    "    print(\"Le second intervalle est le plus grand.\")"
   ]
  },
  {
   "cell_type": "markdown",
   "metadata": {},
   "source": [
    "(ex3.2_sol)=\n",
    "## Exercice 3.2"
   ]
  },
  {
   "cell_type": "code",
   "execution_count": 8,
   "metadata": {},
   "outputs": [
    {
     "name": "stdout",
     "output_type": "stream",
     "text": [
      "2010 n'est pas bissextile\n",
      "2011 n'est pas bissextile\n",
      "2012 est bissextile\n",
      "2013 n'est pas bissextile\n",
      "2014 n'est pas bissextile\n",
      "2015 n'est pas bissextile\n",
      "2016 est bissextile\n",
      "2017 n'est pas bissextile\n",
      "2018 n'est pas bissextile\n",
      "2019 n'est pas bissextile\n",
      "2020 est bissextile\n",
      "2021 n'est pas bissextile\n",
      "2022 n'est pas bissextile\n",
      "2023 n'est pas bissextile\n",
      "2024 est bissextile\n",
      "2025 n'est pas bissextile\n",
      "2026 n'est pas bissextile\n",
      "2027 n'est pas bissextile\n",
      "2028 est bissextile\n",
      "2029 n'est pas bissextile\n",
      "2030 n'est pas bissextile\n"
     ]
    }
   ],
   "source": [
    "import datetime\n",
    "\n",
    "duree_annee_normale = 365 * 24 * 60 * 60\n",
    "\n",
    "for annee in range(2010, 2031):\n",
    "    date_debut = datetime.datetime(annee, 1, 1)\n",
    "    date_fin = datetime.datetime(annee + 1, 1, 1)\n",
    "    duree_anne_courante = date_fin - date_debut\n",
    "    if duree_anne_courante.total_seconds() > duree_annee_normale:\n",
    "        print(annee, \"est bissextile\")\n",
    "    else:\n",
    "        print(annee, \"n'est pas bissextile\")"
   ]
  },
  {
   "cell_type": "markdown",
   "metadata": {},
   "source": [
    "(ex4.1_sol)=\n",
    "## Exercice 4.1"
   ]
  },
  {
   "cell_type": "code",
   "execution_count": 9,
   "metadata": {},
   "outputs": [
    {
     "name": "stdout",
     "output_type": "stream",
     "text": [
      "1\n"
     ]
    }
   ],
   "source": [
    "def argmax(liste):\n",
    "    i_max = None\n",
    "    # On initialise elem_max à une valeur\n",
    "    # qui n'est clairement pas le max\n",
    "    if len(liste) > 0:\n",
    "        elem_max = liste[0] - 1  \n",
    "    for i, elem in enumerate(liste):\n",
    "        if elem > elem_max:\n",
    "            i_max = i\n",
    "            elem_max = elem\n",
    "    return i_max\n",
    "\n",
    "print(argmax([1, 6, 2, 4]))"
   ]
  },
  {
   "cell_type": "markdown",
   "metadata": {},
   "source": [
    "(ex4.2_sol)=\n",
    "## Exercice 4.2"
   ]
  },
  {
   "cell_type": "code",
   "execution_count": 10,
   "metadata": {},
   "outputs": [
    {
     "name": "stdout",
     "output_type": "stream",
     "text": [
      "[6, 2]\n"
     ]
    }
   ],
   "source": [
    "def intersection(liste1, liste2):\n",
    "    liste_intersection = []\n",
    "    for elem in liste1:\n",
    "        if elem in liste2:\n",
    "            liste_intersection.append(elem)\n",
    "    return liste_intersection\n",
    "\n",
    "print(intersection([1, 6, 2, 4], [2, 7, 6]))"
   ]
  },
  {
   "cell_type": "markdown",
   "metadata": {},
   "source": [
    "(ex4.3_sol)=\n",
    "## Exercice 4.3"
   ]
  },
  {
   "cell_type": "code",
   "execution_count": 11,
   "metadata": {},
   "outputs": [
    {
     "name": "stdout",
     "output_type": "stream",
     "text": [
      "[1, 6, 2, 4, 7]\n"
     ]
    }
   ],
   "source": [
    "def union_sans_doublon(liste1, liste2):\n",
    "    liste_union = []\n",
    "    for elem in liste1 + liste2:\n",
    "        if elem not in liste_union:\n",
    "            liste_union.append(elem)\n",
    "    return liste_union\n",
    "\n",
    "print(union_sans_doublon([1, 6, 2, 4], [2, 7, 6, 2]))"
   ]
  },
  {
   "cell_type": "markdown",
   "metadata": {},
   "source": [
    "(ex5.1_sol)=\n",
    "## Exercice 5.1"
   ]
  },
  {
   "cell_type": "code",
   "execution_count": 12,
   "metadata": {},
   "outputs": [
    {
     "name": "stdout",
     "output_type": "stream",
     "text": [
      "2\n"
     ]
    }
   ],
   "source": [
    "def compte_prefix(s, prefix):\n",
    "    compteur = 0\n",
    "    for mot in s.split():\n",
    "        if mot.startswith(prefix):\n",
    "            compteur += 1\n",
    "    return compteur\n",
    "\n",
    "print(compte_prefix(\"la vie est belle au bord du lac\", \"la\"))"
   ]
  },
  {
   "cell_type": "markdown",
   "metadata": {},
   "source": [
    "(ex5.2_sol)=\n",
    "## Exercice 5.2"
   ]
  },
  {
   "cell_type": "code",
   "execution_count": 13,
   "metadata": {},
   "outputs": [],
   "source": [
    "def compte_sans_casse(s, mot_cible):\n",
    "    compteur = 0\n",
    "    mot_cible_minuscules = mot_cible.lower()\n",
    "    for mot in s.split():\n",
    "        if mot.lower() == mot_cible_minuscules:\n",
    "            compteur += 1\n",
    "    return compteur"
   ]
  },
  {
   "cell_type": "markdown",
   "metadata": {},
   "source": [
    "(ex5.3_sol)=\n",
    "## Exercice 5.3"
   ]
  },
  {
   "cell_type": "code",
   "execution_count": 14,
   "metadata": {},
   "outputs": [
    {
     "name": "stdout",
     "output_type": "stream",
     "text": [
      "L'entier d'indice  0 est |           1|\n",
      "L'entier d'indice  1 est |          12|\n",
      "L'entier d'indice  2 est |         123|\n",
      "L'entier d'indice  3 est |        1234|\n",
      "L'entier d'indice  4 est |       12345|\n",
      "L'entier d'indice  5 est |      123456|\n",
      "L'entier d'indice  6 est |     1234567|\n",
      "L'entier d'indice  7 est |    12345678|\n",
      "L'entier d'indice  8 est |   123456789|\n",
      "L'entier d'indice  9 est |  1234567890|\n",
      "L'entier d'indice 10 est | 12345678901|\n"
     ]
    }
   ],
   "source": [
    "def affiche_liste(liste):\n",
    "    for i, elt in enumerate(listent):\n",
    "        print(f\"L'entier d'indice {i:2n} est |{elt:12n}|\")\n",
    "\n",
    "listent = [1, 12, 123, 1234, 12345, 123456, 1234567, 12345678, 123456789, 1234567890, 12345678901]\n",
    "affiche_liste(listent)"
   ]
  },
  {
   "cell_type": "markdown",
   "metadata": {},
   "source": [
    "(ex6.1_sol)=\n",
    "## Exercice 6.1"
   ]
  },
  {
   "cell_type": "code",
   "execution_count": 15,
   "metadata": {},
   "outputs": [
    {
     "name": "stdout",
     "output_type": "stream",
     "text": [
      "{'la': 2, 'vie': 2, 'est': 1, 'belle': 1, \"c'est\": 1}\n"
     ]
    }
   ],
   "source": [
    "def compte_occurrences(s):\n",
    "    d = {}\n",
    "    for mot in s.split():\n",
    "        d[mot] = d.get(mot, 0) + 1\n",
    "    return d\n",
    "\n",
    "print(compte_occurrences(\"la vie est belle c'est la vie\"))"
   ]
  },
  {
   "cell_type": "markdown",
   "metadata": {},
   "source": [
    "(ex6.2_sol)=\n",
    "## Exercice 6.2"
   ]
  },
  {
   "cell_type": "code",
   "execution_count": 16,
   "metadata": {},
   "outputs": [
    {
     "name": "stdout",
     "output_type": "stream",
     "text": [
      "13.5\n"
     ]
    }
   ],
   "source": [
    "def somme_valeurs(d):\n",
    "    s = 0\n",
    "    for v in d.values():\n",
    "        s += v\n",
    "    return s\n",
    "\n",
    "print(somme_valeurs({\"a\": 12, \"zz\": 1.5, \"AAA\": 0}))"
   ]
  },
  {
   "cell_type": "markdown",
   "metadata": {},
   "source": [
    "(ex7.1_sol)=\n",
    "## Exercice 7.1\n",
    "\n",
    "```\n",
    "import os\n",
    "\n",
    "def nb_lignes(nom_fichier):\n",
    "    n = 0\n",
    "    fp = open(nom_fichier, \"r\")\n",
    "    for ligne in fp.readlines():\n",
    "        n += 1\n",
    "    return n\n",
    "\n",
    "def nb_lignes_repertoire(repertoire):\n",
    "    for nom_fichier in os.listdir(repertoire):\n",
    "        if nom_fichier.endswith(\".txt\"):\n",
    "            nom_complet_fichier = os.path.join(repertoire, nom_fichier)\n",
    "            n = nb_lignes(nom_complet_fichier)\n",
    "            print(nom_complet_fichier, n)\n",
    "\n",
    "nb_lignes_repertoire(\".\")\n",
    "```\n",
    "\n",
    "(ex7.2_sol)=\n",
    "## Exercice 7.2\n",
    "\n",
    "```\n",
    "import os\n",
    "\n",
    "def compte_fichiers(repertoire):\n",
    "    compteur = 0\n",
    "    for f in os.listdir(repertoire):\n",
    "        if os.path.isfile(os.path.join(repertoire, f)):\n",
    "            compteur += 1\n",
    "    return compteur\n",
    "\n",
    "print(compte_fichiers(\".\"))\n",
    "```\n",
    "\n",
    "(ex8.1_sol)=\n",
    "## Exercice 8.1\n",
    "\n",
    "* Solution 1"
   ]
  },
  {
   "cell_type": "code",
   "execution_count": 17,
   "metadata": {},
   "outputs": [
    {
     "name": "stdout",
     "output_type": "stream",
     "text": [
      "{'userId': 1, 'id': 4, 'title': 'et porro tempora', 'completed': True}\n",
      "{'userId': 1, 'id': 8, 'title': 'quo adipisci enim quam ut ab', 'completed': True}\n",
      "{'userId': 3, 'id': 44, 'title': 'cum debitis quis accusamus doloremque ipsa natus sapiente omnis', 'completed': True}\n"
     ]
    }
   ],
   "source": [
    "import requests\n",
    "\n",
    "def affiche_api(liste_userId):\n",
    "    url = \"http://my-json-server.typicode.com/rtavenar/fake_api/tasks\"\n",
    "    contenu = requests.get(url)\n",
    "    list_taches = contenu.json()\n",
    "    for tache in list_taches:\n",
    "        if tache[\"completed\"] and tache[\"userId\"] in liste_userId:\n",
    "            print(tache)\n",
    "\n",
    "affiche_api([1, 3])"
   ]
  },
  {
   "cell_type": "markdown",
   "metadata": {},
   "source": [
    "* Solution 2 : en utilisant les paramètres d'URL"
   ]
  },
  {
   "cell_type": "code",
   "execution_count": 18,
   "metadata": {},
   "outputs": [
    {
     "name": "stdout",
     "output_type": "stream",
     "text": [
      "{'userId': 1, 'id': 4, 'title': 'et porro tempora', 'completed': True}\n",
      "{'userId': 1, 'id': 8, 'title': 'quo adipisci enim quam ut ab', 'completed': True}\n",
      "{'userId': 3, 'id': 44, 'title': 'cum debitis quis accusamus doloremque ipsa natus sapiente omnis', 'completed': True}\n"
     ]
    }
   ],
   "source": [
    "import requests\n",
    "\n",
    "def affiche_api(liste_userId):\n",
    "    url = \"http://my-json-server.typicode.com/rtavenar/fake_api/tasks\"\n",
    "    contenu = requests.get(url, params=\"completed=true\")\n",
    "    list_taches = contenu.json()\n",
    "    for tache in list_taches:\n",
    "        if tache[\"userId\"] in liste_userId:\n",
    "            print(tache)\n",
    "\n",
    "affiche_api([1, 3])"
   ]
  },
  {
   "cell_type": "markdown",
   "metadata": {},
   "source": [
    "(ex9.1_sol)=\n",
    "## Exercice 9.1"
   ]
  },
  {
   "cell_type": "code",
   "execution_count": 19,
   "metadata": {},
   "outputs": [
    {
     "name": "stdout",
     "output_type": "stream",
     "text": [
      "True"
     ]
    },
    {
     "name": "stdout",
     "output_type": "stream",
     "text": [
      "\n",
      "False\n",
      "True\n",
      "False\n",
      "31\n",
      "30\n",
      "28\n",
      "29\n",
      "(13, 2, 2010)\n",
      "(1, 3, 2010)\n",
      "(1, 1, 2011)\n"
     ]
    }
   ],
   "source": [
    "def bissextile(annee):\n",
    "    if annee % 4 == 0 and annee % 100 != 0:\n",
    "        return True\n",
    "    elif annee % 400 == 0:\n",
    "        return True\n",
    "    else:\n",
    "        return False\n",
    "\n",
    "def nb_jours(mois, annee):\n",
    "    if mois in [1, 3, 5, 7, 8, 10, 12]:\n",
    "        return 31\n",
    "    elif mois in [4, 6, 9, 11]:\n",
    "        return 30\n",
    "    else:  # Mois de février\n",
    "        if bissextile(annee):\n",
    "            return 29\n",
    "        else:\n",
    "            return 28\n",
    "\n",
    "def lendemain(jour, mois, annee):\n",
    "    if jour < nb_jours(mois, annee):\n",
    "        return jour + 1, mois, annee\n",
    "    elif mois < 12:  # Dernier jour du mois mais pas de l'année\n",
    "        return 1, mois + 1, annee\n",
    "    else:  # Dernier jour de l'année\n",
    "        return 1, 1, annee + 1\n",
    "\n",
    "# Tests de la fonction bissextile\n",
    "print(bissextile(2004))  # True car divisible par 4 et non par 100\n",
    "print(bissextile(1900))  # False car divisible par 100 et non par 400\n",
    "print(bissextile(2000))  # True car divisible par 400\n",
    "print(bissextile(1999))  # False car divisible ni par 4 ni par 100\n",
    "\n",
    "# Tests de la fonction nb_jours\n",
    "print(nb_jours(3, 2010))  # Mars : 31\n",
    "print(nb_jours(4, 2010))  # Avril : 30\n",
    "print(nb_jours(2, 2010))  # Février d'une année non bissextile : 28\n",
    "print(nb_jours(2, 2004))  # Février d'une année bissextile : 29\n",
    "\n",
    "# Tests de la fonction lendemain\n",
    "print(lendemain(12, 2, 2010))  # 13, 2, 2010\n",
    "print(lendemain(28, 2, 2010))  #  1, 3, 2010\n",
    "print(lendemain(31, 12, 2010)) #  1, 1, 2011"
   ]
  },
  {
   "cell_type": "markdown",
   "metadata": {},
   "source": [
    "(ex9.2_sol)=\n",
    "## Exercice 9.2"
   ]
  },
  {
   "cell_type": "code",
   "execution_count": 20,
   "metadata": {},
   "outputs": [
    {
     "name": "stdout",
     "output_type": "stream",
     "text": [
      "True\n",
      "False\n",
      "True\n",
      "False\n"
     ]
    }
   ],
   "source": [
    "def bissextile(annee):\n",
    "    return (annee % 4 == 0 and annee % 100 != 0) or (annee % 400 == 0)\n",
    "\n",
    "print(bissextile(2004))  # True car divisible par 4 et non par 100\n",
    "print(bissextile(1900))  # False car divisible par 100 et non par 400\n",
    "print(bissextile(2000))  # True car divisible par 400\n",
    "print(bissextile(1999))  # False car divisible ni par 4 ni par 100"
   ]
  }
 ],
 "metadata": {
  "jupytext": {
   "cell_metadata_filter": "-all",
   "formats": "md:myst",
   "text_representation": {
    "extension": ".md",
    "format_name": "myst",
    "format_version": "0.8",
    "jupytext_version": "1.5.0"
   }
  },
  "kernelspec": {
   "display_name": "Python 3",
   "language": "python",
   "name": "python3"
  },
  "language_info": {
   "codemirror_mode": {
    "name": "ipython",
    "version": 3
   },
   "file_extension": ".py",
   "mimetype": "text/x-python",
   "name": "python",
   "nbconvert_exporter": "python",
   "pygments_lexer": "ipython3",
   "version": "3.7.9"
  },
  "source_map": [
   14,
   21,
   29,
   36,
   44,
   48,
   54,
   59,
   68,
   75,
   83,
   87,
   94,
   101,
   116,
   121,
   134,
   139,
   153,
   158,
   167,
   172,
   181,
   186,
   195,
   200,
   208,
   213,
   220,
   225,
   233,
   238,
   246,
   292,
   304,
   308,
   320,
   325,
   369,
   374
  ]
 },
 "nbformat": 4,
 "nbformat_minor": 4
}