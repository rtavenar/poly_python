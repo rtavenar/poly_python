{
 "cells": [
  {
   "cell_type": "markdown",
   "metadata": {},
   "source": [
    "# Les listes\n",
    "\n",
    "En Python, les listes stockent des séquences d'éléments.\n",
    "Il n'est pas nécessaire que tous les éléments d'une liste soient du même type, même si dans les exemples que nous considérerons, ce sera souvent le cas.\n",
    "\n",
    "On peut trouver des informations précieuses sur le sujet des listes dans l'aide en ligne de Python disponible à l'adresse : <https://docs.python.org/3/tutorial/datastructures.html>.\n",
    "\n",
    "## Avant-propos : listes et itérables\n",
    "\n",
    "Dans la suite, nous parlerons de listes, qui est un type de données bien spécifique en Python. Toutefois, une grande partie de notre propos pourra se transposer à l'ensemble des itérables en Python (c'est-à-dire l'ensemble des objets Python dont on peut parcourir les éléments un à un).\n",
    "\n",
    "Il existe toutefois une différence majeure entre listes et itérables : nous verrons dans la suite de ce chapitre que l'on peut accéder au $i$-ème élément d'une liste simplement, alors que ce n'est généralement pas possible pour un itérable (pour ce dernier, il faudra parcourir l'ensemble de ses éléments et s'arrêter lorsque l'on est effectivement rendu au $i$-ème).\n",
    "\n",
    "Toutefois, si l'on a un itérable `iterable`, il est possible de le transformer en liste simplement à l'aide de la fonction `list` :\n",
    "\n",
    "```\n",
    "l = list(iterable)\n",
    "```\n",
    "\n",
    "## Création de liste\n",
    "\n",
    "Pour créer une liste contenant des éléments définis (par exemple la liste contenant les entiers 1, 5 et 7), il est possible d'utiliser la syntaxe suivante :"
   ]
  },
  {
   "cell_type": "code",
   "execution_count": 1,
   "metadata": {
    "execution": {
     "iopub.execute_input": "2020-06-17T12:40:45.170158Z",
     "iopub.status.busy": "2020-06-17T12:40:45.169430Z",
     "iopub.status.idle": "2020-06-17T12:40:45.171429Z",
     "shell.execute_reply": "2020-06-17T12:40:45.171898Z"
    }
   },
   "outputs": [],
   "source": [
    "liste = [1, 5, 7]"
   ]
  },
  {
   "cell_type": "markdown",
   "metadata": {},
   "source": [
    "De la même façon, on peut créer une liste vide (ne contenant aucun élément) :"
   ]
  },
  {
   "cell_type": "code",
   "execution_count": 2,
   "metadata": {
    "execution": {
     "iopub.execute_input": "2020-06-17T12:40:45.175289Z",
     "iopub.status.busy": "2020-06-17T12:40:45.174097Z",
     "iopub.status.idle": "2020-06-17T12:40:45.177416Z",
     "shell.execute_reply": "2020-06-17T12:40:45.177820Z"
    }
   },
   "outputs": [
    {
     "name": "stdout",
     "output_type": "stream",
     "text": [
      "0\n"
     ]
    }
   ],
   "source": [
    "liste = []\n",
    "print(len(liste))"
   ]
  },
  {
   "cell_type": "markdown",
   "metadata": {},
   "source": [
    "On voit ici la fonction `len` qui retourne la taille d'une liste passée en argument (ici 0 puisque la liste est vide).\n",
    "\n",
    "Toutefois, lorsque l'on souhaite créer des listes longues (par exemple la liste des 1000 premiers entiers), cette méthode est peu pratique.\n",
    "Heureusement, il existe des fonctions qui permettent de créer de telles listes.\n",
    "Par exemple, la fonction `range(a, b)` retourne un itérable contenant les entiers de `a` (inclus) à `b` (exclu) :"
   ]
  },
  {
   "cell_type": "code",
   "execution_count": 3,
   "metadata": {
    "execution": {
     "iopub.execute_input": "2020-06-17T12:40:45.181771Z",
     "iopub.status.busy": "2020-06-17T12:40:45.181137Z",
     "iopub.status.idle": "2020-06-17T12:40:45.183368Z",
     "shell.execute_reply": "2020-06-17T12:40:45.183805Z"
    }
   },
   "outputs": [],
   "source": [
    "l = range(1, 10)     # l = [1, 2, 3, ..., 9]\n",
    "l = range(10)        # l = [0, 1, 2, ..., 9]\n",
    "l = range(0, 10, 2)  # l = [0, 2, 4, ..., 8]"
   ]
  },
  {
   "cell_type": "markdown",
   "metadata": {},
   "source": [
    "On remarque que, si l'on ne donne qu'un argument à la fonction `range`, l'itérable retourné débute à l'entier 0.\n",
    "Si, au contraire, on passe un troisième argument à la fonction `range`, cet argument correspond au pas utilisé entre deux éléments successifs.\n",
    "\n",
    "## Accès aux éléments d'une liste\n",
    "\n",
    "Pour accéder au $i$-ème élément d'une liste, on utilise la syntaxe :\n",
    "\n",
    "```\n",
    "l[i]\n",
    "```\n",
    "\n",
    "Attention, toutefois, le premier indice d'une liste est 0, on a donc :"
   ]
  },
  {
   "cell_type": "code",
   "execution_count": 4,
   "metadata": {
    "execution": {
     "iopub.execute_input": "2020-06-17T12:40:45.187760Z",
     "iopub.status.busy": "2020-06-17T12:40:45.187007Z",
     "iopub.status.idle": "2020-06-17T12:40:45.189312Z",
     "shell.execute_reply": "2020-06-17T12:40:45.189919Z"
    }
   },
   "outputs": [
    {
     "name": "stdout",
     "output_type": "stream",
     "text": [
      "5\n"
     ]
    }
   ],
   "source": [
    "l = [1, 5, 7]\n",
    "print(l[1])"
   ]
  },
  {
   "cell_type": "code",
   "execution_count": 5,
   "metadata": {
    "execution": {
     "iopub.execute_input": "2020-06-17T12:40:45.193416Z",
     "iopub.status.busy": "2020-06-17T12:40:45.192136Z",
     "iopub.status.idle": "2020-06-17T12:40:45.196090Z",
     "shell.execute_reply": "2020-06-17T12:40:45.196666Z"
    }
   },
   "outputs": [
    {
     "name": "stdout",
     "output_type": "stream",
     "text": [
      "1\n"
     ]
    }
   ],
   "source": [
    "print(l[0])"
   ]
  },
  {
   "cell_type": "markdown",
   "metadata": {},
   "source": [
    "On peut également accéder au dernier élément d'une liste en demandant l'élément d'indice `-1` :"
   ]
  },
  {
   "cell_type": "code",
   "execution_count": 6,
   "metadata": {
    "execution": {
     "iopub.execute_input": "2020-06-17T12:40:45.200399Z",
     "iopub.status.busy": "2020-06-17T12:40:45.198975Z",
     "iopub.status.idle": "2020-06-17T12:40:45.202849Z",
     "shell.execute_reply": "2020-06-17T12:40:45.203314Z"
    }
   },
   "outputs": [
    {
     "name": "stdout",
     "output_type": "stream",
     "text": [
      "7\n"
     ]
    }
   ],
   "source": [
    "l = [1, 5, 7]\n",
    "print(l[-1])"
   ]
  },
  {
   "cell_type": "code",
   "execution_count": 7,
   "metadata": {
    "execution": {
     "iopub.execute_input": "2020-06-17T12:40:45.206883Z",
     "iopub.status.busy": "2020-06-17T12:40:45.206090Z",
     "iopub.status.idle": "2020-06-17T12:40:45.208914Z",
     "shell.execute_reply": "2020-06-17T12:40:45.209416Z"
    }
   },
   "outputs": [
    {
     "name": "stdout",
     "output_type": "stream",
     "text": [
      "5\n"
     ]
    }
   ],
   "source": [
    "print(l[-2])"
   ]
  },
  {
   "cell_type": "code",
   "execution_count": 8,
   "metadata": {
    "execution": {
     "iopub.execute_input": "2020-06-17T12:40:45.212589Z",
     "iopub.status.busy": "2020-06-17T12:40:45.211580Z",
     "iopub.status.idle": "2020-06-17T12:40:45.214686Z",
     "shell.execute_reply": "2020-06-17T12:40:45.215182Z"
    }
   },
   "outputs": [
    {
     "name": "stdout",
     "output_type": "stream",
     "text": [
      "1\n"
     ]
    }
   ],
   "source": [
    "print(l[-3])"
   ]
  },
  {
   "cell_type": "markdown",
   "metadata": {},
   "source": [
    "De la même façon, on peut accéder au deuxième élément en partant de la fin _via_ l'indice `-2`, _etc._\n",
    "\n",
    "Ainsi, pour une liste de taille $n$, les valeurs d'indice valides sont les entiers compris entre $-n$ et $n - 1$ (inclus).\n",
    "\n",
    "Il est également à noter que l'accès aux éléments d'une liste peut se faire en lecture (lire l'élément stocké à l'indice `i`) comme en écriture (modifier l'élément stocké à l'indice `i`) :"
   ]
  },
  {
   "cell_type": "code",
   "execution_count": 9,
   "metadata": {
    "execution": {
     "iopub.execute_input": "2020-06-17T12:40:45.219346Z",
     "iopub.status.busy": "2020-06-17T12:40:45.218559Z",
     "iopub.status.idle": "2020-06-17T12:40:45.221257Z",
     "shell.execute_reply": "2020-06-17T12:40:45.221824Z"
    }
   },
   "outputs": [
    {
     "name": "stdout",
     "output_type": "stream",
     "text": [
      "5\n"
     ]
    }
   ],
   "source": [
    "l = [1, 5, 7]\n",
    "print(l[1])"
   ]
  },
  {
   "cell_type": "code",
   "execution_count": 10,
   "metadata": {
    "execution": {
     "iopub.execute_input": "2020-06-17T12:40:45.225383Z",
     "iopub.status.busy": "2020-06-17T12:40:45.224668Z",
     "iopub.status.idle": "2020-06-17T12:40:45.227121Z",
     "shell.execute_reply": "2020-06-17T12:40:45.227552Z"
    }
   },
   "outputs": [
    {
     "name": "stdout",
     "output_type": "stream",
     "text": [
      "[1, 2, 7]\n"
     ]
    }
   ],
   "source": [
    "l[1] = 2\n",
    "print(l)"
   ]
  },
  {
   "cell_type": "markdown",
   "metadata": {},
   "source": [
    "Enfin, on peut accéder à une sous-partie d'une liste à l'aide de la syntaxe `l[d:f]` où  `d` est l'indice de début et `f` est l'indice de fin (exclu). Ainsi, on a :"
   ]
  },
  {
   "cell_type": "code",
   "execution_count": 11,
   "metadata": {
    "execution": {
     "iopub.execute_input": "2020-06-17T12:40:45.232613Z",
     "iopub.status.busy": "2020-06-17T12:40:45.231804Z",
     "iopub.status.idle": "2020-06-17T12:40:45.234650Z",
     "shell.execute_reply": "2020-06-17T12:40:45.235056Z"
    }
   },
   "outputs": [
    {
     "name": "stdout",
     "output_type": "stream",
     "text": [
      "[7, 8]\n"
     ]
    }
   ],
   "source": [
    "l = [1, 5, 7, 8, 0, 9, 8]\n",
    "print(l[2:4])"
   ]
  },
  {
   "cell_type": "markdown",
   "metadata": {},
   "source": [
    "Lorsque l'on utilise cette syntaxe, si l'on omet l'indice de début, la sélection commence au début de la liste et si l'on omet l'indice de fin, elle s'étend jusqu'à la fin de la liste :"
   ]
  },
  {
   "cell_type": "code",
   "execution_count": 12,
   "metadata": {
    "execution": {
     "iopub.execute_input": "2020-06-17T12:40:45.239378Z",
     "iopub.status.busy": "2020-06-17T12:40:45.238629Z",
     "iopub.status.idle": "2020-06-17T12:40:45.241092Z",
     "shell.execute_reply": "2020-06-17T12:40:45.241493Z"
    }
   },
   "outputs": [
    {
     "name": "stdout",
     "output_type": "stream",
     "text": [
      "[1, 5, 7]\n"
     ]
    }
   ],
   "source": [
    "l = [1, 5, 7, 8, 0, 9, 8]\n",
    "print(l[:3])"
   ]
  },
  {
   "cell_type": "code",
   "execution_count": 13,
   "metadata": {
    "execution": {
     "iopub.execute_input": "2020-06-17T12:40:45.245345Z",
     "iopub.status.busy": "2020-06-17T12:40:45.244510Z",
     "iopub.status.idle": "2020-06-17T12:40:45.247134Z",
     "shell.execute_reply": "2020-06-17T12:40:45.247582Z"
    }
   },
   "outputs": [
    {
     "name": "stdout",
     "output_type": "stream",
     "text": [
      "[9, 8]\n"
     ]
    }
   ],
   "source": [
    "print(l[5:])"
   ]
  },
  {
   "cell_type": "markdown",
   "metadata": {},
   "source": [
    "## Parcours d'une liste\n",
    "\n",
    "Lorsque l'on parcourt une liste, on peut vouloir accéder :\n",
    "\n",
    "* aux éléments stockés dans la liste uniquement ;\n",
    "* aux indices de la liste uniquement (même si c'est rare) ;\n",
    "* aux indices de la listes et aux éléments associés.\n",
    "\n",
    "Ces trois cas de figure impliquent trois parcours de liste différents, décrits dans ce qui suit.\n",
    "\n",
    "**Attention.**\n",
    "Quel que soit le parcours de liste utilisé, il est fortement déconseillé de supprimer ou d'insérer des éléments dans une liste pendant le parcours de celle-ci.\n",
    "\n",
    "### Parcours des éléments\n",
    "\n",
    "Pour parcourir les éléments d'une liste, on utilise une boucle `for` :"
   ]
  },
  {
   "cell_type": "code",
   "execution_count": 14,
   "metadata": {
    "execution": {
     "iopub.execute_input": "2020-06-17T12:40:45.251288Z",
     "iopub.status.busy": "2020-06-17T12:40:45.249839Z",
     "iopub.status.idle": "2020-06-17T12:40:45.253880Z",
     "shell.execute_reply": "2020-06-17T12:40:45.254454Z"
    }
   },
   "outputs": [
    {
     "name": "stdout",
     "output_type": "stream",
     "text": [
      "1\n",
      "5\n",
      "7\n"
     ]
    }
   ],
   "source": [
    "l = [1, 5, 7]\n",
    "for elem in l:\n",
    "    print(elem)"
   ]
  },
  {
   "cell_type": "markdown",
   "metadata": {},
   "source": [
    "Dans cet exemple, la variable `elem` va prendre successivement pour valeur chacun des éléments de la liste.\n",
    "\n",
    "### Parcours par indices\n",
    "\n",
    "Pour avoir accès aux indices (positifs) de la liste, on devra utiliser un subterfuge.\n",
    "On sait que les indices d'une liste sont les entiers compris entre 0 (inclus) et la taille de la liste (exclu).\n",
    "On va donc utiliser la fonction `range` pour cela :"
   ]
  },
  {
   "cell_type": "code",
   "execution_count": 15,
   "metadata": {
    "execution": {
     "iopub.execute_input": "2020-06-17T12:40:45.258711Z",
     "iopub.status.busy": "2020-06-17T12:40:45.257968Z",
     "iopub.status.idle": "2020-06-17T12:40:45.260466Z",
     "shell.execute_reply": "2020-06-17T12:40:45.260847Z"
    }
   },
   "outputs": [
    {
     "name": "stdout",
     "output_type": "stream",
     "text": [
      "0\n",
      "1\n",
      "2\n"
     ]
    }
   ],
   "source": [
    "l = [1, 5, 7]\n",
    "n = len(l)  # n = 3 ici\n",
    "for i in range(n):\n",
    "    print(i)"
   ]
  },
  {
   "cell_type": "markdown",
   "metadata": {},
   "source": [
    "### Parcours par éléments et indices\n",
    "\n",
    "Dans certains cas, enfin, on a besoin de manipuler simultanément les indices d'une listes et les éléments associés.\n",
    "Cela se fait à l'aide de la fonction `enumerate` :"
   ]
  },
  {
   "cell_type": "code",
   "execution_count": 16,
   "metadata": {
    "execution": {
     "iopub.execute_input": "2020-06-17T12:40:45.265125Z",
     "iopub.status.busy": "2020-06-17T12:40:45.264465Z",
     "iopub.status.idle": "2020-06-17T12:40:45.267061Z",
     "shell.execute_reply": "2020-06-17T12:40:45.267750Z"
    }
   },
   "outputs": [
    {
     "name": "stdout",
     "output_type": "stream",
     "text": [
      "0 1\n",
      "1 5\n",
      "2 7\n"
     ]
    }
   ],
   "source": [
    "l = [1, 5, 7]\n",
    "for i, elem in enumerate(l):\n",
    "    print(i, elem)"
   ]
  },
  {
   "cell_type": "markdown",
   "metadata": {},
   "source": [
    "On a donc ici une boucle `for` pour laquelle, à chaque itération, on met à jour les variables `i` (qui contient l'indice courant) et `elem` (qui contient l'élément se trouvant à l'indice `i` dans la liste `l`).\n",
    "\n",
    "Pour tous ces parcours de listes, il est conseillé d'utiliser des noms de variables pertinents, afin de limiter les confusions dans la nature des éléments manipulés. Par exemple, on pourra utiliser `i` ou `j` pour noter des indices, mais on préfèrera `elem` ou `val` pour désigner les éléments de la liste.\n",
    "\n",
    "### Exercice\n",
    "\n",
    "**Exercice 4.1**\n",
    "Écrivez une fonction en Python qui permette de calculer l'argmax d'une liste, c'est-à-dire l'indice auquel est stockée la valeur maximale de la liste.\n",
    "\n",
    "## Manipulations de listes\n",
    "\n",
    "Nous présentons dans ce qui suit les opérations élémentaires de manipulation de listes.\n",
    "\n",
    "### Insertion d'élément\n",
    "\n",
    "Pour insérer un nouvel élément dans une liste, on peut :\n",
    "\n",
    "* rajouter un élément à la fin de la liste à l'aide de la méthode `append` ;\n",
    "* insérer un élément à l'indice `i` de la liste à l'aide de la méthode `insert`.\n",
    "\n",
    "Comme vous pouvez le remarquer, il est ici question de méthodes et non plus de fonctions.\n",
    "Pour l'instant, sachez que les méthodes sont des fonctions spécifiques à certains objets, comme les listes par exemples.\n",
    "L'appel de ces méthodes est un peu particulier, comme vous pouvez le remarquer dans ce qui suit :"
   ]
  },
  {
   "cell_type": "code",
   "execution_count": 17,
   "metadata": {
    "execution": {
     "iopub.execute_input": "2020-06-17T12:40:45.272165Z",
     "iopub.status.busy": "2020-06-17T12:40:45.271233Z",
     "iopub.status.idle": "2020-06-17T12:40:45.318247Z",
     "shell.execute_reply": "2020-06-17T12:40:45.318965Z"
    }
   },
   "outputs": [
    {
     "name": "stdout",
     "output_type": "stream",
     "text": [
      "[1, 5, 7, 2]\n"
     ]
    }
   ],
   "source": [
    "l = [1, 5, 7]\n",
    "l.append(2)\n",
    "print(l)"
   ]
  },
  {
   "cell_type": "code",
   "execution_count": 18,
   "metadata": {
    "execution": {
     "iopub.execute_input": "2020-06-17T12:40:45.324368Z",
     "iopub.status.busy": "2020-06-17T12:40:45.323422Z",
     "iopub.status.idle": "2020-06-17T12:40:45.330834Z",
     "shell.execute_reply": "2020-06-17T12:40:45.331658Z"
    }
   },
   "outputs": [
    {
     "name": "stdout",
     "output_type": "stream",
     "text": [
      "[1, 5, 0, 7, 2]\n"
     ]
    }
   ],
   "source": [
    "l.insert(2, 0)  # insère la valeur 0 à l'indice 2\n",
    "print(l)"
   ]
  },
  {
   "cell_type": "markdown",
   "metadata": {},
   "source": [
    "### Suppression d'élément\n",
    "\n",
    "Si l'on souhaite, maintenant, supprimer un élément dans une liste, deux cas de figures peuvent se présenter.\n",
    "On peut souhaiter :\n",
    "\n",
    "* supprimer l'élément situé à l'indice `i` dans la liste, à l'aide de la méthode `pop` ;\n",
    "* supprimer la première occurrence d'une valeur donnée dans la liste à l'aide de la méthode `remove`."
   ]
  },
  {
   "cell_type": "code",
   "execution_count": 19,
   "metadata": {
    "execution": {
     "iopub.execute_input": "2020-06-17T12:40:45.334707Z",
     "iopub.status.busy": "2020-06-17T12:40:45.333803Z",
     "iopub.status.idle": "2020-06-17T12:40:45.339882Z",
     "shell.execute_reply": "2020-06-17T12:40:45.340847Z"
    }
   },
   "outputs": [
    {
     "name": "stdout",
     "output_type": "stream",
     "text": [
      "[1, 7]\n"
     ]
    }
   ],
   "source": [
    "l = [1, 5, 7]\n",
    "l.pop(1)  # l'élément d'indice 1 est le deuxième élément de la liste !\n",
    "print(l)"
   ]
  },
  {
   "cell_type": "code",
   "execution_count": 20,
   "metadata": {
    "execution": {
     "iopub.execute_input": "2020-06-17T12:40:45.345748Z",
     "iopub.status.busy": "2020-06-17T12:40:45.344850Z",
     "iopub.status.idle": "2020-06-17T12:40:45.347504Z",
     "shell.execute_reply": "2020-06-17T12:40:45.347886Z"
    }
   },
   "outputs": [
    {
     "name": "stdout",
     "output_type": "stream",
     "text": [
      "[1]\n"
     ]
    }
   ],
   "source": [
    "l.pop()  # par défaut, supprime le dernier élément de la liste\n",
    "print(l)"
   ]
  },
  {
   "cell_type": "code",
   "execution_count": 21,
   "metadata": {
    "execution": {
     "iopub.execute_input": "2020-06-17T12:40:45.351792Z",
     "iopub.status.busy": "2020-06-17T12:40:45.351062Z",
     "iopub.status.idle": "2020-06-17T12:40:45.353658Z",
     "shell.execute_reply": "2020-06-17T12:40:45.354059Z"
    }
   },
   "outputs": [
    {
     "name": "stdout",
     "output_type": "stream",
     "text": [
      "[7, 5]\n"
     ]
    }
   ],
   "source": [
    "l = [7, 5, 1]\n",
    "l.remove(1) # supprime la première occurence de 1 dans la liste\n",
    "print(l)"
   ]
  },
  {
   "cell_type": "markdown",
   "metadata": {},
   "source": [
    "On peut noter que la méthode `pop` retourne la valeur supprimée, ce qui peut s'avérer utile :"
   ]
  },
  {
   "cell_type": "code",
   "execution_count": 22,
   "metadata": {
    "execution": {
     "iopub.execute_input": "2020-06-17T12:40:45.358354Z",
     "iopub.status.busy": "2020-06-17T12:40:45.357586Z",
     "iopub.status.idle": "2020-06-17T12:40:45.360021Z",
     "shell.execute_reply": "2020-06-17T12:40:45.360442Z"
    }
   },
   "outputs": [
    {
     "name": "stdout",
     "output_type": "stream",
     "text": [
      "5\n"
     ]
    }
   ],
   "source": [
    "l = [1, 5, 7]\n",
    "v = l.pop(1)\n",
    "print(v)"
   ]
  },
  {
   "cell_type": "code",
   "execution_count": 23,
   "metadata": {
    "execution": {
     "iopub.execute_input": "2020-06-17T12:40:45.364913Z",
     "iopub.status.busy": "2020-06-17T12:40:45.364051Z",
     "iopub.status.idle": "2020-06-17T12:40:45.366611Z",
     "shell.execute_reply": "2020-06-17T12:40:45.367014Z"
    }
   },
   "outputs": [
    {
     "name": "stdout",
     "output_type": "stream",
     "text": [
      "[1, 7]\n"
     ]
    }
   ],
   "source": [
    "print(l)"
   ]
  },
  {
   "cell_type": "markdown",
   "metadata": {},
   "source": [
    "### Recherche d'élément\n",
    "\n",
    "Pour trouver l'indice de la première occurrence d'une valeur dans une liste, on utilisera la méthode `index` :"
   ]
  },
  {
   "cell_type": "code",
   "execution_count": 24,
   "metadata": {
    "execution": {
     "iopub.execute_input": "2020-06-17T12:40:45.371162Z",
     "iopub.status.busy": "2020-06-17T12:40:45.370312Z",
     "iopub.status.idle": "2020-06-17T12:40:45.372950Z",
     "shell.execute_reply": "2020-06-17T12:40:45.373350Z"
    }
   },
   "outputs": [
    {
     "name": "stdout",
     "output_type": "stream",
     "text": [
      "2\n"
     ]
    }
   ],
   "source": [
    "l = [1, 5, 7]\n",
    "print(l.index(7))"
   ]
  },
  {
   "cell_type": "markdown",
   "metadata": {},
   "source": [
    "Si l'on ne cherche pas à connaître la position d'une valeur dans une liste mais simplement à savoir si une valeur est présente dans la liste, on peut utiliser le mot-clé `in` :"
   ]
  },
  {
   "cell_type": "code",
   "execution_count": 25,
   "metadata": {
    "execution": {
     "iopub.execute_input": "2020-06-17T12:40:45.377133Z",
     "iopub.status.busy": "2020-06-17T12:40:45.376450Z",
     "iopub.status.idle": "2020-06-17T12:40:45.379997Z",
     "shell.execute_reply": "2020-06-17T12:40:45.379538Z"
    }
   },
   "outputs": [
    {
     "name": "stdout",
     "output_type": "stream",
     "text": [
      "5 est dans l"
     ]
    },
    {
     "name": "stdout",
     "output_type": "stream",
     "text": [
      "\n"
     ]
    }
   ],
   "source": [
    "l = [1, 5, 7]\n",
    "if 5 in l:\n",
    "    print(\"5 est dans l\")"
   ]
  },
  {
   "cell_type": "markdown",
   "metadata": {},
   "source": [
    "### Création de listes composites\n",
    "\n",
    "On peut également concaténer deux listes (c'est-à-dire mettre bout à bout leur contenu) à l'aide de l'opérateur `+` :"
   ]
  },
  {
   "cell_type": "code",
   "execution_count": 26,
   "metadata": {
    "execution": {
     "iopub.execute_input": "2020-06-17T12:40:45.383915Z",
     "iopub.status.busy": "2020-06-17T12:40:45.383271Z",
     "iopub.status.idle": "2020-06-17T12:40:45.385873Z",
     "shell.execute_reply": "2020-06-17T12:40:45.386378Z"
    }
   },
   "outputs": [
    {
     "name": "stdout",
     "output_type": "stream",
     "text": [
      "[1, 5, 7, 3, 4]\n"
     ]
    }
   ],
   "source": [
    "l1 = [1, 5, 7]\n",
    "l2 = [3, 4]\n",
    "l = l1 + l2\n",
    "print(l)"
   ]
  },
  {
   "cell_type": "markdown",
   "metadata": {},
   "source": [
    "Dans le même esprit, l'opérateur `*` peut aussi être utilisé pour des listes :"
   ]
  },
  {
   "cell_type": "code",
   "execution_count": 27,
   "metadata": {
    "execution": {
     "iopub.execute_input": "2020-06-17T12:40:45.390539Z",
     "iopub.status.busy": "2020-06-17T12:40:45.389833Z",
     "iopub.status.idle": "2020-06-17T12:40:45.392854Z",
     "shell.execute_reply": "2020-06-17T12:40:45.392394Z"
    }
   },
   "outputs": [
    {
     "name": "stdout",
     "output_type": "stream",
     "text": [
      "[1, 5, 1, 5, 1, 5]\n"
     ]
    }
   ],
   "source": [
    "l1 = [1, 5]\n",
    "l2 = 3 * l1\n",
    "print(l2)"
   ]
  },
  {
   "cell_type": "markdown",
   "metadata": {},
   "source": [
    "Bien entendu, vu le sens de cet opérateur, on ne peut multiplier une liste que par un entier.\n",
    "\n",
    "### Tri de liste\n",
    "\n",
    "Enfin, on peut trier les éléments contenus dans une liste à l'aide de la fonction `sorted` :"
   ]
  },
  {
   "cell_type": "code",
   "execution_count": 28,
   "metadata": {
    "execution": {
     "iopub.execute_input": "2020-06-17T12:40:45.397223Z",
     "iopub.status.busy": "2020-06-17T12:40:45.396497Z",
     "iopub.status.idle": "2020-06-17T12:40:45.399006Z",
     "shell.execute_reply": "2020-06-17T12:40:45.399408Z"
    }
   },
   "outputs": [
    {
     "name": "stdout",
     "output_type": "stream",
     "text": [
      "[2, 4, 5]\n"
     ]
    }
   ],
   "source": [
    "l = [4, 5, 2]\n",
    "l2 = sorted(l)\n",
    "print(l2)"
   ]
  },
  {
   "cell_type": "markdown",
   "metadata": {},
   "source": [
    "### Exercices\n",
    "\n",
    "**Exercice 4.2**\n",
    "Écrivez une fonction qui prenne deux listes en entrée et retourne l'intersection des deux listes (c'est-à-dire une liste contenant tous les éléments présents dans les deux listes).\n",
    "\n",
    "**Exercice 4.3**\n",
    "Écrivez une fonction qui prenne deux listes en entrée et retourne l'union des deux listes (c'est-à-dire une liste contenant tous les éléments présents dans au moins une des deux listes) sans doublon.\n",
    "\n",
    "## Copie de liste\n",
    "\n",
    "Pour la plupart des variables, en Python, la copie ne pose pas de problème :"
   ]
  },
  {
   "cell_type": "code",
   "execution_count": 29,
   "metadata": {
    "execution": {
     "iopub.execute_input": "2020-06-17T12:40:45.403434Z",
     "iopub.status.busy": "2020-06-17T12:40:45.402680Z",
     "iopub.status.idle": "2020-06-17T12:40:45.405358Z",
     "shell.execute_reply": "2020-06-17T12:40:45.405795Z"
    }
   },
   "outputs": [
    {
     "name": "stdout",
     "output_type": "stream",
     "text": [
      "5 12\n"
     ]
    }
   ],
   "source": [
    "a = 12\n",
    "b = a\n",
    "a = 5\n",
    "print(a, b)"
   ]
  },
  {
   "cell_type": "markdown",
   "metadata": {},
   "source": [
    "Cela ne se passe pas de la même façon pour les listes.\n",
    "En effet, si `l` est une liste, lorsque l'on écrit :"
   ]
  },
  {
   "cell_type": "code",
   "execution_count": 30,
   "metadata": {
    "execution": {
     "iopub.execute_input": "2020-06-17T12:40:45.409266Z",
     "iopub.status.busy": "2020-06-17T12:40:45.408625Z",
     "iopub.status.idle": "2020-06-17T12:40:45.410531Z",
     "shell.execute_reply": "2020-06-17T12:40:45.410919Z"
    }
   },
   "outputs": [],
   "source": [
    "l2 = l"
   ]
  },
  {
   "cell_type": "markdown",
   "metadata": {},
   "source": [
    "on ne recopie pas le contenu de `l` dans `l2`, mais on crée une variable `l2` qui va \"pointer\" vers la même position dans la mémoire de votre ordinateur que `l`.\n",
    "La différence peut sembler mince, mais cela signifie que si l'on modifie `l` même après l'instruction `l2 = l`, la modification sera répercutée sur `l2` :"
   ]
  },
  {
   "cell_type": "code",
   "execution_count": 31,
   "metadata": {
    "execution": {
     "iopub.execute_input": "2020-06-17T12:40:45.415108Z",
     "iopub.status.busy": "2020-06-17T12:40:45.414402Z",
     "iopub.status.idle": "2020-06-17T12:40:45.416849Z",
     "shell.execute_reply": "2020-06-17T12:40:45.417275Z"
    }
   },
   "outputs": [
    {
     "name": "stdout",
     "output_type": "stream",
     "text": [
      "[1, 2, 7] [1, 2, 7]\n"
     ]
    }
   ],
   "source": [
    "l = [1, 5, 7]\n",
    "l2 = l\n",
    "l[1] = 2\n",
    "print(l, l2)"
   ]
  },
  {
   "cell_type": "markdown",
   "metadata": {},
   "source": [
    "Lorsque l'on souhaite éviter ce comportement, il faut effectuer une copie explicite de liste, à l'aide par exemple de la fonction `list` :"
   ]
  },
  {
   "cell_type": "code",
   "execution_count": 32,
   "metadata": {
    "execution": {
     "iopub.execute_input": "2020-06-17T12:40:45.421650Z",
     "iopub.status.busy": "2020-06-17T12:40:45.420945Z",
     "iopub.status.idle": "2020-06-17T12:40:45.423514Z",
     "shell.execute_reply": "2020-06-17T12:40:45.423928Z"
    }
   },
   "outputs": [
    {
     "name": "stdout",
     "output_type": "stream",
     "text": [
      "[1, 2, 7] [1, 5, 7]\n"
     ]
    }
   ],
   "source": [
    "l = [1, 5, 7]\n",
    "l2 = list(l)\n",
    "l[1] = 2\n",
    "print(l, l2)"
   ]
  },
  {
   "cell_type": "markdown",
   "metadata": {},
   "source": [
    "## Bonus : listes en compréhension\n",
    "\n",
    "Il est possible de créer des listes en filtrant et/ou modifiant certains éléments d'autres listes ou itérables.\n",
    "Supposons par exemple que l'on souhaite créer la liste des carrés des 10 premiers entiers naturels.\n",
    "Le code qui suit présente deux façons équivalentes de créer une telle liste :"
   ]
  },
  {
   "cell_type": "code",
   "execution_count": 33,
   "metadata": {
    "execution": {
     "iopub.execute_input": "2020-06-17T12:40:45.428473Z",
     "iopub.status.busy": "2020-06-17T12:40:45.427577Z",
     "iopub.status.idle": "2020-06-17T12:40:45.430610Z",
     "shell.execute_reply": "2020-06-17T12:40:45.431021Z"
    }
   },
   "outputs": [
    {
     "name": "stdout",
     "output_type": "stream",
     "text": [
      "[0, 1, 4, 9, 16, 25, 36, 49, 64, 81]\n"
     ]
    }
   ],
   "source": [
    "# Façon \"classique\"\n",
    "l = []\n",
    "for i in range(10):\n",
    "    l.append(i ** 2)\n",
    "print(l)"
   ]
  },
  {
   "cell_type": "code",
   "execution_count": 34,
   "metadata": {
    "execution": {
     "iopub.execute_input": "2020-06-17T12:40:45.435224Z",
     "iopub.status.busy": "2020-06-17T12:40:45.434408Z",
     "iopub.status.idle": "2020-06-17T12:40:45.437672Z",
     "shell.execute_reply": "2020-06-17T12:40:45.438221Z"
    }
   },
   "outputs": [
    {
     "name": "stdout",
     "output_type": "stream",
     "text": [
      "[0, 1, 4, 9, 16, 25, 36, 49, 64, 81]\n"
     ]
    }
   ],
   "source": [
    "# En utilisant les listes en compréhension\n",
    "l = [i ** 2 for i in range(10)]\n",
    "print(l)"
   ]
  },
  {
   "cell_type": "markdown",
   "metadata": {},
   "source": [
    "On remarque que la syntaxe de liste en compréhension est plus compacte.\n",
    "On peut également appliquer un filtre sur les éléments de la liste de départ (ici `range(10)`) à considérer à l'aide du mot-clé `if` :"
   ]
  },
  {
   "cell_type": "code",
   "execution_count": 35,
   "metadata": {
    "execution": {
     "iopub.execute_input": "2020-06-17T12:40:45.442781Z",
     "iopub.status.busy": "2020-06-17T12:40:45.441961Z",
     "iopub.status.idle": "2020-06-17T12:40:45.446089Z",
     "shell.execute_reply": "2020-06-17T12:40:45.447166Z"
    }
   },
   "outputs": [
    {
     "name": "stdout",
     "output_type": "stream",
     "text": [
      "[0, 4, 16, 36, 64]\n"
     ]
    }
   ],
   "source": [
    "l = [i ** 2 for i in range(10) if i % 2 == 0]\n",
    "print(l)"
   ]
  },
  {
   "cell_type": "markdown",
   "metadata": {},
   "source": [
    "Ici, on n'a considéré que les entiers pairs."
   ]
  }
 ],
 "metadata": {
  "jupytext": {
   "cell_metadata_filter": "-all",
   "formats": "md:myst",
   "text_representation": {
    "extension": ".md",
    "format_name": "myst",
    "format_version": "0.8",
    "jupytext_version": "1.5.0"
   }
  },
  "kernelspec": {
   "display_name": "Python 3",
   "language": "python",
   "name": "python3"
  },
  "language_info": {
   "codemirror_mode": {
    "name": "ipython",
    "version": 3
   },
   "file_extension": ".py",
   "mimetype": "text/x-python",
   "name": "python",
   "nbconvert_exporter": "python",
   "pygments_lexer": "ipython3",
   "version": "3.7.3"
  },
  "source_map": [
   14,
   39,
   41,
   45,
   48,
   56,
   60,
   75,
   80,
   82,
   86,
   91,
   95,
   97,
   105,
   110,
   113,
   117,
   120,
   124,
   129,
   131,
   150,
   154,
   164,
   169,
   176,
   180,
   206,
   212,
   215,
   225,
   231,
   236,
   240,
   244,
   250,
   252,
   258,
   261,
   265,
   269,
   275,
   280,
   284,
   288,
   296,
   300,
   314,
   319,
   324,
   326,
   331,
   336,
   340,
   345,
   353,
   361,
   365,
   370,
   373
  ]
 },
 "nbformat": 4,
 "nbformat_minor": 4
}