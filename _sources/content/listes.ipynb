{
 "cells": [
  {
   "cell_type": "markdown",
   "id": "72119a17",
   "metadata": {},
   "source": [
    "# Les listes\n",
    "\n",
    "```{admonition} Définition\n",
    "\n",
    "Une liste est une collection ordonnée de valeurs.\n",
    "Dans une liste, chaque valeur occupe une position bien définie que l'on repère par un entier appelé **indice**.\n",
    "La première valeur est associée à l'indice 0, la seconde à l'indice 1, _etc._\n",
    "Une liste a une longueur (_i.e._ un nombre d'éléments) finie, ainsi la liste vide a pour longueur 0.\n",
    "```\n",
    "\n",
    "En Python, il n'est pas nécessaire que tous les éléments d'une liste soient du même type, même si dans les exemples que nous considérerons, ce sera souvent le cas.\n",
    "\n",
    "On peut trouver des informations précieuses sur le sujet des listes dans l'aide en ligne de Python disponible à l'adresse : <https://docs.python.org/3/tutorial/datastructures.html>.\n",
    "\n",
    "## Avant-propos : listes et itérables\n",
    "\n",
    "Dans la suite, nous parlerons de listes, qui est un type de données bien spécifique en Python. Toutefois, une grande partie de notre propos pourra se transposer à l'ensemble des itérables en Python (c'est-à-dire l'ensemble des objets Python dont on peut parcourir les éléments un à un).\n",
    "\n",
    "Il existe toutefois une différence majeure entre listes et itérables : nous verrons dans la suite de ce chapitre que l'on peut accéder au $i$-ème élément d'une liste simplement, alors que ce n'est généralement pas possible pour un itérable (pour ce dernier, il faudra parcourir l'ensemble de ses éléments et s'arrêter lorsque l'on est effectivement rendu au $i$-ème).\n",
    "\n",
    "Toutefois, si l'on a un itérable `iterable`, il est possible de le transformer en liste simplement à l'aide de la fonction `list` :\n",
    "\n",
    "```\n",
    "liste = list(iterable)\n",
    "```\n",
    "\n",
    "(creation-liste)=\n",
    "## Création de liste\n",
    "\n",
    "Pour créer une liste contenant des éléments définis (par exemple la liste contenant les entiers 1, 5 et 7), il est possible d'utiliser la syntaxe suivante :"
   ]
  },
  {
   "cell_type": "code",
   "execution_count": 1,
   "id": "b0604de7",
   "metadata": {},
   "outputs": [],
   "source": [
    "liste = [1, 5, 7]"
   ]
  },
  {
   "cell_type": "markdown",
   "id": "425ed449",
   "metadata": {},
   "source": [
    "De la même façon, on peut créer une liste vide (ne contenant aucun élément) :"
   ]
  },
  {
   "cell_type": "code",
   "execution_count": 2,
   "id": "136a0793",
   "metadata": {},
   "outputs": [
    {
     "name": "stdout",
     "output_type": "stream",
     "text": [
      "0\n"
     ]
    }
   ],
   "source": [
    "liste = []\n",
    "print(len(liste))"
   ]
  },
  {
   "cell_type": "markdown",
   "id": "5770ddfc",
   "metadata": {},
   "source": [
    "On voit ici la fonction `len` qui retourne la taille d'une liste passée en argument (ici 0 puisque la liste est vide).\n",
    "\n",
    "Toutefois, lorsque l'on souhaite créer des listes longues (par exemple la liste des 1000 premiers entiers), cette méthode est peu pratique.\n",
    "Heureusement, il existe des fonctions qui permettent de créer de telles listes.\n",
    "Par exemple, la fonction `range(a, b)` retourne un itérable contenant les entiers de `a` (inclus) à `b` (exclu) :"
   ]
  },
  {
   "cell_type": "code",
   "execution_count": 3,
   "id": "c9339eef",
   "metadata": {},
   "outputs": [],
   "source": [
    "it = range(1, 10)     # it = [1, 2, 3, ..., 9]\n",
    "it = range(10)        # it = [0, 1, 2, ..., 9]\n",
    "it = range(0, 10, 2)  # it = [0, 2, 4, ..., 8]"
   ]
  },
  {
   "cell_type": "markdown",
   "id": "932f0564",
   "metadata": {},
   "source": [
    "On remarque que, si l'on ne donne qu'un argument à la fonction `range`, l'itérable retourné débute à l'entier 0.\n",
    "Si, au contraire, on passe un troisième argument à la fonction `range`, cet argument correspond au pas utilisé entre deux éléments successifs.\n",
    "\n",
    "## Accès aux éléments d'une liste\n",
    "\n",
    "Pour accéder au $i$-ème élément d'une liste, on utilise la syntaxe :\n",
    "\n",
    "```\n",
    "liste[i]\n",
    "```\n",
    "\n",
    "Attention, toutefois, le premier indice d'une liste est 0, on a donc :"
   ]
  },
  {
   "cell_type": "code",
   "execution_count": 4,
   "id": "dd2ef947",
   "metadata": {},
   "outputs": [
    {
     "name": "stdout",
     "output_type": "stream",
     "text": [
      "5\n"
     ]
    }
   ],
   "source": [
    "liste = [1, 5, 7]\n",
    "print(liste[1])"
   ]
  },
  {
   "cell_type": "code",
   "execution_count": 5,
   "id": "99fc5228",
   "metadata": {},
   "outputs": [
    {
     "name": "stdout",
     "output_type": "stream",
     "text": [
      "1\n"
     ]
    }
   ],
   "source": [
    "print(liste[0])"
   ]
  },
  {
   "cell_type": "markdown",
   "id": "6440407f",
   "metadata": {},
   "source": [
    "On peut également accéder au dernier élément d'une liste en demandant l'élément d'indice `-1` :"
   ]
  },
  {
   "cell_type": "code",
   "execution_count": 6,
   "id": "28a6b89a",
   "metadata": {},
   "outputs": [
    {
     "name": "stdout",
     "output_type": "stream",
     "text": [
      "7\n"
     ]
    }
   ],
   "source": [
    "liste = [1, 5, 7]\n",
    "print(liste[-1])"
   ]
  },
  {
   "cell_type": "code",
   "execution_count": 7,
   "id": "c0090e76",
   "metadata": {},
   "outputs": [
    {
     "name": "stdout",
     "output_type": "stream",
     "text": [
      "5\n"
     ]
    }
   ],
   "source": [
    "print(liste[-2])"
   ]
  },
  {
   "cell_type": "code",
   "execution_count": 8,
   "id": "9157cf59",
   "metadata": {},
   "outputs": [
    {
     "name": "stdout",
     "output_type": "stream",
     "text": [
      "1\n"
     ]
    }
   ],
   "source": [
    "print(liste[-3])"
   ]
  },
  {
   "cell_type": "markdown",
   "id": "08fc4423",
   "metadata": {},
   "source": [
    "De la même façon, on peut accéder au deuxième élément en partant de la fin _via_ l'indice `-2`, _etc._\n",
    "\n",
    "Ainsi, pour une liste de taille $n$, les valeurs d'indice valides sont les entiers compris entre $-n$ et $n - 1$ (inclus).\n",
    "\n",
    "Il est également à noter que l'accès aux éléments d'une liste peut se faire en lecture (lire l'élément stocké à l'indice `i`) comme en écriture (modifier l'élément stocké à l'indice `i`) :"
   ]
  },
  {
   "cell_type": "code",
   "execution_count": 9,
   "id": "c4481c0d",
   "metadata": {},
   "outputs": [
    {
     "name": "stdout",
     "output_type": "stream",
     "text": [
      "5\n"
     ]
    }
   ],
   "source": [
    "liste = [1, 5, 7]\n",
    "print(liste[1])"
   ]
  },
  {
   "cell_type": "code",
   "execution_count": 10,
   "id": "e20915cb",
   "metadata": {},
   "outputs": [
    {
     "name": "stdout",
     "output_type": "stream",
     "text": [
      "[1, 2, 7]\n"
     ]
    }
   ],
   "source": [
    "liste[1] = 2\n",
    "print(liste)"
   ]
  },
  {
   "cell_type": "markdown",
   "id": "102abb46",
   "metadata": {},
   "source": [
    "Enfin, on peut accéder à une sous-partie d'une liste à l'aide de la syntaxe `liste[d:f]` où  `d` est l'indice de début et `f` est l'indice de fin (exclu). Ainsi, on a :"
   ]
  },
  {
   "cell_type": "code",
   "execution_count": 11,
   "id": "4692f285",
   "metadata": {},
   "outputs": [
    {
     "name": "stdout",
     "output_type": "stream",
     "text": [
      "[7, 8]\n"
     ]
    }
   ],
   "source": [
    "liste = [1, 5, 7, 8, 0, 9, 8]\n",
    "print(liste[2:4])"
   ]
  },
  {
   "cell_type": "markdown",
   "id": "d7db7a2e",
   "metadata": {},
   "source": [
    "Lorsque l'on utilise cette syntaxe, si l'on omet l'indice de début, la sélection commence au début de la liste et si l'on omet l'indice de fin, elle s'étend jusqu'à la fin de la liste :"
   ]
  },
  {
   "cell_type": "code",
   "execution_count": 12,
   "id": "91260cf8",
   "metadata": {},
   "outputs": [
    {
     "name": "stdout",
     "output_type": "stream",
     "text": [
      "[1, 5, 7]\n"
     ]
    }
   ],
   "source": [
    "liste = [1, 5, 7, 8, 0, 9, 8]\n",
    "print(liste[:3])"
   ]
  },
  {
   "cell_type": "code",
   "execution_count": 13,
   "id": "6a909062",
   "metadata": {},
   "outputs": [
    {
     "name": "stdout",
     "output_type": "stream",
     "text": [
      "[9, 8]\n"
     ]
    }
   ],
   "source": [
    "print(liste[5:])"
   ]
  },
  {
   "cell_type": "markdown",
   "id": "e2408159",
   "metadata": {},
   "source": [
    "(parcours-liste)=\n",
    "## Parcours d'une liste\n",
    "\n",
    "Lorsque l'on parcourt une liste, on peut vouloir accéder :\n",
    "\n",
    "* aux éléments stockés dans la liste uniquement ;\n",
    "* aux indices de la liste uniquement (même si c'est rare) ;\n",
    "* aux indices de la listes et aux éléments associés.\n",
    "\n",
    "Ces trois cas de figure impliquent trois parcours de liste différents, décrits dans ce qui suit.\n",
    "\n",
    "**Attention.**\n",
    "Quel que soit le parcours de liste utilisé, il est fortement déconseillé de supprimer ou d'insérer des éléments dans une liste pendant le parcours de celle-ci.\n",
    "\n",
    "### Parcours des éléments\n",
    "\n",
    "Pour parcourir les éléments d'une liste, on utilise une boucle `for` :"
   ]
  },
  {
   "cell_type": "code",
   "execution_count": 14,
   "id": "383252e9",
   "metadata": {},
   "outputs": [
    {
     "name": "stdout",
     "output_type": "stream",
     "text": [
      "1\n",
      "5\n",
      "7\n"
     ]
    }
   ],
   "source": [
    "liste = [1, 5, 7]\n",
    "for elem in liste:\n",
    "    print(elem)"
   ]
  },
  {
   "cell_type": "markdown",
   "id": "e56d937e",
   "metadata": {},
   "source": [
    "Dans cet exemple, la variable `elem` va prendre successivement pour valeur chacun des éléments de la liste.\n",
    "\n",
    "### Parcours par indices\n",
    "\n",
    "Pour avoir accès aux indices (positifs) de la liste, on devra utiliser un subterfuge.\n",
    "On sait que les indices d'une liste sont les entiers compris entre 0 (inclus) et la taille de la liste (exclu).\n",
    "On va donc utiliser la fonction `range` pour cela :"
   ]
  },
  {
   "cell_type": "code",
   "execution_count": 15,
   "id": "e56efb8a",
   "metadata": {},
   "outputs": [
    {
     "name": "stdout",
     "output_type": "stream",
     "text": [
      "0 1\n",
      "1 5\n",
      "2 7\n"
     ]
    }
   ],
   "source": [
    "liste = [1, 5, 7]\n",
    "n = len(liste)  # n = 3 ici\n",
    "for i in range(n):\n",
    "    print(i, liste[i])"
   ]
  },
  {
   "cell_type": "markdown",
   "id": "6817755c",
   "metadata": {},
   "source": [
    "### Parcours par éléments et indices\n",
    "\n",
    "Dans certains cas, enfin, on a besoin de manipuler simultanément les indices d'une liste et les éléments associés.\n",
    "Cela se fait à l'aide de la fonction `enumerate` :"
   ]
  },
  {
   "cell_type": "code",
   "execution_count": 16,
   "id": "a3d5437e",
   "metadata": {},
   "outputs": [
    {
     "name": "stdout",
     "output_type": "stream",
     "text": [
      "0 1\n",
      "1 5\n",
      "2 7\n"
     ]
    }
   ],
   "source": [
    "liste = [1, 5, 7]\n",
    "for i, elem in enumerate(liste):\n",
    "    print(i, elem)"
   ]
  },
  {
   "cell_type": "markdown",
   "id": "4c701278",
   "metadata": {},
   "source": [
    "On a donc ici une boucle `for` pour laquelle, à chaque itération, on met à jour les variables `i` (qui contient l'indice courant) et `elem` (qui contient l'élément se trouvant à l'indice `i` dans la liste `liste`).\n",
    "\n",
    "Pour tous ces parcours de listes, il est conseillé d'utiliser des noms de variables pertinents, afin de limiter les confusions dans la nature des éléments manipulés. Par exemple, on pourra utiliser `i` ou `j` pour noter des indices, mais on préfèrera `elem` ou `val` pour désigner les éléments de la liste.\n",
    "\n",
    "(ex4.1)=\n",
    "### Exercice\n",
    "\n",
    "```{admonition} Exercice 4.1 : Argmax\n",
    "Écrivez une fonction en Python qui permette de calculer l'argmax d'une liste, c'est-à-dire l'indice auquel est stockée la valeur maximale de la liste.\n",
    "Si cette valeur maximale est présente plusieurs fois dans la liste, on retournera l'indice de sa première occurrence.\n",
    "```\n",
    "\n",
    "<div id=\"pad_4.1\" class=\"pad\"></div>\n",
    "<script>\n",
    "    Pythonpad('pad_4.1', \n",
    "              {'id': '4.1', \n",
    "               'title': 'Testez votre solution ici', \n",
    "               'src': '# Complétez ce code'})\n",
    "</script>\n",
    "\n",
    "````{admonition} Solution\n",
    ":class: tip, dropdown\n",
    "\n",
    "```python\n",
    "def argmax(liste):\n",
    "    i_max = None\n",
    "    # On initialise elem_max à une valeur\n",
    "    # qui n'est clairement pas le max\n",
    "    if len(liste) > 0:\n",
    "        elem_max = liste[0] - 1  \n",
    "    for i, elem in enumerate(liste):\n",
    "        if elem > elem_max:\n",
    "            i_max = i\n",
    "            elem_max = elem\n",
    "    return i_max\n",
    "\n",
    "print(argmax([1, 6, 2, 4]))\n",
    "```\n",
    "````\n",
    "\n",
    "## Manipulations de listes\n",
    "\n",
    "Nous présentons dans ce qui suit les opérations élémentaires de manipulation de listes.\n",
    "\n",
    "### Insertion d'élément\n",
    "\n",
    "Pour insérer un nouvel élément dans une liste, on peut :\n",
    "\n",
    "* rajouter un élément à la fin de la liste à l'aide de la méthode `append` ;\n",
    "* insérer un élément à l'indice `i` de la liste à l'aide de la méthode `insert`.\n",
    "\n",
    "Comme vous pouvez le remarquer, il est ici question de méthodes et non plus de fonctions.\n",
    "Pour l'instant, sachez que les méthodes sont des fonctions spécifiques à certains objets, comme les listes par exemple.\n",
    "L'appel de ces méthodes est un peu particulier, comme vous pouvez le remarquer dans ce qui suit :"
   ]
  },
  {
   "cell_type": "code",
   "execution_count": 17,
   "id": "99561de8",
   "metadata": {},
   "outputs": [
    {
     "name": "stdout",
     "output_type": "stream",
     "text": [
      "[1, 5, 7, 2]\n"
     ]
    }
   ],
   "source": [
    "liste = [1, 5, 7]\n",
    "liste.append(2)\n",
    "print(liste)"
   ]
  },
  {
   "cell_type": "code",
   "execution_count": 18,
   "id": "9a2cb132",
   "metadata": {},
   "outputs": [
    {
     "name": "stdout",
     "output_type": "stream",
     "text": [
      "[1, 5, 0, 7, 2]\n"
     ]
    }
   ],
   "source": [
    "liste.insert(2, 0)  # insère la valeur 0 à l'indice 2\n",
    "print(liste)"
   ]
  },
  {
   "cell_type": "markdown",
   "id": "5ce0c6a8",
   "metadata": {},
   "source": [
    "### Suppression d'élément\n",
    "\n",
    "Si l'on souhaite, maintenant, supprimer un élément dans une liste, deux cas de figures peuvent se présenter.\n",
    "On peut souhaiter :\n",
    "\n",
    "* supprimer l'élément situé à l'indice `i` dans la liste, à l'aide de l'instruction `del` ;\n",
    "* supprimer la première occurrence d'une valeur donnée dans la liste à l'aide de la méthode `remove`."
   ]
  },
  {
   "cell_type": "code",
   "execution_count": 19,
   "id": "6cd63c8f",
   "metadata": {},
   "outputs": [
    {
     "name": "stdout",
     "output_type": "stream",
     "text": [
      "[1, 7]\n"
     ]
    }
   ],
   "source": [
    "liste = [1, 5, 7]\n",
    "del liste[1]  # l'élément d'indice 1 est le deuxième élément de la liste !\n",
    "print(liste)"
   ]
  },
  {
   "cell_type": "code",
   "execution_count": 20,
   "id": "c1deb459",
   "metadata": {},
   "outputs": [
    {
     "name": "stdout",
     "output_type": "stream",
     "text": [
      "[7, 5, 1]\n"
     ]
    }
   ],
   "source": [
    "liste = [7, 1, 5, 1]\n",
    "liste.remove(1) # supprime la première occurrence de 1 dans la liste\n",
    "print(liste)"
   ]
  },
  {
   "cell_type": "markdown",
   "id": "dfa48e11",
   "metadata": {},
   "source": [
    "### Recherche d'élément\n",
    "\n",
    "Pour trouver l'indice de la première occurrence d'une valeur dans une liste, on utilisera la méthode `index` :"
   ]
  },
  {
   "cell_type": "code",
   "execution_count": 21,
   "id": "bcbc788e",
   "metadata": {},
   "outputs": [
    {
     "name": "stdout",
     "output_type": "stream",
     "text": [
      "2\n"
     ]
    }
   ],
   "source": [
    "liste = [1, 5, 7]\n",
    "print(liste.index(7))"
   ]
  },
  {
   "cell_type": "markdown",
   "id": "683192d8",
   "metadata": {},
   "source": [
    "Si l'on ne cherche pas à connaître la position d'une valeur dans une liste mais simplement à savoir si une valeur est présente dans la liste, on peut utiliser le mot-clé `in` :"
   ]
  },
  {
   "cell_type": "code",
   "execution_count": 22,
   "id": "eee67daa",
   "metadata": {},
   "outputs": [
    {
     "name": "stdout",
     "output_type": "stream",
     "text": [
      "5 est dans liste\n"
     ]
    }
   ],
   "source": [
    "liste = [1, 5, 7]\n",
    "if 5 in liste:\n",
    "    print(\"5 est dans liste\")"
   ]
  },
  {
   "cell_type": "markdown",
   "id": "7b88a8eb",
   "metadata": {},
   "source": [
    "### Création de listes composites\n",
    "\n",
    "On peut également concaténer deux listes (c'est-à-dire mettre bout à bout leur contenu) à l'aide de l'opérateur `+` :"
   ]
  },
  {
   "cell_type": "code",
   "execution_count": 23,
   "id": "ee80da17",
   "metadata": {},
   "outputs": [
    {
     "name": "stdout",
     "output_type": "stream",
     "text": [
      "[1, 5, 7, 3, 4]\n"
     ]
    }
   ],
   "source": [
    "liste1 = [1, 5, 7]\n",
    "liste2 = [3, 4]\n",
    "liste = liste1 + liste2\n",
    "print(liste)"
   ]
  },
  {
   "cell_type": "markdown",
   "id": "8f11e611",
   "metadata": {},
   "source": [
    "Dans le même esprit, l'opérateur `*` peut aussi être utilisé pour des listes :"
   ]
  },
  {
   "cell_type": "code",
   "execution_count": 24,
   "id": "aa0f14eb",
   "metadata": {},
   "outputs": [
    {
     "name": "stdout",
     "output_type": "stream",
     "text": [
      "[1, 5, 1, 5, 1, 5]\n"
     ]
    }
   ],
   "source": [
    "liste1 = [1, 5]\n",
    "liste2 = 3 * liste1\n",
    "print(liste2)"
   ]
  },
  {
   "cell_type": "markdown",
   "id": "d8e38718",
   "metadata": {},
   "source": [
    "Bien entendu, vu le sens de cet opérateur, on ne peut multiplier une liste que par un entier.\n",
    "\n",
    "### Tri de liste\n",
    "\n",
    "Enfin, on peut trier les éléments contenus dans une liste à l'aide de la fonction `sorted` :"
   ]
  },
  {
   "cell_type": "code",
   "execution_count": 25,
   "id": "ac582e7d",
   "metadata": {},
   "outputs": [
    {
     "name": "stdout",
     "output_type": "stream",
     "text": [
      "[2, 4, 5]\n"
     ]
    }
   ],
   "source": [
    "liste = [4, 5, 2]\n",
    "liste2 = sorted(liste)\n",
    "print(liste2)"
   ]
  },
  {
   "cell_type": "markdown",
   "id": "f860aef5",
   "metadata": {},
   "source": [
    "Il est à noter que l'on peut trier une liste dès lors que celle-ci contient des éléments du même type (ou de types assimilables, par exemple des valeurs numériques, entières ou flottantes) à partir du moment où une relation d'ordre est définie sur ce type.\n",
    "On peut donc par exemple trier des listes de chaînes de caractères :"
   ]
  },
  {
   "cell_type": "code",
   "execution_count": 26,
   "id": "2aa44b96",
   "metadata": {},
   "outputs": [
    {
     "name": "stdout",
     "output_type": "stream",
     "text": [
      "['a', 'c', 'zzz']\n"
     ]
    }
   ],
   "source": [
    "liste = [\"a\", \"zzz\", \"c\"]\n",
    "print(sorted(liste))"
   ]
  },
  {
   "cell_type": "markdown",
   "id": "6820590e",
   "metadata": {},
   "source": [
    "Sachant que les émoticones sont des caractères comme les autres, on peut ainsi (enfin) obtenir une réponse à un problème vieux comme le monde :"
   ]
  },
  {
   "cell_type": "code",
   "execution_count": 27,
   "id": "cc27e675",
   "metadata": {},
   "outputs": [
    {
     "name": "stdout",
     "output_type": "stream",
     "text": [
      "['🐔', '🥚']\n"
     ]
    }
   ],
   "source": [
    "liste = [\"🐔\", \"🥚\"]\n",
    "print(sorted(liste))"
   ]
  },
  {
   "cell_type": "markdown",
   "id": "cb4a368f",
   "metadata": {},
   "source": [
    "### Exercices\n",
    "\n",
    "```{admonition} Exercice 4.2 : Intersection de listes\n",
    ":name: ex4.2\n",
    "Écrivez une fonction qui prenne deux listes en entrée et retourne l'intersection des deux listes (c'est-à-dire une liste contenant tous les éléments présents dans les deux listes).\n",
    "```\n",
    "\n",
    "<div id=\"pad_4.2\" class=\"pad\"></div>\n",
    "<script>\n",
    "    Pythonpad('pad_4.2', \n",
    "              {'id': '4.2', \n",
    "               'title': 'Testez votre solution ici', \n",
    "               'src': '# Complétez ce code'})\n",
    "</script>\n",
    "\n",
    "````{admonition} Solution\n",
    ":class: tip, dropdown\n",
    "\n",
    "```python\n",
    "def intersection(liste1, liste2):\n",
    "    liste_intersection = []\n",
    "    for elem in liste1:\n",
    "        if elem in liste2 and not elem in liste_intersection:\n",
    "            liste_intersection.append(elem)\n",
    "    return liste_intersection\n",
    "\n",
    "print(intersection([1, 6, 2, 4], [2, 7, 6]))\n",
    "```\n",
    "````\n",
    "\n",
    "```{admonition} Exercice 4.3 : Union de listes\n",
    ":name: ex4.3\n",
    "Écrivez une fonction qui prenne deux listes en entrée et retourne l'union des deux listes (c'est-à-dire une liste contenant tous les éléments présents dans au moins une des deux listes) sans doublon.\n",
    "```\n",
    "\n",
    "<div id=\"pad_4.3\" class=\"pad\"></div>\n",
    "<script>\n",
    "    Pythonpad('pad_4.3', \n",
    "              {'id': '4.3', \n",
    "               'title': 'Testez votre solution ici', \n",
    "               'src': '# Complétez ce code'})\n",
    "</script>\n",
    "\n",
    "````{admonition} Solution\n",
    ":class: tip, dropdown\n",
    "\n",
    "```python\n",
    "def union_sans_doublon(liste1, liste2):\n",
    "    liste_union = []\n",
    "    for elem in liste1 + liste2:\n",
    "        if elem not in liste_union:\n",
    "            liste_union.append(elem)\n",
    "    return liste_union\n",
    "\n",
    "print(union_sans_doublon([1, 6, 2, 4], [2, 7, 6, 2]))\n",
    "```\n",
    "````\n",
    "\n",
    "## Copie de liste\n",
    "\n",
    "Pour la plupart des variables, en Python, la copie ne pose pas de problème :"
   ]
  },
  {
   "cell_type": "code",
   "execution_count": 28,
   "id": "c3d3e2e3",
   "metadata": {},
   "outputs": [
    {
     "name": "stdout",
     "output_type": "stream",
     "text": [
      "5 12\n"
     ]
    }
   ],
   "source": [
    "a = 12\n",
    "b = a\n",
    "a = 5\n",
    "print(a, b)"
   ]
  },
  {
   "cell_type": "markdown",
   "id": "70f956b5",
   "metadata": {},
   "source": [
    "Cela ne se passe pas de la même façon pour les listes.\n",
    "En effet, si `liste` est une liste, lorsque l'on écrit :"
   ]
  },
  {
   "cell_type": "code",
   "execution_count": 29,
   "id": "5c5a5018",
   "metadata": {},
   "outputs": [],
   "source": [
    "liste2 = liste"
   ]
  },
  {
   "cell_type": "markdown",
   "id": "4aee0fbb",
   "metadata": {},
   "source": [
    "on ne recopie pas le contenu de `liste` dans `liste2`, mais on crée une variable `liste2` qui va \"pointer\" vers la même position dans la mémoire de votre ordinateur que `liste`.\n",
    "La différence peut sembler mince, mais cela signifie que si l'on modifie `liste` même après l'instruction `liste2 = liste`, la modification sera répercutée sur `liste2` :"
   ]
  },
  {
   "cell_type": "code",
   "execution_count": 30,
   "id": "c8c7eef8",
   "metadata": {},
   "outputs": [
    {
     "name": "stdout",
     "output_type": "stream",
     "text": [
      "[1, 2, 7] [1, 2, 7]\n"
     ]
    }
   ],
   "source": [
    "liste = [1, 5, 7]\n",
    "liste2 = liste\n",
    "liste[1] = 2\n",
    "print(liste, liste2)"
   ]
  },
  {
   "cell_type": "markdown",
   "id": "d265772a",
   "metadata": {},
   "source": [
    "Lorsque l'on souhaite éviter ce comportement, il faut effectuer une copie explicite de liste, à l'aide par exemple de la fonction `list` :"
   ]
  },
  {
   "cell_type": "code",
   "execution_count": 31,
   "id": "0f0f13d7",
   "metadata": {},
   "outputs": [
    {
     "name": "stdout",
     "output_type": "stream",
     "text": [
      "[1, 2, 7] [1, 5, 7]\n"
     ]
    }
   ],
   "source": [
    "liste = [1, 5, 7]\n",
    "liste2 = list(liste)\n",
    "liste[1] = 2\n",
    "print(liste, liste2)"
   ]
  },
  {
   "cell_type": "markdown",
   "id": "f0b7d92a",
   "metadata": {},
   "source": [
    "## Bonus : listes en compréhension\n",
    "\n",
    "Il est possible de créer des listes en filtrant et/ou modifiant certains éléments d'autres listes ou itérables.\n",
    "Supposons par exemple que l'on souhaite créer la liste des carrés des 10 premiers entiers naturels.\n",
    "Le code qui suit présente deux façons équivalentes de créer une telle liste :"
   ]
  },
  {
   "cell_type": "code",
   "execution_count": 32,
   "id": "55cc958d",
   "metadata": {},
   "outputs": [
    {
     "name": "stdout",
     "output_type": "stream",
     "text": [
      "[0, 1, 4, 9, 16, 25, 36, 49, 64, 81]\n"
     ]
    }
   ],
   "source": [
    "# Façon \"classique\"\n",
    "liste = []\n",
    "for i in range(10):\n",
    "    liste.append(i ** 2)\n",
    "print(liste)"
   ]
  },
  {
   "cell_type": "code",
   "execution_count": 33,
   "id": "483ec1f3",
   "metadata": {},
   "outputs": [
    {
     "name": "stdout",
     "output_type": "stream",
     "text": [
      "[0, 1, 4, 9, 16, 25, 36, 49, 64, 81]\n"
     ]
    }
   ],
   "source": [
    "# En utilisant les listes en compréhension\n",
    "liste = [i ** 2 for i in range(10)]\n",
    "print(liste)"
   ]
  },
  {
   "cell_type": "markdown",
   "id": "7c4bb0b5",
   "metadata": {},
   "source": [
    "On remarque que la syntaxe de liste en compréhension est plus compacte.\n",
    "On peut également appliquer un filtre sur les éléments de la liste de départ (ici `range(10)`) à considérer à l'aide du mot-clé `if` :"
   ]
  },
  {
   "cell_type": "code",
   "execution_count": 34,
   "id": "71076162",
   "metadata": {},
   "outputs": [
    {
     "name": "stdout",
     "output_type": "stream",
     "text": [
      "[0, 4, 16, 36, 64]\n"
     ]
    }
   ],
   "source": [
    "liste = [i ** 2 for i in range(10) if i % 2 == 0]\n",
    "print(liste)"
   ]
  },
  {
   "cell_type": "markdown",
   "id": "821dcdde",
   "metadata": {},
   "source": [
    "Ici, on n'a considéré que les entiers pairs.\n",
    "\n",
    "## Super Bonus : le parcours simultané de plusieurs listes\n",
    "\n",
    "Il peut arriver que l'on ait à parcourir simultanément plusieurs listes.\n",
    "Par exemple, supposons que l'on ait une liste stockant les prénoms d'enfants d'une classe et une autre liste contenant leurs noms.\n",
    "Si l'on veut afficher les noms et prénoms de ces enfants, on peut effectuer un parcours par indice :"
   ]
  },
  {
   "cell_type": "code",
   "execution_count": 35,
   "id": "649b1592",
   "metadata": {},
   "outputs": [
    {
     "name": "stdout",
     "output_type": "stream",
     "text": [
      "Jeanne Papin\n",
      "Anne Bakayoko\n",
      "Camille Drogba\n"
     ]
    }
   ],
   "source": [
    "prenoms = [\"Jeanne\", \"Anne\", \"Camille\"]\n",
    "noms = [\"Papin\", \"Bakayoko\", \"Drogba\"]\n",
    "\n",
    "for i in range(len(prenoms)):\n",
    "    print(prenoms[i], noms[i])"
   ]
  },
  {
   "cell_type": "markdown",
   "id": "43e0bc63",
   "metadata": {},
   "source": [
    "On peut aussi se dire que, en toute logique, on n'a pas réellement besoin ici d'accéder aux indices des éléments et que l'on voudrait juste effectuer un parcours simultané des deux listes.\n",
    "C'est ce que permet la fonction `zip()` :"
   ]
  },
  {
   "cell_type": "code",
   "execution_count": 36,
   "id": "58f99aa3",
   "metadata": {},
   "outputs": [
    {
     "name": "stdout",
     "output_type": "stream",
     "text": [
      "Jeanne Papin\n",
      "Anne Bakayoko\n",
      "Camille Drogba\n"
     ]
    }
   ],
   "source": [
    "prenoms = [\"Jeanne\", \"Anne\", \"Camille\"]\n",
    "noms = [\"Papin\", \"Bakayoko\", \"Drogba\"]\n",
    "\n",
    "for p, n in zip(prenoms, noms):\n",
    "    print(p, n)"
   ]
  },
  {
   "cell_type": "markdown",
   "id": "24cf775f",
   "metadata": {},
   "source": [
    "On peut même parcourir plus de deux listes simultanément :"
   ]
  },
  {
   "cell_type": "code",
   "execution_count": 37,
   "id": "176ddfa9",
   "metadata": {},
   "outputs": [
    {
     "name": "stdout",
     "output_type": "stream",
     "text": [
      "Jeanne Papin 12\n",
      "Anne Bakayoko 11\n",
      "Camille Drogba 12\n"
     ]
    }
   ],
   "source": [
    "prenoms = [\"Jeanne\", \"Anne\", \"Camille\"]\n",
    "noms = [\"Papin\", \"Bakayoko\", \"Drogba\"]\n",
    "ages = [12, 11, 12]\n",
    "\n",
    "for p, n, a in zip(prenoms, noms, ages):\n",
    "    print(p, n, a)"
   ]
  },
  {
   "cell_type": "markdown",
   "id": "b8d3aa47",
   "metadata": {},
   "source": [
    "Bien entendu, pour pouvoir utiliser `zip()`, il faut que les listes soient de même taille.\n",
    "\n",
    "\n",
    "\n",
    "## Liste des exercices de ce chapitre\n",
    "\n",
    "1. [Argmax](ex4.1)\n",
    "2. [Intersection de listes](ex4.2)\n",
    "3. [Union de listes](ex4.3)"
   ]
  }
 ],
 "metadata": {
  "jupytext": {
   "cell_metadata_filter": "-all",
   "formats": "md:myst",
   "text_representation": {
    "extension": ".md",
    "format_name": "myst",
    "format_version": "0.8",
    "jupytext_version": "1.5.0"
   }
  },
  "kernelspec": {
   "display_name": "Python 3",
   "language": "python",
   "name": "python3"
  },
  "language_info": {
   "codemirror_mode": {
    "name": "ipython",
    "version": 3
   },
   "file_extension": ".py",
   "mimetype": "text/x-python",
   "name": "python",
   "nbconvert_exporter": "python",
   "pygments_lexer": "ipython3",
   "version": "3.7.14"
  },
  "source_map": [
   14,
   47,
   49,
   53,
   56,
   64,
   68,
   83,
   88,
   90,
   94,
   99,
   103,
   105,
   113,
   118,
   121,
   125,
   128,
   132,
   137,
   139,
   159,
   163,
   173,
   178,
   185,
   189,
   246,
   252,
   255,
   265,
   271,
   275,
   281,
   284,
   288,
   292,
   298,
   303,
   307,
   311,
   319,
   323,
   328,
   331,
   335,
   338,
   403,
   408,
   413,
   415,
   420,
   425,
   429,
   434,
   442,
   450,
   454,
   459,
   462,
   472,
   478,
   483,
   489,
   493,
   500
  ]
 },
 "nbformat": 4,
 "nbformat_minor": 5
}