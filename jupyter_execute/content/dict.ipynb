{
 "cells": [
  {
   "cell_type": "markdown",
   "metadata": {},
   "source": [
    "# Les dictionnaires\n",
    "\n",
    "Comme une liste, un dictionnaire est une collection de données.\n",
    "Mais, à la différence des listes, les dictionnaires ne sont pas ordonnés (ou, tout du moins, ils le sont dans un ordre qui ne nous est pas naturel).\n",
    "Chaque entrée dans un dictionnaire est une association entre une **clé** (équivalente à un indice pour une liste) et une **valeur**.\n",
    "Alors que les indices d'une liste sont forcément les entiers compris entre 0 et la taille de la liste exclue, les clés d'un dictionnaire sont des valeurs quelconques, la seule contrainte étant qu'on ne peut pas avoir deux fois la même clé dans un dictionnaire.\n",
    "Notamment, ces clés ne sont pas nécessairement des entiers, on utilisera en effet souvent des dictionnaires lorsque l'on souhaite stocker des valeurs associées à des chaînes de caractères (qui seront les clés du dictionnaire).\n",
    "\n",
    "Pour définir un dictionnaire par ses paires clé-valeur en Python, on peut utiliser la syntaxe suivante :"
   ]
  },
  {
   "cell_type": "code",
   "execution_count": 1,
   "metadata": {
    "execution": {
     "iopub.execute_input": "2020-06-17T12:40:31.537428Z",
     "iopub.status.busy": "2020-06-17T12:40:31.534805Z",
     "iopub.status.idle": "2020-06-17T12:40:31.544204Z",
     "shell.execute_reply": "2020-06-17T12:40:31.546196Z"
    }
   },
   "outputs": [
    {
     "name": "stdout",
     "output_type": "stream",
     "text": [
      "{'a': 123, 'z': 7, 'bbb': None}\n"
     ]
    }
   ],
   "source": [
    "mon_dico = {\"a\" : 123, \"z\" : 7, \"bbb\" : None}\n",
    "print(mon_dico)"
   ]
  },
  {
   "cell_type": "markdown",
   "metadata": {},
   "source": [
    "On remarque ici que l'ordre dans lequel on a entré des paires clé-valeur n'est pas conservé lors de l'affichage.\n",
    "\n",
    "## Modification du contenu d'un dictionnaire\n",
    "\n",
    "Pour modifier la valeur associée à une clé d'un dictionnaire, la syntaxe est similaire à celle utilisée pour les listes, en remplaçant les indices par les clés :"
   ]
  },
  {
   "cell_type": "code",
   "execution_count": 2,
   "metadata": {
    "execution": {
     "iopub.execute_input": "2020-06-17T12:40:31.561901Z",
     "iopub.status.busy": "2020-06-17T12:40:31.558712Z",
     "iopub.status.idle": "2020-06-17T12:40:31.568283Z",
     "shell.execute_reply": "2020-06-17T12:40:31.570273Z"
    }
   },
   "outputs": [
    {
     "name": "stdout",
     "output_type": "stream",
     "text": [
      "{'a': 1000, 'z': 7, 'bbb': None}\n"
     ]
    }
   ],
   "source": [
    "mon_dico = {\"a\" : 123, \"z\" : 7, \"bbb\" : None}\n",
    "mon_dico[\"a\"] = 1000\n",
    "print(mon_dico)"
   ]
  },
  {
   "cell_type": "markdown",
   "metadata": {},
   "source": [
    "De même, on peut créer une nouvelle paire clé-valeur en utilisant la même syntaxe :"
   ]
  },
  {
   "cell_type": "code",
   "execution_count": 3,
   "metadata": {
    "execution": {
     "iopub.execute_input": "2020-06-17T12:40:31.586777Z",
     "iopub.status.busy": "2020-06-17T12:40:31.584303Z",
     "iopub.status.idle": "2020-06-17T12:40:31.593712Z",
     "shell.execute_reply": "2020-06-17T12:40:31.596509Z"
    }
   },
   "outputs": [
    {
     "name": "stdout",
     "output_type": "stream",
     "text": [
      "{'a': 123, 'z': 7, 'bbb': None, 'c': -1}\n"
     ]
    }
   ],
   "source": [
    "mon_dico = {\"a\" : 123, \"z\" : 7, \"bbb\" : None}\n",
    "mon_dico[\"c\"] = -1\n",
    "print(mon_dico)"
   ]
  },
  {
   "cell_type": "markdown",
   "metadata": {},
   "source": [
    "Enfin, pour supprimer une paire clé-valeur d'un dictionnaire, on utilise le mot-clé `del` :"
   ]
  },
  {
   "cell_type": "code",
   "execution_count": 4,
   "metadata": {
    "execution": {
     "iopub.execute_input": "2020-06-17T12:40:31.610805Z",
     "iopub.status.busy": "2020-06-17T12:40:31.608196Z",
     "iopub.status.idle": "2020-06-17T12:40:31.616802Z",
     "shell.execute_reply": "2020-06-17T12:40:31.618280Z"
    }
   },
   "outputs": [
    {
     "name": "stdout",
     "output_type": "stream",
     "text": [
      "{'z': 7, 'bbb': None}\n"
     ]
    }
   ],
   "source": [
    "mon_dico = {\"a\" : 123, \"z\" : 7, \"bbb\" : None}\n",
    "del mon_dico[\"a\"]\n",
    "print(mon_dico)"
   ]
  },
  {
   "cell_type": "markdown",
   "metadata": {},
   "source": [
    "## Lecture du contenu d'un dictionnaire\n",
    "\n",
    "Pour lire la valeur associée à une clé du dictionnaire, on peut utiliser la même syntaxe que pour les listes :"
   ]
  },
  {
   "cell_type": "code",
   "execution_count": 5,
   "metadata": {
    "execution": {
     "iopub.execute_input": "2020-06-17T12:40:31.633012Z",
     "iopub.status.busy": "2020-06-17T12:40:31.630320Z",
     "iopub.status.idle": "2020-06-17T12:40:31.639097Z",
     "shell.execute_reply": "2020-06-17T12:40:31.640628Z"
    }
   },
   "outputs": [
    {
     "name": "stdout",
     "output_type": "stream",
     "text": [
      "123\n"
     ]
    }
   ],
   "source": [
    "mon_dico = {\"a\" : 123, \"z\" : 7, \"bbb\" : None}\n",
    "print(mon_dico[\"a\"])"
   ]
  },
  {
   "cell_type": "markdown",
   "metadata": {},
   "source": [
    "Par contre, si la clé demandée n'existe pas, cela génèrera une erreur.\n",
    "Pour éviter cela, on peut utiliser la méthode `get` qui permet de définir une valeur par défaut à retourner si la clé n'existe pas :"
   ]
  },
  {
   "cell_type": "code",
   "execution_count": 6,
   "metadata": {
    "execution": {
     "iopub.execute_input": "2020-06-17T12:40:31.655911Z",
     "iopub.status.busy": "2020-06-17T12:40:31.653062Z",
     "iopub.status.idle": "2020-06-17T12:40:31.663771Z",
     "shell.execute_reply": "2020-06-17T12:40:31.665240Z"
    }
   },
   "outputs": [
    {
     "name": "stdout",
     "output_type": "stream",
     "text": [
      "123\n"
     ]
    }
   ],
   "source": [
    "mon_dico = {\"a\" : 123, \"z\" : 7, \"bbb\" : None}\n",
    "print(mon_dico.get(\"a\", 0))"
   ]
  },
  {
   "cell_type": "code",
   "execution_count": 7,
   "metadata": {
    "execution": {
     "iopub.execute_input": "2020-06-17T12:40:31.678684Z",
     "iopub.status.busy": "2020-06-17T12:40:31.675757Z",
     "iopub.status.idle": "2020-06-17T12:40:31.684832Z",
     "shell.execute_reply": "2020-06-17T12:40:31.686213Z"
    }
   },
   "outputs": [
    {
     "name": "stdout",
     "output_type": "stream",
     "text": [
      "0\n"
     ]
    }
   ],
   "source": [
    "print(mon_dico.get(\"b\", 0))"
   ]
  },
  {
   "cell_type": "markdown",
   "metadata": {},
   "source": [
    "## Parcours d'un dictionnaire\n",
    "\n",
    "Pour parcourir le contenu d'un dictionnaire, il existe, comme pour les listes, trois possibilités.\n",
    "\n",
    "### Parcours par valeurs\n",
    "\n",
    "Si l'on souhaite uniquement accéder aux valeurs stockées dans le dictionnaire, on utilisera la méthode `values` :"
   ]
  },
  {
   "cell_type": "code",
   "execution_count": 8,
   "metadata": {
    "execution": {
     "iopub.execute_input": "2020-06-17T12:40:31.702267Z",
     "iopub.status.busy": "2020-06-17T12:40:31.699545Z",
     "iopub.status.idle": "2020-06-17T12:40:31.709002Z",
     "shell.execute_reply": "2020-06-17T12:40:31.711152Z"
    }
   },
   "outputs": [
    {
     "name": "stdout",
     "output_type": "stream",
     "text": [
      "123\n",
      "7\n",
      "None\n"
     ]
    }
   ],
   "source": [
    "mon_dico = {\"a\" : 123, \"z\" : 7, \"bbb\" : None}\n",
    "for val in mon_dico.values():\n",
    "    print(val)"
   ]
  },
  {
   "cell_type": "markdown",
   "metadata": {},
   "source": [
    "### Parcours par clés\n",
    "\n",
    "Si l'on souhaite uniquement accéder aux clés stockées dans le dictionnaire, on utilisera la méthode `keys` :"
   ]
  },
  {
   "cell_type": "code",
   "execution_count": 9,
   "metadata": {
    "execution": {
     "iopub.execute_input": "2020-06-17T12:40:31.728037Z",
     "iopub.status.busy": "2020-06-17T12:40:31.724120Z",
     "iopub.status.idle": "2020-06-17T12:40:31.734677Z",
     "shell.execute_reply": "2020-06-17T12:40:31.736242Z"
    }
   },
   "outputs": [
    {
     "name": "stdout",
     "output_type": "stream",
     "text": [
      "a\n",
      "z\n",
      "bbb\n"
     ]
    }
   ],
   "source": [
    "mon_dico = {\"a\" : 123, \"z\" : 7, \"bbb\" : None}\n",
    "for cle in mon_dico.keys():\n",
    "    print(cle)"
   ]
  },
  {
   "cell_type": "markdown",
   "metadata": {},
   "source": [
    "### Parcours par couples clés/valeurs\n",
    "\n",
    "Si l'on souhaite accéder simultanément aux clés stockées dans le dictionnaire et aux valeurs associées, on utilisera la méthode `items` :"
   ]
  },
  {
   "cell_type": "code",
   "execution_count": 10,
   "metadata": {
    "execution": {
     "iopub.execute_input": "2020-06-17T12:40:31.755809Z",
     "iopub.status.busy": "2020-06-17T12:40:31.753217Z",
     "iopub.status.idle": "2020-06-17T12:40:31.763933Z",
     "shell.execute_reply": "2020-06-17T12:40:31.765849Z"
    }
   },
   "outputs": [
    {
     "name": "stdout",
     "output_type": "stream",
     "text": [
      "a 123\n",
      "z 7\n",
      "bbb None\n"
     ]
    }
   ],
   "source": [
    "mon_dico = {\"a\" : 123, \"z\" : 7, \"bbb\" : None}\n",
    "for cle, valeur in mon_dico.items():\n",
    "    print(cle, valeur)"
   ]
  },
  {
   "cell_type": "markdown",
   "metadata": {},
   "source": [
    "## Exercices"
   ]
  },
  {
   "cell_type": "markdown",
   "metadata": {},
   "source": [
    "**Exercice 6.1**\n",
    "Écrivez une fonction qui compte le nombre d'occurrences de chacun des mots d'une chaîne de caractères et retourne le résultat sous forme de dictionnaire :\n",
    "\n",
    "```\n",
    "# [...]\n",
    "print(compte_occurrences(\"la vie est belle c'est la vie\"))\n",
    "# [Sortie] {\"c'est\": 1, 'la': 2, 'belle': 1, 'est': 1, 'vie': 2}\n",
    "```\n",
    "\n",
    "**Exercice 6.2**\n",
    "Écrivez une fonction qui retourne la somme des *valeurs* d'un dictionnaire fourni en argument."
   ]
  }
 ],
 "metadata": {
  "jupytext": {
   "cell_metadata_filter": "-all",
   "formats": "md:myst",
   "text_representation": {
    "extension": ".md",
    "format_name": "myst",
    "format_version": "0.8",
    "jupytext_version": "1.5.0"
   }
  },
  "kernelspec": {
   "display_name": "Python 3",
   "language": "python",
   "name": "python3"
  },
  "language_info": {
   "codemirror_mode": {
    "name": "ipython",
    "version": 3
   },
   "file_extension": ".py",
   "mimetype": "text/x-python",
   "name": "python",
   "nbconvert_exporter": "python",
   "pygments_lexer": "ipython3",
   "version": "3.7.3"
  },
  "source_map": [
   14,
   26,
   29,
   37,
   41,
   45,
   49,
   53,
   57,
   63,
   66,
   71,
   76,
   78,
   88,
   92,
   98,
   102,
   108,
   112,
   116
  ]
 },
 "nbformat": 4,
 "nbformat_minor": 4
}